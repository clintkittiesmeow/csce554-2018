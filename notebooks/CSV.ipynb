{
  "cells": [
    {
      "cell_type": "code",
      "source": [
        "using CSV"
      ],
      "outputs": [],
      "execution_count": 1,
      "metadata": {}
    },
    {
      "cell_type": "code",
      "source": [
        "case0101 = CSV.read(\"../sleuth-data/case0101.csv\");"
      ],
      "outputs": [],
      "execution_count": 2,
      "metadata": {}
    },
    {
      "cell_type": "code",
      "source": [
        "typeof(case0101)"
      ],
      "outputs": [
        {
          "output_type": "execute_result",
          "execution_count": 3,
          "data": {
            "text/plain": [
              "DataFrames.DataFrame"
            ]
          },
          "metadata": {}
        }
      ],
      "execution_count": 3,
      "metadata": {}
    },
    {
      "cell_type": "code",
      "source": [
        "case0101"
      ],
      "outputs": [
        {
          "output_type": "execute_result",
          "execution_count": 4,
          "data": {
            "text/html": [
              "<table class=\"data-frame\"><thead><tr><th></th><th>Score</th><th>Treatment</th></tr></thead><tbody><tr><th>1</th><td>5.0</td><td>Extrinsic</td></tr><tr><th>2</th><td>5.4</td><td>Extrinsic</td></tr><tr><th>3</th><td>6.1</td><td>Extrinsic</td></tr><tr><th>4</th><td>10.9</td><td>Extrinsic</td></tr><tr><th>5</th><td>11.8</td><td>Extrinsic</td></tr><tr><th>6</th><td>12.0</td><td>Extrinsic</td></tr><tr><th>7</th><td>12.3</td><td>Extrinsic</td></tr><tr><th>8</th><td>14.8</td><td>Extrinsic</td></tr><tr><th>9</th><td>15.0</td><td>Extrinsic</td></tr><tr><th>10</th><td>16.8</td><td>Extrinsic</td></tr><tr><th>11</th><td>17.2</td><td>Extrinsic</td></tr><tr><th>12</th><td>17.2</td><td>Extrinsic</td></tr><tr><th>13</th><td>17.4</td><td>Extrinsic</td></tr><tr><th>14</th><td>17.5</td><td>Extrinsic</td></tr><tr><th>15</th><td>18.5</td><td>Extrinsic</td></tr><tr><th>16</th><td>18.7</td><td>Extrinsic</td></tr><tr><th>17</th><td>18.7</td><td>Extrinsic</td></tr><tr><th>18</th><td>19.2</td><td>Extrinsic</td></tr><tr><th>19</th><td>19.5</td><td>Extrinsic</td></tr><tr><th>20</th><td>20.7</td><td>Extrinsic</td></tr><tr><th>21</th><td>21.2</td><td>Extrinsic</td></tr><tr><th>22</th><td>22.1</td><td>Extrinsic</td></tr><tr><th>23</th><td>24.0</td><td>Extrinsic</td></tr><tr><th>24</th><td>12.0</td><td>Intrinsic</td></tr><tr><th>25</th><td>12.0</td><td>Intrinsic</td></tr><tr><th>26</th><td>12.9</td><td>Intrinsic</td></tr><tr><th>27</th><td>13.6</td><td>Intrinsic</td></tr><tr><th>28</th><td>16.6</td><td>Intrinsic</td></tr><tr><th>29</th><td>17.2</td><td>Intrinsic</td></tr><tr><th>30</th><td>17.5</td><td>Intrinsic</td></tr><tr><th>&vellip;</th><td>&vellip;</td><td>&vellip;</td></tr></tbody></table>"
            ],
            "text/plain": [
              "47×2 DataFrames.DataFrame\n",
              "│ Row │ Score │ Treatment │\n",
              "├─────┼───────┼───────────┤\n",
              "│ 1   │ 5.0   │ Extrinsic │\n",
              "│ 2   │ 5.4   │ Extrinsic │\n",
              "│ 3   │ 6.1   │ Extrinsic │\n",
              "│ 4   │ 10.9  │ Extrinsic │\n",
              "│ 5   │ 11.8  │ Extrinsic │\n",
              "│ 6   │ 12.0  │ Extrinsic │\n",
              "│ 7   │ 12.3  │ Extrinsic │\n",
              "│ 8   │ 14.8  │ Extrinsic │\n",
              "│ 9   │ 15.0  │ Extrinsic │\n",
              "│ 10  │ 16.8  │ Extrinsic │\n",
              "│ 11  │ 17.2  │ Extrinsic │\n",
              "⋮\n",
              "│ 36  │ 20.5  │ Intrinsic │\n",
              "│ 37  │ 20.6  │ Intrinsic │\n",
              "│ 38  │ 21.3  │ Intrinsic │\n",
              "│ 39  │ 21.6  │ Intrinsic │\n",
              "│ 40  │ 22.1  │ Intrinsic │\n",
              "│ 41  │ 22.2  │ Intrinsic │\n",
              "│ 42  │ 22.6  │ Intrinsic │\n",
              "│ 43  │ 23.1  │ Intrinsic │\n",
              "│ 44  │ 24.0  │ Intrinsic │\n",
              "│ 45  │ 24.3  │ Intrinsic │\n",
              "│ 46  │ 26.7  │ Intrinsic │\n",
              "│ 47  │ 29.7  │ Intrinsic │"
            ]
          },
          "metadata": {}
        }
      ],
      "execution_count": 4,
      "metadata": {
        "inputHidden": false,
        "outputHidden": false,
        "outputExpanded": true,
        "tags": []
      }
    },
    {
      "cell_type": "code",
      "source": [
        "case0101[:Score]"
      ],
      "outputs": [
        {
          "output_type": "execute_result",
          "execution_count": 5,
          "data": {
            "text/plain": [
              "47-element Array{Union{Float64, Missings.Missing},1}:\n",
              "  5.0\n",
              "  5.4\n",
              "  6.1\n",
              " 10.9\n",
              " 11.8\n",
              " 12.0\n",
              " 12.3\n",
              " 14.8\n",
              " 15.0\n",
              " 16.8\n",
              " 17.2\n",
              " 17.2\n",
              " 17.4\n",
              "  ⋮  \n",
              " 20.5\n",
              " 20.6\n",
              " 21.3\n",
              " 21.6\n",
              " 22.1\n",
              " 22.2\n",
              " 22.6\n",
              " 23.1\n",
              " 24.0\n",
              " 24.3\n",
              " 26.7\n",
              " 29.7"
            ]
          },
          "metadata": {}
        }
      ],
      "execution_count": 5,
      "metadata": {}
    },
    {
      "cell_type": "code",
      "source": [
        "case0101[:Treatment]"
      ],
      "outputs": [
        {
          "output_type": "execute_result",
          "execution_count": 6,
          "data": {
            "text/plain": [
              "47-element CategoricalArrays.CategoricalArray{Union{Missings.Missing, String},1,UInt32}:\n",
              " \"Extrinsic\"\n",
              " \"Extrinsic\"\n",
              " \"Extrinsic\"\n",
              " \"Extrinsic\"\n",
              " \"Extrinsic\"\n",
              " \"Extrinsic\"\n",
              " \"Extrinsic\"\n",
              " \"Extrinsic\"\n",
              " \"Extrinsic\"\n",
              " \"Extrinsic\"\n",
              " \"Extrinsic\"\n",
              " \"Extrinsic\"\n",
              " \"Extrinsic\"\n",
              " ⋮          \n",
              " \"Intrinsic\"\n",
              " \"Intrinsic\"\n",
              " \"Intrinsic\"\n",
              " \"Intrinsic\"\n",
              " \"Intrinsic\"\n",
              " \"Intrinsic\"\n",
              " \"Intrinsic\"\n",
              " \"Intrinsic\"\n",
              " \"Intrinsic\"\n",
              " \"Intrinsic\"\n",
              " \"Intrinsic\"\n",
              " \"Intrinsic\""
            ]
          },
          "metadata": {}
        }
      ],
      "execution_count": 6,
      "metadata": {}
    },
    {
      "cell_type": "code",
      "source": [
        "case0101[:Treatment] .== \"Extrinsic\""
      ],
      "outputs": [
        {
          "output_type": "execute_result",
          "execution_count": 7,
          "data": {
            "text/plain": [
              "47-element BitArray{1}:\n",
              "  true\n",
              "  true\n",
              "  true\n",
              "  true\n",
              "  true\n",
              "  true\n",
              "  true\n",
              "  true\n",
              "  true\n",
              "  true\n",
              "  true\n",
              "  true\n",
              "  true\n",
              "     ⋮\n",
              " false\n",
              " false\n",
              " false\n",
              " false\n",
              " false\n",
              " false\n",
              " false\n",
              " false\n",
              " false\n",
              " false\n",
              " false\n",
              " false"
            ]
          },
          "metadata": {}
        }
      ],
      "execution_count": 7,
      "metadata": {}
    },
    {
      "cell_type": "code",
      "source": [
        "using DataFrames\n",
        "using Query"
      ],
      "outputs": [],
      "execution_count": 8,
      "metadata": {}
    },
    {
      "cell_type": "code",
      "source": [
        "intrinsic = @from i in case0101 begin\n",
        "     @where i.Treatment == \"Intrinsic\"\n",
        "     @select {Score = i.Score}\n",
        "     @collect DataFrame\n",
        "end\n",
        "println(\"intrinsic :\", intrinsic)"
      ],
      "outputs": [
        {
          "output_type": "stream",
          "name": "stdout",
          "text": [
            "intrinsic :24×1 DataFrames.DataFrame\n",
            "│ Row │ Score │\n",
            "├─────┼───────┤\n",
            "│ 1   │ 12.0  │\n",
            "│ 2   │ 12.0  │\n",
            "│ 3   │ 12.9  │\n",
            "│ 4   │ 13.6  │\n",
            "│ 5   │ 16.6  │\n",
            "│ 6   │ 17.2  │\n",
            "│ 7   │ 17.5  │\n",
            "│ 8   │ 18.2  │\n",
            "⋮\n",
            "│ 16  │ 21.6  │\n",
            "│ 17  │ 22.1  │\n",
            "│ 18  │ 22.2  │\n",
            "│ 19  │ 22.6  │\n",
            "│ 20  │ 23.1  │\n",
            "│ 21  │ 24.0  │\n",
            "│ 22  │ 24.3  │\n",
            "│ 23  │ 26.7  │\n",
            "│ 24  │ 29.7  │\n"
          ]
        }
      ],
      "execution_count": 24,
      "metadata": {
        "outputExpanded": true
      }
    },
    {
      "cell_type": "code",
      "source": [
        "println(length(intrinsic[:Score]))\n",
        "println(mean(intrinsic[:Score]))\n",
        "println(var(intrinsic[:Score]))\n",
        "println(std(intrinsic[:Score]))"
      ],
      "outputs": [
        {
          "output_type": "stream",
          "name": "stdout",
          "text": [
            "24\n",
            "19.883333333333336\n",
            "19.709275362318838\n",
            "4.439512964540011\n"
          ]
        }
      ],
      "execution_count": 25,
      "metadata": {}
    },
    {
      "cell_type": "code",
      "source": [
        "# use filter(function, collection) which returns a copy of collection,\n",
        "# removing elements for which function is false\n",
        "intrinsic = filter(f -> f[:Treatment] == \"Intrinsic\", case0101)"
      ],
      "outputs": [
        {
          "output_type": "execute_result",
          "execution_count": 21,
          "data": {
            "text/html": [
              "<table class=\"data-frame\"><thead><tr><th></th><th>Score</th><th>Treatment</th></tr></thead><tbody><tr><th>1</th><td>12.0</td><td>Intrinsic</td></tr><tr><th>2</th><td>12.0</td><td>Intrinsic</td></tr><tr><th>3</th><td>12.9</td><td>Intrinsic</td></tr><tr><th>4</th><td>13.6</td><td>Intrinsic</td></tr><tr><th>5</th><td>16.6</td><td>Intrinsic</td></tr><tr><th>6</th><td>17.2</td><td>Intrinsic</td></tr><tr><th>7</th><td>17.5</td><td>Intrinsic</td></tr><tr><th>8</th><td>18.2</td><td>Intrinsic</td></tr><tr><th>9</th><td>19.1</td><td>Intrinsic</td></tr><tr><th>10</th><td>19.3</td><td>Intrinsic</td></tr><tr><th>11</th><td>19.8</td><td>Intrinsic</td></tr><tr><th>12</th><td>20.3</td><td>Intrinsic</td></tr><tr><th>13</th><td>20.5</td><td>Intrinsic</td></tr><tr><th>14</th><td>20.6</td><td>Intrinsic</td></tr><tr><th>15</th><td>21.3</td><td>Intrinsic</td></tr><tr><th>16</th><td>21.6</td><td>Intrinsic</td></tr><tr><th>17</th><td>22.1</td><td>Intrinsic</td></tr><tr><th>18</th><td>22.2</td><td>Intrinsic</td></tr><tr><th>19</th><td>22.6</td><td>Intrinsic</td></tr><tr><th>20</th><td>23.1</td><td>Intrinsic</td></tr><tr><th>21</th><td>24.0</td><td>Intrinsic</td></tr><tr><th>22</th><td>24.3</td><td>Intrinsic</td></tr><tr><th>23</th><td>26.7</td><td>Intrinsic</td></tr><tr><th>24</th><td>29.7</td><td>Intrinsic</td></tr></tbody></table>"
            ],
            "text/plain": [
              "24×2 DataFrames.DataFrame\n",
              "│ Row │ Score │ Treatment │\n",
              "├─────┼───────┼───────────┤\n",
              "│ 1   │ 12.0  │ Intrinsic │\n",
              "│ 2   │ 12.0  │ Intrinsic │\n",
              "│ 3   │ 12.9  │ Intrinsic │\n",
              "│ 4   │ 13.6  │ Intrinsic │\n",
              "│ 5   │ 16.6  │ Intrinsic │\n",
              "│ 6   │ 17.2  │ Intrinsic │\n",
              "│ 7   │ 17.5  │ Intrinsic │\n",
              "│ 8   │ 18.2  │ Intrinsic │\n",
              "│ 9   │ 19.1  │ Intrinsic │\n",
              "│ 10  │ 19.3  │ Intrinsic │\n",
              "│ 11  │ 19.8  │ Intrinsic │\n",
              "│ 12  │ 20.3  │ Intrinsic │\n",
              "│ 13  │ 20.5  │ Intrinsic │\n",
              "│ 14  │ 20.6  │ Intrinsic │\n",
              "│ 15  │ 21.3  │ Intrinsic │\n",
              "│ 16  │ 21.6  │ Intrinsic │\n",
              "│ 17  │ 22.1  │ Intrinsic │\n",
              "│ 18  │ 22.2  │ Intrinsic │\n",
              "│ 19  │ 22.6  │ Intrinsic │\n",
              "│ 20  │ 23.1  │ Intrinsic │\n",
              "│ 21  │ 24.0  │ Intrinsic │\n",
              "│ 22  │ 24.3  │ Intrinsic │\n",
              "│ 23  │ 26.7  │ Intrinsic │\n",
              "│ 24  │ 29.7  │ Intrinsic │"
            ]
          },
          "metadata": {}
        }
      ],
      "execution_count": 21,
      "metadata": {}
    },
    {
      "cell_type": "code",
      "source": [
        "println(length(intrinsic[:Score]))\n",
        "println(mean(intrinsic[:Score]))\n",
        "println(var(intrinsic[:Score]))\n",
        "println(std(intrinsic[:Score]))"
      ],
      "outputs": [
        {
          "output_type": "stream",
          "name": "stdout",
          "text": [
            "24\n",
            "19.883333333333336\n",
            "19.709275362318838\n",
            "4.439512964540011\n"
          ]
        }
      ],
      "execution_count": 23,
      "metadata": {}
    }
  ],
  "metadata": {
    "kernelspec": {
      "name": "julia-0.6",
      "language": "julia",
      "display_name": "Julia 0.6.3"
    },
    "language_info": {
      "file_extension": ".jl",
      "name": "julia",
      "mimetype": "application/julia",
      "version": "0.6.3"
    },
    "kernel_info": {
      "name": "julia-0.6"
    },
    "nteract": {
      "version": "0.9.1"
    }
  },
  "nbformat": 4,
  "nbformat_minor": 2
}