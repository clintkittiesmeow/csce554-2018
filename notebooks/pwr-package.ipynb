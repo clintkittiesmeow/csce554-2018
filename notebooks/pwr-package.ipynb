{
 "cells": [
  {
   "cell_type": "code",
   "execution_count": 1,
   "metadata": {},
   "outputs": [],
   "source": [
    "using pwr"
   ]
  },
  {
   "cell_type": "markdown",
   "metadata": {},
   "source": [
    "### pwr.AnovaTest\n",
    "\n",
    "Compute power for balanced one-way analysis of variance tests\n",
    "\n",
    "**Options:**\n",
    "\n",
    "- k: number of groups\n",
    "- n = number of observations per group\n",
    "- f = effect size\n",
    "- alpha = Type I error (default: 0.05)\n",
    "- power = 1 - Type II error (default: 0.8)\n",
    "\n",
    "### Functions:\n",
    "\n",
    "All options listed above must be specified as keyword argments except for the parameter to be estimated. For example, for powerAnovaTest(), do not specify power option: powerAnovaTest(k=2, n=200, f=0.3) will compute power for a sample of 200 in each group with an effect size of 0.3. For pwr.AnovaTest(), exactly one of the options needs to be set to zero.\n",
    "\n",
    "- powerAnovaTest()\n",
    "- samplesizeAnovaTest()\n",
    "- effectsizeAnovaTest()\n",
    "- alphaAnovaTest()\n",
    "- pwr.AnovaTest()"
   ]
  },
  {
   "cell_type": "code",
   "execution_count": 8,
   "metadata": {},
   "outputs": [
    {
     "data": {
      "text/plain": [
       "0.8036475048589252"
      ]
     },
     "execution_count": 8,
     "metadata": {},
     "output_type": "execute_result"
    }
   ],
   "source": [
    "p = powerAnovaTest(k=2, n=100, f=0.2)"
   ]
  },
  {
   "cell_type": "code",
   "execution_count": 9,
   "metadata": {},
   "outputs": [
    {
     "data": {
      "text/plain": [
       "100"
      ]
     },
     "execution_count": 9,
     "metadata": {},
     "output_type": "execute_result"
    }
   ],
   "source": [
    "samplesizeAnovaTest(k=2, f=0.2)"
   ]
  },
  {
   "cell_type": "markdown",
   "metadata": {},
   "source": [
    "### pwr.TTest\n",
    "Compute power for t-test of means (one sample, two samples and paired samples)\n",
    "\n",
    "**Options:**\n",
    "\n",
    "- d = effect size\n",
    "- n = number of observations per group\n",
    "- alpha = Type I error (default: 0.05)\n",
    "- power = 1 - Type II error (default: 0.8)\n",
    "- sampletype = \"onesample\" for one sample t-test or \"twosample\" for two sample t-test (default: \"onesample\")\n",
    "- alternative = \"less\" for testing μ₁ < μ₂, \"two-sided\" for μ₁ = μ₂, and \"greater\" for μ₁ > μ₂ (default: \"two-sided\")\n",
    "\n",
    "### Functions:\n",
    "All options listed above need to be specified as keyword argments except for the parameter to be estimated. For example, for powerTTest(), do not specify power option: powerTTest(k=2,n=200,d=.3) will compute power for a sample of 200 in each group with an effect size of .3. For pwr.TTest(), exactly one of the options d, n, alpha, and power needs to be set to zero.\n",
    "\n",
    "- powerTTest()\n",
    "- samplesizeTTest()\n",
    "- effectsizeTTest()\n",
    "- alphaTTest()\n",
    "- pwr.TTest()"
   ]
  },
  {
   "cell_type": "code",
   "execution_count": 13,
   "metadata": {
    "scrolled": true
   },
   "outputs": [
    {
     "data": {
      "text/plain": [
       "0.8439471027376636"
      ]
     },
     "execution_count": 13,
     "metadata": {},
     "output_type": "execute_result"
    }
   ],
   "source": [
    "powerTTest(n=100, d=0.3, alternative=\"two-sided\")"
   ]
  },
  {
   "cell_type": "code",
   "execution_count": 12,
   "metadata": {},
   "outputs": [
    {
     "data": {
      "text/plain": [
       "90"
      ]
     },
     "execution_count": 12,
     "metadata": {},
     "output_type": "execute_result"
    }
   ],
   "source": [
    "samplesizeTTest(d=0.3, power = 0.8, alternative=\"two-sided\")"
   ]
  },
  {
   "cell_type": "code",
   "execution_count": null,
   "metadata": {},
   "outputs": [],
   "source": []
  }
 ],
 "metadata": {
  "kernelspec": {
   "display_name": "Julia 0.6.4",
   "language": "julia",
   "name": "julia-0.6"
  },
  "language_info": {
   "file_extension": ".jl",
   "mimetype": "application/julia",
   "name": "julia",
   "version": "0.6.4"
  }
 },
 "nbformat": 4,
 "nbformat_minor": 2
}
