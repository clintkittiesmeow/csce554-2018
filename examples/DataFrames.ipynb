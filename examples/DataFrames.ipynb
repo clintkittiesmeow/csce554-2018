{
 "cells": [
  {
   "cell_type": "code",
   "execution_count": 1,
   "metadata": {},
   "outputs": [
    {
     "data": {
      "text/plain": [
       "6-element Array{Float64,1}:\n",
       " 1.1\n",
       " 2.2\n",
       " 3.3\n",
       " 4.4\n",
       " 5.5\n",
       " 6.6"
      ]
     },
     "execution_count": 1,
     "metadata": {},
     "output_type": "execute_result"
    }
   ],
   "source": [
    "# create a simple array of floating point numbers\n",
    "# this array CANNOT store or indicate a 'missing' value NA\n",
    "x = [1.1, 2.2, 3.3, 4.4, 5.5, 6.6]"
   ]
  },
  {
   "cell_type": "markdown",
   "metadata": {},
   "source": [
    "The \"1\" in the type indicates that the array is one dimensional, which means the array is \"flat\" - neither a row or nor a column vector!"
   ]
  },
  {
   "cell_type": "code",
   "execution_count": 3,
   "metadata": {},
   "outputs": [
    {
     "data": {
      "text/plain": [
       "3-element Array{Any,1}:\n",
       "   \"foo\"\n",
       "   \"bar\"\n",
       " 10     "
      ]
     },
     "execution_count": 3,
     "metadata": {},
     "output_type": "execute_result"
    }
   ],
   "source": [
    "a = [\"foo\", \"bar\", 10]"
   ]
  },
  {
   "cell_type": "code",
   "execution_count": 14,
   "metadata": {},
   "outputs": [
    {
     "data": {
      "text/plain": [
       "1"
      ]
     },
     "execution_count": 14,
     "metadata": {},
     "output_type": "execute_result"
    }
   ],
   "source": [
    "ndims(a)"
   ]
  },
  {
   "cell_type": "code",
   "execution_count": 15,
   "metadata": {},
   "outputs": [
    {
     "name": "stdout",
     "output_type": "stream",
     "text": [
      "v: [1.1 2.2]\t type: Array{Float64,2}\n",
      "m: [1.2 2.2 3.3; 4.4 5.5 6.6]\t type: Array{Float64,2}\n"
     ]
    }
   ],
   "source": [
    "# Vector and Matrix are types that are just aliases to one-\n",
    "# and two-dimensional arrays\n",
    "\n",
    "# v is a row matrix\n",
    "v = [1.1 2.2 ]\n",
    "# m is a matrix - \";\", semicolons separate rows\n",
    "m = [1.2 2.2 3.3; 4.4 5.5 6.6]\n",
    "println(\"v: \", v, \"\\t type: \", typeof(v))\n",
    "println(\"m: \", m, \"\\t type: \", typeof(m))"
   ]
  },
  {
   "cell_type": "code",
   "execution_count": 22,
   "metadata": {},
   "outputs": [
    {
     "name": "stdout",
     "output_type": "stream",
     "text": [
      "[1.1 2.2]\n",
      "[1.1; 2.2]\n"
     ]
    }
   ],
   "source": [
    "println(v)\n",
    "println(v')"
   ]
  },
  {
   "cell_type": "code",
   "execution_count": 17,
   "metadata": {},
   "outputs": [
    {
     "data": {
      "text/plain": [
       "2×3 Array{Float64,2}:\n",
       " 1.2  2.2  3.3\n",
       " 4.4  5.5  6.6"
      ]
     },
     "execution_count": 17,
     "metadata": {},
     "output_type": "execute_result"
    }
   ],
   "source": [
    "m"
   ]
  },
  {
   "cell_type": "code",
   "execution_count": 20,
   "metadata": {
    "scrolled": false
   },
   "outputs": [
    {
     "data": {
      "text/plain": [
       "1×3 Array{Float64,2}:\n",
       " 11.0  14.52  18.15"
      ]
     },
     "execution_count": 20,
     "metadata": {},
     "output_type": "execute_result"
    }
   ],
   "source": [
    "v * m"
   ]
  },
  {
   "cell_type": "code",
   "execution_count": 33,
   "metadata": {},
   "outputs": [],
   "source": [
    "using DataArrays"
   ]
  },
  {
   "cell_type": "code",
   "execution_count": 34,
   "metadata": {},
   "outputs": [
    {
     "data": {
      "text/plain": [
       "5-element DataArrays.DataArray{Int64,1}:\n",
       " 10\n",
       " 20\n",
       " 30\n",
       " 40\n",
       " 50"
      ]
     },
     "execution_count": 34,
     "metadata": {},
     "output_type": "execute_result"
    }
   ],
   "source": [
    "dvector = data([10, 20, 30, 40, 50])"
   ]
  },
  {
   "cell_type": "code",
   "execution_count": 35,
   "metadata": {},
   "outputs": [
    {
     "data": {
      "text/plain": [
       "2×3 DataArrays.DataArray{Int64,2}:\n",
       " 10  20  30\n",
       " 40  50  60"
      ]
     },
     "execution_count": 35,
     "metadata": {},
     "output_type": "execute_result"
    }
   ],
   "source": [
    "dmatrix = data([10 20 30; 40 50 60])"
   ]
  },
  {
   "cell_type": "code",
   "execution_count": 39,
   "metadata": {},
   "outputs": [
    {
     "data": {
      "text/plain": [
       "missing"
      ]
     },
     "execution_count": 39,
     "metadata": {},
     "output_type": "execute_result"
    }
   ],
   "source": [
    "dmatrix[1,1] = missing"
   ]
  },
  {
   "cell_type": "code",
   "execution_count": 40,
   "metadata": {},
   "outputs": [
    {
     "data": {
      "text/plain": [
       "2×3 DataArrays.DataArray{Int64,2}:\n",
       "   missing  20  30\n",
       " 40         50  60"
      ]
     },
     "execution_count": 40,
     "metadata": {},
     "output_type": "execute_result"
    }
   ],
   "source": [
    "dmatrix"
   ]
  },
  {
   "cell_type": "code",
   "execution_count": 41,
   "metadata": {},
   "outputs": [
    {
     "data": {
      "text/plain": [
       "Missings.Missing"
      ]
     },
     "execution_count": 41,
     "metadata": {},
     "output_type": "execute_result"
    }
   ],
   "source": [
    "typeof(missing)"
   ]
  },
  {
   "cell_type": "markdown",
   "metadata": {},
   "source": [
    "Arguably, the most important and commonly used data type in statistical computing, whether if is in R (data.frame)\n",
    "or Python (Pandas), the data frame is the most popular.  This is due to the fact that all real-world data is mostly\n",
    "in tabular or spreadsheet-like format.\n",
    "\n",
    "This dataset can't be represented using a Data Arrays, because different types of data can be in different columns, thus, NOT a matrix!\n",
    "\n",
    "All columns must be of the same length.\n",
    "\n",
    "DataFrames are used to represent tabular data having DataArrays as columns."
   ]
  },
  {
   "cell_type": "code",
   "execution_count": 42,
   "metadata": {},
   "outputs": [],
   "source": [
    "using DataFrames"
   ]
  },
  {
   "cell_type": "code",
   "execution_count": 48,
   "metadata": {},
   "outputs": [
    {
     "data": {
      "text/html": [
       "<table class=\"data-frame\"><thead><tr><th></th><th>Name</th><th>Count</th><th>OS</th></tr></thead><tbody><tr><th>1</th><td>Jeff</td><td>1</td><td>Linux</td></tr><tr><th>2</th><td>Joe</td><td>2</td><td>Windows</td></tr><tr><th>3</th><td>Kathy</td><td>3</td><td>Mac</td></tr></tbody></table>"
      ],
      "text/plain": [
       "3×3 DataFrames.DataFrame\n",
       "│ Row │ Name  │ Count │ OS      │\n",
       "├─────┼───────┼───────┼─────────┤\n",
       "│ 1   │ Jeff  │ 1     │ Linux   │\n",
       "│ 2   │ Joe   │ 2     │ Windows │\n",
       "│ 3   │ Kathy │ 3     │ Mac     │"
      ]
     },
     "execution_count": 48,
     "metadata": {},
     "output_type": "execute_result"
    }
   ],
   "source": [
    "# tabular data structure\n",
    "df = DataFrame(Name = [\"Jeff\", \"Joe\", \"Kathy\"], Count = [1, 2, 3], OS = [\"Linux\", \"Windows\", \"Mac\"])"
   ]
  },
  {
   "cell_type": "code",
   "execution_count": 49,
   "metadata": {},
   "outputs": [
    {
     "data": {
      "text/plain": [
       "DataFrames.DataFrame"
      ]
     },
     "execution_count": 49,
     "metadata": {},
     "output_type": "execute_result"
    }
   ],
   "source": [
    "typeof(df)"
   ]
  },
  {
   "cell_type": "code",
   "execution_count": 50,
   "metadata": {},
   "outputs": [
    {
     "data": {
      "text/plain": [
       "Array{String,1}"
      ]
     },
     "execution_count": 50,
     "metadata": {},
     "output_type": "execute_result"
    }
   ],
   "source": [
    "typeof(df[:Name])"
   ]
  },
  {
   "cell_type": "code",
   "execution_count": 51,
   "metadata": {},
   "outputs": [
    {
     "data": {
      "text/plain": [
       "Array{Int64,1}"
      ]
     },
     "execution_count": 51,
     "metadata": {},
     "output_type": "execute_result"
    }
   ],
   "source": [
    "typeof(df[:Count])"
   ]
  },
  {
   "cell_type": "code",
   "execution_count": 52,
   "metadata": {},
   "outputs": [
    {
     "data": {
      "text/plain": [
       "Array{String,1}"
      ]
     },
     "execution_count": 52,
     "metadata": {},
     "output_type": "execute_result"
    }
   ],
   "source": [
    "typeof(df[:OS])"
   ]
  },
  {
   "cell_type": "code",
   "execution_count": 57,
   "metadata": {},
   "outputs": [
    {
     "data": {
      "text/plain": [
       "(3, 3)"
      ]
     },
     "execution_count": 57,
     "metadata": {},
     "output_type": "execute_result"
    }
   ],
   "source": [
    "size(df)"
   ]
  },
  {
   "cell_type": "code",
   "execution_count": 61,
   "metadata": {},
   "outputs": [
    {
     "data": {
      "text/html": [
       "<table class=\"data-frame\"><thead><tr><th></th><th>Name</th><th>Count</th><th>Computer</th></tr></thead><tbody><tr><th>1</th><td>Jeff</td><td>1</td><td>Linux</td></tr><tr><th>2</th><td>Joe</td><td>2</td><td>Windows</td></tr><tr><th>3</th><td>Kathy</td><td>3</td><td>Mac</td></tr></tbody></table>"
      ],
      "text/plain": [
       "3×3 DataFrames.DataFrame\n",
       "│ Row │ Name  │ Count │ Computer │\n",
       "├─────┼───────┼───────┼──────────┤\n",
       "│ 1   │ Jeff  │ 1     │ Linux    │\n",
       "│ 2   │ Joe   │ 2     │ Windows  │\n",
       "│ 3   │ Kathy │ 3     │ Mac      │"
      ]
     },
     "execution_count": 61,
     "metadata": {},
     "output_type": "execute_result"
    }
   ],
   "source": [
    "rename!(df, :OS => :Computer)"
   ]
  },
  {
   "cell_type": "code",
   "execution_count": 62,
   "metadata": {},
   "outputs": [
    {
     "name": "stdout",
     "output_type": "stream",
     "text": [
      "Name\n",
      "Summary Stats:\n",
      "Length:         3\n",
      "Type:           String\n",
      "Number Unique:  3\n",
      "\n",
      "Count\n",
      "Summary Stats:\n",
      "Mean:           2.000000\n",
      "Minimum:        1.000000\n",
      "1st Quartile:   1.500000\n",
      "Median:         2.000000\n",
      "3rd Quartile:   2.500000\n",
      "Maximum:        3.000000\n",
      "Length:         3\n",
      "Type:           Int64\n",
      "\n",
      "Computer\n",
      "Summary Stats:\n",
      "Length:         3\n",
      "Type:           String\n",
      "Number Unique:  3\n",
      "\n"
     ]
    }
   ],
   "source": [
    "describe(df)"
   ]
  },
  {
   "cell_type": "code",
   "execution_count": 63,
   "metadata": {},
   "outputs": [
    {
     "data": {
      "text/html": [
       "<table class=\"data-frame\"><thead><tr><th></th><th>Name</th><th>Count</th><th>Computer</th></tr></thead><tbody><tr><th>1</th><td>Jeff</td><td>1</td><td>Linux</td></tr><tr><th>2</th><td>Joe</td><td>2</td><td>Windows</td></tr><tr><th>3</th><td>Kathy</td><td>3</td><td>Mac</td></tr></tbody></table>"
      ],
      "text/plain": [
       "3×3 DataFrames.DataFrame\n",
       "│ Row │ Name  │ Count │ Computer │\n",
       "├─────┼───────┼───────┼──────────┤\n",
       "│ 1   │ Jeff  │ 1     │ Linux    │\n",
       "│ 2   │ Joe   │ 2     │ Windows  │\n",
       "│ 3   │ Kathy │ 3     │ Mac      │"
      ]
     },
     "metadata": {},
     "output_type": "display_data"
    }
   ],
   "source": [
    "display(df)"
   ]
  },
  {
   "cell_type": "code",
   "execution_count": null,
   "metadata": {},
   "outputs": [],
   "source": []
  }
 ],
 "metadata": {
  "kernelspec": {
   "display_name": "Julia 0.6.3",
   "language": "julia",
   "name": "julia-0.6"
  },
  "language_info": {
   "file_extension": ".jl",
   "mimetype": "application/julia",
   "name": "julia",
   "version": "0.6.3"
  }
 },
 "nbformat": 4,
 "nbformat_minor": 2
}
