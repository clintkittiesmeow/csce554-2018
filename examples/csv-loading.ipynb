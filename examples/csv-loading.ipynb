{
 "cells": [
  {
   "cell_type": "code",
   "execution_count": 1,
   "metadata": {},
   "outputs": [
    {
     "name": "stdout",
     "output_type": "stream",
     "text": [
      "csv-loading.ipynb\n",
      "data\n"
     ]
    }
   ],
   "source": [
    ";ls"
   ]
  },
  {
   "cell_type": "code",
   "execution_count": 2,
   "metadata": {},
   "outputs": [],
   "source": [
    "using CSV"
   ]
  },
  {
   "cell_type": "code",
   "execution_count": 3,
   "metadata": {},
   "outputs": [],
   "source": [
    "case0101 = CSV.read(\"./data/case0101.csv\");"
   ]
  },
  {
   "cell_type": "code",
   "execution_count": 4,
   "metadata": {},
   "outputs": [
    {
     "data": {
      "text/plain": [
       "DataFrames.DataFrame"
      ]
     },
     "execution_count": 4,
     "metadata": {},
     "output_type": "execute_result"
    }
   ],
   "source": [
    "typeof(case0101)"
   ]
  },
  {
   "cell_type": "code",
   "execution_count": 4,
   "metadata": {},
   "outputs": [
    {
     "data": {
      "text/html": [
       "<table class=\"data-frame\"><thead><tr><th></th><th>Score</th><th>Treatment</th></tr></thead><tbody><tr><th>1</th><td>5.0</td><td>Extrinsic</td></tr><tr><th>2</th><td>5.4</td><td>Extrinsic</td></tr><tr><th>3</th><td>6.1</td><td>Extrinsic</td></tr><tr><th>4</th><td>10.9</td><td>Extrinsic</td></tr><tr><th>5</th><td>11.8</td><td>Extrinsic</td></tr><tr><th>6</th><td>12.0</td><td>Extrinsic</td></tr><tr><th>7</th><td>12.3</td><td>Extrinsic</td></tr><tr><th>8</th><td>14.8</td><td>Extrinsic</td></tr><tr><th>9</th><td>15.0</td><td>Extrinsic</td></tr><tr><th>10</th><td>16.8</td><td>Extrinsic</td></tr><tr><th>11</th><td>17.2</td><td>Extrinsic</td></tr><tr><th>12</th><td>17.2</td><td>Extrinsic</td></tr><tr><th>13</th><td>17.4</td><td>Extrinsic</td></tr><tr><th>14</th><td>17.5</td><td>Extrinsic</td></tr><tr><th>15</th><td>18.5</td><td>Extrinsic</td></tr><tr><th>16</th><td>18.7</td><td>Extrinsic</td></tr><tr><th>17</th><td>18.7</td><td>Extrinsic</td></tr><tr><th>18</th><td>19.2</td><td>Extrinsic</td></tr><tr><th>19</th><td>19.5</td><td>Extrinsic</td></tr><tr><th>20</th><td>20.7</td><td>Extrinsic</td></tr><tr><th>21</th><td>21.2</td><td>Extrinsic</td></tr><tr><th>22</th><td>22.1</td><td>Extrinsic</td></tr><tr><th>23</th><td>24.0</td><td>Extrinsic</td></tr><tr><th>24</th><td>12.0</td><td>Intrinsic</td></tr><tr><th>25</th><td>12.0</td><td>Intrinsic</td></tr><tr><th>26</th><td>12.9</td><td>Intrinsic</td></tr><tr><th>27</th><td>13.6</td><td>Intrinsic</td></tr><tr><th>28</th><td>16.6</td><td>Intrinsic</td></tr><tr><th>29</th><td>17.2</td><td>Intrinsic</td></tr><tr><th>30</th><td>17.5</td><td>Intrinsic</td></tr><tr><th>&vellip;</th><td>&vellip;</td><td>&vellip;</td></tr></tbody></table>"
      ],
      "text/plain": [
       "47×2 DataFrames.DataFrame\n",
       "│ Row │ Score │ Treatment │\n",
       "├─────┼───────┼───────────┤\n",
       "│ 1   │ 5.0   │ Extrinsic │\n",
       "│ 2   │ 5.4   │ Extrinsic │\n",
       "│ 3   │ 6.1   │ Extrinsic │\n",
       "│ 4   │ 10.9  │ Extrinsic │\n",
       "│ 5   │ 11.8  │ Extrinsic │\n",
       "│ 6   │ 12.0  │ Extrinsic │\n",
       "│ 7   │ 12.3  │ Extrinsic │\n",
       "│ 8   │ 14.8  │ Extrinsic │\n",
       "│ 9   │ 15.0  │ Extrinsic │\n",
       "│ 10  │ 16.8  │ Extrinsic │\n",
       "│ 11  │ 17.2  │ Extrinsic │\n",
       "⋮\n",
       "│ 36  │ 20.5  │ Intrinsic │\n",
       "│ 37  │ 20.6  │ Intrinsic │\n",
       "│ 38  │ 21.3  │ Intrinsic │\n",
       "│ 39  │ 21.6  │ Intrinsic │\n",
       "│ 40  │ 22.1  │ Intrinsic │\n",
       "│ 41  │ 22.2  │ Intrinsic │\n",
       "│ 42  │ 22.6  │ Intrinsic │\n",
       "│ 43  │ 23.1  │ Intrinsic │\n",
       "│ 44  │ 24.0  │ Intrinsic │\n",
       "│ 45  │ 24.3  │ Intrinsic │\n",
       "│ 46  │ 26.7  │ Intrinsic │\n",
       "│ 47  │ 29.7  │ Intrinsic │"
      ]
     },
     "execution_count": 4,
     "metadata": {},
     "output_type": "execute_result"
    }
   ],
   "source": [
    "case0101"
   ]
  },
  {
   "cell_type": "code",
   "execution_count": null,
   "metadata": {},
   "outputs": [],
   "source": []
  }
 ],
 "metadata": {
  "kernelspec": {
   "display_name": "Julia 0.6.3",
   "language": "julia",
   "name": "julia-0.6"
  },
  "language_info": {
   "file_extension": ".jl",
   "mimetype": "application/julia",
   "name": "julia",
   "version": "0.6.3"
  }
 },
 "nbformat": 4,
 "nbformat_minor": 2
}
