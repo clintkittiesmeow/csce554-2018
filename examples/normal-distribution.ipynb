{
 "cells": [
  {
   "cell_type": "markdown",
   "metadata": {},
   "source": [
    "Set up the environment (possibly install packages)"
   ]
  },
  {
   "cell_type": "code",
   "execution_count": 13,
   "metadata": {},
   "outputs": [],
   "source": [
    "# Pkg.add(\"Distributions\")\n",
    "using Distributions"
   ]
  },
  {
   "cell_type": "markdown",
   "metadata": {},
   "source": [
    "Seed the random number generator"
   ]
  },
  {
   "cell_type": "code",
   "execution_count": 14,
   "metadata": {},
   "outputs": [
    {
     "data": {
      "text/plain": [
       "MersenneTwister(UInt32[0x0000007b], Base.dSFMT.DSFMT_state(Int32[1464307935, 1073116007, 222134151, 1073120226, -290652630, 1072956456, -580276323, 1073476387, 1332671753, 1073438661  …  138346874, 1073030449, 1049893279, 1073166535, -1999907543, 1597138926, -775229811, 32947490, 382, 0]), [1.76845, 1.94052, 1.67396, 1.39545, 1.31324, 1.66255, 1.58602, 1.05213, 1.26864, 1.10887  …  1.37456, 1.51655, 1.82701, 1.13072, 1.05724, 1.76705, 1.16378, 1.59908, 1.46599, 1.18902], 382)"
      ]
     },
     "execution_count": 14,
     "metadata": {},
     "output_type": "execute_result"
    }
   ],
   "source": [
    "srand(123)"
   ]
  },
  {
   "cell_type": "markdown",
   "metadata": {},
   "source": [
    "Create a standard-normal distribution and obtain samples"
   ]
  },
  {
   "cell_type": "code",
   "execution_count": 15,
   "metadata": {},
   "outputs": [
    {
     "data": {
      "text/plain": [
       "Distributions.Normal{Float64}(μ=0.0, σ=1.0)"
      ]
     },
     "execution_count": 15,
     "metadata": {},
     "output_type": "execute_result"
    }
   ],
   "source": [
    "d = Normal()"
   ]
  },
  {
   "cell_type": "code",
   "execution_count": 16,
   "metadata": {},
   "outputs": [
    {
     "data": {
      "text/plain": [
       "100-element Array{Float64,1}:\n",
       "  1.19027  \n",
       "  2.04818  \n",
       "  1.14265  \n",
       "  0.459416 \n",
       " -0.396679 \n",
       " -0.664713 \n",
       "  0.980968 \n",
       " -0.0754831\n",
       "  0.273815 \n",
       " -0.194229 \n",
       " -0.339366 \n",
       " -0.843878 \n",
       " -0.888936 \n",
       "  ⋮        \n",
       " -0.733961 \n",
       "  0.459398 \n",
       "  1.70619  \n",
       "  0.678443 \n",
       "  0.28718  \n",
       "  1.06816  \n",
       " -0.306877 \n",
       " -1.92021  \n",
       "  1.6696   \n",
       " -0.213558 \n",
       " -0.163711 \n",
       " -0.902986 "
      ]
     },
     "execution_count": 16,
     "metadata": {},
     "output_type": "execute_result"
    }
   ],
   "source": [
    "x = rand(d, 100)"
   ]
  },
  {
   "cell_type": "code",
   "execution_count": 17,
   "metadata": {},
   "outputs": [
    {
     "data": {
      "text/plain": [
       "Distributions.Normal{Float64}(μ=0.036692077201688635, σ=1.1228280164716382)"
      ]
     },
     "execution_count": 17,
     "metadata": {},
     "output_type": "execute_result"
    }
   ],
   "source": [
    "fit(Normal, x)"
   ]
  },
  {
   "cell_type": "code",
   "execution_count": 18,
   "metadata": {},
   "outputs": [
    {
     "data": {
      "image/svg+xml": [
       "<?xml version=\"1.0\" encoding=\"utf-8\"?>\n",
       "<svg xmlns=\"http://www.w3.org/2000/svg\" xmlns:xlink=\"http://www.w3.org/1999/xlink\" width=\"400\" height=\"300\" viewBox=\"0 0 400 300\">\n",
       "<defs>\n",
       "  <clipPath id=\"clip7600\">\n",
       "    <rect x=\"0\" y=\"0\" width=\"400\" height=\"300\"/>\n",
       "  </clipPath>\n",
       "</defs>\n",
       "<polygon clip-path=\"url(#clip7600)\" points=\"\n",
       "0,300 400,300 400,0 0,0 \n",
       "  \" fill=\"#ffffff\" fill-opacity=\"1\"/>\n",
       "<defs>\n",
       "  <clipPath id=\"clip7601\">\n",
       "    <rect x=\"80\" y=\"0\" width=\"281\" height=\"281\"/>\n",
       "  </clipPath>\n",
       "</defs>\n",
       "<polygon clip-path=\"url(#clip7600)\" points=\"\n",
       "47.0391,274.821 380.315,274.821 380.315,11.811 47.0391,11.811 \n",
       "  \" fill=\"#ffffff\" fill-opacity=\"1\"/>\n",
       "<defs>\n",
       "  <clipPath id=\"clip7602\">\n",
       "    <rect x=\"47\" y=\"11\" width=\"334\" height=\"264\"/>\n",
       "  </clipPath>\n",
       "</defs>\n",
       "<polyline clip-path=\"url(#clip7602)\" style=\"stroke:#000000; stroke-width:0.5; stroke-opacity:0.1; fill:none\" points=\"\n",
       "  102.758,274.821 102.758,11.811 \n",
       "  \"/>\n",
       "<polyline clip-path=\"url(#clip7602)\" style=\"stroke:#000000; stroke-width:0.5; stroke-opacity:0.1; fill:none\" points=\"\n",
       "  188.26,274.821 188.26,11.811 \n",
       "  \"/>\n",
       "<polyline clip-path=\"url(#clip7602)\" style=\"stroke:#000000; stroke-width:0.5; stroke-opacity:0.1; fill:none\" points=\"\n",
       "  273.763,274.821 273.763,11.811 \n",
       "  \"/>\n",
       "<polyline clip-path=\"url(#clip7602)\" style=\"stroke:#000000; stroke-width:0.5; stroke-opacity:0.1; fill:none\" points=\"\n",
       "  359.265,274.821 359.265,11.811 \n",
       "  \"/>\n",
       "<polyline clip-path=\"url(#clip7602)\" style=\"stroke:#000000; stroke-width:0.5; stroke-opacity:0.1; fill:none\" points=\"\n",
       "  47.0391,267.377 380.315,267.377 \n",
       "  \"/>\n",
       "<polyline clip-path=\"url(#clip7602)\" style=\"stroke:#000000; stroke-width:0.5; stroke-opacity:0.1; fill:none\" points=\"\n",
       "  47.0391,205.172 380.315,205.172 \n",
       "  \"/>\n",
       "<polyline clip-path=\"url(#clip7602)\" style=\"stroke:#000000; stroke-width:0.5; stroke-opacity:0.1; fill:none\" points=\"\n",
       "  47.0391,142.966 380.315,142.966 \n",
       "  \"/>\n",
       "<polyline clip-path=\"url(#clip7602)\" style=\"stroke:#000000; stroke-width:0.5; stroke-opacity:0.1; fill:none\" points=\"\n",
       "  47.0391,80.7605 380.315,80.7605 \n",
       "  \"/>\n",
       "<polyline clip-path=\"url(#clip7602)\" style=\"stroke:#000000; stroke-width:0.5; stroke-opacity:0.1; fill:none\" points=\"\n",
       "  47.0391,18.5549 380.315,18.5549 \n",
       "  \"/>\n",
       "<polyline clip-path=\"url(#clip7600)\" style=\"stroke:#000000; stroke-width:1; stroke-opacity:1; fill:none\" points=\"\n",
       "  47.0391,274.821 380.315,274.821 \n",
       "  \"/>\n",
       "<polyline clip-path=\"url(#clip7600)\" style=\"stroke:#000000; stroke-width:1; stroke-opacity:1; fill:none\" points=\"\n",
       "  47.0391,274.821 47.0391,11.811 \n",
       "  \"/>\n",
       "<polyline clip-path=\"url(#clip7600)\" style=\"stroke:#000000; stroke-width:1; stroke-opacity:1; fill:none\" points=\"\n",
       "  102.758,274.821 102.758,270.876 \n",
       "  \"/>\n",
       "<polyline clip-path=\"url(#clip7600)\" style=\"stroke:#000000; stroke-width:1; stroke-opacity:1; fill:none\" points=\"\n",
       "  188.26,274.821 188.26,270.876 \n",
       "  \"/>\n",
       "<polyline clip-path=\"url(#clip7600)\" style=\"stroke:#000000; stroke-width:1; stroke-opacity:1; fill:none\" points=\"\n",
       "  273.763,274.821 273.763,270.876 \n",
       "  \"/>\n",
       "<polyline clip-path=\"url(#clip7600)\" style=\"stroke:#000000; stroke-width:1; stroke-opacity:1; fill:none\" points=\"\n",
       "  359.265,274.821 359.265,270.876 \n",
       "  \"/>\n",
       "<polyline clip-path=\"url(#clip7600)\" style=\"stroke:#000000; stroke-width:1; stroke-opacity:1; fill:none\" points=\"\n",
       "  47.0391,267.377 52.0382,267.377 \n",
       "  \"/>\n",
       "<polyline clip-path=\"url(#clip7600)\" style=\"stroke:#000000; stroke-width:1; stroke-opacity:1; fill:none\" points=\"\n",
       "  47.0391,205.172 52.0382,205.172 \n",
       "  \"/>\n",
       "<polyline clip-path=\"url(#clip7600)\" style=\"stroke:#000000; stroke-width:1; stroke-opacity:1; fill:none\" points=\"\n",
       "  47.0391,142.966 52.0382,142.966 \n",
       "  \"/>\n",
       "<polyline clip-path=\"url(#clip7600)\" style=\"stroke:#000000; stroke-width:1; stroke-opacity:1; fill:none\" points=\"\n",
       "  47.0391,80.7605 52.0382,80.7605 \n",
       "  \"/>\n",
       "<polyline clip-path=\"url(#clip7600)\" style=\"stroke:#000000; stroke-width:1; stroke-opacity:1; fill:none\" points=\"\n",
       "  47.0391,18.5549 52.0382,18.5549 \n",
       "  \"/>\n",
       "<g clip-path=\"url(#clip7600)\">\n",
       "<text style=\"fill:#000000; fill-opacity:1; font-family:Arial,Helvetica Neue,Helvetica,sans-serif; font-size:12; text-anchor:middle;\" transform=\"rotate(0, 102.758, 287.621)\" x=\"102.758\" y=\"287.621\">-10</text>\n",
       "</g>\n",
       "<g clip-path=\"url(#clip7600)\">\n",
       "<text style=\"fill:#000000; fill-opacity:1; font-family:Arial,Helvetica Neue,Helvetica,sans-serif; font-size:12; text-anchor:middle;\" transform=\"rotate(0, 188.26, 287.621)\" x=\"188.26\" y=\"287.621\">0</text>\n",
       "</g>\n",
       "<g clip-path=\"url(#clip7600)\">\n",
       "<text style=\"fill:#000000; fill-opacity:1; font-family:Arial,Helvetica Neue,Helvetica,sans-serif; font-size:12; text-anchor:middle;\" transform=\"rotate(0, 273.763, 287.621)\" x=\"273.763\" y=\"287.621\">10</text>\n",
       "</g>\n",
       "<g clip-path=\"url(#clip7600)\">\n",
       "<text style=\"fill:#000000; fill-opacity:1; font-family:Arial,Helvetica Neue,Helvetica,sans-serif; font-size:12; text-anchor:middle;\" transform=\"rotate(0, 359.265, 287.621)\" x=\"359.265\" y=\"287.621\">20</text>\n",
       "</g>\n",
       "<g clip-path=\"url(#clip7600)\">\n",
       "<text style=\"fill:#000000; fill-opacity:1; font-family:Arial,Helvetica Neue,Helvetica,sans-serif; font-size:12; text-anchor:end;\" transform=\"rotate(0, 43.0391, 271.877)\" x=\"43.0391\" y=\"271.877\">0.00</text>\n",
       "</g>\n",
       "<g clip-path=\"url(#clip7600)\">\n",
       "<text style=\"fill:#000000; fill-opacity:1; font-family:Arial,Helvetica Neue,Helvetica,sans-serif; font-size:12; text-anchor:end;\" transform=\"rotate(0, 43.0391, 209.672)\" x=\"43.0391\" y=\"209.672\">0.02</text>\n",
       "</g>\n",
       "<g clip-path=\"url(#clip7600)\">\n",
       "<text style=\"fill:#000000; fill-opacity:1; font-family:Arial,Helvetica Neue,Helvetica,sans-serif; font-size:12; text-anchor:end;\" transform=\"rotate(0, 43.0391, 147.466)\" x=\"43.0391\" y=\"147.466\">0.04</text>\n",
       "</g>\n",
       "<g clip-path=\"url(#clip7600)\">\n",
       "<text style=\"fill:#000000; fill-opacity:1; font-family:Arial,Helvetica Neue,Helvetica,sans-serif; font-size:12; text-anchor:end;\" transform=\"rotate(0, 43.0391, 85.2605)\" x=\"43.0391\" y=\"85.2605\">0.06</text>\n",
       "</g>\n",
       "<g clip-path=\"url(#clip7600)\">\n",
       "<text style=\"fill:#000000; fill-opacity:1; font-family:Arial,Helvetica Neue,Helvetica,sans-serif; font-size:12; text-anchor:end;\" transform=\"rotate(0, 43.0391, 23.0549)\" x=\"43.0391\" y=\"23.0549\">0.08</text>\n",
       "</g>\n",
       "<polygon clip-path=\"url(#clip7602)\" points=\"\n",
       "56.4714,267.095 58.0241,267.055 72.381,266.342 86.7378,264.404 95.3657,262.067 103.994,258.272 111.288,253.462 118.583,246.721 122.545,242.088 126.507,236.681 \n",
       "  130.469,230.436 134.431,223.301 138.084,215.901 141.737,207.696 145.389,198.687 149.042,188.893 156.874,165.466 164.706,139.414 173.781,107.642 182.855,76.7661 \n",
       "  186.887,64.1547 190.919,52.6276 194.951,42.4564 198.983,33.8897 202.519,27.8691 206.055,23.368 209.591,20.4769 213.126,19.2547 216.981,19.852 220.836,22.4476 \n",
       "  224.691,26.9785 228.546,33.3364 232.424,41.4236 236.302,51.0189 240.18,61.9042 244.057,73.8409 252.632,102.713 261.207,132.802 269.366,160.382 277.525,185.353 \n",
       "  281.767,196.959 286.008,207.514 290.25,216.986 294.491,225.375 301.633,237.144 308.774,246.215 317.492,254.194 326.211,259.5 334.406,262.703 342.602,264.704 \n",
       "  355.732,266.365 368.862,267.029 370.883,267.084 370.883,267.377 368.862,267.377 355.732,267.377 342.602,267.377 334.406,267.377 326.211,267.377 317.492,267.377 \n",
       "  308.774,267.377 301.633,267.377 294.491,267.377 290.25,267.377 286.008,267.377 281.767,267.377 277.525,267.377 269.366,267.377 261.207,267.377 252.632,267.377 \n",
       "  244.057,267.377 240.18,267.377 236.302,267.377 232.424,267.377 228.546,267.377 224.691,267.377 220.836,267.377 216.981,267.377 213.126,267.377 209.591,267.377 \n",
       "  206.055,267.377 202.519,267.377 198.983,267.377 194.951,267.377 190.919,267.377 186.887,267.377 182.855,267.377 173.781,267.377 164.706,267.377 156.874,267.377 \n",
       "  149.042,267.377 145.389,267.377 141.737,267.377 138.084,267.377 134.431,267.377 130.469,267.377 126.507,267.377 122.545,267.377 118.583,267.377 111.288,267.377 \n",
       "  103.994,267.377 95.3657,267.377 86.7378,267.377 72.381,267.377 58.0241,267.377 56.4714,267.377 \n",
       "  \" fill=\"#ffa500\" fill-opacity=\"0.5\"/>\n",
       "<polyline clip-path=\"url(#clip7602)\" style=\"stroke:#009af9; stroke-width:1; stroke-opacity:1; fill:none\" points=\"\n",
       "  56.4714,267.095 58.0241,267.055 72.381,266.342 86.7378,264.404 95.3657,262.067 103.994,258.272 111.288,253.462 118.583,246.721 122.545,242.088 126.507,236.681 \n",
       "  130.469,230.436 134.431,223.301 138.084,215.901 141.737,207.696 145.389,198.687 149.042,188.893 156.874,165.466 164.706,139.414 173.781,107.642 182.855,76.7661 \n",
       "  186.887,64.1547 190.919,52.6276 194.951,42.4564 198.983,33.8897 202.519,27.8691 206.055,23.368 209.591,20.4769 213.126,19.2547 216.981,19.852 220.836,22.4476 \n",
       "  224.691,26.9785 228.546,33.3364 232.424,41.4236 236.302,51.0189 240.18,61.9042 244.057,73.8409 252.632,102.713 261.207,132.802 269.366,160.382 277.525,185.353 \n",
       "  281.767,196.959 286.008,207.514 290.25,216.986 294.491,225.375 301.633,237.144 308.774,246.215 317.492,254.194 326.211,259.5 334.406,262.703 342.602,264.704 \n",
       "  355.732,266.365 368.862,267.029 370.883,267.084 \n",
       "  \"/>\n",
       "<polygon clip-path=\"url(#clip7600)\" points=\"\n",
       "315.608,50.931 368.315,50.931 368.315,20.691 315.608,20.691 \n",
       "  \" fill=\"#ffffff\" fill-opacity=\"1\"/>\n",
       "<polyline clip-path=\"url(#clip7600)\" style=\"stroke:#000000; stroke-width:1; stroke-opacity:1; fill:none\" points=\"\n",
       "  315.608,50.931 368.315,50.931 368.315,20.691 315.608,20.691 315.608,50.931 \n",
       "  \"/>\n",
       "<polygon clip-path=\"url(#clip7600)\" points=\"\n",
       "319.608,41.859 343.608,41.859 343.608,29.763 319.608,29.763 319.608,41.859 \n",
       "  \" fill=\"#ffa500\" fill-opacity=\"0.5\"/>\n",
       "<polyline clip-path=\"url(#clip7600)\" style=\"stroke:#009af9; stroke-width:1; stroke-opacity:1; fill:none\" points=\"\n",
       "  319.608,29.763 343.608,29.763 \n",
       "  \"/>\n",
       "<g clip-path=\"url(#clip7600)\">\n",
       "<text style=\"fill:#000000; fill-opacity:1; font-family:Arial,Helvetica Neue,Helvetica,sans-serif; font-size:12; text-anchor:start;\" transform=\"rotate(0, 347.608, 40.311)\" x=\"347.608\" y=\"40.311\">y1</text>\n",
       "</g>\n",
       "</svg>\n"
      ]
     },
     "execution_count": 18,
     "metadata": {},
     "output_type": "execute_result"
    }
   ],
   "source": [
    "# Pkg.clone(\"git@github.com:JuliaPlots/StatPlots.jl.git\")\n",
    "using StatPlots\n",
    "gr(size=(400,300))\n",
    "plot(Normal(3,5), fill=(0, .5, :orange))"
   ]
  },
  {
   "cell_type": "code",
   "execution_count": null,
   "metadata": {},
   "outputs": [],
   "source": []
  }
 ],
 "metadata": {
  "kernelspec": {
   "display_name": "Julia 0.6.3",
   "language": "julia",
   "name": "julia-0.6"
  },
  "language_info": {
   "file_extension": ".jl",
   "mimetype": "application/julia",
   "name": "julia",
   "version": "0.6.3"
  }
 },
 "nbformat": 4,
 "nbformat_minor": 2
}
