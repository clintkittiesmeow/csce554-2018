{
 "cells": [
  {
   "cell_type": "markdown",
   "metadata": {},
   "source": [
    "Set up the environment"
   ]
  },
  {
   "cell_type": "code",
   "execution_count": 5,
   "metadata": {},
   "outputs": [
    {
     "data": {
      "text/plain": [
       "MersenneTwister(UInt32[0x0000007b], Base.dSFMT.DSFMT_state(Int32[1464307935, 1073116007, 222134151, 1073120226, -290652630, 1072956456, -580276323, 1073476387, 1332671753, 1073438661  …  138346874, 1073030449, 1049893279, 1073166535, -1999907543, 1597138926, -775229811, 32947490, 382, 0]), [1.76845, 1.94052, 1.67396, 1.39545, 1.31324, 1.66255, 1.58602, 1.05213, 1.26864, 1.10887  …  1.37456, 1.51655, 1.82701, 1.13072, 1.05724, 1.76705, 1.16378, 1.59908, 1.46599, 1.18902], 382)"
      ]
     },
     "execution_count": 5,
     "metadata": {},
     "output_type": "execute_result"
    }
   ],
   "source": [
    "using Distributions\n",
    "srand(123)  # seed random number generator"
   ]
  },
  {
   "cell_type": "markdown",
   "metadata": {},
   "source": [
    "Create a standard-normal distribution and obtain samples"
   ]
  },
  {
   "cell_type": "code",
   "execution_count": 6,
   "metadata": {},
   "outputs": [
    {
     "data": {
      "text/plain": [
       "Distributions.Normal{Float64}(μ=0.0, σ=1.0)"
      ]
     },
     "execution_count": 6,
     "metadata": {},
     "output_type": "execute_result"
    }
   ],
   "source": [
    "d = Normal()"
   ]
  },
  {
   "cell_type": "code",
   "execution_count": 9,
   "metadata": {},
   "outputs": [
    {
     "data": {
      "text/plain": [
       "100-element Array{Float64,1}:\n",
       " -0.871057 \n",
       "  0.345727 \n",
       " -0.155853 \n",
       "  2.33301  \n",
       " -0.998353 \n",
       "  0.0669556\n",
       " -1.7442   \n",
       " -0.880524 \n",
       " -0.253764 \n",
       "  0.814027 \n",
       " -1.12484  \n",
       " -0.344396 \n",
       " -0.242498 \n",
       "  ⋮        \n",
       "  1.01459  \n",
       "  0.376704 \n",
       " -0.765984 \n",
       " -0.199191 \n",
       "  1.49396  \n",
       "  0.0223903\n",
       "  0.024159 \n",
       "  1.10765  \n",
       "  0.149186 \n",
       "  1.68951  \n",
       " -0.521905 \n",
       "  0.625539 "
      ]
     },
     "execution_count": 9,
     "metadata": {},
     "output_type": "execute_result"
    }
   ],
   "source": [
    "x = rand(d, 100)"
   ]
  },
  {
   "cell_type": "code",
   "execution_count": 10,
   "metadata": {},
   "outputs": [
    {
     "data": {
      "text/plain": [
       "Distributions.Normal{Float64}(μ=0.08470394226277164, σ=1.072447665092009)"
      ]
     },
     "execution_count": 10,
     "metadata": {},
     "output_type": "execute_result"
    }
   ],
   "source": [
    "fit(Normal, x)"
   ]
  },
  {
   "cell_type": "code",
   "execution_count": null,
   "metadata": {},
   "outputs": [],
   "source": []
  }
 ],
 "metadata": {
  "kernelspec": {
   "display_name": "Julia 0.6.3",
   "language": "julia",
   "name": "julia-0.6"
  },
  "language_info": {
   "file_extension": ".jl",
   "mimetype": "application/julia",
   "name": "julia",
   "version": "0.6.3"
  }
 },
 "nbformat": 4,
 "nbformat_minor": 2
}
