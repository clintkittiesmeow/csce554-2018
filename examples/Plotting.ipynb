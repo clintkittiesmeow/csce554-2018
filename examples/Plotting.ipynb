{
 "cells": [
  {
   "cell_type": "code",
   "execution_count": 3,
   "metadata": {},
   "outputs": [],
   "source": [
    "# Pkg.add(\"Distributions\")\n",
    "using Distributions\n",
    "using Plots"
   ]
  },
  {
   "cell_type": "code",
   "execution_count": 6,
   "metadata": {},
   "outputs": [
    {
     "name": "stderr",
     "output_type": "stream",
     "text": [
      "\u001b[1m\u001b[36mINFO: \u001b[39m\u001b[22m\u001b[36mPrecompiling module RData.\n",
      "\u001b[39mWARNING: Method definition unix2zdt(Real) in module TimeZones at C:\\Users\\me\\.julia\\v0.6\\TimeZones\\src\\conversions.jl:122 overwritten in module RData at C:\\Users\\me\\.julia\\v0.6\\RData\\src\\convert.jl:201.\n",
      "WARNING: Method definition unix2zdt(Real) in module TimeZones at C:\\Users\\me\\.julia\\v0.6\\TimeZones\\src\\conversions.jl:122 overwritten in module RData at C:\\Users\\me\\.julia\\v0.6\\RData\\src\\convert.jl:201.\n"
     ]
    }
   ],
   "source": [
    "# load a dataset\n",
    "using RDatasets\n",
    "iris = dataset(\"datasets\", \"iris\");\n",
    "\n",
    "# load the StatPlots recipes (for DataFrames) available via:\n",
    "# Pkg.add(\"StatPlots\")\n",
    "using StatPlots\n",
    "\n",
    "# Scatter plot with some custom settings\n",
    "@df iris scatter(:SepalLength, :SepalWidth, group=:Species,\n",
    "        title = \"My awesome plot\",\n",
    "        xlabel = \"Length\", ylabel = \"Width\",\n",
    "        m=(0.5, [:cross :hex :star7], 12),\n",
    "        bg=RGB(.2,.2,.2))\n",
    "\n",
    "# save a png\n",
    "png(\"iris\")"
   ]
  },
  {
   "cell_type": "code",
   "execution_count": null,
   "metadata": {},
   "outputs": [],
   "source": []
  }
 ],
 "metadata": {
  "kernelspec": {
   "display_name": "Julia 0.6.3",
   "language": "julia",
   "name": "julia-0.6"
  },
  "language_info": {
   "file_extension": ".jl",
   "mimetype": "application/julia",
   "name": "julia",
   "version": "0.6.3"
  }
 },
 "nbformat": 4,
 "nbformat_minor": 2
}
