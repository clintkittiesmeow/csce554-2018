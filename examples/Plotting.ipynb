{
 "cells": [
  {
   "cell_type": "code",
   "execution_count": 2,
   "metadata": {},
   "outputs": [],
   "source": [
    "# Pkg.add(\"Distributions\")\n",
    "# Pkg.add(\"Plots\")\n",
    "# Pkg.add(\"RDatasets\")\n",
    "# Pkg.add(\"StatPlots\")\n",
    "using Distributions\n",
    "using Plots\n",
    "using RDatasets\n",
    "using StatPlots"
   ]
  },
  {
   "cell_type": "code",
   "execution_count": 4,
   "metadata": {},
   "outputs": [],
   "source": [
    "# load a dataset\n",
    "iris = dataset(\"datasets\", \"iris\");\n",
    "\n",
    "# Scatter plot with some custom settings\n",
    "@df iris scatter(:SepalLength, :SepalWidth, group=:Species,\n",
    "        title = \"My awesome plot\",\n",
    "        xlabel = \"Length\", ylabel = \"Width\",\n",
    "        m = (0.5, [:cross :hex :star7], 12),\n",
    "        bg = RGB(.2, .2, .2))\n",
    "\n",
    "# save a png\n",
    "png(\"iris\")"
   ]
  },
  {
   "cell_type": "code",
   "execution_count": null,
   "metadata": {},
   "outputs": [],
   "source": []
  }
 ],
 "metadata": {
  "kernelspec": {
   "display_name": "Julia 0.6.3",
   "language": "julia",
   "name": "julia-0.6"
  },
  "language_info": {
   "file_extension": ".jl",
   "mimetype": "application/julia",
   "name": "julia",
   "version": "0.6.3"
  }
 },
 "nbformat": 4,
 "nbformat_minor": 2
}
