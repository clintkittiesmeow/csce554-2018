{
 "cells": [
  {
   "cell_type": "markdown",
   "metadata": {},
   "source": [
    "## CSCE 554 Final Exam (200 points)\n",
    "\n",
    "Student Name: LASTNAME, FIRSTNAME HERE\n",
    "\n",
    "For each question below, clearly explain your statistical calculations and results by adding and editing cells as needed.  (Note: Use Code cells with embedded comments to explain code, and Markdown cells to explain results.) Make sure to document your work - printing a bunch of calculated statistical values is not sufficient."
   ]
  },
  {
   "cell_type": "markdown",
   "metadata": {
    "inputHidden": false,
    "outputHidden": false
   },
   "source": [
    "Turn in both the notebook and a rendered PDF document of it via email.  Use my personal email to avoid transmission problems (doug@sidechannel.net). Use the following naming convention: &lt;lastname&gt;-final.ipynb, and  &lt;lastname&gt;-final.pdf (e.g., hodson-final.ipynb and hodson-final.pdf)."
   ]
  },
  {
   "cell_type": "markdown",
   "metadata": {},
   "source": [
    "### Question 1 (40 pts)\n",
    "\n",
    "Using the Mammal Brain Weights data as shown in Display 9.4 below, read in this dataset and display the first couple of rows.\n",
    "\n",
    "Note: Mamal brain weight data is located in case0902.csv data file.\n",
    "\n",
    "![](./gfx/final/display-9_4.png)"
   ]
  },
  {
   "cell_type": "code",
   "execution_count": null,
   "metadata": {},
   "outputs": [],
   "source": []
  },
  {
   "cell_type": "markdown",
   "metadata": {},
   "source": [
    "### Question 2 (40 pts)\n",
    "\n",
    "Using the Mammal Brain Weights data just read, display the structure of the DataFrame, and categorize (i.e., code) the species column (data).  Show the structure of the data before and after categorization."
   ]
  },
  {
   "cell_type": "code",
   "execution_count": null,
   "metadata": {},
   "outputs": [],
   "source": []
  },
  {
   "cell_type": "markdown",
   "metadata": {},
   "source": [
    "### Question 3 (40 pts)\n",
    "\n",
    "Now that the Mammal Brain Weights data is properly catergorized, perform a regression that outputs the same results as shown in Display 9.15 below.\n",
    "\n",
    "#### Hints:\n",
    "\n",
    "Taking the log of a column of data (and converting it to an array) can be done as follows:\n",
    "\n",
    "log_Body   = log.(convert(Array{Float64}, case0902[:Body]))\n",
    "\n",
    "Appending this new column to the existing dataset can be done like this:\n",
    "\n",
    "case0902 = hcat(case0902, DataFrame(lbody = log_Body))\n",
    "\n",
    "![](./gfx/final/display-9_15.png)\n",
    "\n",
    "#### My results:\n",
    "\n",
    "![](./gfx/final/q3-results.png)"
   ]
  },
  {
   "cell_type": "code",
   "execution_count": null,
   "metadata": {},
   "outputs": [],
   "source": []
  },
  {
   "cell_type": "markdown",
   "metadata": {},
   "source": [
    "### Question 4 (40 pts)\n",
    "\n",
    "Plot the log of Brain Weight (g) verses the log of Body Weight (kg) as shown below.  Also add a straight regression line to this plot; use Gadfly to do this.  Make sure to define axe labels, legend and proper scaling.\n",
    "\n",
    "#### Hint:\n",
    "\n",
    "Review the video shown in class to see how to do this. For scaling the x and y axes, use Scale.x_log10 and Scale.y_log10 plot options.  The final plot should look like what is shown below.\n",
    "\n",
    "![](./gfx/final/example-plot.png)"
   ]
  },
  {
   "cell_type": "code",
   "execution_count": null,
   "metadata": {},
   "outputs": [],
   "source": []
  },
  {
   "cell_type": "markdown",
   "metadata": {},
   "source": [
    "### Question 5 (40 pts)\n",
    "\n",
    "The data in Display 20.14 (shown below) are the launch temperatures (degrees Fahrenheit) and an indicator of O-ring failures for 24 space shuttle launches prior to the space shuttle Challenger disaster of January 28, 1986. Fit the logistic regression of Failure (1 for failure) on Temperature.\n",
    "\n",
    "![](./gfx/final/display-20_14.png)\n",
    "\n",
    "#### Hints:\n",
    "\n",
    "The original data is stored in 'ex2011.csv'.  I have preprocessed that data (changed YES to 1, and NO to 0), and stored it in 'ex2011-processed.csv'.  You can use either one as your original source data.\n",
    "\n",
    "#### My results:\n",
    "\n",
    "![](./gfx/final/q5-results.png)"
   ]
  },
  {
   "cell_type": "code",
   "execution_count": null,
   "metadata": {},
   "outputs": [],
   "source": []
  },
  {
   "cell_type": "markdown",
   "metadata": {},
   "source": [
    "### Extra Credit (20 pts)\n",
    "\n",
    "Determine the power of the schizophrenia case study presented in Chapter 1 of the book.  The size of the hippocampus volumes between a sample of 15 twins were compared (subtracted) to see of there was a significant difference.  The effect size they observed was 0.20cm^3. Assume the hypothesis being tested is two-sided.\n",
    "\n",
    "Plot power verses sample size. If 10 more twins could have been included in the study, in terms of power, would it have mattered much?"
   ]
  },
  {
   "cell_type": "code",
   "execution_count": null,
   "metadata": {},
   "outputs": [],
   "source": []
  }
 ],
 "metadata": {
  "kernel_info": {
   "name": "julia-0.6"
  },
  "kernelspec": {
   "display_name": "Julia 0.6.4",
   "language": "julia",
   "name": "julia-0.6"
  },
  "language_info": {
   "file_extension": ".jl",
   "mimetype": "application/julia",
   "name": "julia",
   "version": "0.6.4"
  },
  "nteract": {
   "version": "0.10.0"
  }
 },
 "nbformat": 4,
 "nbformat_minor": 2
}
