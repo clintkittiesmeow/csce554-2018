{
  "cells": [
    {
      "cell_type": "markdown",
      "source": [
        "## CSCE 554 Homework 2 - Hypothesis t-Testing\n",
        "\n",
        "### Goal: The objective of this homework is to become familiar with basic statistical t-tests by rereproducing the statistical results associated with the Use Cases as presented in Chapter 2 of The Statistical Sleuth 3rd Edition.\n",
        "\n",
        "#### Anatomical Abnormalities Associated with Schizophrenia - An Observational Study\n",
        "* Read case study.\n",
        "* Read the dataset for this case study into Julia (case0202.csv). Hint: load data into a dataframe.\n",
        "* Display an abbreviated view of the raw data loaded.\n",
        "* Calculate the mean difference between affects and unaffected twins.\n",
        "* Perform the appropriate t-test (use the calculated mean difference) to see if differences exist between twins, in which one is has schizophrenia.\n",
        "* Calculate the p-value and conference interval for estimated difference using the same level of confidence as presented in case study.\n",
        "\n",
        "#### Evidence Supporting Darwin's Theory of Natural Selection - An Observational Study\n",
        "* Read case study.\n",
        "* Read the dataset for this case study into Julia (case0201.csv). Hint: load data into a dataframe.\n",
        "* Display an abbreviated view of the raw data loaded.\n",
        "* Perform the appropriate t-test to see if beak size changed between the two collect samples (representing the population).\n",
        "* Calculate the p-value and conference interval for estimated difference using the same level of confidence as presented in case study.\n",
        "\n",
        "For each case study, show and clearly explain your work and statistical results by adding and editing the cells below.  Make sure to document your work - printing a bunch of calculated statistical values is not sufficient.\n",
        "\nTurn in both the notebook and a PDF rendering of it via email.  Use my personal email to avoid transmission problems (doug@sidechannel.net). Use the following naming convention: &lt;lastname&gt;-hw02.ipynb, and  &lt;lastname&gt;-hw02.pdf (e.g., hodson-hw02.ipynb and hodson-hw02.pdf)."
      ],
      "metadata": {}
    },
    {
      "cell_type": "markdown",
      "source": [
        "## Case Study: Anatomical Abnormalities Associated with Schizophrenia - An Observational Study\n",
        "\nShow work below."
      ],
      "metadata": {}
    },
    {
      "cell_type": "code",
      "source": [],
      "outputs": [],
      "execution_count": null,
      "metadata": {}
    },
    {
      "cell_type": "markdown",
      "source": [
        "## Case Study: Evidence Supporting Darwin's Theory of Natural Selection - An Observational Study\n",
        "\nShow work below."
      ],
      "metadata": {}
    },
    {
      "cell_type": "code",
      "source": [],
      "outputs": [],
      "execution_count": null,
      "metadata": {}
    }
  ],
  "metadata": {
    "kernelspec": {
      "name": "julia-0.6",
      "language": "julia",
      "display_name": "Julia 0.6.3"
    },
    "language_info": {
      "file_extension": ".jl",
      "name": "julia",
      "mimetype": "application/julia",
      "version": "0.6.3"
    },
    "kernel_info": {
      "name": "julia-0.6"
    },
    "nteract": {
      "version": "0.9.1"
    }
  },
  "nbformat": 4,
  "nbformat_minor": 2
}