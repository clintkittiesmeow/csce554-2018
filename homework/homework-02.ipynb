{
  "cells": [
    {
      "cell_type": "markdown",
      "source": [
        "## CSCE 554 Homework 2 - Hypothesis t-Testing\n",
        "\n",
        "### Goal: The objective of this homework is to become familiar with basic statistical t-tests by reproducing the statistical results associated with the Use Cases as presented in Chapter 2 of The Statistical Sleuth 3rd Edition.\n",
        "\n",
        "#### Anatomical Abnormalities Associated with Schizophrenia - An Observational Study\n",
        "* Read case study.\n",
        "* Read the dataset for this case study into Julia (case0202.csv).\n",
        "* Display an abbreviated view of the raw data loaded.\n",
        "* Calculate the mean difference between twins affected and unaffected by schizophrenia. Show estimated difference as found in samples.\n",
        "* Perform the appropriate t-test to see if brain size differences (from MRI scans) exists between twins.\n",
        "* Calculate the p-value and conference interval for estimated difference using the same level of confidence as presented in case study.\n",
        "\n",
        "#### Evidence Supporting Darwin's Theory of Natural Selection - An Observational Study\n",
        "* Read case study.\n",
        "* Read the dataset for this case study into Julia (case0201.csv).\n",
        "* Display an abbreviated view of the raw data loaded.\n",
        "* Perform the appropriate t-test to see if population Finch beak size changed using the collected samples.\n",
        "* Calculate the p-value and conference interval for estimated difference using the same level of confidence as presented in case study.\n",
        "\n",
        "For each case study, clearly explain your statistical calculations and results by adding and editing cells as needed.  (Note: Use Code cells with embedded comments to explain code, and Markdown cells to explain results.) Make sure to document your work - printing a bunch of calculated statistical values is not sufficient.\n",
        "\nTurn in both the notebook and a PDF rendering of it via email.  Use my personal email to avoid transmission problems (doug@sidechannel.net). Use the following naming convention: &lt;lastname&gt;-hw02.ipynb, and  &lt;lastname&gt;-hw02.pdf (e.g., hodson-hw02.ipynb and hodson-hw02.pdf)."
      ],
      "metadata": {}
    },
    {
      "cell_type": "markdown",
      "source": [
        "## Case Study: Anatomical Abnormalities Associated with Schizophrenia - An Observational Study\n",
        "\nShow work below."
      ],
      "metadata": {}
    },
    {
      "cell_type": "code",
      "source": [],
      "outputs": [],
      "execution_count": null,
      "metadata": {
        "outputHidden": false,
        "inputHidden": false
      }
    },
    {
      "cell_type": "markdown",
      "source": [
        "## Case Study: Evidence Supporting Darwin's Theory of Natural Selection - An Observational Study\n",
        "\nShow work below."
      ],
      "metadata": {}
    },
    {
      "cell_type": "code",
      "source": [],
      "outputs": [],
      "execution_count": null,
      "metadata": {
        "outputHidden": false,
        "inputHidden": false
      }
    }
  ],
  "metadata": {
    "kernelspec": {
      "name": "julia-0.6",
      "language": "julia",
      "display_name": "Julia 0.6.3"
    },
    "language_info": {
      "file_extension": ".jl",
      "name": "julia",
      "mimetype": "application/julia",
      "version": "0.6.3"
    },
    "kernel_info": {
      "name": "julia-0.6"
    },
    "nteract": {
      "version": "0.10.0"
    }
  },
  "nbformat": 4,
  "nbformat_minor": 2
}