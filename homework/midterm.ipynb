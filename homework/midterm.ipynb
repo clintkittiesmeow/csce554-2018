{
 "cells": [
  {
   "cell_type": "markdown",
   "metadata": {
    "inputHidden": false,
    "outputHidden": false
   },
   "source": [
    "# IN-WORK - DO NOT USE!"
   ]
  },
  {
   "cell_type": "markdown",
   "metadata": {},
   "source": [
    "## CSCE 554 Midterm\n",
    "\n",
    "## CSCE 554 Fundamentals of Performance Analysis and Experimental Design - Midterm (200 points)\n",
    "\n",
    "Student Name: [Fill in Here]\n",
    "\n",
    "Work the following questions by adding the Julia-code required to answer them. Make sure to explain results - do not rely on print numbers from a script (or scripts) to be understood - clearly indicate what it signifies and how it relates to the question being asked."
   ]
  },
  {
   "cell_type": "markdown",
   "metadata": {
    "inputHidden": false,
    "outputHidden": false
   },
   "source": [
    "For each case study, clearly explain your statistical calculations and results by adding and editing cells as needed.  (Note: Use Code cells with embedded comments to explain code, and Markdown cells to explain results.) Make sure to document your work - printing a bunch of calculated statistical values is not sufficient.\n",
    "\n",
    "Turn in both the notebook and a PDF rendering of it via email.  Use my personal email to avoid transmission problems (doug@sidechannel.net). Use the following naming convention: &lt;lastname&gt;-hw02.ipynb, and  &lt;lastname&gt;-hw02.pdf (e.g., hodson-hw02.ipynb and hodson-hw02.pdf)."
   ]
  },
  {
   "cell_type": "markdown",
   "metadata": {},
   "source": [
    "### Question 1 (25 pts). Using the creativity study data (Section 1.1.1) and a computer, assign a set of random numbers to the 47 subjects.  Order the entire set by increasing values of the random numbers, and divide the subjects into group 1 with the 24 lowest random numbers and group 2 with the 23 highest.  Compute the difference in averages. Repeat this process five times, using different sets of random numbers. Did you get any differences larger than the one actually observed (19.88-15.74 or 4.14)?\n",
    "\n",
    "### Clarification: Partition the 47 scores shown in Display 1.1 into a group of 24 scores and a group of the 23 remaining scores, and compute the difference between the two averages of the groups. Repeat this process five times. Are any of the resulting differences larger than the observed difference of 19.88-15.74 or 4.14?\n",
    "\n",
    "Note: Creativity data from Section 1.1.1 of Statistical Sleuth book.\n",
    "\n",
    "![](./gfx/midterm/display-1_1.png)"
   ]
  },
  {
   "cell_type": "code",
   "execution_count": null,
   "metadata": {},
   "outputs": [],
   "source": []
  },
  {
   "cell_type": "markdown",
   "metadata": {},
   "source": [
    "### Question 2 (25 pts). Motivation and Creativity. Verify the statements made in the summary of statistical findings for the Motivation and Creativity Data (Section 1.1.1) by analyzing the data on the computer."
   ]
  },
  {
   "cell_type": "code",
   "execution_count": null,
   "metadata": {},
   "outputs": [],
   "source": []
  },
  {
   "cell_type": "markdown",
   "metadata": {},
   "source": [
    "### Question 3 (25 pts). Sex Discrimination. Verify the statements made in the summary of statistical findings for the Sex Discrimination Data (Section 1.1.2) by analyzing the data on the computer."
   ]
  },
  {
   "cell_type": "code",
   "execution_count": null,
   "metadata": {},
   "outputs": [],
   "source": []
  },
  {
   "cell_type": "markdown",
   "metadata": {},
   "source": [
    "### Question 4 (25 pts). Means, Medians, Logs, Ratios. Consider the following tuitions and their natual logs for five colleges. (a) Find the average In-State tuition.  Find the average log(In-State). Confirm that the log of the average is _not_ the same as the average of the logs. (b) Find the median In-State tuition and the median of the logs of In-State tuitions. Verify that the log of the median _is_ the same as the median of the logs. (c) Compute the median of the ratios. Compute the differences of logged tuitions - log(Out-of-State) minus log(In-State) and compute the median of these differences. Verify that the median of the differences (of log tuitions) is equal to the natural log of the median of ratios (aside from some minor rounding error).\n",
    "\n",
    "Note: Means, Medians, Logs, Ratios Data\n",
    "\n",
    "![](./gfx/midterm/sleuth-prob-3-20-data.png)"
   ]
  },
  {
   "cell_type": "code",
   "execution_count": null,
   "metadata": {},
   "outputs": [],
   "source": []
  },
  {
   "cell_type": "markdown",
   "metadata": {},
   "source": [
    "### Question 5 (25 pts). Spock Trial. Use the following summary statistics to (a) compute the pooled estimate of the standard deviation and (b) carry out a t-test for the hypothesis that the Spock judge's mean is equal to the mean for judge A.\n",
    "\n",
    "![](./gfx/midterm/sleuth-prob-5_14-data.png)"
   ]
  },
  {
   "cell_type": "code",
   "execution_count": null,
   "metadata": {},
   "outputs": [],
   "source": []
  },
  {
   "cell_type": "markdown",
   "metadata": {},
   "source": [
    "### Question 6 (25 pts). Spock Trial. (a) Use a calculator or statistical package to get the sample variance for the percentage of women on all 46 venires treated as one sample. (b) Multiply this by 45 to get the residual sum of squares for the equal-means model. (c) Multiple $s_p^2$ found in question 5a above by (46-7) to get the residual sum of squares for the separate-means model. (d) Use these to construct an analysis of variance table, including the F-statistic for the hypothesis of equal means. Compare the result with Display 5.10.\n",
    "\n",
    "![](./gfx/midterm/display-5_10.png)"
   ]
  },
  {
   "cell_type": "code",
   "execution_count": null,
   "metadata": {},
   "outputs": [],
   "source": []
  },
  {
   "cell_type": "markdown",
   "metadata": {},
   "source": [
    "\n",
    "## Hints for Questions 7 and 8.\n",
    "\n",
    "###Install Sleuth3 package which contain the data for the Big Bang study (it's case0701).\n",
    "###Create a model (using 'lm') that describes a relationship between Distance and Velocity - do NOT force intercept to '0' as Display 7.9 considers this to be a parameter of interest.\n",
    "###Review a summary of that model - check it against Display 7.9.\n",
    "###Use the 'confint' function to compute confidence intervals for model parameters. Read help (i.e., ?confint) to understand outputs and interpret results."
   ]
  },
  {
   "cell_type": "markdown",
   "metadata": {},
   "source": [
    "### Question 7 (25 pts). Big Bang Data. Using the results shown in Display 7.9, find a 95% confidence interval for the intercept in the regression of measured distance on recession velocity.\n",
    "\n",
    "Note: Display 7.9\n",
    "\n",
    "![](./gfx/midterm/display-7_9.png)"
   ]
  },
  {
   "cell_type": "code",
   "execution_count": null,
   "metadata": {},
   "outputs": [],
   "source": []
  },
  {
   "cell_type": "markdown",
   "metadata": {},
   "source": [
    "### Question 8 (25 pts). Big Bang Data. Using the results in Display 7.9, find a 95% confidence interval for the slope in the regression of measured distance on recession velocity."
   ]
  },
  {
   "cell_type": "code",
   "execution_count": null,
   "metadata": {},
   "outputs": [],
   "source": []
  }
 ],
 "metadata": {
  "kernel_info": {
   "name": "julia-0.6"
  },
  "kernelspec": {
   "display_name": "Julia 0.6.4",
   "language": "julia",
   "name": "julia-0.6"
  },
  "language_info": {
   "file_extension": ".jl",
   "mimetype": "application/julia",
   "name": "julia",
   "version": "0.6.4"
  },
  "nteract": {
   "version": "0.10.0"
  }
 },
 "nbformat": 4,
 "nbformat_minor": 2
}
