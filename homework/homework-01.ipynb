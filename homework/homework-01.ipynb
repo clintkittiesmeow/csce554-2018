{
 "cells": [
  {
   "cell_type": "markdown",
   "metadata": {},
   "source": [
    "## CSCE 554 Homework 1 - Introduction to Julia for Data Processing\n",
    "\n",
    "### Goal: The objective of this homework is to become familiar with Julia programming by reproducing some of the statistical results associated with the Use Cases as presented in Chapter 1 of The Statistical Sleuth 3rd Edition.\n",
    "\n",
    "#### Motivation and Creativity - A Randomized Experiment\n",
    "* Read case study.\n",
    "* Read the dataset for this case study into Julia (case0101.csv). Hint: load data into a dataframe.\n",
    "* Display an abbreviated view of the raw data loaded.\n",
    "* Calculate and display the following information about the creativity scores for both the intrinsic and extrinsic groups: sample size, average, and sample standard deviation by creating and calling your own Julia functions.  In other words, duplicate the summary statistics as shown in Display 1.1.\n",
    "\n",
    "#### Sex Discrimination in Employment - An Observational Study\n",
    "* Read case study.\n",
    "* Read the dataset for this case study into Julia (case0102.csv). Hint: load data into a dataframe.\n",
    "* Display an abbreviated view of the raw data loaded.\n",
    "* Use the available functions in the Julia StatsBase package to calculate and display the following information about the salaries for both Males and Females: sample size, average, and sample standard deviation. In other words, provide summary statistics for the data sown in Display 1.3.\n",
    "\n",
    "#### Useful Links:\n",
    "* https://juliadata.github.io/CSV.jl/stable/\n",
    "* https://github.com/bkamins/Julia-DataFrames-Tutorial\n",
    "* https://github.com/JuliaStats/StatsBase.jl\n",
    "\n",
    "For each case study, show and explain work through by adding and editing the cells below.  Turn in both the notebook and a PDF rendering of it via email.  Use my personal email to avoid transmission problems (doug@sidechannel.net). Use the following naming convention: &lt;lastname&gt;-hw01.ipynb, and  &lt;lastname&gt;-hw01.pdf (e.g., hodson-hw01.ipynb and hodson-hw01.pdf)."
   ]
  },
  {
   "cell_type": "markdown",
   "metadata": {},
   "source": [
    "## Case Study: Motivation and Creativity - A Randomized Experiment\n",
    "\n",
    "Show work below."
   ]
  },
  {
   "cell_type": "code",
   "execution_count": null,
   "metadata": {},
   "outputs": [],
   "source": []
  },
  {
   "cell_type": "markdown",
   "metadata": {},
   "source": [
    "## Case Study: Sex Discrimination in Employment - An Observational Study\n",
    "\n",
    "Show work below."
   ]
  },
  {
   "cell_type": "code",
   "execution_count": null,
   "metadata": {},
   "outputs": [],
   "source": []
  }
 ],
 "metadata": {
  "kernelspec": {
   "display_name": "Julia 0.6.3",
   "language": "julia",
   "name": "julia-0.6"
  },
  "language_info": {
   "file_extension": ".jl",
   "mimetype": "application/julia",
   "name": "julia",
   "version": "0.6.3"
  }
 },
 "nbformat": 4,
 "nbformat_minor": 2
}
