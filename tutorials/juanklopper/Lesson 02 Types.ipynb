{
 "cells": [
  {
   "cell_type": "markdown",
   "metadata": {},
   "source": [
    "# Variable types"
   ]
  },
  {
   "cell_type": "markdown",
   "metadata": {},
   "source": [
    "## Introduction"
   ]
  },
  {
   "cell_type": "markdown",
   "metadata": {},
   "source": [
    "+ Just as we have different numerical value types, i.e. $ 3 $ is an integer and $ \\frac{3}{4} $ is a rational number (fraction), so to do computer variables (well actually the object inside of a variable)\n",
    "+ As the lesson name indicates, these are called **types**\n",
    "+ Everytime a variable is created, the value it holds is of some type\n",
    "    + If we say x = 3, then the variable name is x and it holds an integer value\n",
    "    + This value that it holds is called an object and all values in Julia are true objects\n",
    "+ Julia has a dynamic type system\n",
    "+ This means that you do not have to explicitly declare a data type (tell the computer what type of data a variable will hold)\n",
    "    + In languages with a static type system you will have to use something like: *int x = 3;* to declare the fact that the variable x must hold integer values\n",
    "+ The advantage of declaring a type is that the computer can hold the correct *memory space* and this make execution faster\n",
    "+ Fortunately, Julia also allows for declaring a type\n",
    "+ Remember, it is the object that has a type, the variable is just a container or a name connected to values"
   ]
  },
  {
   "cell_type": "markdown",
   "metadata": {},
   "source": [
    "+ The types that are available in Julia are structured in a hierarchy"
   ]
  },
  {
   "cell_type": "markdown",
   "metadata": {},
   "source": [
    "## Finding out the types of common values"
   ]
  },
  {
   "cell_type": "code",
   "execution_count": 1,
   "metadata": {
    "collapsed": false
   },
   "outputs": [
    {
     "data": {
      "text/plain": [
       "Int64"
      ]
     },
     "execution_count": 1,
     "metadata": {},
     "output_type": "execute_result"
    }
   ],
   "source": [
    "#The type of the value 3\n",
    "typeof(3)"
   ]
  },
  {
   "cell_type": "code",
   "execution_count": 2,
   "metadata": {
    "collapsed": false
   },
   "outputs": [
    {
     "data": {
      "text/plain": [
       "Float64"
      ]
     },
     "execution_count": 2,
     "metadata": {},
     "output_type": "execute_result"
    }
   ],
   "source": [
    "#The type of the value 3.0\n",
    "typeof(3.0)"
   ]
  },
  {
   "cell_type": "code",
   "execution_count": 3,
   "metadata": {
    "collapsed": false
   },
   "outputs": [
    {
     "data": {
      "text/plain": [
       "MathConst{:π} (constructor with 1 method)"
      ]
     },
     "execution_count": 3,
     "metadata": {},
     "output_type": "execute_result"
    }
   ],
   "source": [
    "#The type of the value pi\n",
    "typeof(pi)"
   ]
  },
  {
   "cell_type": "code",
   "execution_count": 4,
   "metadata": {
    "collapsed": false
   },
   "outputs": [
    {
     "data": {
      "text/plain": [
       "Rational{Int64} (constructor with 1 method)"
      ]
     },
     "execution_count": 4,
     "metadata": {},
     "output_type": "execute_result"
    }
   ],
   "source": [
    "#The type of the value 3 // 4\n",
    "typeof(3 // 4)"
   ]
  },
  {
   "cell_type": "code",
   "execution_count": 5,
   "metadata": {
    "collapsed": false
   },
   "outputs": [
    {
     "data": {
      "text/plain": [
       "ASCIIString (constructor with 2 methods)"
      ]
     },
     "execution_count": 5,
     "metadata": {},
     "output_type": "execute_result"
    }
   ],
   "source": [
    "#The type of the value \"Julia\"\n",
    "typeof(\"Julia\")"
   ]
  },
  {
   "cell_type": "markdown",
   "metadata": {},
   "source": [
    "## Supertypes"
   ]
  },
  {
   "cell_type": "markdown",
   "metadata": {},
   "source": [
    "+ Supertypes indicates the parent of a type"
   ]
  },
  {
   "cell_type": "code",
   "execution_count": 6,
   "metadata": {
    "collapsed": false
   },
   "outputs": [
    {
     "data": {
      "text/plain": [
       "FloatingPoint"
      ]
     },
     "execution_count": 6,
     "metadata": {},
     "output_type": "execute_result"
    }
   ],
   "source": [
    "#What is the supertype (parent) of the Float64 type?\n",
    "super(Float64)"
   ]
  },
  {
   "cell_type": "code",
   "execution_count": 7,
   "metadata": {
    "collapsed": false
   },
   "outputs": [
    {
     "data": {
      "text/plain": [
       "Real"
      ]
     },
     "execution_count": 7,
     "metadata": {},
     "output_type": "execute_result"
    }
   ],
   "source": [
    "#What is the supertype of the FloatingPoint type?\n",
    "super(FloatingPoint)"
   ]
  },
  {
   "cell_type": "code",
   "execution_count": 8,
   "metadata": {
    "collapsed": false
   },
   "outputs": [
    {
     "data": {
      "text/plain": [
       "Number"
      ]
     },
     "execution_count": 8,
     "metadata": {},
     "output_type": "execute_result"
    }
   ],
   "source": [
    "#What is the sypertype of the Real type?\n",
    "super(Real)"
   ]
  },
  {
   "cell_type": "code",
   "execution_count": 9,
   "metadata": {
    "collapsed": false
   },
   "outputs": [
    {
     "data": {
      "text/plain": [
       "Any"
      ]
     },
     "execution_count": 9,
     "metadata": {},
     "output_type": "execute_result"
    }
   ],
   "source": [
    "#What is the supertype of the Number type?\n",
    "super(Number)"
   ]
  },
  {
   "cell_type": "markdown",
   "metadata": {},
   "source": [
    "## Subtypes"
   ]
  },
  {
   "cell_type": "markdown",
   "metadata": {},
   "source": [
    "+ Subtypes indicate the children of a parent type"
   ]
  },
  {
   "cell_type": "code",
   "execution_count": 10,
   "metadata": {
    "collapsed": false
   },
   "outputs": [
    {
     "data": {
      "text/plain": [
       "369-element Array{Any,1}:\n",
       " Abs2MinusFun                                                                \n",
       " AbsoluteBoundingBox                                                         \n",
       " AbstractAlphaColorValue{C<:ColorValue{T},T<:Real}                           \n",
       " AbstractArray{T,N}                                                          \n",
       " AbstractCmd                                                                 \n",
       " AbstractDataFrame                                                           \n",
       " AbstractEntry                                                               \n",
       " AbstractFormatter                                                           \n",
       " AbstractHeap{VT}                                                            \n",
       " AbstractHistogram{T<:Real,N,E}                                              \n",
       " AbstractIndex                                                               \n",
       " AbstractPDMat                                                               \n",
       " AbstractREPL                                                                \n",
       " ⋮                                                                           \n",
       " Worker                                                                      \n",
       " ZeroOffsetVector                                                            \n",
       " ZeroVector{T}                                                               \n",
       " Zip2{I1,I2}                                                                 \n",
       " Zip{I<:(Any...,)}                                                           \n",
       " c_CholmodDense{T<:Union(Complex{Float64},Float64)}                          \n",
       " c_CholmodFactor{Tv<:Union(Complex{Float64},Float64),Ti<:Union(Int64,Int32)} \n",
       " c_CholmodSparse{Tv<:Union(Complex{Float64},Float64),Ti<:Union(Int64,Int32)} \n",
       " c_CholmodTriplet{Tv<:Union(Complex{Float64},Float64),Ti<:Union(Int64,Int32)}\n",
       " dl_phdr_info                                                                \n",
       " xtab{T}                                                                     \n",
       " z_stream                                                                    "
      ]
     },
     "execution_count": 10,
     "metadata": {},
     "output_type": "execute_result"
    }
   ],
   "source": [
    "#What are the children of the type Any?\n",
    "subtypes(Any)"
   ]
  },
  {
   "cell_type": "code",
   "execution_count": 11,
   "metadata": {
    "collapsed": false
   },
   "outputs": [
    {
     "data": {
      "text/plain": [
       "4-element Array{Any,1}:\n",
       " Complex{T<:Real}\n",
       " Dual4{T<:Real}  \n",
       " Dual{T<:Real}   \n",
       " Real            "
      ]
     },
     "execution_count": 11,
     "metadata": {},
     "output_type": "execute_result"
    }
   ],
   "source": [
    "#What are the subtypes of the Number type?\n",
    "subtypes(Number)"
   ]
  },
  {
   "cell_type": "code",
   "execution_count": 12,
   "metadata": {
    "collapsed": false
   },
   "outputs": [
    {
     "data": {
      "text/plain": [
       "0-element Array{Any,1}"
      ]
     },
     "execution_count": 12,
     "metadata": {},
     "output_type": "execute_result"
    }
   ],
   "source": [
    "#What are the subtypes of the Complex type?\n",
    "subtypes(Complex)"
   ]
  },
  {
   "cell_type": "code",
   "execution_count": 13,
   "metadata": {
    "collapsed": false
   },
   "outputs": [
    {
     "data": {
      "text/plain": [
       "5-element Array{Any,1}:\n",
       " FixedPoint          \n",
       " FloatingPoint       \n",
       " Integer             \n",
       " MathConst{sym}      \n",
       " Rational{T<:Integer}"
      ]
     },
     "execution_count": 13,
     "metadata": {},
     "output_type": "execute_result"
    }
   ],
   "source": [
    "#What are the subtypes of the Real type?\n",
    "subtypes(Real)"
   ]
  },
  {
   "cell_type": "code",
   "execution_count": 14,
   "metadata": {
    "collapsed": false
   },
   "outputs": [
    {
     "data": {
      "text/plain": [
       "4-element Array{Any,1}:\n",
       " BigFloat\n",
       " Float16 \n",
       " Float32 \n",
       " Float64 "
      ]
     },
     "execution_count": 14,
     "metadata": {},
     "output_type": "execute_result"
    }
   ],
   "source": [
    "#What are the subtypes of the FloatingPoint type?\n",
    "subtypes(FloatingPoint)"
   ]
  },
  {
   "cell_type": "code",
   "execution_count": 15,
   "metadata": {
    "collapsed": false
   },
   "outputs": [
    {
     "data": {
      "text/plain": [
       "5-element Array{Any,1}:\n",
       " BigInt  \n",
       " Bool    \n",
       " Char    \n",
       " Signed  \n",
       " Unsigned"
      ]
     },
     "execution_count": 15,
     "metadata": {},
     "output_type": "execute_result"
    }
   ],
   "source": [
    "#What are the subtypes of the Integer type?\n",
    "subtypes(Integer)"
   ]
  },
  {
   "cell_type": "markdown",
   "metadata": {},
   "source": [
    "## Abstract versus concrete types"
   ]
  },
  {
   "cell_type": "markdown",
   "metadata": {},
   "source": [
    "+ The bottom of this hierarchy contains the concrete types\n",
    "+ The are the ones that can hold objects\n",
    "+ They inherit from abstract types\n",
    "+ Abstract type can not be instantiated\n",
    "    + That is fancy speak for the fact that you cannot create an instance of an abstract type, i.e. *f(x::Real) = ...*"
   ]
  },
  {
   "cell_type": "markdown",
   "metadata": {},
   "source": [
    "## The size of types"
   ]
  },
  {
   "cell_type": "markdown",
   "metadata": {},
   "source": [
    "+ A computer has a finite memory capacity\n",
    "+ Code is placed in memory for *interaction* with the processing unit\n",
    "+ An object is allocate space in memory and that space is dependent on its type\n",
    "+ The space determines the minimum and maximum values a type can represent\n",
    "+ Julia can tell use through the use of the *typemin()* and *typemax()* functions"
   ]
  },
  {
   "cell_type": "code",
   "execution_count": 28,
   "metadata": {
    "collapsed": false
   },
   "outputs": [
    {
     "data": {
      "text/plain": [
       "-128"
      ]
     },
     "execution_count": 28,
     "metadata": {},
     "output_type": "execute_result"
    }
   ],
   "source": [
    "#What is the minimum value an Int8 type object can hold?\n",
    "typemin(Int8)"
   ]
  },
  {
   "cell_type": "code",
   "execution_count": 30,
   "metadata": {
    "collapsed": false
   },
   "outputs": [
    {
     "data": {
      "text/plain": [
       "32767"
      ]
     },
     "execution_count": 30,
     "metadata": {},
     "output_type": "execute_result"
    }
   ],
   "source": [
    "#What is the maximum value a Int16 type ofject can hold?\n",
    "typemax(Int16)"
   ]
  },
  {
   "cell_type": "markdown",
   "metadata": {},
   "source": [
    "## Creating your own abstract and concrete types"
   ]
  },
  {
   "cell_type": "code",
   "execution_count": 31,
   "metadata": {
    "collapsed": true
   },
   "outputs": [],
   "source": [
    "#Creating an new abstract type called AbstractTypeOne using the abstract keyword\n",
    "abstract AbstractTypeOne"
   ]
  },
  {
   "cell_type": "code",
   "execution_count": 32,
   "metadata": {
    "collapsed": false
   },
   "outputs": [
    {
     "data": {
      "text/plain": [
       "Any"
      ]
     },
     "execution_count": 32,
     "metadata": {},
     "output_type": "execute_result"
    }
   ],
   "source": [
    "#This new abstract type has an automatic supertype\n",
    "super(AbstractTypeOne)"
   ]
  },
  {
   "cell_type": "code",
   "execution_count": 33,
   "metadata": {
    "collapsed": true
   },
   "outputs": [],
   "source": [
    "#Creating an abstarct type under a specific supertypes using: abstract AbstractTypeTwo <: Number\n",
    "abstract AbstractTypeTwo <: Number"
   ]
  },
  {
   "cell_type": "code",
   "execution_count": 34,
   "metadata": {
    "collapsed": false
   },
   "outputs": [
    {
     "data": {
      "text/plain": [
       "Number"
      ]
     },
     "execution_count": 34,
     "metadata": {},
     "output_type": "execute_result"
    }
   ],
   "source": [
    "#Checking using super(AbstractTypeTwo)\n",
    "super(AbstractTypeTwo)"
   ]
  },
  {
   "cell_type": "code",
   "execution_count": 36,
   "metadata": {
    "collapsed": false
   },
   "outputs": [],
   "source": [
    "#Creating a concrete type with two fields:\n",
    "#type ConcreteTypeOne <: AbstractTypeOne\n",
    "# fieldone\n",
    "# fieldtwo::Int\n",
    "#end\n",
    "type ConcreteType <: AbstractTypeOne\n",
    "    fieldone\n",
    "    fieldtwo::Int\n",
    "end"
   ]
  },
  {
   "cell_type": "code",
   "execution_count": 38,
   "metadata": {
    "collapsed": false
   },
   "outputs": [
    {
     "data": {
      "text/plain": [
       "ConcreteType(\"Hi!\",101)"
      ]
     },
     "execution_count": 38,
     "metadata": {},
     "output_type": "execute_result"
    }
   ],
   "source": [
    "#Since it is a concrete type it can be instantiated:\n",
    "#var1 = ConcreteTypeOne(\"Hi!\", 101)\n",
    "var1 = ConcreteType(\"Hi!\", 101)"
   ]
  },
  {
   "cell_type": "code",
   "execution_count": 39,
   "metadata": {
    "collapsed": false
   },
   "outputs": [
    {
     "data": {
      "text/plain": [
       "\"Hi!\""
      ]
     },
     "execution_count": 39,
     "metadata": {},
     "output_type": "execute_result"
    }
   ],
   "source": [
    "#Accessing the fields of var1 with dot notation\n",
    "var1.fieldone"
   ]
  },
  {
   "cell_type": "code",
   "execution_count": 40,
   "metadata": {
    "collapsed": false
   },
   "outputs": [
    {
     "data": {
      "text/plain": [
       "ASCIIString (constructor with 2 methods)"
      ]
     },
     "execution_count": 40,
     "metadata": {},
     "output_type": "execute_result"
    }
   ],
   "source": [
    "#Since the type of fieldone was not specified we can check the type of var1.fieldone with typeof()\n",
    "typeof(var1.fieldone)"
   ]
  },
  {
   "cell_type": "markdown",
   "metadata": {},
   "source": [
    "## Conclusion"
   ]
  },
  {
   "cell_type": "markdown",
   "metadata": {},
   "source": [
    "+ There is a lot more to know about types\n",
    "+ We'll come across those topics in future lessons as we learn about arrays and functions"
   ]
  },
  {
   "cell_type": "code",
   "execution_count": null,
   "metadata": {
    "collapsed": true
   },
   "outputs": [],
   "source": []
  }
 ],
 "metadata": {
  "kernelspec": {
   "display_name": "Julia 0.3.11",
   "language": "julia",
   "name": "julia-0.3"
  },
  "language_info": {
   "name": "julia",
   "version": "0.3.11"
  }
 },
 "nbformat": 4,
 "nbformat_minor": 0
}
