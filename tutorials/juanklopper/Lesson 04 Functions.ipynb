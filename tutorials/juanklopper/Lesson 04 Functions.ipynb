{
 "cells": [
  {
   "cell_type": "code",
   "execution_count": 1,
   "metadata": {
    "collapsed": true
   },
   "outputs": [
    {
     "data": {
      "text/plain": [
       "4"
      ]
     },
     "execution_count": 1,
     "metadata": {},
     "output_type": "execute_result"
    }
   ],
   "source": [
    "# Cheching that the kernel has loaded\n",
    "+(2, 2)"
   ]
  },
  {
   "cell_type": "markdown",
   "metadata": {},
   "source": [
    "<hr/>\n",
    "# Functions\n",
    "<hr/>"
   ]
  },
  {
   "cell_type": "markdown",
   "metadata": {},
   "source": [
    "<hr/>\n",
    "## Introduction"
   ]
  },
  {
   "cell_type": "markdown",
   "metadata": {},
   "source": [
    "In this section we will take our first look at functions.  Creating functions are as powerful as controlling flow and they are immensely useful sections of code.<br/>\n",
    "Functions can be created using different types of syntax.  The first uses single expressions and are akin to mathematical functions, i.e. $ f \\left( x,y \\right) = {x}^{2} - 3y $.  Here $ x $ and $ y $ are called the *arguments* of the function as opposed to the independent variables as we use in mathematics.<br/>\n",
    "We will take a look at the following:\n",
    "+ Single expression functions\n",
    "+ Multiple expression functions\n",
    "+ Optional arguments\n",
    "+ Functions with a variable number of arguments\n",
    "+ Passing arrays as function arguments\n",
    "+ Type parameters\n",
    "+ Stabby functions and do blocks\n",
    "+ Using functions as arguments\n",
    "+ Nested functions\n",
    "+ Multiple dispatch\n",
    "+ A few inbuilt functions (just for fun)\n",
    "+ List comprehension (just for some more fun)"
   ]
  },
  {
   "cell_type": "markdown",
   "metadata": {},
   "source": [
    "<hr/>\n",
    "## Single expression functions"
   ]
  },
  {
   "cell_type": "code",
   "execution_count": 2,
   "metadata": {
    "collapsed": true
   },
   "outputs": [
    {
     "data": {
      "text/plain": [
       "f (generic function with 1 method)"
      ]
     },
     "execution_count": 2,
     "metadata": {},
     "output_type": "execute_result"
    }
   ],
   "source": [
    "# Creating our first single expression function\n",
    "f(x, y) = x^2 - 3y"
   ]
  },
  {
   "cell_type": "markdown",
   "metadata": {},
   "source": [
    "The function has a name, $ f $ and it takes two arguments, $ x $ and $ y $."
   ]
  },
  {
   "cell_type": "code",
   "execution_count": 3,
   "metadata": {
    "collapsed": true
   },
   "outputs": [
    {
     "data": {
      "text/plain": [
       "1"
      ]
     },
     "execution_count": 3,
     "metadata": {},
     "output_type": "execute_result"
    }
   ],
   "source": [
    "# Calling the function by its name and passing values to the arguments (variables)\n",
    "f(2, 1)"
   ]
  },
  {
   "cell_type": "code",
   "execution_count": 4,
   "metadata": {
    "collapsed": true
   },
   "outputs": [
    {
     "data": {
      "text/plain": [
       "g (generic function with 1 method)"
      ]
     },
     "execution_count": 4,
     "metadata": {},
     "output_type": "execute_result"
    }
   ],
   "source": [
    "# Creating a second single expression function\n",
    "g(x) = x^2"
   ]
  },
  {
   "cell_type": "code",
   "execution_count": 5,
   "metadata": {
    "collapsed": true
   },
   "outputs": [
    {
     "data": {
      "text/plain": [
       "9"
      ]
     },
     "execution_count": 5,
     "metadata": {},
     "output_type": "execute_result"
    }
   ],
   "source": [
    "# Calling the function and passing the single argument that it takes\n",
    "g(3)"
   ]
  },
  {
   "cell_type": "markdown",
   "metadata": {},
   "source": [
    "<hr/>\n",
    "## Multiple expression functions"
   ]
  },
  {
   "cell_type": "markdown",
   "metadata": {},
   "source": [
    "With single expression functions it was convenient to use the *shortcut* (almost mathematical) syntax we used above.  If we want a function to do a few more things, even have flow control, we have to use *function* syntax.<br>\n",
    "In the first example below we will have a function that takes two arguments and performs two tasks (has two expressions)."
   ]
  },
  {
   "cell_type": "code",
   "execution_count": 6,
   "metadata": {
    "collapsed": true
   },
   "outputs": [
    {
     "data": {
      "text/plain": [
       "mltpl (generic function with 1 method)"
      ]
     },
     "execution_count": 6,
     "metadata": {},
     "output_type": "execute_result"
    }
   ],
   "source": [
    "# Declaring the block of code as a function using the function keyword, giving it a name,\n",
    "# and listing the arguments\n",
    "function mltpl(x, y)\n",
    "    print(\"The first value is $x and the second value is $y.\\n$x x $y is:\")\n",
    "    # The dollar signs are placeholders for the argument values\n",
    "    # The \\n combination indicates a new-line\n",
    "    return x * y\n",
    "end\n",
    "# Indentation happened automatically in IJulia"
   ]
  },
  {
   "cell_type": "code",
   "execution_count": 7,
   "metadata": {
    "collapsed": true
   },
   "outputs": [
    {
     "name": "stdout",
     "output_type": "stream",
     "text": [
      "The first value is 3 and the second value is 4.\n",
      "3 x 4 is:"
     ]
    },
    {
     "data": {
      "text/plain": [
       "12"
      ]
     },
     "execution_count": 7,
     "metadata": {},
     "output_type": "execute_result"
    }
   ],
   "source": [
    "# Calling the function and passing values for the two arguments\n",
    "mltpl(3, 4)"
   ]
  },
  {
   "cell_type": "markdown",
   "metadata": {},
   "source": [
    "### Omitting the *return* keyword"
   ]
  },
  {
   "cell_type": "markdown",
   "metadata": {},
   "source": [
    "Let's see what happens if we omit the return keyword."
   ]
  },
  {
   "cell_type": "code",
   "execution_count": 8,
   "metadata": {
    "collapsed": true
   },
   "outputs": [
    {
     "data": {
      "text/plain": [
       "mltpl2 (generic function with 1 method)"
      ]
     },
     "execution_count": 8,
     "metadata": {},
     "output_type": "execute_result"
    }
   ],
   "source": [
    "function mltpl2(x, y)\n",
    "    print(\"Blah, blah,... Multiply!\")\n",
    "    x * y\n",
    "end"
   ]
  },
  {
   "cell_type": "code",
   "execution_count": 9,
   "metadata": {
    "collapsed": true
   },
   "outputs": [
    {
     "data": {
      "text/plain": [
       "12"
      ]
     },
     "execution_count": 9,
     "metadata": {},
     "output_type": "execute_result"
    }
   ],
   "source": [
    "mltpl2(3, 4)"
   ]
  },
  {
   "cell_type": "code",
   "execution_count": 10,
   "metadata": {
    "collapsed": true
   },
   "outputs": [
    {
     "data": {
      "text/plain": [
       "mltpl3 (generic function with 1 method)"
      ]
     },
     "execution_count": 10,
     "metadata": {},
     "output_type": "execute_result"
    }
   ],
   "source": [
    "# Now, let's get a bit crazy\n",
    "function mltpl3(x, y)\n",
    "    print(\"More blah, blah...\")\n",
    "    x + y\n",
    "    x * y\n",
    "end"
   ]
  },
  {
   "cell_type": "code",
   "execution_count": 11,
   "metadata": {
    "collapsed": true
   },
   "outputs": [
    {
     "data": {
      "text/plain": [
       "12"
      ]
     },
     "execution_count": 11,
     "metadata": {},
     "output_type": "execute_result"
    }
   ],
   "source": [
    "mltpl3(3, 4)"
   ]
  },
  {
   "cell_type": "markdown",
   "metadata": {},
   "source": [
    "The *print()* function was still evaluated, but as far as the expressions go, only the last one was performed, i.e. the $ x + y $ was skipped.<br/>\n",
    "This is not to say that in Julia only a single value is returned when omitting the *return* keyword.  Have a look at the next example."
   ]
  },
  {
   "cell_type": "code",
   "execution_count": 12,
   "metadata": {
    "collapsed": true
   },
   "outputs": [
    {
     "data": {
      "text/plain": [
       "math_func (generic function with 1 method)"
      ]
     },
     "execution_count": 12,
     "metadata": {},
     "output_type": "execute_result"
    }
   ],
   "source": [
    "function math_func(a, b)\n",
    "    print(\"This function will return addition, subtraction and multiplication of the values $a and $b\\.\")\n",
    "    a + b, a - b, a *b\n",
    "end"
   ]
  },
  {
   "cell_type": "code",
   "execution_count": 13,
   "metadata": {
    "collapsed": true
   },
   "outputs": [
    {
     "data": {
      "text/plain": [
       "(7,-1,12)"
      ]
     },
     "execution_count": 13,
     "metadata": {},
     "output_type": "execute_result"
    }
   ],
   "source": [
    "# Calling math_func(), which will return a tuple\n",
    "math_func(3, 4)"
   ]
  },
  {
   "cell_type": "markdown",
   "metadata": {},
   "source": [
    "This can be very useful in a Julia program.  This is how we might use it:"
   ]
  },
  {
   "cell_type": "code",
   "execution_count": 14,
   "metadata": {
    "collapsed": true
   },
   "outputs": [
    {
     "name": "stdout",
     "output_type": "stream",
     "text": [
      "Blah, blah,... Multiply!More blah, blah...This function will return addition, subtraction and multiplication of the values 3 and 4.This function will return addition, subtraction and multiplication of the values 3 and 4."
     ]
    },
    {
     "data": {
      "text/plain": [
       "(7,-1,12)"
      ]
     },
     "execution_count": 14,
     "metadata": {},
     "output_type": "execute_result"
    }
   ],
   "source": [
    "ans1, ans2, ans3 = math_func(3, 4)"
   ]
  },
  {
   "cell_type": "code",
   "execution_count": 15,
   "metadata": {
    "collapsed": true
   },
   "outputs": [
    {
     "data": {
      "text/plain": [
       "7"
      ]
     },
     "execution_count": 15,
     "metadata": {},
     "output_type": "execute_result"
    }
   ],
   "source": [
    "# The variable ans1 now holds a value that can be used in the program\n",
    "ans1"
   ]
  },
  {
   "cell_type": "markdown",
   "metadata": {},
   "source": [
    "## Optional arguments (with default values)"
   ]
  },
  {
   "cell_type": "markdown",
   "metadata": {},
   "source": [
    "A default value can be passed to an argument when defining a function."
   ]
  },
  {
   "cell_type": "code",
   "execution_count": 16,
   "metadata": {
    "collapsed": true
   },
   "outputs": [
    {
     "data": {
      "text/plain": [
       "func (generic function with 2 methods)"
      ]
     },
     "execution_count": 16,
     "metadata": {},
     "output_type": "execute_result"
    }
   ],
   "source": [
    "function func(a, b, c = 100)\n",
    "    print(\" We have the values $a, $b, and $c.\")\n",
    "end"
   ]
  },
  {
   "cell_type": "code",
   "execution_count": 17,
   "metadata": {
    "collapsed": false
   },
   "outputs": [],
   "source": [
    "# Calling the function, but omitting the last argument\n",
    "func(1, 10)"
   ]
  },
  {
   "cell_type": "markdown",
   "metadata": {},
   "source": [
    "Even though the last argument has a default value and can be omitted when calling the function, it can be overwritten."
   ]
  },
  {
   "cell_type": "code",
   "execution_count": 18,
   "metadata": {
    "collapsed": false
   },
   "outputs": [],
   "source": [
    "# The last argument can be overwritten with a new value\n",
    "func(1, 2, 3)"
   ]
  },
  {
   "cell_type": "markdown",
   "metadata": {},
   "source": [
    "### Using keyword arguments to bypass the order problem"
   ]
  },
  {
   "cell_type": "markdown",
   "metadata": {},
   "source": [
    "We can create function with many, many argument.  Problem is, we might forget the argument order when calling the function and passing values to it.  To solve this problem the semi-colon (;) can be used (usually after the ordered arguments).  Let's take a look."
   ]
  },
  {
   "cell_type": "code",
   "execution_count": 19,
   "metadata": {
    "collapsed": true
   },
   "outputs": [
    {
     "data": {
      "text/plain": [
       "func2 (generic function with 2 methods)"
      ]
     },
     "execution_count": 19,
     "metadata": {},
     "output_type": "execute_result"
    }
   ],
   "source": [
    "# A most ridiculously long print statement.  Apologies.\n",
    "function func2(a, b, c = 100 ; p = 100, q = \"red\")\n",
    "    print(\"The first ordered argument value is $a.\\nThe second ordered argumnent is $b.\\nThe third ordered argument was optional.  If you see a value of 100 here, you either passed a value of 100 or omitted it: $c.\\nLet's see what happend to the keyword p: $p.\\nLet's see what happens to the keyword q: $q.\\nOh yes, let's also return something useful, like multiplying $a and $b, yielding:\")\n",
    "    return a * b\n",
    "end"
   ]
  },
  {
   "cell_type": "code",
   "execution_count": 20,
   "metadata": {
    "collapsed": true
   },
   "outputs": [
    {
     "data": {
      "text/plain": [
       "12"
      ]
     },
     "execution_count": 20,
     "metadata": {},
     "output_type": "execute_result"
    }
   ],
   "source": [
    "# Calling just the first two ordered arguments\n",
    "func2(3, 4)"
   ]
  },
  {
   "cell_type": "code",
   "execution_count": 21,
   "metadata": {
    "collapsed": true
   },
   "outputs": [
    {
     "data": {
      "text/plain": [
       "12"
      ]
     },
     "execution_count": 21,
     "metadata": {},
     "output_type": "execute_result"
    }
   ],
   "source": [
    "# Calling something else for c\n",
    "func2(3, 4, 5)"
   ]
  },
  {
   "cell_type": "code",
   "execution_count": 22,
   "metadata": {
    "collapsed": true
   },
   "outputs": [
    {
     "name": "stdout",
     "output_type": "stream",
     "text": [
      " We have the values 1, 10, and 100. We have the values 1, 2, and 3.The first ordered argument value is 3.\n",
      "The second ordered argumnent is 4.\n",
      "The third ordered argument was optional.  If you see a value of 100 here, you either passed a value of 100 or omitted it: 100.\n",
      "Let's see what happend to the keyword p: 100.\n",
      "Let's see what happens to the keyword q: red.\n",
      "Oh yes, let's also return something useful, like multiplying 3 and 4, yielding:The first ordered argument value is 3.\n",
      "The second ordered argumnent is 4.\n",
      "The third ordered argument was optional.  If you see a value of 100 here, you either passed a value of 100 or omitted it: 5.\n",
      "Let's see what happend to the keyword p: 100.\n",
      "Let's see what happens to the keyword q: red.\n",
      "Oh yes, let's also return something useful, like multiplying 3 and 4, yielding:The first ordered argument value is 3.\n",
      "The second ordered argumnent is 4.\n",
      "The third ordered argument was optional.  If you see a value of 100 here, you either passed a value of 100 or omitted it: 100.\n",
      "Let's see what happend to the keyword p: π = 3.1415926535897....\n",
      "Let's see what happens to the keyword q: red.\n",
      "Oh yes, let's also return something useful, like multiplying 3 and 4, yielding:"
     ]
    },
    {
     "data": {
      "text/plain": [
       "12"
      ]
     },
     "execution_count": 22,
     "metadata": {},
     "output_type": "execute_result"
    }
   ],
   "source": [
    "# Now let's have some fun with the keyword arguments\n",
    "func2(3, 4, p = pi)"
   ]
  },
  {
   "cell_type": "code",
   "execution_count": 23,
   "metadata": {
    "collapsed": true
   },
   "outputs": [
    {
     "data": {
      "text/plain": [
       "12"
      ]
     },
     "execution_count": 23,
     "metadata": {},
     "output_type": "execute_result"
    }
   ],
   "source": [
    "# Now for q\n",
    "func2(3, 4, 2, q = \"Hello!\")"
   ]
  },
  {
   "cell_type": "code",
   "execution_count": 24,
   "metadata": {
    "collapsed": true
   },
   "outputs": [
    {
     "data": {
      "text/plain": [
       "12"
      ]
     },
     "execution_count": 24,
     "metadata": {},
     "output_type": "execute_result"
    }
   ],
   "source": [
    "# Mixing the keyword around (as long as we use their names)\n",
    "func2(3, 4, 2, q = \"It works!\", p = exp(1))"
   ]
  },
  {
   "cell_type": "code",
   "execution_count": 25,
   "metadata": {
    "collapsed": true
   },
   "outputs": [
    {
     "data": {
      "text/plain": [
       "12"
      ]
     },
     "execution_count": 25,
     "metadata": {},
     "output_type": "execute_result"
    }
   ],
   "source": [
    "# And finally, we go bananas!\n",
    "func2(q = \"Bananas!\", 3, 4, p = sqrt(3), 2)"
   ]
  },
  {
   "cell_type": "markdown",
   "metadata": {},
   "source": [
    "<hr/>\n",
    "## Functions with a variable number of keywords"
   ]
  },
  {
   "cell_type": "markdown",
   "metadata": {},
   "source": [
    "We can use three dots, as in ..., (called a *splat* or *ellipsis*) to indicate none, one, or many arguments.  Let's have a look."
   ]
  },
  {
   "cell_type": "code",
   "execution_count": 26,
   "metadata": {
    "collapsed": true
   },
   "outputs": [
    {
     "data": {
      "text/plain": [
       "func3 (generic function with 1 method)"
      ]
     },
     "execution_count": 26,
     "metadata": {},
     "output_type": "execute_result"
    }
   ],
   "source": [
    "function func3(args...)\n",
    "    print(\"I can tell you how many arguments you passed: $(length(args)).\")\n",
    "end"
   ]
  },
  {
   "cell_type": "code",
   "execution_count": 27,
   "metadata": {
    "collapsed": false
   },
   "outputs": [],
   "source": [
    "# Calling nothing, nothing, nothing.  Hello!  Is anyone home?\n",
    "func3()"
   ]
  },
  {
   "cell_type": "code",
   "execution_count": 28,
   "metadata": {
    "collapsed": false
   },
   "outputs": [],
   "source": [
    "# Someone's home!\n",
    "func3(1000000)"
   ]
  },
  {
   "cell_type": "code",
   "execution_count": 29,
   "metadata": {
    "collapsed": false
   },
   "outputs": [],
   "source": [
    "# It's Julia!\n",
    "func3(\"Julia\")"
   ]
  },
  {
   "cell_type": "code",
   "execution_count": 30,
   "metadata": {
    "collapsed": false
   },
   "outputs": [],
   "source": [
    "func3(\"Hello\", \"Julia\")"
   ]
  },
  {
   "cell_type": "code",
   "execution_count": 31,
   "metadata": {
    "collapsed": false
   },
   "outputs": [],
   "source": [
    "func3(\"Julia\", \"is\", 1, \"in\", \"a\", 1000000, \"!\")"
   ]
  },
  {
   "cell_type": "markdown",
   "metadata": {},
   "source": [
    "The splat or ellipsis as indicator of allowing the use of multiple (infinite) arguments, can solve some problems.  In the example below we will pass a list of strings as arguments and see what happens."
   ]
  },
  {
   "cell_type": "code",
   "execution_count": 32,
   "metadata": {
    "collapsed": true
   },
   "outputs": [
    {
     "data": {
      "text/plain": [
       "food (generic function with 1 method)"
      ]
     },
     "execution_count": 32,
     "metadata": {},
     "output_type": "execute_result"
    }
   ],
   "source": [
    "function food(string_array)\n",
    "    string_items = join(string_array, \", \", \" and \")\n",
    "    print(\"I like $string_items\\!\")\n",
    "end"
   ]
  },
  {
   "cell_type": "code",
   "execution_count": 33,
   "metadata": {
    "collapsed": false
   },
   "outputs": [],
   "source": [
    "# Passing two arguments\n",
    "food([\"Nutella\", \"honey\"])"
   ]
  },
  {
   "cell_type": "code",
   "execution_count": 34,
   "metadata": {
    "collapsed": false
   },
   "outputs": [],
   "source": [
    "# What if I forget the square brackets []\n",
    "# The join() function will act on the characters in the string\n",
    "food(\"Nutella\")"
   ]
  },
  {
   "cell_type": "code",
   "execution_count": 35,
   "metadata": {
    "collapsed": true
   },
   "outputs": [
    {
     "data": {
      "text/plain": [
       "splat_food (generic function with 1 method)"
      ]
     },
     "execution_count": 35,
     "metadata": {},
     "output_type": "execute_result"
    }
   ],
   "source": [
    "# Now we don't restrict the number of arguments\n",
    "function splat_food(stringsss...)\n",
    "    string_items = join(stringsss, \", \", \" and \")\n",
    "    print(\"I like $string_items\\!\")\n",
    "end"
   ]
  },
  {
   "cell_type": "code",
   "execution_count": 36,
   "metadata": {
    "collapsed": false
   },
   "outputs": [],
   "source": [
    "splat_food(\"Nutella\")"
   ]
  },
  {
   "cell_type": "code",
   "execution_count": 37,
   "metadata": {
    "collapsed": true
   },
   "outputs": [
    {
     "name": "stdout",
     "output_type": "stream",
     "text": [
      "The first ordered argument value is 3.\n",
      "The second ordered argumnent is 4.\n",
      "The third ordered argument was optional.  If you see a value of 100 here, you either passed a value of 100 or omitted it: 2.\n",
      "Let's see what happend to the keyword p: 100.\n",
      "Let's see what happens to the keyword q: Hello!.\n",
      "Oh yes, let's also return something useful, like multiplying 3 and 4, yielding:The first ordered argument value is 3.\n",
      "The second ordered argumnent is 4.\n",
      "The third ordered argument was optional.  If you see a value of 100 here, you either passed a value of 100 or omitted it: 2.\n",
      "Let's see what happend to the keyword p: 2.718281828459045.\n",
      "Let's see what happens to the keyword q: It works!.\n",
      "Oh yes, let's also return something useful, like multiplying 3 and 4, yielding:The first ordered argument value is 3.\n",
      "The second ordered argumnent is 4.\n",
      "The third ordered argument was optional.  If you see a value of 100 here, you either passed a value of 100 or omitted it: 2.\n",
      "Let's see what happend to the keyword p: 1.7320508075688772.\n",
      "Let's see what happens to the keyword q: Bananas!.\n",
      "Oh yes, let's also return something useful, like multiplying 3 and 4, yielding:I can tell you how many arguments you passed: 0.I can tell you how many arguments you passed: 1.I can tell you how many arguments you passed: 1.I can tell you how many arguments you passed: 2.I can tell you how many arguments you passed: 7.I like Nutella and honey!I like N, u, t, e, l, l and a!I like Nutella!I like Nutella, honey and more Nutella!"
     ]
    }
   ],
   "source": [
    "# We can even just add strings without it being part of an array\n",
    "splat_food(\"Nutella\", \"honey\", \"more Nutella\")"
   ]
  },
  {
   "cell_type": "markdown",
   "metadata": {},
   "source": [
    "For the sake of clarity, look at the following example to see what Julia does to the *args...* arguments.  You will note that it is actually managed as a tuple."
   ]
  },
  {
   "cell_type": "code",
   "execution_count": 38,
   "metadata": {
    "collapsed": true
   },
   "outputs": [
    {
     "data": {
      "text/plain": [
       "argues (generic function with 1 method)"
      ]
     },
     "execution_count": 38,
     "metadata": {},
     "output_type": "execute_result"
    }
   ],
   "source": [
    "function argues(a, b, s...)\n",
    "    print(\"The argument values are: $a, $b and $s\")\n",
    "end"
   ]
  },
  {
   "cell_type": "code",
   "execution_count": 39,
   "metadata": {
    "collapsed": false
   },
   "outputs": [],
   "source": [
    "# The first two values, 3 and 4, have proper assignment, but the rest will be in a tuple\n",
    "argues(3, 4, 5, 6, 7, 8, \"Julia\")"
   ]
  },
  {
   "cell_type": "code",
   "execution_count": 40,
   "metadata": {
    "collapsed": false
   },
   "outputs": [],
   "source": [
    "# Now for an empty tuple\n",
    "argues(3, 4)"
   ]
  },
  {
   "cell_type": "markdown",
   "metadata": {},
   "source": [
    "Now for some real fun.  We can combine keywords and splats.  Have a look at this."
   ]
  },
  {
   "cell_type": "code",
   "execution_count": 41,
   "metadata": {
    "collapsed": true
   },
   "outputs": [
    {
     "data": {
      "text/plain": [
       "fun_func (generic function with 1 method)"
      ]
     },
     "execution_count": 41,
     "metadata": {},
     "output_type": "execute_result"
    }
   ],
   "source": [
    "# Creating a function that only contains keywords, but they are splats (can we use the term splats?)\n",
    "function fun_func(; a...)\n",
    "    a\n",
    "end"
   ]
  },
  {
   "cell_type": "code",
   "execution_count": 42,
   "metadata": {
    "collapsed": true
   },
   "outputs": [
    {
     "data": {
      "text/plain": [
       "3-element Array{Any,1}:\n",
       " (:var1,\"Julia\")   \n",
       " (:var2,\"Language\")\n",
       " (:val1,3)         "
      ]
     },
     "execution_count": 42,
     "metadata": {},
     "output_type": "execute_result"
    },
    {
     "name": "stdout",
     "output_type": "stream",
     "text": [
      "The argument values are: 3, 4 and (5,6,7,8,\"Julia\")The argument values are: 3, 4 and ()"
     ]
    }
   ],
   "source": [
    "# Calling the fun_func() function, remembering to give the keywords names\n",
    "fun_func(var1 = \"Julia\", var2 = \"Language\", val1 = 3)"
   ]
  },
  {
   "cell_type": "markdown",
   "metadata": {},
   "source": [
    "We now have a collection of *(key, value*) tuples, with the *key* coming from the name we gave the keyword argument.  Moreover, it is actually a symbol which you will note by the colon (:) preceding it.  (We discuss symbols in other lectures)."
   ]
  },
  {
   "cell_type": "markdown",
   "metadata": {},
   "source": [
    "<hr/>\n",
    "### A quick example of flow control inside of a function"
   ]
  },
  {
   "cell_type": "code",
   "execution_count": 43,
   "metadata": {
    "collapsed": true
   },
   "outputs": [
    {
     "data": {
      "text/plain": [
       "flow_func (generic function with 1 method)"
      ]
     },
     "execution_count": 43,
     "metadata": {},
     "output_type": "execute_result"
    }
   ],
   "source": [
    "function flow_func(args...)\n",
    "    print(\"I can tell you how many arguments you passed: $(length(args)).\\n\")\n",
    "    i = 1 # A local variable (it doesn't exist outside of the function)\n",
    "    for n in args\n",
    "        print(\"Argument \", i, \" \\t\", n, \"\\n\") # \\t is a tab\n",
    "        i += 1 # Incrementing the local variable i with 1 (same as i = i + 1)\n",
    "        end # Ending the for loop\n",
    "    end # Ending the function"
   ]
  },
  {
   "cell_type": "code",
   "execution_count": 44,
   "metadata": {
    "collapsed": true
   },
   "outputs": [
    {
     "name": "stdout",
     "output_type": "stream",
     "text": [
      "I can tell you how many arguments you passed: 7.\n",
      "Argument "
     ]
    }
   ],
   "source": [
    "flow_func(\"Julia\", \"is\", 1, \"in\", \"a\", 1000000, \"!\")"
   ]
  },
  {
   "cell_type": "markdown",
   "metadata": {},
   "source": [
    "<hr/>\n",
    "## Passing arrays as function arguments"
   ]
  },
  {
   "cell_type": "markdown",
   "metadata": {},
   "source": [
    "Once a function is defined, an array of values can be passed to it using the map function."
   ]
  },
  {
   "cell_type": "code",
   "execution_count": 45,
   "metadata": {
    "collapsed": true
   },
   "outputs": [
    {
     "data": {
      "text/plain": [
       "13-element Array{Float64,1}:\n",
       " -3.0\n",
       " -2.5\n",
       " -2.0\n",
       " -1.5\n",
       " -1.0\n",
       " -0.5\n",
       "  0.0\n",
       "  0.5\n",
       "  1.0\n",
       "  1.5\n",
       "  2.0\n",
       "  2.5\n",
       "  3.0"
      ]
     },
     "execution_count": 45,
     "metadata": {},
     "output_type": "execute_result"
    }
   ],
   "source": [
    "# Creating an array\n",
    "xvals = [-3, -2.5, -2, -1.5, -1, -0.5, 0, 0.5, 1, 1.5, 2, 2.5, 3]"
   ]
  },
  {
   "cell_type": "code",
   "execution_count": 46,
   "metadata": {
    "collapsed": true
   },
   "outputs": [
    {
     "name": "stdout",
     "output_type": "stream",
     "text": [
      "1 \tJulia\n",
      "Argument 2 \tis\n",
      "Argument 3 \t1\n",
      "Argument 4 \tin\n",
      "Argument 5 \ta\n",
      "Argument 6 \t1000000\n",
      "Argument 7 \t!\n"
     ]
    },
    {
     "data": {
      "text/plain": [
       "sqr (generic function with 1 method)"
      ]
     },
     "execution_count": 46,
     "metadata": {},
     "output_type": "execute_result"
    }
   ],
   "source": [
    "# Creating the function\n",
    "function sqr(a)\n",
    "    return a^2\n",
    "end"
   ]
  },
  {
   "cell_type": "code",
   "execution_count": 47,
   "metadata": {
    "collapsed": true
   },
   "outputs": [
    {
     "data": {
      "text/plain": [
       "13-element Array{Float64,1}:\n",
       " 9.0 \n",
       " 6.25\n",
       " 4.0 \n",
       " 2.25\n",
       " 1.0 \n",
       " 0.25\n",
       " 0.0 \n",
       " 0.25\n",
       " 1.0 \n",
       " 2.25\n",
       " 4.0 \n",
       " 6.25\n",
       " 9.0 "
      ]
     },
     "execution_count": 47,
     "metadata": {},
     "output_type": "execute_result"
    }
   ],
   "source": [
    "# Mapping the array to the function\n",
    "map(sqr, xvals)"
   ]
  },
  {
   "cell_type": "code",
   "execution_count": 48,
   "metadata": {
    "collapsed": false
   },
   "outputs": [],
   "source": [
    "#using Gadfly"
   ]
  },
  {
   "cell_type": "code",
   "execution_count": 49,
   "metadata": {
    "collapsed": true
   },
   "outputs": [],
   "source": [
    "#plot(x = xvals, y = map(sqr, xvals), Geom.point)"
   ]
  },
  {
   "cell_type": "markdown",
   "metadata": {},
   "source": [
    "Mapping is not alway required.  Some inbuilt Julia functions do element-wise operations on arrays anyway.  It is also a lot faster.  In the first example we will map the array of integers from 1 to 10,000 to the trigonometric sine function.  We'll use @time to time how long the mapping takes and then repeat the exercise using the inbuilt element-wise operation of the sine function."
   ]
  },
  {
   "cell_type": "code",
   "execution_count": 50,
   "metadata": {
    "collapsed": true
   },
   "outputs": [
    {
     "name": "stdout",
     "output_type": "stream",
     "text": [
      "  "
     ]
    }
   ],
   "source": [
    "# Just a friendly heads-up: the map(sin, [1:10000]) syntax has been deprecated, so use collect instead\n",
    "@time map(sin, collect(1:10000));"
   ]
  },
  {
   "cell_type": "code",
   "execution_count": 51,
   "metadata": {
    "collapsed": false
   },
   "outputs": [],
   "source": [
    "@time sin(collect(1:10000));"
   ]
  },
  {
   "cell_type": "markdown",
   "metadata": {
    "collapsed": true
   },
   "source": [
    "Arrays or tuples can cause problems when passed to a function.  The following won't work:<br/>\n",
    "```\n",
    "array_1 = [3, 4]\n",
    "tuple1 = (3, 4)\n",
    "\n",
    "function h(x,y)\n",
    "    return 3 * x + 2 * y\n",
    "end\n",
    "\n",
    "h(array_1)\n",
    "\n",
    "h(tuple_1)\n",
    "```"
   ]
  },
  {
   "cell_type": "markdown",
   "metadata": {},
   "source": [
    "This problem was solved using the *apply()* function.  This has been depracated, though.  Now, just use the splat or ellipsis."
   ]
  },
  {
   "cell_type": "code",
   "execution_count": 52,
   "metadata": {
    "collapsed": true
   },
   "outputs": [],
   "source": [
    "array_1 = [3,4]\n",
    "tuple_1 = (3, 4);"
   ]
  },
  {
   "cell_type": "code",
   "execution_count": 53,
   "metadata": {
    "collapsed": true
   },
   "outputs": [
    {
     "data": {
      "text/plain": [
       "h (generic function with 1 method)"
      ]
     },
     "execution_count": 53,
     "metadata": {},
     "output_type": "execute_result"
    }
   ],
   "source": [
    "function h(x, y)\n",
    "    return 3 * x + 2 * y\n",
    "end"
   ]
  },
  {
   "cell_type": "code",
   "execution_count": 54,
   "metadata": {
    "collapsed": true
   },
   "outputs": [
    {
     "data": {
      "text/plain": [
       "17"
      ]
     },
     "execution_count": 54,
     "metadata": {},
     "output_type": "execute_result"
    }
   ],
   "source": [
    "h(array_1...)"
   ]
  },
  {
   "cell_type": "code",
   "execution_count": 55,
   "metadata": {
    "collapsed": true
   },
   "outputs": [
    {
     "data": {
      "text/plain": [
       "17"
      ]
     },
     "execution_count": 55,
     "metadata": {},
     "output_type": "execute_result"
    }
   ],
   "source": [
    "h(tuple_1...)"
   ]
  },
  {
   "cell_type": "markdown",
   "metadata": {},
   "source": [
    "With the exception of numbers and characters (or other plain data), values of arguments are passed by reference only and are not copied.  They can therefor be altered.  We find a good example in arrays.  Have a look at this example. "
   ]
  },
  {
   "cell_type": "code",
   "execution_count": 56,
   "metadata": {
    "collapsed": true
   },
   "outputs": [
    {
     "data": {
      "text/plain": [
       "9-element Array{Int64,1}:\n",
       "  1\n",
       "  2\n",
       "  3\n",
       "  5\n",
       "  7\n",
       " 11\n",
       " 13\n",
       " 17\n",
       " 19"
      ]
     },
     "execution_count": 56,
     "metadata": {},
     "output_type": "execute_result"
    }
   ],
   "source": [
    "# Creating an array\n",
    "array_primes = [1, 2, 3, 5, 7, 11, 13, 17, 19]; # Remember, the semi-colon (;) supresses output to the screen"
   ]
  },
  {
   "cell_type": "code",
   "execution_count": 57,
   "metadata": {
    "collapsed": true
   },
   "outputs": [
    {
     "name": "stdout",
     "output_type": "stream",
     "text": [
      "0.028568 seconds (35.92 k allocations: 1.292 MB)\n",
      "  0.008149 seconds (4.14 k allocations: 361.077 KB)\n"
     ]
    },
    {
     "data": {
      "text/plain": [
       "add_ele (generic function with 1 method)"
      ]
     },
     "execution_count": 57,
     "metadata": {},
     "output_type": "execute_result"
    }
   ],
   "source": [
    "# Craeting afunction that inserts a new value at the end of the array\n",
    "function add_ele(a)\n",
    "    push!(a, 23)\n",
    "end"
   ]
  },
  {
   "cell_type": "code",
   "execution_count": 58,
   "metadata": {
    "collapsed": true
   },
   "outputs": [
    {
     "data": {
      "text/plain": [
       "10-element Array{Int64,1}:\n",
       "  1\n",
       "  2\n",
       "  3\n",
       "  5\n",
       "  7\n",
       " 11\n",
       " 13\n",
       " 17\n",
       " 19\n",
       " 23"
      ]
     },
     "execution_count": 58,
     "metadata": {},
     "output_type": "execute_result"
    }
   ],
   "source": [
    "# Calling the function and adding the array array_primes as an argument\n",
    "add_ele(array_primes)"
   ]
  },
  {
   "cell_type": "code",
   "execution_count": 59,
   "metadata": {
    "collapsed": true
   },
   "outputs": [
    {
     "data": {
      "text/plain": [
       "10-element Array{Int64,1}:\n",
       "  1\n",
       "  2\n",
       "  3\n",
       "  5\n",
       "  7\n",
       " 11\n",
       " 13\n",
       " 17\n",
       " 19\n",
       " 23"
      ]
     },
     "execution_count": 59,
     "metadata": {},
     "output_type": "execute_result"
    }
   ],
   "source": [
    "# The variable array_types has actually being changed permanently\n",
    "array_primes"
   ]
  },
  {
   "cell_type": "markdown",
   "metadata": {},
   "source": [
    "<hr/>\n",
    "## Type parameters (parametric methods)"
   ]
  },
  {
   "cell_type": "markdown",
   "metadata": {},
   "source": [
    "It is possible to limit a function to accepting only cenrtain argument types."
   ]
  },
  {
   "cell_type": "code",
   "execution_count": 60,
   "metadata": {
    "collapsed": true
   },
   "outputs": [
    {
     "data": {
      "text/plain": [
       "m (generic function with 1 method)"
      ]
     },
     "execution_count": 60,
     "metadata": {},
     "output_type": "execute_result"
    }
   ],
   "source": [
    "function m(x::Int)\n",
    "    return 3 * x\n",
    "end"
   ]
  },
  {
   "cell_type": "code",
   "execution_count": 61,
   "metadata": {
    "collapsed": true
   },
   "outputs": [
    {
     "data": {
      "text/plain": [
       "9"
      ]
     },
     "execution_count": 61,
     "metadata": {},
     "output_type": "execute_result"
    }
   ],
   "source": [
    "# Calling the function with an integer\n",
    "m(3)"
   ]
  },
  {
   "cell_type": "code",
   "execution_count": 62,
   "metadata": {
    "collapsed": true
   },
   "outputs": [
    {
     "data": {
      "text/plain": [
       "n (generic function with 1 method)"
      ]
     },
     "execution_count": 62,
     "metadata": {},
     "output_type": "execute_result"
    }
   ],
   "source": [
    "function n(x::Int)\n",
    "    if x >= 0\n",
    "        return 3 * x\n",
    "    else\n",
    "        return abs(3 * x)\n",
    "    end\n",
    "end"
   ]
  },
  {
   "cell_type": "code",
   "execution_count": 63,
   "metadata": {
    "collapsed": true
   },
   "outputs": [
    {
     "data": {
      "text/plain": [
       "9"
      ]
     },
     "execution_count": 63,
     "metadata": {},
     "output_type": "execute_result"
    }
   ],
   "source": [
    "n(-3)"
   ]
  },
  {
   "cell_type": "code",
   "execution_count": 64,
   "metadata": {
    "collapsed": true
   },
   "outputs": [
    {
     "data": {
      "text/html": [
       "1 method for generic function <b>n</b>:<ul><li> n(x::<b>Int64</b>) at In[62]:2</ul>"
      ],
      "text/plain": [
       "# 1 method for generic function \"n\":\n",
       "n(x::Int64) at In[62]:2"
      ]
     },
     "execution_count": 64,
     "metadata": {},
     "output_type": "execute_result"
    }
   ],
   "source": [
    "# Checking the methods of n()\n",
    "methods(n)"
   ]
  },
  {
   "cell_type": "markdown",
   "metadata": {},
   "source": [
    "Calling the the following functions won't work:\n",
    "```\n",
    "m(3.3)\n",
    "m(\"No\")\n",
    "```"
   ]
  },
  {
   "cell_type": "markdown",
   "metadata": {},
   "source": [
    "We can even include type information in the method defintion."
   ]
  },
  {
   "cell_type": "code",
   "execution_count": 65,
   "metadata": {
    "collapsed": true
   },
   "outputs": [
    {
     "data": {
      "text/plain": [
       "arg_test (generic function with 1 method)"
      ]
     },
     "execution_count": 65,
     "metadata": {},
     "output_type": "execute_result"
    }
   ],
   "source": [
    "function arg_test{T <: Real}(x::T)\n",
    "    print(\"$x is of type $T\")\n",
    "end"
   ]
  },
  {
   "cell_type": "markdown",
   "metadata": {},
   "source": [
    "A little explanation of the function above is probably required.  The curly braces, {}, part goes between the function name and the argument parentheses, ().  T is used by convension.  Above we use the *{T <: Real}* syntax.  That means the type can be Real or any subtype of Real.  We can be more specific, i.e. only allow integers, *{T::Int}*."
   ]
  },
  {
   "cell_type": "code",
   "execution_count": 66,
   "metadata": {
    "collapsed": true
   },
   "outputs": [
    {
     "name": "stdout",
     "output_type": "stream",
     "text": [
      "3 is of type Int64"
     ]
    }
   ],
   "source": [
    "arg_test(3)"
   ]
  },
  {
   "cell_type": "code",
   "execution_count": 67,
   "metadata": {
    "collapsed": false
   },
   "outputs": [],
   "source": [
    "arg_test(3.3)"
   ]
  },
  {
   "cell_type": "code",
   "execution_count": 68,
   "metadata": {
    "collapsed": false
   },
   "outputs": [],
   "source": [
    "arg_test(exp(1))"
   ]
  },
  {
   "cell_type": "code",
   "execution_count": 69,
   "metadata": {
    "collapsed": false
   },
   "outputs": [],
   "source": [
    "arg_test(pi)"
   ]
  },
  {
   "cell_type": "code",
   "execution_count": 70,
   "metadata": {
    "collapsed": true
   },
   "outputs": [
    {
     "name": "stdout",
     "output_type": "stream",
     "text": [
      "3.3 is of type Float642.718281828459045 is of type Float64π = 3.1415926535897... is of type Irrational{:π}7//3 is of type Rational{Int64}"
     ]
    }
   ],
   "source": [
    "arg_test(7//3)"
   ]
  },
  {
   "cell_type": "markdown",
   "metadata": {},
   "source": [
    "Just as an aside, there is always the inbuilt Julia function called *typeof()*."
   ]
  },
  {
   "cell_type": "code",
   "execution_count": 71,
   "metadata": {
    "collapsed": true
   },
   "outputs": [
    {
     "data": {
      "text/plain": [
       "Rational{Int64}"
      ]
     },
     "execution_count": 71,
     "metadata": {},
     "output_type": "execute_result"
    }
   ],
   "source": [
    "typeof(7//3)"
   ]
  },
  {
   "cell_type": "code",
   "execution_count": 72,
   "metadata": {
    "collapsed": true
   },
   "outputs": [
    {
     "data": {
      "text/plain": [
       "ASCIIString"
      ]
     },
     "execution_count": 72,
     "metadata": {},
     "output_type": "execute_result"
    }
   ],
   "source": [
    "typeof(\"Julia\")"
   ]
  },
  {
   "cell_type": "markdown",
   "metadata": {},
   "source": [
    "Back to specifying the type or subtype.  Here is an example of using two argument that can be of any type, as long as they are the same."
   ]
  },
  {
   "cell_type": "code",
   "execution_count": 73,
   "metadata": {
    "collapsed": true
   },
   "outputs": [
    {
     "data": {
      "text/plain": [
       "ident_types (generic function with 1 method)"
      ]
     },
     "execution_count": 73,
     "metadata": {},
     "output_type": "execute_result"
    }
   ],
   "source": [
    "function ident_types{T}(a::T, b::T)\n",
    "    return +(a, b)\n",
    "end"
   ]
  },
  {
   "cell_type": "code",
   "execution_count": 74,
   "metadata": {
    "collapsed": true
   },
   "outputs": [
    {
     "data": {
      "text/plain": [
       "3 + 3im"
      ]
     },
     "execution_count": 74,
     "metadata": {},
     "output_type": "execute_result"
    }
   ],
   "source": [
    "ident_types(2 + 3im, 1 + 0im)"
   ]
  },
  {
   "cell_type": "markdown",
   "metadata": {},
   "source": [
    "If we were to use the following...\n",
    "```\n",
    "ident_types(2 + 3im, 1)\n",
    "```\n",
    "... this error would occur:\n",
    "```\n",
    "LoadError: MethodError: `ident_types` has no method matching ident_types(::Complex{Int64}, ::Int64)\n",
    "Closest candidates are:\n",
    "  ident_types{T}(::T, !Matched::T)\n",
    "while loading In[97], in expression starting on line 1\n",
    "```"
   ]
  },
  {
   "cell_type": "markdown",
   "metadata": {},
   "source": [
    "<hr/>\n",
    "## Stabby functions and *do* blocks"
   ]
  },
  {
   "cell_type": "markdown",
   "metadata": {},
   "source": [
    "Stabby lambda functions as they are called, are *quick-and-dirty* functions.  It is also called *lambda* functions and is an example of an *anonymous* function, the latter referring to the fact that they don't have a name.  The *do* block is also a form of anonymous function. Let's look at some examples."
   ]
  },
  {
   "cell_type": "code",
   "execution_count": 75,
   "metadata": {
    "collapsed": true
   },
   "outputs": [
    {
     "data": {
      "text/plain": [
       "(anonymous function)"
      ]
     },
     "execution_count": 75,
     "metadata": {},
     "output_type": "execute_result"
    }
   ],
   "source": [
    "# The Julia syntax uses the -> character combinations, hence stabby!\n",
    "x -> 2x^2 + 3x - 2"
   ]
  },
  {
   "cell_type": "markdown",
   "metadata": {},
   "source": [
    "We can now us the *map()* function to apply the values in an array to this stabby function.  Note that the stabby function cannot be called."
   ]
  },
  {
   "cell_type": "code",
   "execution_count": 76,
   "metadata": {
    "collapsed": true
   },
   "outputs": [
    {
     "data": {
      "text/plain": [
       "5-element Array{Int64,1}:\n",
       "  3\n",
       " 12\n",
       " 25\n",
       " 42\n",
       " 63"
      ]
     },
     "execution_count": 76,
     "metadata": {},
     "output_type": "execute_result"
    }
   ],
   "source": [
    "map(x -> 2x^2 + 3x - 2, [1, 2, 3, 4, 5])"
   ]
  },
  {
   "cell_type": "code",
   "execution_count": 77,
   "metadata": {
    "collapsed": true
   },
   "outputs": [
    {
     "data": {
      "text/plain": [
       "5-element Array{Int64,1}:\n",
       "  3\n",
       " 12\n",
       " 25\n",
       " 42\n",
       " 63"
      ]
     },
     "execution_count": 77,
     "metadata": {},
     "output_type": "execute_result"
    }
   ],
   "source": [
    "# Let's do something.\n",
    "map([1, 2, 3, 4, 5]) do x\n",
    "    2x^2 + 3x - 2\n",
    "end"
   ]
  },
  {
   "cell_type": "markdown",
   "metadata": {},
   "source": [
    "The *do* block can do some more!"
   ]
  },
  {
   "cell_type": "code",
   "execution_count": 78,
   "metadata": {
    "collapsed": true
   },
   "outputs": [
    {
     "data": {
      "text/plain": [
       "5-element Array{Int64,1}:\n",
       "  300\n",
       "  600\n",
       "  900\n",
       " 2000\n",
       " 3300"
      ]
     },
     "execution_count": 78,
     "metadata": {},
     "output_type": "execute_result"
    }
   ],
   "source": [
    "map([3, 6, 9, 10, 11]) do x\n",
    "    if mod(x, 3) == 0\n",
    "        100x\n",
    "        elseif mod(x, 3) == 1\n",
    "        200x\n",
    "    else\n",
    "        mod(x, 3) == 2\n",
    "        300x\n",
    "    end\n",
    "end"
   ]
  },
  {
   "cell_type": "markdown",
   "metadata": {},
   "source": [
    "<hr/>\n",
    "## Using functions as arguments"
   ]
  },
  {
   "cell_type": "markdown",
   "metadata": {},
   "source": [
    "As the title of this section implies, we can pass a function as an argument.  That functional argument will actually call the function."
   ]
  },
  {
   "cell_type": "code",
   "execution_count": 79,
   "metadata": {
    "collapsed": true
   },
   "outputs": [
    {
     "data": {
      "text/plain": [
       "string_func (generic function with 1 method)"
      ]
     },
     "execution_count": 79,
     "metadata": {},
     "output_type": "execute_result"
    }
   ],
   "source": [
    "# First function\n",
    "function string_func(s)\n",
    "    str = s()\n",
    "    print(\"I love $str\\!\")\n",
    "end"
   ]
  },
  {
   "cell_type": "code",
   "execution_count": 80,
   "metadata": {
    "collapsed": true
   },
   "outputs": [
    {
     "data": {
      "text/plain": [
       "luv (generic function with 1 method)"
      ]
     },
     "execution_count": 80,
     "metadata": {},
     "output_type": "execute_result"
    }
   ],
   "source": [
    "# Second function\n",
    "function luv()\n",
    "    return(\"Julia\")\n",
    "end"
   ]
  },
  {
   "cell_type": "code",
   "execution_count": 81,
   "metadata": {
    "collapsed": true
   },
   "outputs": [
    {
     "name": "stdout",
     "output_type": "stream",
     "text": [
      "I love Julia!"
     ]
    }
   ],
   "source": [
    "string_func(luv)\n",
    "# Calling the function string_func\n",
    "# Passing a function as an argument, which then calls that function\n",
    "# The called luv function returns the string Julia, which is now the argument of the originally called function"
   ]
  },
  {
   "cell_type": "markdown",
   "metadata": {},
   "source": [
    "<hr/>\n",
    "## Functions can be nested"
   ]
  },
  {
   "cell_type": "markdown",
   "metadata": {},
   "source": [
    "Other than using a function as an argument, a function can also be nested (a function inside of a function)."
   ]
  },
  {
   "cell_type": "code",
   "execution_count": 82,
   "metadata": {
    "collapsed": true
   },
   "outputs": [
    {
     "data": {
      "text/plain": [
       "nest (generic function with 1 method)"
      ]
     },
     "execution_count": 82,
     "metadata": {},
     "output_type": "execute_result"
    }
   ],
   "source": [
    "function nest(x)\n",
    "    z = 3x\n",
    "    function inside_nest(z)\n",
    "        return 3z\n",
    "    end\n",
    "    inside_nest(z)\n",
    "end"
   ]
  },
  {
   "cell_type": "code",
   "execution_count": 83,
   "metadata": {
    "collapsed": true
   },
   "outputs": [
    {
     "data": {
      "text/plain": [
       "45"
      ]
     },
     "execution_count": 83,
     "metadata": {},
     "output_type": "execute_result"
    }
   ],
   "source": [
    "nest(5)\n",
    "# The value 5 will be passed as an argument to the nest() function\n",
    "# This will make z = 3 times 5 = 15\n",
    "# A new function, inside_nest() is created\n",
    "# This new function is called passing the argument z = 15\n",
    "# It returns 3 times 15 = 45"
   ]
  },
  {
   "cell_type": "markdown",
   "metadata": {},
   "source": [
    "<hr/>\n",
    "## Functions and multiple dispatch"
   ]
  },
  {
   "cell_type": "markdown",
   "metadata": {},
   "source": [
    "When we call a function we actually call a whole buch of them.  Julia decides which one it is going to use based on the arguments (there is a lookup table for every function, which is stored with the function).  Julia generates low-level code based on your computer's instruction set.  So, when you create a function such as...\n",
    "```\n",
    "function cbd(a)\n",
    "    return a^3\n",
    "end    \n",
    "```\n",
    "... a whole bunch of methods are created (the different implementations of a function are called *methods*).  When the function is called with an integer argument, Julia will generate code that uses the CPU's integer multiplication instruction set and when a floating point value is used, the floating point multiplication instruction set will be targeted.<br/>\n",
    "*Multiple dispatch* refers to calling the right implementation of a function based on the arguments. Note that only the positional arguments are used to look up the correct method.  When the function is used again, but with different argument types, a new method is selected.  This is called *overloading*.<br/>\n",
    "Let's look at all the methods that can be called for the *+()* function."
   ]
  },
  {
   "cell_type": "code",
   "execution_count": 84,
   "metadata": {
    "collapsed": true
   },
   "outputs": [
    {
     "data": {
      "text/html": [
       "171 methods for generic function <b>+</b>:<ul><li> +(x::<b>Bool</b>) at <a href=\"https://github.com/JuliaLang/julia/tree/0ff703b40afddf9b705bd6a06d3a59cb4c089ea5/base/bool.jl#L33\" target=\"_blank\">bool.jl:33</a><li> +(x::<b>Bool</b>, y::<b>Bool</b>) at <a href=\"https://github.com/JuliaLang/julia/tree/0ff703b40afddf9b705bd6a06d3a59cb4c089ea5/base/bool.jl#L36\" target=\"_blank\">bool.jl:36</a><li> +(y::<b>AbstractFloat</b>, x::<b>Bool</b>) at <a href=\"https://github.com/JuliaLang/julia/tree/0ff703b40afddf9b705bd6a06d3a59cb4c089ea5/base/bool.jl#L46\" target=\"_blank\">bool.jl:46</a><li> +(x::<b>Int64</b>, y::<b>Int64</b>) at <a href=\"https://github.com/JuliaLang/julia/tree/0ff703b40afddf9b705bd6a06d3a59cb4c089ea5/base/int.jl#L8\" target=\"_blank\">int.jl:8</a><li> +(x::<b>Int8</b>, y::<b>Int8</b>) at <a href=\"https://github.com/JuliaLang/julia/tree/0ff703b40afddf9b705bd6a06d3a59cb4c089ea5/base/int.jl#L16\" target=\"_blank\">int.jl:16</a><li> +(x::<b>UInt8</b>, y::<b>UInt8</b>) at <a href=\"https://github.com/JuliaLang/julia/tree/0ff703b40afddf9b705bd6a06d3a59cb4c089ea5/base/int.jl#L16\" target=\"_blank\">int.jl:16</a><li> +(x::<b>Int16</b>, y::<b>Int16</b>) at <a href=\"https://github.com/JuliaLang/julia/tree/0ff703b40afddf9b705bd6a06d3a59cb4c089ea5/base/int.jl#L16\" target=\"_blank\">int.jl:16</a><li> +(x::<b>UInt16</b>, y::<b>UInt16</b>) at <a href=\"https://github.com/JuliaLang/julia/tree/0ff703b40afddf9b705bd6a06d3a59cb4c089ea5/base/int.jl#L16\" target=\"_blank\">int.jl:16</a><li> +(x::<b>Int32</b>, y::<b>Int32</b>) at <a href=\"https://github.com/JuliaLang/julia/tree/0ff703b40afddf9b705bd6a06d3a59cb4c089ea5/base/int.jl#L16\" target=\"_blank\">int.jl:16</a><li> +(x::<b>UInt32</b>, y::<b>UInt32</b>) at <a href=\"https://github.com/JuliaLang/julia/tree/0ff703b40afddf9b705bd6a06d3a59cb4c089ea5/base/int.jl#L16\" target=\"_blank\">int.jl:16</a><li> +(x::<b>UInt64</b>, y::<b>UInt64</b>) at <a href=\"https://github.com/JuliaLang/julia/tree/0ff703b40afddf9b705bd6a06d3a59cb4c089ea5/base/int.jl#L16\" target=\"_blank\">int.jl:16</a><li> +(x::<b>Int128</b>, y::<b>Int128</b>) at <a href=\"https://github.com/JuliaLang/julia/tree/0ff703b40afddf9b705bd6a06d3a59cb4c089ea5/base/int.jl#L16\" target=\"_blank\">int.jl:16</a><li> +(x::<b>UInt128</b>, y::<b>UInt128</b>) at <a href=\"https://github.com/JuliaLang/julia/tree/0ff703b40afddf9b705bd6a06d3a59cb4c089ea5/base/int.jl#L16\" target=\"_blank\">int.jl:16</a><li> +(x::<b>Integer</b>, y::<b>Ptr{T}</b>) at <a href=\"https://github.com/JuliaLang/julia/tree/0ff703b40afddf9b705bd6a06d3a59cb4c089ea5/base/pointer.jl#L77\" target=\"_blank\">pointer.jl:77</a><li> +(x::<b>Float32</b>, y::<b>Float32</b>) at <a href=\"https://github.com/JuliaLang/julia/tree/0ff703b40afddf9b705bd6a06d3a59cb4c089ea5/base/float.jl#L203\" target=\"_blank\">float.jl:203</a><li> +(x::<b>Float64</b>, y::<b>Float64</b>) at <a href=\"https://github.com/JuliaLang/julia/tree/0ff703b40afddf9b705bd6a06d3a59cb4c089ea5/base/float.jl#L204\" target=\"_blank\">float.jl:204</a><li> +(z::<b>Complex{T<:Real}</b>, w::<b>Complex{T<:Real}</b>) at <a href=\"https://github.com/JuliaLang/julia/tree/0ff703b40afddf9b705bd6a06d3a59cb4c089ea5/base/complex.jl#L111\" target=\"_blank\">complex.jl:111</a><li> +(x::<b>Bool</b>, z::<b>Complex{Bool}</b>) at <a href=\"https://github.com/JuliaLang/julia/tree/0ff703b40afddf9b705bd6a06d3a59cb4c089ea5/base/complex.jl#L118\" target=\"_blank\">complex.jl:118</a><li> +(z::<b>Complex{Bool}</b>, x::<b>Bool</b>) at <a href=\"https://github.com/JuliaLang/julia/tree/0ff703b40afddf9b705bd6a06d3a59cb4c089ea5/base/complex.jl#L119\" target=\"_blank\">complex.jl:119</a><li> +(x::<b>Bool</b>, z::<b>Complex{T<:Real}</b>) at <a href=\"https://github.com/JuliaLang/julia/tree/0ff703b40afddf9b705bd6a06d3a59cb4c089ea5/base/complex.jl#L125\" target=\"_blank\">complex.jl:125</a><li> +(z::<b>Complex{T<:Real}</b>, x::<b>Bool</b>) at <a href=\"https://github.com/JuliaLang/julia/tree/0ff703b40afddf9b705bd6a06d3a59cb4c089ea5/base/complex.jl#L126\" target=\"_blank\">complex.jl:126</a><li> +(x::<b>Real</b>, z::<b>Complex{Bool}</b>) at <a href=\"https://github.com/JuliaLang/julia/tree/0ff703b40afddf9b705bd6a06d3a59cb4c089ea5/base/complex.jl#L132\" target=\"_blank\">complex.jl:132</a><li> +(z::<b>Complex{Bool}</b>, x::<b>Real</b>) at <a href=\"https://github.com/JuliaLang/julia/tree/0ff703b40afddf9b705bd6a06d3a59cb4c089ea5/base/complex.jl#L133\" target=\"_blank\">complex.jl:133</a><li> +(x::<b>Real</b>, z::<b>Complex{T<:Real}</b>) at <a href=\"https://github.com/JuliaLang/julia/tree/0ff703b40afddf9b705bd6a06d3a59cb4c089ea5/base/complex.jl#L144\" target=\"_blank\">complex.jl:144</a><li> +(z::<b>Complex{T<:Real}</b>, x::<b>Real</b>) at <a href=\"https://github.com/JuliaLang/julia/tree/0ff703b40afddf9b705bd6a06d3a59cb4c089ea5/base/complex.jl#L145\" target=\"_blank\">complex.jl:145</a><li> +(x::<b>Rational{T<:Integer}</b>, y::<b>Rational{T<:Integer}</b>) at <a href=\"https://github.com/JuliaLang/julia/tree/0ff703b40afddf9b705bd6a06d3a59cb4c089ea5/base/rational.jl#L179\" target=\"_blank\">rational.jl:179</a><li> +(x::<b>Bool</b>, A::<b>AbstractArray{Bool,N}</b>) at <a href=\"https://github.com/JuliaLang/julia/tree/0ff703b40afddf9b705bd6a06d3a59cb4c089ea5/base/arraymath.jl#L136\" target=\"_blank\">arraymath.jl:136</a><li> +(x::<b>Integer</b>, y::<b>Char</b>) at <a href=\"https://github.com/JuliaLang/julia/tree/0ff703b40afddf9b705bd6a06d3a59cb4c089ea5/base/char.jl#L43\" target=\"_blank\">char.jl:43</a><li> +(a::<b>Float16</b>, b::<b>Float16</b>) at <a href=\"https://github.com/JuliaLang/julia/tree/0ff703b40afddf9b705bd6a06d3a59cb4c089ea5/base/float16.jl#L136\" target=\"_blank\">float16.jl:136</a><li> +(x::<b>BigInt</b>, y::<b>BigInt</b>) at <a href=\"https://github.com/JuliaLang/julia/tree/0ff703b40afddf9b705bd6a06d3a59cb4c089ea5/base/gmp.jl#L246\" target=\"_blank\">gmp.jl:246</a><li> +(a::<b>BigInt</b>, b::<b>BigInt</b>, c::<b>BigInt</b>) at <a href=\"https://github.com/JuliaLang/julia/tree/0ff703b40afddf9b705bd6a06d3a59cb4c089ea5/base/gmp.jl#L269\" target=\"_blank\">gmp.jl:269</a><li> +(a::<b>BigInt</b>, b::<b>BigInt</b>, c::<b>BigInt</b>, d::<b>BigInt</b>) at <a href=\"https://github.com/JuliaLang/julia/tree/0ff703b40afddf9b705bd6a06d3a59cb4c089ea5/base/gmp.jl#L275\" target=\"_blank\">gmp.jl:275</a><li> +(a::<b>BigInt</b>, b::<b>BigInt</b>, c::<b>BigInt</b>, d::<b>BigInt</b>, e::<b>BigInt</b>) at <a href=\"https://github.com/JuliaLang/julia/tree/0ff703b40afddf9b705bd6a06d3a59cb4c089ea5/base/gmp.jl#L282\" target=\"_blank\">gmp.jl:282</a><li> +(x::<b>BigInt</b>, c::<b>Union{UInt16,UInt32,UInt64,UInt8}</b>) at <a href=\"https://github.com/JuliaLang/julia/tree/0ff703b40afddf9b705bd6a06d3a59cb4c089ea5/base/gmp.jl#L294\" target=\"_blank\">gmp.jl:294</a><li> +(c::<b>Union{UInt16,UInt32,UInt64,UInt8}</b>, x::<b>BigInt</b>) at <a href=\"https://github.com/JuliaLang/julia/tree/0ff703b40afddf9b705bd6a06d3a59cb4c089ea5/base/gmp.jl#L298\" target=\"_blank\">gmp.jl:298</a><li> +(x::<b>BigInt</b>, c::<b>Union{Int16,Int32,Int64,Int8}</b>) at <a href=\"https://github.com/JuliaLang/julia/tree/0ff703b40afddf9b705bd6a06d3a59cb4c089ea5/base/gmp.jl#L310\" target=\"_blank\">gmp.jl:310</a><li> +(c::<b>Union{Int16,Int32,Int64,Int8}</b>, x::<b>BigInt</b>) at <a href=\"https://github.com/JuliaLang/julia/tree/0ff703b40afddf9b705bd6a06d3a59cb4c089ea5/base/gmp.jl#L311\" target=\"_blank\">gmp.jl:311</a><li> +(x::<b>BigFloat</b>, y::<b>BigFloat</b>) at <a href=\"https://github.com/JuliaLang/julia/tree/0ff703b40afddf9b705bd6a06d3a59cb4c089ea5/base/mpfr.jl#L208\" target=\"_blank\">mpfr.jl:208</a><li> +(x::<b>BigFloat</b>, c::<b>Union{UInt16,UInt32,UInt64,UInt8}</b>) at <a href=\"https://github.com/JuliaLang/julia/tree/0ff703b40afddf9b705bd6a06d3a59cb4c089ea5/base/mpfr.jl#L215\" target=\"_blank\">mpfr.jl:215</a><li> +(c::<b>Union{UInt16,UInt32,UInt64,UInt8}</b>, x::<b>BigFloat</b>) at <a href=\"https://github.com/JuliaLang/julia/tree/0ff703b40afddf9b705bd6a06d3a59cb4c089ea5/base/mpfr.jl#L219\" target=\"_blank\">mpfr.jl:219</a><li> +(x::<b>BigFloat</b>, c::<b>Union{Int16,Int32,Int64,Int8}</b>) at <a href=\"https://github.com/JuliaLang/julia/tree/0ff703b40afddf9b705bd6a06d3a59cb4c089ea5/base/mpfr.jl#L223\" target=\"_blank\">mpfr.jl:223</a><li> +(c::<b>Union{Int16,Int32,Int64,Int8}</b>, x::<b>BigFloat</b>) at <a href=\"https://github.com/JuliaLang/julia/tree/0ff703b40afddf9b705bd6a06d3a59cb4c089ea5/base/mpfr.jl#L227\" target=\"_blank\">mpfr.jl:227</a><li> +(x::<b>BigFloat</b>, c::<b>Union{Float16,Float32,Float64}</b>) at <a href=\"https://github.com/JuliaLang/julia/tree/0ff703b40afddf9b705bd6a06d3a59cb4c089ea5/base/mpfr.jl#L231\" target=\"_blank\">mpfr.jl:231</a><li> +(c::<b>Union{Float16,Float32,Float64}</b>, x::<b>BigFloat</b>) at <a href=\"https://github.com/JuliaLang/julia/tree/0ff703b40afddf9b705bd6a06d3a59cb4c089ea5/base/mpfr.jl#L235\" target=\"_blank\">mpfr.jl:235</a><li> +(x::<b>BigFloat</b>, c::<b>BigInt</b>) at <a href=\"https://github.com/JuliaLang/julia/tree/0ff703b40afddf9b705bd6a06d3a59cb4c089ea5/base/mpfr.jl#L239\" target=\"_blank\">mpfr.jl:239</a><li> +(c::<b>BigInt</b>, x::<b>BigFloat</b>) at <a href=\"https://github.com/JuliaLang/julia/tree/0ff703b40afddf9b705bd6a06d3a59cb4c089ea5/base/mpfr.jl#L243\" target=\"_blank\">mpfr.jl:243</a><li> +(a::<b>BigFloat</b>, b::<b>BigFloat</b>, c::<b>BigFloat</b>) at <a href=\"https://github.com/JuliaLang/julia/tree/0ff703b40afddf9b705bd6a06d3a59cb4c089ea5/base/mpfr.jl#L379\" target=\"_blank\">mpfr.jl:379</a><li> +(a::<b>BigFloat</b>, b::<b>BigFloat</b>, c::<b>BigFloat</b>, d::<b>BigFloat</b>) at <a href=\"https://github.com/JuliaLang/julia/tree/0ff703b40afddf9b705bd6a06d3a59cb4c089ea5/base/mpfr.jl#L385\" target=\"_blank\">mpfr.jl:385</a><li> +(a::<b>BigFloat</b>, b::<b>BigFloat</b>, c::<b>BigFloat</b>, d::<b>BigFloat</b>, e::<b>BigFloat</b>) at <a href=\"https://github.com/JuliaLang/julia/tree/0ff703b40afddf9b705bd6a06d3a59cb4c089ea5/base/mpfr.jl#L392\" target=\"_blank\">mpfr.jl:392</a><li> +(x::<b>Irrational{sym}</b>, y::<b>Irrational{sym}</b>) at <a href=\"https://github.com/JuliaLang/julia/tree/0ff703b40afddf9b705bd6a06d3a59cb4c089ea5/base/irrationals.jl#L72\" target=\"_blank\">irrationals.jl:72</a><li> +(x::<b>Number</b>) at <a href=\"https://github.com/JuliaLang/julia/tree/0ff703b40afddf9b705bd6a06d3a59cb4c089ea5/base/operators.jl#L73\" target=\"_blank\">operators.jl:73</a><li> +<i>{T<:Number}</i>(x::<b>T<:Number</b>, y::<b>T<:Number</b>) at <a href=\"https://github.com/JuliaLang/julia/tree/0ff703b40afddf9b705bd6a06d3a59cb4c089ea5/base/promotion.jl#L211\" target=\"_blank\">promotion.jl:211</a><li> +<i>{T<:AbstractFloat}</i>(x::<b>Bool</b>, y::<b>T<:AbstractFloat</b>) at <a href=\"https://github.com/JuliaLang/julia/tree/0ff703b40afddf9b705bd6a06d3a59cb4c089ea5/base/bool.jl#L43\" target=\"_blank\">bool.jl:43</a><li> +(x::<b>Number</b>, y::<b>Number</b>) at <a href=\"https://github.com/JuliaLang/julia/tree/0ff703b40afddf9b705bd6a06d3a59cb4c089ea5/base/promotion.jl#L167\" target=\"_blank\">promotion.jl:167</a><li> +(r1::<b>OrdinalRange{T,S}</b>, r2::<b>OrdinalRange{T,S}</b>) at <a href=\"https://github.com/JuliaLang/julia/tree/0ff703b40afddf9b705bd6a06d3a59cb4c089ea5/base/operators.jl#L330\" target=\"_blank\">operators.jl:330</a><li> +<i>{T<:AbstractFloat}</i>(r1::<b>FloatRange{T<:AbstractFloat}</b>, r2::<b>FloatRange{T<:AbstractFloat}</b>) at <a href=\"https://github.com/JuliaLang/julia/tree/0ff703b40afddf9b705bd6a06d3a59cb4c089ea5/base/operators.jl#L337\" target=\"_blank\">operators.jl:337</a><li> +<i>{T<:AbstractFloat}</i>(r1::<b>LinSpace{T<:AbstractFloat}</b>, r2::<b>LinSpace{T<:AbstractFloat}</b>) at <a href=\"https://github.com/JuliaLang/julia/tree/0ff703b40afddf9b705bd6a06d3a59cb4c089ea5/base/operators.jl#L356\" target=\"_blank\">operators.jl:356</a><li> +(r1::<b>Union{FloatRange{T<:AbstractFloat},LinSpace{T<:AbstractFloat},OrdinalRange{T,S}}</b>, r2::<b>Union{FloatRange{T<:AbstractFloat},LinSpace{T<:AbstractFloat},OrdinalRange{T,S}}</b>) at <a href=\"https://github.com/JuliaLang/julia/tree/0ff703b40afddf9b705bd6a06d3a59cb4c089ea5/base/operators.jl#L369\" target=\"_blank\">operators.jl:369</a><li> +(x::<b>Ptr{T}</b>, y::<b>Integer</b>) at <a href=\"https://github.com/JuliaLang/julia/tree/0ff703b40afddf9b705bd6a06d3a59cb4c089ea5/base/pointer.jl#L75\" target=\"_blank\">pointer.jl:75</a><li> +<i>{S,T}</i>(A::<b>Range{S}</b>, B::<b>Range{T}</b>) at <a href=\"https://github.com/JuliaLang/julia/tree/0ff703b40afddf9b705bd6a06d3a59cb4c089ea5/base/arraymath.jl#L69\" target=\"_blank\">arraymath.jl:69</a><li> +<i>{S,T}</i>(A::<b>Range{S}</b>, B::<b>AbstractArray{T,N}</b>) at <a href=\"https://github.com/JuliaLang/julia/tree/0ff703b40afddf9b705bd6a06d3a59cb4c089ea5/base/arraymath.jl#L87\" target=\"_blank\">arraymath.jl:87</a><li> +(A::<b>BitArray{N}</b>, B::<b>BitArray{N}</b>) at <a href=\"https://github.com/JuliaLang/julia/tree/0ff703b40afddf9b705bd6a06d3a59cb4c089ea5/base/bitarray.jl#L845\" target=\"_blank\">bitarray.jl:845</a><li> +<i>{T}</i>(B::<b>BitArray{2}</b>, J::<b>UniformScaling{T}</b>) at <a href=\"https://github.com/JuliaLang/julia/tree/0ff703b40afddf9b705bd6a06d3a59cb4c089ea5/base/linalg/uniformscaling.jl#L28\" target=\"_blank\">linalg/uniformscaling.jl:28</a><li> +(A::<b>Array{T,2}</b>, B::<b>Diagonal{T}</b>) at <a href=\"https://github.com/JuliaLang/julia/tree/0ff703b40afddf9b705bd6a06d3a59cb4c089ea5/base/linalg/special.jl#L122\" target=\"_blank\">linalg/special.jl:122</a><li> +(A::<b>Array{T,2}</b>, B::<b>Bidiagonal{T}</b>) at <a href=\"https://github.com/JuliaLang/julia/tree/0ff703b40afddf9b705bd6a06d3a59cb4c089ea5/base/linalg/special.jl#L122\" target=\"_blank\">linalg/special.jl:122</a><li> +(A::<b>Array{T,2}</b>, B::<b>Tridiagonal{T}</b>) at <a href=\"https://github.com/JuliaLang/julia/tree/0ff703b40afddf9b705bd6a06d3a59cb4c089ea5/base/linalg/special.jl#L122\" target=\"_blank\">linalg/special.jl:122</a><li> +(A::<b>Array{T,2}</b>, B::<b>SymTridiagonal{T}</b>) at <a href=\"https://github.com/JuliaLang/julia/tree/0ff703b40afddf9b705bd6a06d3a59cb4c089ea5/base/linalg/special.jl#L131\" target=\"_blank\">linalg/special.jl:131</a><li> +(A::<b>Array{T,2}</b>, B::<b>Base.LinAlg.AbstractTriangular{T,S<:AbstractArray{T,2}}</b>) at <a href=\"https://github.com/JuliaLang/julia/tree/0ff703b40afddf9b705bd6a06d3a59cb4c089ea5/base/linalg/special.jl#L159\" target=\"_blank\">linalg/special.jl:159</a><li> +(A::<b>Array{T,N}</b>, B::<b>SparseMatrixCSC{Tv,Ti<:Integer}</b>) at <a href=\"https://github.com/JuliaLang/julia/tree/0ff703b40afddf9b705bd6a06d3a59cb4c089ea5/base/sparse/sparsematrix.jl#L1018\" target=\"_blank\">sparse/sparsematrix.jl:1018</a><li> +<i>{P<:Union{Base.Dates.CompoundPeriod,Base.Dates.Period}}</i>(x::<b>Union{DenseArray{P<:Union{Base.Dates.CompoundPeriod,Base.Dates.Period},N},SubArray{P<:Union{Base.Dates.CompoundPeriod,Base.Dates.Period},N,A<:DenseArray{T,N},I<:Tuple{Vararg{Union{Colon,Int64,Range{Int64}}}},LD}}</b>) at <a href=\"https://github.com/JuliaLang/julia/tree/0ff703b40afddf9b705bd6a06d3a59cb4c089ea5/base/dates/periods.jl#L202\" target=\"_blank\">dates/periods.jl:202</a><li> +(A::<b>AbstractArray{Bool,N}</b>, x::<b>Bool</b>) at <a href=\"https://github.com/JuliaLang/julia/tree/0ff703b40afddf9b705bd6a06d3a59cb4c089ea5/base/arraymath.jl#L135\" target=\"_blank\">arraymath.jl:135</a><li> +(A::<b>Union{DenseArray{Bool,N},SubArray{Bool,N,A<:DenseArray{T,N},I<:Tuple{Vararg{Union{Colon,Int64,Range{Int64}}}},LD}}</b>, B::<b>Union{DenseArray{Bool,N},SubArray{Bool,N,A<:DenseArray{T,N},I<:Tuple{Vararg{Union{Colon,Int64,Range{Int64}}}},LD}}</b>) at <a href=\"https://github.com/JuliaLang/julia/tree/0ff703b40afddf9b705bd6a06d3a59cb4c089ea5/base/arraymath.jl#L166\" target=\"_blank\">arraymath.jl:166</a><li> +(A::<b>SymTridiagonal{T}</b>, B::<b>SymTridiagonal{T}</b>) at <a href=\"https://github.com/JuliaLang/julia/tree/0ff703b40afddf9b705bd6a06d3a59cb4c089ea5/base/linalg/tridiag.jl#L84\" target=\"_blank\">linalg/tridiag.jl:84</a><li> +(A::<b>Tridiagonal{T}</b>, B::<b>Tridiagonal{T}</b>) at <a href=\"https://github.com/JuliaLang/julia/tree/0ff703b40afddf9b705bd6a06d3a59cb4c089ea5/base/linalg/tridiag.jl#L404\" target=\"_blank\">linalg/tridiag.jl:404</a><li> +(A::<b>UpperTriangular{T,S<:AbstractArray{T,2}}</b>, B::<b>UpperTriangular{T,S<:AbstractArray{T,2}}</b>) at <a href=\"https://github.com/JuliaLang/julia/tree/0ff703b40afddf9b705bd6a06d3a59cb4c089ea5/base/linalg/triangular.jl#L339\" target=\"_blank\">linalg/triangular.jl:339</a><li> +(A::<b>LowerTriangular{T,S<:AbstractArray{T,2}}</b>, B::<b>LowerTriangular{T,S<:AbstractArray{T,2}}</b>) at <a href=\"https://github.com/JuliaLang/julia/tree/0ff703b40afddf9b705bd6a06d3a59cb4c089ea5/base/linalg/triangular.jl#L340\" target=\"_blank\">linalg/triangular.jl:340</a><li> +(A::<b>UpperTriangular{T,S<:AbstractArray{T,2}}</b>, B::<b>Base.LinAlg.UnitUpperTriangular{T,S<:AbstractArray{T,2}}</b>) at <a href=\"https://github.com/JuliaLang/julia/tree/0ff703b40afddf9b705bd6a06d3a59cb4c089ea5/base/linalg/triangular.jl#L341\" target=\"_blank\">linalg/triangular.jl:341</a><li> +(A::<b>LowerTriangular{T,S<:AbstractArray{T,2}}</b>, B::<b>Base.LinAlg.UnitLowerTriangular{T,S<:AbstractArray{T,2}}</b>) at <a href=\"https://github.com/JuliaLang/julia/tree/0ff703b40afddf9b705bd6a06d3a59cb4c089ea5/base/linalg/triangular.jl#L342\" target=\"_blank\">linalg/triangular.jl:342</a><li> +(A::<b>Base.LinAlg.UnitUpperTriangular{T,S<:AbstractArray{T,2}}</b>, B::<b>UpperTriangular{T,S<:AbstractArray{T,2}}</b>) at <a href=\"https://github.com/JuliaLang/julia/tree/0ff703b40afddf9b705bd6a06d3a59cb4c089ea5/base/linalg/triangular.jl#L343\" target=\"_blank\">linalg/triangular.jl:343</a><li> +(A::<b>Base.LinAlg.UnitLowerTriangular{T,S<:AbstractArray{T,2}}</b>, B::<b>LowerTriangular{T,S<:AbstractArray{T,2}}</b>) at <a href=\"https://github.com/JuliaLang/julia/tree/0ff703b40afddf9b705bd6a06d3a59cb4c089ea5/base/linalg/triangular.jl#L344\" target=\"_blank\">linalg/triangular.jl:344</a><li> +(A::<b>Base.LinAlg.UnitUpperTriangular{T,S<:AbstractArray{T,2}}</b>, B::<b>Base.LinAlg.UnitUpperTriangular{T,S<:AbstractArray{T,2}}</b>) at <a href=\"https://github.com/JuliaLang/julia/tree/0ff703b40afddf9b705bd6a06d3a59cb4c089ea5/base/linalg/triangular.jl#L345\" target=\"_blank\">linalg/triangular.jl:345</a><li> +(A::<b>Base.LinAlg.UnitLowerTriangular{T,S<:AbstractArray{T,2}}</b>, B::<b>Base.LinAlg.UnitLowerTriangular{T,S<:AbstractArray{T,2}}</b>) at <a href=\"https://github.com/JuliaLang/julia/tree/0ff703b40afddf9b705bd6a06d3a59cb4c089ea5/base/linalg/triangular.jl#L346\" target=\"_blank\">linalg/triangular.jl:346</a><li> +(A::<b>Base.LinAlg.AbstractTriangular{T,S<:AbstractArray{T,2}}</b>, B::<b>Base.LinAlg.AbstractTriangular{T,S<:AbstractArray{T,2}}</b>) at <a href=\"https://github.com/JuliaLang/julia/tree/0ff703b40afddf9b705bd6a06d3a59cb4c089ea5/base/linalg/triangular.jl#L347\" target=\"_blank\">linalg/triangular.jl:347</a><li> +(Da::<b>Diagonal{T}</b>, Db::<b>Diagonal{T}</b>) at <a href=\"https://github.com/JuliaLang/julia/tree/0ff703b40afddf9b705bd6a06d3a59cb4c089ea5/base/linalg/diagonal.jl#L86\" target=\"_blank\">linalg/diagonal.jl:86</a><li> +(A::<b>Bidiagonal{T}</b>, B::<b>Bidiagonal{T}</b>) at <a href=\"https://github.com/JuliaLang/julia/tree/0ff703b40afddf9b705bd6a06d3a59cb4c089ea5/base/linalg/bidiag.jl#L176\" target=\"_blank\">linalg/bidiag.jl:176</a><li> +(UL::<b>UpperTriangular{T,S<:AbstractArray{T,2}}</b>, J::<b>UniformScaling{T<:Number}</b>) at <a href=\"https://github.com/JuliaLang/julia/tree/0ff703b40afddf9b705bd6a06d3a59cb4c089ea5/base/linalg/uniformscaling.jl#L45\" target=\"_blank\">linalg/uniformscaling.jl:45</a><li> +(UL::<b>Base.LinAlg.UnitUpperTriangular{T,S<:AbstractArray{T,2}}</b>, J::<b>UniformScaling{T<:Number}</b>) at <a href=\"https://github.com/JuliaLang/julia/tree/0ff703b40afddf9b705bd6a06d3a59cb4c089ea5/base/linalg/uniformscaling.jl#L48\" target=\"_blank\">linalg/uniformscaling.jl:48</a><li> +(UL::<b>LowerTriangular{T,S<:AbstractArray{T,2}}</b>, J::<b>UniformScaling{T<:Number}</b>) at <a href=\"https://github.com/JuliaLang/julia/tree/0ff703b40afddf9b705bd6a06d3a59cb4c089ea5/base/linalg/uniformscaling.jl#L45\" target=\"_blank\">linalg/uniformscaling.jl:45</a><li> +(UL::<b>Base.LinAlg.UnitLowerTriangular{T,S<:AbstractArray{T,2}}</b>, J::<b>UniformScaling{T<:Number}</b>) at <a href=\"https://github.com/JuliaLang/julia/tree/0ff703b40afddf9b705bd6a06d3a59cb4c089ea5/base/linalg/uniformscaling.jl#L48\" target=\"_blank\">linalg/uniformscaling.jl:48</a><li> +(A::<b>Diagonal{T}</b>, B::<b>Bidiagonal{T}</b>) at <a href=\"https://github.com/JuliaLang/julia/tree/0ff703b40afddf9b705bd6a06d3a59cb4c089ea5/base/linalg/special.jl#L121\" target=\"_blank\">linalg/special.jl:121</a><li> +(A::<b>Bidiagonal{T}</b>, B::<b>Diagonal{T}</b>) at <a href=\"https://github.com/JuliaLang/julia/tree/0ff703b40afddf9b705bd6a06d3a59cb4c089ea5/base/linalg/special.jl#L122\" target=\"_blank\">linalg/special.jl:122</a><li> +(A::<b>Diagonal{T}</b>, B::<b>Tridiagonal{T}</b>) at <a href=\"https://github.com/JuliaLang/julia/tree/0ff703b40afddf9b705bd6a06d3a59cb4c089ea5/base/linalg/special.jl#L121\" target=\"_blank\">linalg/special.jl:121</a><li> +(A::<b>Tridiagonal{T}</b>, B::<b>Diagonal{T}</b>) at <a href=\"https://github.com/JuliaLang/julia/tree/0ff703b40afddf9b705bd6a06d3a59cb4c089ea5/base/linalg/special.jl#L122\" target=\"_blank\">linalg/special.jl:122</a><li> +(A::<b>Diagonal{T}</b>, B::<b>Array{T,2}</b>) at <a href=\"https://github.com/JuliaLang/julia/tree/0ff703b40afddf9b705bd6a06d3a59cb4c089ea5/base/linalg/special.jl#L121\" target=\"_blank\">linalg/special.jl:121</a><li> +(A::<b>Bidiagonal{T}</b>, B::<b>Tridiagonal{T}</b>) at <a href=\"https://github.com/JuliaLang/julia/tree/0ff703b40afddf9b705bd6a06d3a59cb4c089ea5/base/linalg/special.jl#L121\" target=\"_blank\">linalg/special.jl:121</a><li> +(A::<b>Tridiagonal{T}</b>, B::<b>Bidiagonal{T}</b>) at <a href=\"https://github.com/JuliaLang/julia/tree/0ff703b40afddf9b705bd6a06d3a59cb4c089ea5/base/linalg/special.jl#L122\" target=\"_blank\">linalg/special.jl:122</a><li> +(A::<b>Bidiagonal{T}</b>, B::<b>Array{T,2}</b>) at <a href=\"https://github.com/JuliaLang/julia/tree/0ff703b40afddf9b705bd6a06d3a59cb4c089ea5/base/linalg/special.jl#L121\" target=\"_blank\">linalg/special.jl:121</a><li> +(A::<b>Tridiagonal{T}</b>, B::<b>Array{T,2}</b>) at <a href=\"https://github.com/JuliaLang/julia/tree/0ff703b40afddf9b705bd6a06d3a59cb4c089ea5/base/linalg/special.jl#L121\" target=\"_blank\">linalg/special.jl:121</a><li> +(A::<b>SymTridiagonal{T}</b>, B::<b>Tridiagonal{T}</b>) at <a href=\"https://github.com/JuliaLang/julia/tree/0ff703b40afddf9b705bd6a06d3a59cb4c089ea5/base/linalg/special.jl#L130\" target=\"_blank\">linalg/special.jl:130</a><li> +(A::<b>Tridiagonal{T}</b>, B::<b>SymTridiagonal{T}</b>) at <a href=\"https://github.com/JuliaLang/julia/tree/0ff703b40afddf9b705bd6a06d3a59cb4c089ea5/base/linalg/special.jl#L131\" target=\"_blank\">linalg/special.jl:131</a><li> +(A::<b>SymTridiagonal{T}</b>, B::<b>Array{T,2}</b>) at <a href=\"https://github.com/JuliaLang/julia/tree/0ff703b40afddf9b705bd6a06d3a59cb4c089ea5/base/linalg/special.jl#L130\" target=\"_blank\">linalg/special.jl:130</a><li> +(A::<b>Diagonal{T}</b>, B::<b>SymTridiagonal{T}</b>) at <a href=\"https://github.com/JuliaLang/julia/tree/0ff703b40afddf9b705bd6a06d3a59cb4c089ea5/base/linalg/special.jl#L139\" target=\"_blank\">linalg/special.jl:139</a><li> +(A::<b>SymTridiagonal{T}</b>, B::<b>Diagonal{T}</b>) at <a href=\"https://github.com/JuliaLang/julia/tree/0ff703b40afddf9b705bd6a06d3a59cb4c089ea5/base/linalg/special.jl#L140\" target=\"_blank\">linalg/special.jl:140</a><li> +(A::<b>Bidiagonal{T}</b>, B::<b>SymTridiagonal{T}</b>) at <a href=\"https://github.com/JuliaLang/julia/tree/0ff703b40afddf9b705bd6a06d3a59cb4c089ea5/base/linalg/special.jl#L139\" target=\"_blank\">linalg/special.jl:139</a><li> +(A::<b>SymTridiagonal{T}</b>, B::<b>Bidiagonal{T}</b>) at <a href=\"https://github.com/JuliaLang/julia/tree/0ff703b40afddf9b705bd6a06d3a59cb4c089ea5/base/linalg/special.jl#L140\" target=\"_blank\">linalg/special.jl:140</a><li> +(A::<b>Diagonal{T}</b>, B::<b>UpperTriangular{T,S<:AbstractArray{T,2}}</b>) at <a href=\"https://github.com/JuliaLang/julia/tree/0ff703b40afddf9b705bd6a06d3a59cb4c089ea5/base/linalg/special.jl#L151\" target=\"_blank\">linalg/special.jl:151</a><li> +(A::<b>UpperTriangular{T,S<:AbstractArray{T,2}}</b>, B::<b>Diagonal{T}</b>) at <a href=\"https://github.com/JuliaLang/julia/tree/0ff703b40afddf9b705bd6a06d3a59cb4c089ea5/base/linalg/special.jl#L152\" target=\"_blank\">linalg/special.jl:152</a><li> +(A::<b>Diagonal{T}</b>, B::<b>Base.LinAlg.UnitUpperTriangular{T,S<:AbstractArray{T,2}}</b>) at <a href=\"https://github.com/JuliaLang/julia/tree/0ff703b40afddf9b705bd6a06d3a59cb4c089ea5/base/linalg/special.jl#L151\" target=\"_blank\">linalg/special.jl:151</a><li> +(A::<b>Base.LinAlg.UnitUpperTriangular{T,S<:AbstractArray{T,2}}</b>, B::<b>Diagonal{T}</b>) at <a href=\"https://github.com/JuliaLang/julia/tree/0ff703b40afddf9b705bd6a06d3a59cb4c089ea5/base/linalg/special.jl#L152\" target=\"_blank\">linalg/special.jl:152</a><li> +(A::<b>Diagonal{T}</b>, B::<b>LowerTriangular{T,S<:AbstractArray{T,2}}</b>) at <a href=\"https://github.com/JuliaLang/julia/tree/0ff703b40afddf9b705bd6a06d3a59cb4c089ea5/base/linalg/special.jl#L151\" target=\"_blank\">linalg/special.jl:151</a><li> +(A::<b>LowerTriangular{T,S<:AbstractArray{T,2}}</b>, B::<b>Diagonal{T}</b>) at <a href=\"https://github.com/JuliaLang/julia/tree/0ff703b40afddf9b705bd6a06d3a59cb4c089ea5/base/linalg/special.jl#L152\" target=\"_blank\">linalg/special.jl:152</a><li> +(A::<b>Diagonal{T}</b>, B::<b>Base.LinAlg.UnitLowerTriangular{T,S<:AbstractArray{T,2}}</b>) at <a href=\"https://github.com/JuliaLang/julia/tree/0ff703b40afddf9b705bd6a06d3a59cb4c089ea5/base/linalg/special.jl#L151\" target=\"_blank\">linalg/special.jl:151</a><li> +(A::<b>Base.LinAlg.UnitLowerTriangular{T,S<:AbstractArray{T,2}}</b>, B::<b>Diagonal{T}</b>) at <a href=\"https://github.com/JuliaLang/julia/tree/0ff703b40afddf9b705bd6a06d3a59cb4c089ea5/base/linalg/special.jl#L152\" target=\"_blank\">linalg/special.jl:152</a><li> +(A::<b>Base.LinAlg.AbstractTriangular{T,S<:AbstractArray{T,2}}</b>, B::<b>SymTridiagonal{T}</b>) at <a href=\"https://github.com/JuliaLang/julia/tree/0ff703b40afddf9b705bd6a06d3a59cb4c089ea5/base/linalg/special.jl#L158\" target=\"_blank\">linalg/special.jl:158</a><li> +(A::<b>SymTridiagonal{T}</b>, B::<b>Base.LinAlg.AbstractTriangular{T,S<:AbstractArray{T,2}}</b>) at <a href=\"https://github.com/JuliaLang/julia/tree/0ff703b40afddf9b705bd6a06d3a59cb4c089ea5/base/linalg/special.jl#L159\" target=\"_blank\">linalg/special.jl:159</a><li> +(A::<b>Base.LinAlg.AbstractTriangular{T,S<:AbstractArray{T,2}}</b>, B::<b>Tridiagonal{T}</b>) at <a href=\"https://github.com/JuliaLang/julia/tree/0ff703b40afddf9b705bd6a06d3a59cb4c089ea5/base/linalg/special.jl#L158\" target=\"_blank\">linalg/special.jl:158</a><li> +(A::<b>Tridiagonal{T}</b>, B::<b>Base.LinAlg.AbstractTriangular{T,S<:AbstractArray{T,2}}</b>) at <a href=\"https://github.com/JuliaLang/julia/tree/0ff703b40afddf9b705bd6a06d3a59cb4c089ea5/base/linalg/special.jl#L159\" target=\"_blank\">linalg/special.jl:159</a><li> +(A::<b>Base.LinAlg.AbstractTriangular{T,S<:AbstractArray{T,2}}</b>, B::<b>Bidiagonal{T}</b>) at <a href=\"https://github.com/JuliaLang/julia/tree/0ff703b40afddf9b705bd6a06d3a59cb4c089ea5/base/linalg/special.jl#L158\" target=\"_blank\">linalg/special.jl:158</a><li> +(A::<b>Bidiagonal{T}</b>, B::<b>Base.LinAlg.AbstractTriangular{T,S<:AbstractArray{T,2}}</b>) at <a href=\"https://github.com/JuliaLang/julia/tree/0ff703b40afddf9b705bd6a06d3a59cb4c089ea5/base/linalg/special.jl#L159\" target=\"_blank\">linalg/special.jl:159</a><li> +(A::<b>Base.LinAlg.AbstractTriangular{T,S<:AbstractArray{T,2}}</b>, B::<b>Array{T,2}</b>) at <a href=\"https://github.com/JuliaLang/julia/tree/0ff703b40afddf9b705bd6a06d3a59cb4c089ea5/base/linalg/special.jl#L158\" target=\"_blank\">linalg/special.jl:158</a><li> +<i>{Tv1,Ti1,Tv2,Ti2}</i>(A_1::<b>SparseMatrixCSC{Tv1,Ti1}</b>, A_2::<b>SparseMatrixCSC{Tv2,Ti2}</b>) at <a href=\"https://github.com/JuliaLang/julia/tree/0ff703b40afddf9b705bd6a06d3a59cb4c089ea5/base/sparse/sparsematrix.jl#L1004\" target=\"_blank\">sparse/sparsematrix.jl:1004</a><li> +(A::<b>SparseMatrixCSC{Tv,Ti<:Integer}</b>, B::<b>Array{T,N}</b>) at <a href=\"https://github.com/JuliaLang/julia/tree/0ff703b40afddf9b705bd6a06d3a59cb4c089ea5/base/sparse/sparsematrix.jl#L1016\" target=\"_blank\">sparse/sparsematrix.jl:1016</a><li> +(A::<b>SparseMatrixCSC{Tv,Ti<:Integer}</b>, J::<b>UniformScaling{T<:Number}</b>) at <a href=\"https://github.com/JuliaLang/julia/tree/0ff703b40afddf9b705bd6a06d3a59cb4c089ea5/base/sparse/sparsematrix.jl#L2985\" target=\"_blank\">sparse/sparsematrix.jl:2985</a><li> +<i>{P<:Union{Base.Dates.CompoundPeriod,Base.Dates.Period}}</i>(Y::<b>Union{DenseArray{P<:Union{Base.Dates.CompoundPeriod,Base.Dates.Period},N},SubArray{P<:Union{Base.Dates.CompoundPeriod,Base.Dates.Period},N,A<:DenseArray{T,N},I<:Tuple{Vararg{Union{Colon,Int64,Range{Int64}}}},LD}}</b>, x::<b>Union{Base.Dates.CompoundPeriod,Base.Dates.Period}</b>) at <a href=\"https://github.com/JuliaLang/julia/tree/0ff703b40afddf9b705bd6a06d3a59cb4c089ea5/base/dates/periods.jl#L216\" target=\"_blank\">dates/periods.jl:216</a><li> +<i>{P<:Union{Base.Dates.CompoundPeriod,Base.Dates.Period},Q<:Union{Base.Dates.CompoundPeriod,Base.Dates.Period}}</i>(X::<b>Union{DenseArray{P<:Union{Base.Dates.CompoundPeriod,Base.Dates.Period},N},SubArray{P<:Union{Base.Dates.CompoundPeriod,Base.Dates.Period},N,A<:DenseArray{T,N},I<:Tuple{Vararg{Union{Colon,Int64,Range{Int64}}}},LD}}</b>, Y::<b>Union{DenseArray{Q<:Union{Base.Dates.CompoundPeriod,Base.Dates.Period},N},SubArray{Q<:Union{Base.Dates.CompoundPeriod,Base.Dates.Period},N,A<:DenseArray{T,N},I<:Tuple{Vararg{Union{Colon,Int64,Range{Int64}}}},LD}}</b>) at <a href=\"https://github.com/JuliaLang/julia/tree/0ff703b40afddf9b705bd6a06d3a59cb4c089ea5/base/dates/periods.jl#L217\" target=\"_blank\">dates/periods.jl:217</a><li> +<i>{T<:Base.Dates.TimeType,P<:Union{Base.Dates.CompoundPeriod,Base.Dates.Period}}</i>(x::<b>Union{DenseArray{P<:Union{Base.Dates.CompoundPeriod,Base.Dates.Period},N},SubArray{P<:Union{Base.Dates.CompoundPeriod,Base.Dates.Period},N,A<:DenseArray{T,N},I<:Tuple{Vararg{Union{Colon,Int64,Range{Int64}}}},LD}}</b>, y::<b>T<:Base.Dates.TimeType</b>) at <a href=\"https://github.com/JuliaLang/julia/tree/0ff703b40afddf9b705bd6a06d3a59cb4c089ea5/base/dates/arithmetic.jl#L83\" target=\"_blank\">dates/arithmetic.jl:83</a><li> +<i>{T<:Base.Dates.TimeType}</i>(r::<b>Range{T<:Base.Dates.TimeType}</b>, x::<b>Base.Dates.Period</b>) at <a href=\"https://github.com/JuliaLang/julia/tree/0ff703b40afddf9b705bd6a06d3a59cb4c089ea5/base/dates/ranges.jl#L39\" target=\"_blank\">dates/ranges.jl:39</a><li> +<i>{T<:Number}</i>(x::<b>AbstractArray{T<:Number,N}</b>) at <a href=\"https://github.com/JuliaLang/julia/tree/0ff703b40afddf9b705bd6a06d3a59cb4c089ea5/base/abstractarraymath.jl#L49\" target=\"_blank\">abstractarraymath.jl:49</a><li> +<i>{S,T}</i>(A::<b>AbstractArray{S,N}</b>, B::<b>Range{T}</b>) at <a href=\"https://github.com/JuliaLang/julia/tree/0ff703b40afddf9b705bd6a06d3a59cb4c089ea5/base/arraymath.jl#L78\" target=\"_blank\">arraymath.jl:78</a><li> +<i>{S,T}</i>(A::<b>AbstractArray{S,N}</b>, B::<b>AbstractArray{T,N}</b>) at <a href=\"https://github.com/JuliaLang/julia/tree/0ff703b40afddf9b705bd6a06d3a59cb4c089ea5/base/arraymath.jl#L96\" target=\"_blank\">arraymath.jl:96</a><li> +(A::<b>AbstractArray{T,N}</b>, x::<b>Number</b>) at <a href=\"https://github.com/JuliaLang/julia/tree/0ff703b40afddf9b705bd6a06d3a59cb4c089ea5/base/arraymath.jl#L139\" target=\"_blank\">arraymath.jl:139</a><li> +(x::<b>Number</b>, A::<b>AbstractArray{T,N}</b>) at <a href=\"https://github.com/JuliaLang/julia/tree/0ff703b40afddf9b705bd6a06d3a59cb4c089ea5/base/arraymath.jl#L140\" target=\"_blank\">arraymath.jl:140</a><li> +(x::<b>Char</b>, y::<b>Integer</b>) at <a href=\"https://github.com/JuliaLang/julia/tree/0ff703b40afddf9b705bd6a06d3a59cb4c089ea5/base/char.jl#L42\" target=\"_blank\">char.jl:42</a><li> +<i>{N}</i>(index1::<b>CartesianIndex{N}</b>, index2::<b>CartesianIndex{N}</b>) at <a href=\"https://github.com/JuliaLang/julia/tree/0ff703b40afddf9b705bd6a06d3a59cb4c089ea5/base/multidimensional.jl#L42\" target=\"_blank\">multidimensional.jl:42</a><li> +(J1::<b>UniformScaling{T<:Number}</b>, J2::<b>UniformScaling{T<:Number}</b>) at <a href=\"https://github.com/JuliaLang/julia/tree/0ff703b40afddf9b705bd6a06d3a59cb4c089ea5/base/linalg/uniformscaling.jl#L27\" target=\"_blank\">linalg/uniformscaling.jl:27</a><li> +(J::<b>UniformScaling{T<:Number}</b>, B::<b>BitArray{2}</b>) at <a href=\"https://github.com/JuliaLang/julia/tree/0ff703b40afddf9b705bd6a06d3a59cb4c089ea5/base/linalg/uniformscaling.jl#L29\" target=\"_blank\">linalg/uniformscaling.jl:29</a><li> +(J::<b>UniformScaling{T<:Number}</b>, A::<b>AbstractArray{T,2}</b>) at <a href=\"https://github.com/JuliaLang/julia/tree/0ff703b40afddf9b705bd6a06d3a59cb4c089ea5/base/linalg/uniformscaling.jl#L30\" target=\"_blank\">linalg/uniformscaling.jl:30</a><li> +(J::<b>UniformScaling{T<:Number}</b>, x::<b>Number</b>) at <a href=\"https://github.com/JuliaLang/julia/tree/0ff703b40afddf9b705bd6a06d3a59cb4c089ea5/base/linalg/uniformscaling.jl#L31\" target=\"_blank\">linalg/uniformscaling.jl:31</a><li> +(x::<b>Number</b>, J::<b>UniformScaling{T<:Number}</b>) at <a href=\"https://github.com/JuliaLang/julia/tree/0ff703b40afddf9b705bd6a06d3a59cb4c089ea5/base/linalg/uniformscaling.jl#L32\" target=\"_blank\">linalg/uniformscaling.jl:32</a><li> +<i>{TA,TJ}</i>(A::<b>AbstractArray{TA,2}</b>, J::<b>UniformScaling{TJ}</b>) at <a href=\"https://github.com/JuliaLang/julia/tree/0ff703b40afddf9b705bd6a06d3a59cb4c089ea5/base/linalg/uniformscaling.jl#L92\" target=\"_blank\">linalg/uniformscaling.jl:92</a><li> +<i>{T}</i>(a::<b>Base.Pkg.Resolve.VersionWeights.HierarchicalValue{T}</b>, b::<b>Base.Pkg.Resolve.VersionWeights.HierarchicalValue{T}</b>) at <a href=\"https://github.com/JuliaLang/julia/tree/0ff703b40afddf9b705bd6a06d3a59cb4c089ea5/base/pkg/resolve/versionweight.jl#L23\" target=\"_blank\">pkg/resolve/versionweight.jl:23</a><li> +(a::<b>Base.Pkg.Resolve.VersionWeights.VWPreBuildItem</b>, b::<b>Base.Pkg.Resolve.VersionWeights.VWPreBuildItem</b>) at <a href=\"https://github.com/JuliaLang/julia/tree/0ff703b40afddf9b705bd6a06d3a59cb4c089ea5/base/pkg/resolve/versionweight.jl#L85\" target=\"_blank\">pkg/resolve/versionweight.jl:85</a><li> +(a::<b>Base.Pkg.Resolve.VersionWeights.VWPreBuild</b>, b::<b>Base.Pkg.Resolve.VersionWeights.VWPreBuild</b>) at <a href=\"https://github.com/JuliaLang/julia/tree/0ff703b40afddf9b705bd6a06d3a59cb4c089ea5/base/pkg/resolve/versionweight.jl#L131\" target=\"_blank\">pkg/resolve/versionweight.jl:131</a><li> +(a::<b>Base.Pkg.Resolve.VersionWeights.VersionWeight</b>, b::<b>Base.Pkg.Resolve.VersionWeights.VersionWeight</b>) at <a href=\"https://github.com/JuliaLang/julia/tree/0ff703b40afddf9b705bd6a06d3a59cb4c089ea5/base/pkg/resolve/versionweight.jl#L185\" target=\"_blank\">pkg/resolve/versionweight.jl:185</a><li> +(a::<b>Base.Pkg.Resolve.MaxSum.FieldValues.FieldValue</b>, b::<b>Base.Pkg.Resolve.MaxSum.FieldValues.FieldValue</b>) at <a href=\"https://github.com/JuliaLang/julia/tree/0ff703b40afddf9b705bd6a06d3a59cb4c089ea5/base/pkg/resolve/fieldvalue.jl#L44\" target=\"_blank\">pkg/resolve/fieldvalue.jl:44</a><li> +<i>{P<:Base.Dates.Period}</i>(x::<b>P<:Base.Dates.Period</b>, y::<b>P<:Base.Dates.Period</b>) at <a href=\"https://github.com/JuliaLang/julia/tree/0ff703b40afddf9b705bd6a06d3a59cb4c089ea5/base/dates/periods.jl#L43\" target=\"_blank\">dates/periods.jl:43</a><li> +(x::<b>Base.Dates.Period</b>, y::<b>Base.Dates.Period</b>) at <a href=\"https://github.com/JuliaLang/julia/tree/0ff703b40afddf9b705bd6a06d3a59cb4c089ea5/base/dates/periods.jl#L190\" target=\"_blank\">dates/periods.jl:190</a><li> +(x::<b>Base.Dates.CompoundPeriod</b>, y::<b>Base.Dates.Period</b>) at <a href=\"https://github.com/JuliaLang/julia/tree/0ff703b40afddf9b705bd6a06d3a59cb4c089ea5/base/dates/periods.jl#L191\" target=\"_blank\">dates/periods.jl:191</a><li> +(y::<b>Base.Dates.Period</b>, x::<b>Base.Dates.CompoundPeriod</b>) at <a href=\"https://github.com/JuliaLang/julia/tree/0ff703b40afddf9b705bd6a06d3a59cb4c089ea5/base/dates/periods.jl#L192\" target=\"_blank\">dates/periods.jl:192</a><li> +(x::<b>Base.Dates.CompoundPeriod</b>, y::<b>Base.Dates.CompoundPeriod</b>) at <a href=\"https://github.com/JuliaLang/julia/tree/0ff703b40afddf9b705bd6a06d3a59cb4c089ea5/base/dates/periods.jl#L193\" target=\"_blank\">dates/periods.jl:193</a><li> +(x::<b>Base.Dates.CompoundPeriod</b>, y::<b>Base.Dates.TimeType</b>) at <a href=\"https://github.com/JuliaLang/julia/tree/0ff703b40afddf9b705bd6a06d3a59cb4c089ea5/base/dates/periods.jl#L238\" target=\"_blank\">dates/periods.jl:238</a><li> +(y::<b>Base.Dates.Period</b>, x::<b>Base.Dates.TimeType</b>) at <a href=\"https://github.com/JuliaLang/julia/tree/0ff703b40afddf9b705bd6a06d3a59cb4c089ea5/base/dates/arithmetic.jl#L66\" target=\"_blank\">dates/arithmetic.jl:66</a><li> +<i>{T<:Base.Dates.TimeType}</i>(x::<b>Base.Dates.Period</b>, r::<b>Range{T<:Base.Dates.TimeType}</b>) at <a href=\"https://github.com/JuliaLang/julia/tree/0ff703b40afddf9b705bd6a06d3a59cb4c089ea5/base/dates/ranges.jl#L40\" target=\"_blank\">dates/ranges.jl:40</a><li> +(x::<b>Union{Base.Dates.CompoundPeriod,Base.Dates.Period}</b>) at <a href=\"https://github.com/JuliaLang/julia/tree/0ff703b40afddf9b705bd6a06d3a59cb4c089ea5/base/dates/periods.jl#L201\" target=\"_blank\">dates/periods.jl:201</a><li> +<i>{P<:Union{Base.Dates.CompoundPeriod,Base.Dates.Period}}</i>(x::<b>Union{Base.Dates.CompoundPeriod,Base.Dates.Period}</b>, Y::<b>Union{DenseArray{P<:Union{Base.Dates.CompoundPeriod,Base.Dates.Period},N},SubArray{P<:Union{Base.Dates.CompoundPeriod,Base.Dates.Period},N,A<:DenseArray{T,N},I<:Tuple{Vararg{Union{Colon,Int64,Range{Int64}}}},LD}}</b>) at <a href=\"https://github.com/JuliaLang/julia/tree/0ff703b40afddf9b705bd6a06d3a59cb4c089ea5/base/dates/periods.jl#L215\" target=\"_blank\">dates/periods.jl:215</a><li> +(dt::<b>DateTime</b>, y::<b>Base.Dates.Year</b>) at <a href=\"https://github.com/JuliaLang/julia/tree/0ff703b40afddf9b705bd6a06d3a59cb4c089ea5/base/dates/arithmetic.jl#L13\" target=\"_blank\">dates/arithmetic.jl:13</a><li> +(dt::<b>Date</b>, y::<b>Base.Dates.Year</b>) at <a href=\"https://github.com/JuliaLang/julia/tree/0ff703b40afddf9b705bd6a06d3a59cb4c089ea5/base/dates/arithmetic.jl#L17\" target=\"_blank\">dates/arithmetic.jl:17</a><li> +(dt::<b>DateTime</b>, z::<b>Base.Dates.Month</b>) at <a href=\"https://github.com/JuliaLang/julia/tree/0ff703b40afddf9b705bd6a06d3a59cb4c089ea5/base/dates/arithmetic.jl#L37\" target=\"_blank\">dates/arithmetic.jl:37</a><li> +(dt::<b>Date</b>, z::<b>Base.Dates.Month</b>) at <a href=\"https://github.com/JuliaLang/julia/tree/0ff703b40afddf9b705bd6a06d3a59cb4c089ea5/base/dates/arithmetic.jl#L43\" target=\"_blank\">dates/arithmetic.jl:43</a><li> +(x::<b>Date</b>, y::<b>Base.Dates.Week</b>) at <a href=\"https://github.com/JuliaLang/julia/tree/0ff703b40afddf9b705bd6a06d3a59cb4c089ea5/base/dates/arithmetic.jl#L60\" target=\"_blank\">dates/arithmetic.jl:60</a><li> +(x::<b>Date</b>, y::<b>Base.Dates.Day</b>) at <a href=\"https://github.com/JuliaLang/julia/tree/0ff703b40afddf9b705bd6a06d3a59cb4c089ea5/base/dates/arithmetic.jl#L62\" target=\"_blank\">dates/arithmetic.jl:62</a><li> +(x::<b>DateTime</b>, y::<b>Base.Dates.Period</b>) at <a href=\"https://github.com/JuliaLang/julia/tree/0ff703b40afddf9b705bd6a06d3a59cb4c089ea5/base/dates/arithmetic.jl#L64\" target=\"_blank\">dates/arithmetic.jl:64</a><li> +(x::<b>Base.Dates.TimeType</b>) at <a href=\"https://github.com/JuliaLang/julia/tree/0ff703b40afddf9b705bd6a06d3a59cb4c089ea5/base/dates/arithmetic.jl#L8\" target=\"_blank\">dates/arithmetic.jl:8</a><li> +(a::<b>Base.Dates.TimeType</b>, b::<b>Base.Dates.Period</b>, c::<b>Base.Dates.Period</b>) at <a href=\"https://github.com/JuliaLang/julia/tree/0ff703b40afddf9b705bd6a06d3a59cb4c089ea5/base/dates/periods.jl#L227\" target=\"_blank\">dates/periods.jl:227</a><li> +(a::<b>Base.Dates.TimeType</b>, b::<b>Base.Dates.Period</b>, c::<b>Base.Dates.Period</b>, d::<b>Base.Dates.Period...</b>) at <a href=\"https://github.com/JuliaLang/julia/tree/0ff703b40afddf9b705bd6a06d3a59cb4c089ea5/base/dates/periods.jl#L229\" target=\"_blank\">dates/periods.jl:229</a><li> +(x::<b>Base.Dates.TimeType</b>, y::<b>Base.Dates.CompoundPeriod</b>) at <a href=\"https://github.com/JuliaLang/julia/tree/0ff703b40afddf9b705bd6a06d3a59cb4c089ea5/base/dates/periods.jl#L233\" target=\"_blank\">dates/periods.jl:233</a><li> +(x::<b>Base.Dates.Instant</b>) at <a href=\"https://github.com/JuliaLang/julia/tree/0ff703b40afddf9b705bd6a06d3a59cb4c089ea5/base/dates/arithmetic.jl#L4\" target=\"_blank\">dates/arithmetic.jl:4</a><li> +<i>{T<:Base.Dates.TimeType}</i>(x::<b>AbstractArray{T<:Base.Dates.TimeType,N}</b>, y::<b>Union{Base.Dates.CompoundPeriod,Base.Dates.Period}</b>) at <a href=\"https://github.com/JuliaLang/julia/tree/0ff703b40afddf9b705bd6a06d3a59cb4c089ea5/base/dates/arithmetic.jl#L76\" target=\"_blank\">dates/arithmetic.jl:76</a><li> +<i>{T<:Base.Dates.TimeType}</i>(y::<b>Union{Base.Dates.CompoundPeriod,Base.Dates.Period}</b>, x::<b>AbstractArray{T<:Base.Dates.TimeType,N}</b>) at <a href=\"https://github.com/JuliaLang/julia/tree/0ff703b40afddf9b705bd6a06d3a59cb4c089ea5/base/dates/arithmetic.jl#L77\" target=\"_blank\">dates/arithmetic.jl:77</a><li> +<i>{P<:Union{Base.Dates.CompoundPeriod,Base.Dates.Period}}</i>(y::<b>Base.Dates.TimeType</b>, x::<b>Union{DenseArray{P<:Union{Base.Dates.CompoundPeriod,Base.Dates.Period},N},SubArray{P<:Union{Base.Dates.CompoundPeriod,Base.Dates.Period},N,A<:DenseArray{T,N},I<:Tuple{Vararg{Union{Colon,Int64,Range{Int64}}}},LD}}</b>) at <a href=\"https://github.com/JuliaLang/julia/tree/0ff703b40afddf9b705bd6a06d3a59cb4c089ea5/base/dates/arithmetic.jl#L84\" target=\"_blank\">dates/arithmetic.jl:84</a><li> +(a, b, c, xs...) at <a href=\"https://github.com/JuliaLang/julia/tree/0ff703b40afddf9b705bd6a06d3a59cb4c089ea5/base/operators.jl#L103\" target=\"_blank\">operators.jl:103</a></ul>"
      ],
      "text/plain": [
       "# 171 methods for generic function \"+\":\n",
       "+(x::Bool) at bool.jl:33\n",
       "+(x::Bool, y::Bool) at bool.jl:36\n",
       "+(y::AbstractFloat, x::Bool) at bool.jl:46\n",
       "+(x::Int64, y::Int64) at int.jl:8\n",
       "+(x::Int8, y::Int8) at int.jl:16\n",
       "+(x::UInt8, y::UInt8) at int.jl:16\n",
       "+(x::Int16, y::Int16) at int.jl:16\n",
       "+(x::UInt16, y::UInt16) at int.jl:16\n",
       "+(x::Int32, y::Int32) at int.jl:16\n",
       "+(x::UInt32, y::UInt32) at int.jl:16\n",
       "+(x::UInt64, y::UInt64) at int.jl:16\n",
       "+(x::Int128, y::Int128) at int.jl:16\n",
       "+(x::UInt128, y::UInt128) at int.jl:16\n",
       "+(x::Integer, y::Ptr{T}) at pointer.jl:77\n",
       "+(x::Float32, y::Float32) at float.jl:203\n",
       "+(x::Float64, y::Float64) at float.jl:204\n",
       "+(z::Complex{T<:Real}, w::Complex{T<:Real}) at complex.jl:111\n",
       "+(x::Bool, z::Complex{Bool}) at complex.jl:118\n",
       "+(z::Complex{Bool}, x::Bool) at complex.jl:119\n",
       "+(x::Bool, z::Complex{T<:Real}) at complex.jl:125\n",
       "+(z::Complex{T<:Real}, x::Bool) at complex.jl:126\n",
       "+(x::Real, z::Complex{Bool}) at complex.jl:132\n",
       "+(z::Complex{Bool}, x::Real) at complex.jl:133\n",
       "+(x::Real, z::Complex{T<:Real}) at complex.jl:144\n",
       "+(z::Complex{T<:Real}, x::Real) at complex.jl:145\n",
       "+(x::Rational{T<:Integer}, y::Rational{T<:Integer}) at rational.jl:179\n",
       "+(x::Bool, A::AbstractArray{Bool,N}) at arraymath.jl:136\n",
       "+(x::Integer, y::Char) at char.jl:43\n",
       "+(a::Float16, b::Float16) at float16.jl:136\n",
       "+(x::BigInt, y::BigInt) at gmp.jl:246\n",
       "+(a::BigInt, b::BigInt, c::BigInt) at gmp.jl:269\n",
       "+(a::BigInt, b::BigInt, c::BigInt, d::BigInt) at gmp.jl:275\n",
       "+(a::BigInt, b::BigInt, c::BigInt, d::BigInt, e::BigInt) at gmp.jl:282\n",
       "+(x::BigInt, c::Union{UInt16,UInt32,UInt64,UInt8}) at gmp.jl:294\n",
       "+(c::Union{UInt16,UInt32,UInt64,UInt8}, x::BigInt) at gmp.jl:298\n",
       "+(x::BigInt, c::Union{Int16,Int32,Int64,Int8}) at gmp.jl:310\n",
       "+(c::Union{Int16,Int32,Int64,Int8}, x::BigInt) at gmp.jl:311\n",
       "+(x::BigFloat, y::BigFloat) at mpfr.jl:208\n",
       "+(x::BigFloat, c::Union{UInt16,UInt32,UInt64,UInt8}) at mpfr.jl:215\n",
       "+(c::Union{UInt16,UInt32,UInt64,UInt8}, x::BigFloat) at mpfr.jl:219\n",
       "+(x::BigFloat, c::Union{Int16,Int32,Int64,Int8}) at mpfr.jl:223\n",
       "+(c::Union{Int16,Int32,Int64,Int8}, x::BigFloat) at mpfr.jl:227\n",
       "+(x::BigFloat, c::Union{Float16,Float32,Float64}) at mpfr.jl:231\n",
       "+(c::Union{Float16,Float32,Float64}, x::BigFloat) at mpfr.jl:235\n",
       "+(x::BigFloat, c::BigInt) at mpfr.jl:239\n",
       "+(c::BigInt, x::BigFloat) at mpfr.jl:243\n",
       "+(a::BigFloat, b::BigFloat, c::BigFloat) at mpfr.jl:379\n",
       "+(a::BigFloat, b::BigFloat, c::BigFloat, d::BigFloat) at mpfr.jl:385\n",
       "+(a::BigFloat, b::BigFloat, c::BigFloat, d::BigFloat, e::BigFloat) at mpfr.jl:392\n",
       "+(x::Irrational{sym}, y::Irrational{sym}) at irrationals.jl:72\n",
       "+(x::Number) at operators.jl:73\n",
       "+{T<:Number}(x::T<:Number, y::T<:Number) at promotion.jl:211\n",
       "+{T<:AbstractFloat}(x::Bool, y::T<:AbstractFloat) at bool.jl:43\n",
       "+(x::Number, y::Number) at promotion.jl:167\n",
       "+(r1::OrdinalRange{T,S}, r2::OrdinalRange{T,S}) at operators.jl:330\n",
       "+{T<:AbstractFloat}(r1::FloatRange{T<:AbstractFloat}, r2::FloatRange{T<:AbstractFloat}) at operators.jl:337\n",
       "+{T<:AbstractFloat}(r1::LinSpace{T<:AbstractFloat}, r2::LinSpace{T<:AbstractFloat}) at operators.jl:356\n",
       "+(r1::Union{FloatRange{T<:AbstractFloat},LinSpace{T<:AbstractFloat},OrdinalRange{T,S}}, r2::Union{FloatRange{T<:AbstractFloat},LinSpace{T<:AbstractFloat},OrdinalRange{T,S}}) at operators.jl:369\n",
       "+(x::Ptr{T}, y::Integer) at pointer.jl:75\n",
       "+{S,T}(A::Range{S}, B::Range{T}) at arraymath.jl:69\n",
       "+{S,T}(A::Range{S}, B::AbstractArray{T,N}) at arraymath.jl:87\n",
       "+(A::BitArray{N}, B::BitArray{N}) at bitarray.jl:845\n",
       "+{T}(B::BitArray{2}, J::UniformScaling{T}) at linalg/uniformscaling.jl:28\n",
       "+(A::Array{T,2}, B::Diagonal{T}) at linalg/special.jl:122\n",
       "+(A::Array{T,2}, B::Bidiagonal{T}) at linalg/special.jl:122\n",
       "+(A::Array{T,2}, B::Tridiagonal{T}) at linalg/special.jl:122\n",
       "+(A::Array{T,2}, B::SymTridiagonal{T}) at linalg/special.jl:131\n",
       "+(A::Array{T,2}, B::Base.LinAlg.AbstractTriangular{T,S<:AbstractArray{T,2}}) at linalg/special.jl:159\n",
       "+(A::Array{T,N}, B::SparseMatrixCSC{Tv,Ti<:Integer}) at sparse/sparsematrix.jl:1018\n",
       "+{P<:Union{Base.Dates.CompoundPeriod,Base.Dates.Period}}(x::Union{DenseArray{P<:Union{Base.Dates.CompoundPeriod,Base.Dates.Period},N},SubArray{P<:Union{Base.Dates.CompoundPeriod,Base.Dates.Period},N,A<:DenseArray{T,N},I<:Tuple{Vararg{Union{Colon,Int64,Range{Int64}}}},LD}}) at dates/periods.jl:202\n",
       "+(A::AbstractArray{Bool,N}, x::Bool) at arraymath.jl:135\n",
       "+(A::Union{DenseArray{Bool,N},SubArray{Bool,N,A<:DenseArray{T,N},I<:Tuple{Vararg{Union{Colon,Int64,Range{Int64}}}},LD}}, B::Union{DenseArray{Bool,N},SubArray{Bool,N,A<:DenseArray{T,N},I<:Tuple{Vararg{Union{Colon,Int64,Range{Int64}}}},LD}}) at arraymath.jl:166\n",
       "+(A::SymTridiagonal{T}, B::SymTridiagonal{T}) at linalg/tridiag.jl:84\n",
       "+(A::Tridiagonal{T}, B::Tridiagonal{T}) at linalg/tridiag.jl:404\n",
       "+(A::UpperTriangular{T,S<:AbstractArray{T,2}}, B::UpperTriangular{T,S<:AbstractArray{T,2}}) at linalg/triangular.jl:339\n",
       "+(A::LowerTriangular{T,S<:AbstractArray{T,2}}, B::LowerTriangular{T,S<:AbstractArray{T,2}}) at linalg/triangular.jl:340\n",
       "+(A::UpperTriangular{T,S<:AbstractArray{T,2}}, B::Base.LinAlg.UnitUpperTriangular{T,S<:AbstractArray{T,2}}) at linalg/triangular.jl:341\n",
       "+(A::LowerTriangular{T,S<:AbstractArray{T,2}}, B::Base.LinAlg.UnitLowerTriangular{T,S<:AbstractArray{T,2}}) at linalg/triangular.jl:342\n",
       "+(A::Base.LinAlg.UnitUpperTriangular{T,S<:AbstractArray{T,2}}, B::UpperTriangular{T,S<:AbstractArray{T,2}}) at linalg/triangular.jl:343\n",
       "+(A::Base.LinAlg.UnitLowerTriangular{T,S<:AbstractArray{T,2}}, B::LowerTriangular{T,S<:AbstractArray{T,2}}) at linalg/triangular.jl:344\n",
       "+(A::Base.LinAlg.UnitUpperTriangular{T,S<:AbstractArray{T,2}}, B::Base.LinAlg.UnitUpperTriangular{T,S<:AbstractArray{T,2}}) at linalg/triangular.jl:345\n",
       "+(A::Base.LinAlg.UnitLowerTriangular{T,S<:AbstractArray{T,2}}, B::Base.LinAlg.UnitLowerTriangular{T,S<:AbstractArray{T,2}}) at linalg/triangular.jl:346\n",
       "+(A::Base.LinAlg.AbstractTriangular{T,S<:AbstractArray{T,2}}, B::Base.LinAlg.AbstractTriangular{T,S<:AbstractArray{T,2}}) at linalg/triangular.jl:347\n",
       "+(Da::Diagonal{T}, Db::Diagonal{T}) at linalg/diagonal.jl:86\n",
       "+(A::Bidiagonal{T}, B::Bidiagonal{T}) at linalg/bidiag.jl:176\n",
       "+(UL::UpperTriangular{T,S<:AbstractArray{T,2}}, J::UniformScaling{T<:Number}) at linalg/uniformscaling.jl:45\n",
       "+(UL::Base.LinAlg.UnitUpperTriangular{T,S<:AbstractArray{T,2}}, J::UniformScaling{T<:Number}) at linalg/uniformscaling.jl:48\n",
       "+(UL::LowerTriangular{T,S<:AbstractArray{T,2}}, J::UniformScaling{T<:Number}) at linalg/uniformscaling.jl:45\n",
       "+(UL::Base.LinAlg.UnitLowerTriangular{T,S<:AbstractArray{T,2}}, J::UniformScaling{T<:Number}) at linalg/uniformscaling.jl:48\n",
       "+(A::Diagonal{T}, B::Bidiagonal{T}) at linalg/special.jl:121\n",
       "+(A::Bidiagonal{T}, B::Diagonal{T}) at linalg/special.jl:122\n",
       "+(A::Diagonal{T}, B::Tridiagonal{T}) at linalg/special.jl:121\n",
       "+(A::Tridiagonal{T}, B::Diagonal{T}) at linalg/special.jl:122\n",
       "+(A::Diagonal{T}, B::Array{T,2}) at linalg/special.jl:121\n",
       "+(A::Bidiagonal{T}, B::Tridiagonal{T}) at linalg/special.jl:121\n",
       "+(A::Tridiagonal{T}, B::Bidiagonal{T}) at linalg/special.jl:122\n",
       "+(A::Bidiagonal{T}, B::Array{T,2}) at linalg/special.jl:121\n",
       "+(A::Tridiagonal{T}, B::Array{T,2}) at linalg/special.jl:121\n",
       "+(A::SymTridiagonal{T}, B::Tridiagonal{T}) at linalg/special.jl:130\n",
       "+(A::Tridiagonal{T}, B::SymTridiagonal{T}) at linalg/special.jl:131\n",
       "+(A::SymTridiagonal{T}, B::Array{T,2}) at linalg/special.jl:130\n",
       "+(A::Diagonal{T}, B::SymTridiagonal{T}) at linalg/special.jl:139\n",
       "+(A::SymTridiagonal{T}, B::Diagonal{T}) at linalg/special.jl:140\n",
       "+(A::Bidiagonal{T}, B::SymTridiagonal{T}) at linalg/special.jl:139\n",
       "+(A::SymTridiagonal{T}, B::Bidiagonal{T}) at linalg/special.jl:140\n",
       "+(A::Diagonal{T}, B::UpperTriangular{T,S<:AbstractArray{T,2}}) at linalg/special.jl:151\n",
       "+(A::UpperTriangular{T,S<:AbstractArray{T,2}}, B::Diagonal{T}) at linalg/special.jl:152\n",
       "+(A::Diagonal{T}, B::Base.LinAlg.UnitUpperTriangular{T,S<:AbstractArray{T,2}}) at linalg/special.jl:151\n",
       "+(A::Base.LinAlg.UnitUpperTriangular{T,S<:AbstractArray{T,2}}, B::Diagonal{T}) at linalg/special.jl:152\n",
       "+(A::Diagonal{T}, B::LowerTriangular{T,S<:AbstractArray{T,2}}) at linalg/special.jl:151\n",
       "+(A::LowerTriangular{T,S<:AbstractArray{T,2}}, B::Diagonal{T}) at linalg/special.jl:152\n",
       "+(A::Diagonal{T}, B::Base.LinAlg.UnitLowerTriangular{T,S<:AbstractArray{T,2}}) at linalg/special.jl:151\n",
       "+(A::Base.LinAlg.UnitLowerTriangular{T,S<:AbstractArray{T,2}}, B::Diagonal{T}) at linalg/special.jl:152\n",
       "+(A::Base.LinAlg.AbstractTriangular{T,S<:AbstractArray{T,2}}, B::SymTridiagonal{T}) at linalg/special.jl:158\n",
       "+(A::SymTridiagonal{T}, B::Base.LinAlg.AbstractTriangular{T,S<:AbstractArray{T,2}}) at linalg/special.jl:159\n",
       "+(A::Base.LinAlg.AbstractTriangular{T,S<:AbstractArray{T,2}}, B::Tridiagonal{T}) at linalg/special.jl:158\n",
       "+(A::Tridiagonal{T}, B::Base.LinAlg.AbstractTriangular{T,S<:AbstractArray{T,2}}) at linalg/special.jl:159\n",
       "+(A::Base.LinAlg.AbstractTriangular{T,S<:AbstractArray{T,2}}, B::Bidiagonal{T}) at linalg/special.jl:158\n",
       "+(A::Bidiagonal{T}, B::Base.LinAlg.AbstractTriangular{T,S<:AbstractArray{T,2}}) at linalg/special.jl:159\n",
       "+(A::Base.LinAlg.AbstractTriangular{T,S<:AbstractArray{T,2}}, B::Array{T,2}) at linalg/special.jl:158\n",
       "+{Tv1,Ti1,Tv2,Ti2}(A_1::SparseMatrixCSC{Tv1,Ti1}, A_2::SparseMatrixCSC{Tv2,Ti2}) at sparse/sparsematrix.jl:1004\n",
       "+(A::SparseMatrixCSC{Tv,Ti<:Integer}, B::Array{T,N}) at sparse/sparsematrix.jl:1016\n",
       "+(A::SparseMatrixCSC{Tv,Ti<:Integer}, J::UniformScaling{T<:Number}) at sparse/sparsematrix.jl:2985\n",
       "+{P<:Union{Base.Dates.CompoundPeriod,Base.Dates.Period}}(Y::Union{DenseArray{P<:Union{Base.Dates.CompoundPeriod,Base.Dates.Period},N},SubArray{P<:Union{Base.Dates.CompoundPeriod,Base.Dates.Period},N,A<:DenseArray{T,N},I<:Tuple{Vararg{Union{Colon,Int64,Range{Int64}}}},LD}}, x::Union{Base.Dates.CompoundPeriod,Base.Dates.Period}) at dates/periods.jl:216\n",
       "+{P<:Union{Base.Dates.CompoundPeriod,Base.Dates.Period},Q<:Union{Base.Dates.CompoundPeriod,Base.Dates.Period}}(X::Union{DenseArray{P<:Union{Base.Dates.CompoundPeriod,Base.Dates.Period},N},SubArray{P<:Union{Base.Dates.CompoundPeriod,Base.Dates.Period},N,A<:DenseArray{T,N},I<:Tuple{Vararg{Union{Colon,Int64,Range{Int64}}}},LD}}, Y::Union{DenseArray{Q<:Union{Base.Dates.CompoundPeriod,Base.Dates.Period},N},SubArray{Q<:Union{Base.Dates.CompoundPeriod,Base.Dates.Period},N,A<:DenseArray{T,N},I<:Tuple{Vararg{Union{Colon,Int64,Range{Int64}}}},LD}}) at dates/periods.jl:217\n",
       "+{T<:Base.Dates.TimeType,P<:Union{Base.Dates.CompoundPeriod,Base.Dates.Period}}(x::Union{DenseArray{P<:Union{Base.Dates.CompoundPeriod,Base.Dates.Period},N},SubArray{P<:Union{Base.Dates.CompoundPeriod,Base.Dates.Period},N,A<:DenseArray{T,N},I<:Tuple{Vararg{Union{Colon,Int64,Range{Int64}}}},LD}}, y::T<:Base.Dates.TimeType) at dates/arithmetic.jl:83\n",
       "+{T<:Base.Dates.TimeType}(r::Range{T<:Base.Dates.TimeType}, x::Base.Dates.Period) at dates/ranges.jl:39\n",
       "+{T<:Number}(x::AbstractArray{T<:Number,N}) at abstractarraymath.jl:49\n",
       "+{S,T}(A::AbstractArray{S,N}, B::Range{T}) at arraymath.jl:78\n",
       "+{S,T}(A::AbstractArray{S,N}, B::AbstractArray{T,N}) at arraymath.jl:96\n",
       "+(A::AbstractArray{T,N}, x::Number) at arraymath.jl:139\n",
       "+(x::Number, A::AbstractArray{T,N}) at arraymath.jl:140\n",
       "+(x::Char, y::Integer) at char.jl:42\n",
       "+{N}(index1::CartesianIndex{N}, index2::CartesianIndex{N}) at multidimensional.jl:42\n",
       "+(J1::UniformScaling{T<:Number}, J2::UniformScaling{T<:Number}) at linalg/uniformscaling.jl:27\n",
       "+(J::UniformScaling{T<:Number}, B::BitArray{2}) at linalg/uniformscaling.jl:29\n",
       "+(J::UniformScaling{T<:Number}, A::AbstractArray{T,2}) at linalg/uniformscaling.jl:30\n",
       "+(J::UniformScaling{T<:Number}, x::Number) at linalg/uniformscaling.jl:31\n",
       "+(x::Number, J::UniformScaling{T<:Number}) at linalg/uniformscaling.jl:32\n",
       "+{TA,TJ}(A::AbstractArray{TA,2}, J::UniformScaling{TJ}) at linalg/uniformscaling.jl:92\n",
       "+{T}(a::Base.Pkg.Resolve.VersionWeights.HierarchicalValue{T}, b::Base.Pkg.Resolve.VersionWeights.HierarchicalValue{T}) at pkg/resolve/versionweight.jl:23\n",
       "+(a::Base.Pkg.Resolve.VersionWeights.VWPreBuildItem, b::Base.Pkg.Resolve.VersionWeights.VWPreBuildItem) at pkg/resolve/versionweight.jl:85\n",
       "+(a::Base.Pkg.Resolve.VersionWeights.VWPreBuild, b::Base.Pkg.Resolve.VersionWeights.VWPreBuild) at pkg/resolve/versionweight.jl:131\n",
       "+(a::Base.Pkg.Resolve.VersionWeights.VersionWeight, b::Base.Pkg.Resolve.VersionWeights.VersionWeight) at pkg/resolve/versionweight.jl:185\n",
       "+(a::Base.Pkg.Resolve.MaxSum.FieldValues.FieldValue, b::Base.Pkg.Resolve.MaxSum.FieldValues.FieldValue) at pkg/resolve/fieldvalue.jl:44\n",
       "+{P<:Base.Dates.Period}(x::P<:Base.Dates.Period, y::P<:Base.Dates.Period) at dates/periods.jl:43\n",
       "+(x::Base.Dates.Period, y::Base.Dates.Period) at dates/periods.jl:190\n",
       "+(x::Base.Dates.CompoundPeriod, y::Base.Dates.Period) at dates/periods.jl:191\n",
       "+(y::Base.Dates.Period, x::Base.Dates.CompoundPeriod) at dates/periods.jl:192\n",
       "+(x::Base.Dates.CompoundPeriod, y::Base.Dates.CompoundPeriod) at dates/periods.jl:193\n",
       "+(x::Base.Dates.CompoundPeriod, y::Base.Dates.TimeType) at dates/periods.jl:238\n",
       "+(y::Base.Dates.Period, x::Base.Dates.TimeType) at dates/arithmetic.jl:66\n",
       "+{T<:Base.Dates.TimeType}(x::Base.Dates.Period, r::Range{T<:Base.Dates.TimeType}) at dates/ranges.jl:40\n",
       "+(x::Union{Base.Dates.CompoundPeriod,Base.Dates.Period}) at dates/periods.jl:201\n",
       "+{P<:Union{Base.Dates.CompoundPeriod,Base.Dates.Period}}(x::Union{Base.Dates.CompoundPeriod,Base.Dates.Period}, Y::Union{DenseArray{P<:Union{Base.Dates.CompoundPeriod,Base.Dates.Period},N},SubArray{P<:Union{Base.Dates.CompoundPeriod,Base.Dates.Period},N,A<:DenseArray{T,N},I<:Tuple{Vararg{Union{Colon,Int64,Range{Int64}}}},LD}}) at dates/periods.jl:215\n",
       "+(dt::DateTime, y::Base.Dates.Year) at dates/arithmetic.jl:13\n",
       "+(dt::Date, y::Base.Dates.Year) at dates/arithmetic.jl:17\n",
       "+(dt::DateTime, z::Base.Dates.Month) at dates/arithmetic.jl:37\n",
       "+(dt::Date, z::Base.Dates.Month) at dates/arithmetic.jl:43\n",
       "+(x::Date, y::Base.Dates.Week) at dates/arithmetic.jl:60\n",
       "+(x::Date, y::Base.Dates.Day) at dates/arithmetic.jl:62\n",
       "+(x::DateTime, y::Base.Dates.Period) at dates/arithmetic.jl:64\n",
       "+(x::Base.Dates.TimeType) at dates/arithmetic.jl:8\n",
       "+(a::Base.Dates.TimeType, b::Base.Dates.Period, c::Base.Dates.Period) at dates/periods.jl:227\n",
       "+(a::Base.Dates.TimeType, b::Base.Dates.Period, c::Base.Dates.Period, d::Base.Dates.Period...) at dates/periods.jl:229\n",
       "+(x::Base.Dates.TimeType, y::Base.Dates.CompoundPeriod) at dates/periods.jl:233\n",
       "+(x::Base.Dates.Instant) at dates/arithmetic.jl:4\n",
       "+{T<:Base.Dates.TimeType}(x::AbstractArray{T<:Base.Dates.TimeType,N}, y::Union{Base.Dates.CompoundPeriod,Base.Dates.Period}) at dates/arithmetic.jl:76\n",
       "+{T<:Base.Dates.TimeType}(y::Union{Base.Dates.CompoundPeriod,Base.Dates.Period}, x::AbstractArray{T<:Base.Dates.TimeType,N}) at dates/arithmetic.jl:77\n",
       "+{P<:Union{Base.Dates.CompoundPeriod,Base.Dates.Period}}(y::Base.Dates.TimeType, x::Union{DenseArray{P<:Union{Base.Dates.CompoundPeriod,Base.Dates.Period},N},SubArray{P<:Union{Base.Dates.CompoundPeriod,Base.Dates.Period},N,A<:DenseArray{T,N},I<:Tuple{Vararg{Union{Colon,Int64,Range{Int64}}}},LD}}) at dates/arithmetic.jl:84\n",
       "+(a, b, c, xs...) at operators.jl:103"
      ]
     },
     "execution_count": 84,
     "metadata": {},
     "output_type": "execute_result"
    }
   ],
   "source": [
    "# There are quite a few\n",
    "methods(+)"
   ]
  },
  {
   "cell_type": "code",
   "execution_count": 85,
   "metadata": {
    "collapsed": true
   },
   "outputs": [
    {
     "data": {
      "text/plain": [
       "4 + 2im"
      ]
     },
     "execution_count": 85,
     "metadata": {},
     "output_type": "execute_result"
    }
   ],
   "source": [
    "# So I can use it like this\n",
    "+(2, 2 + 2im)"
   ]
  },
  {
   "cell_type": "markdown",
   "metadata": {},
   "source": [
    "The following won't work, because there is no method for it:\n",
    "```\n",
    "+(\"I love \", \"Nutalla!\")\n",
    "```"
   ]
  },
  {
   "cell_type": "code",
   "execution_count": 86,
   "metadata": {
    "collapsed": true
   },
   "outputs": [
    {
     "data": {
      "text/plain": [
       "\"I love Nutella\""
      ]
     },
     "execution_count": 86,
     "metadata": {},
     "output_type": "execute_result"
    }
   ],
   "source": [
    "# This will, though\n",
    "*(\"I love \", \"Nutella\")"
   ]
  },
  {
   "cell_type": "markdown",
   "metadata": {},
   "source": [
    "When you call a function, such as *+*, you can see which method is used."
   ]
  },
  {
   "cell_type": "code",
   "execution_count": 87,
   "metadata": {
    "collapsed": true
   },
   "outputs": [
    {
     "data": {
      "text/html": [
       "*(x::<b>Bool</b>, y::<b>Bool</b>) at <a href=\"https://github.com/JuliaLang/julia/tree/0ff703b40afddf9b705bd6a06d3a59cb4c089ea5/base/bool.jl#L38\" target=\"_blank\">bool.jl:38</a>"
      ],
      "text/plain": [
       "*(x::Bool, y::Bool) at bool.jl:38"
      ]
     },
     "execution_count": 87,
     "metadata": {},
     "output_type": "execute_result"
    }
   ],
   "source": [
    "# Using the macro @which\n",
    "@which *(true, true)"
   ]
  },
  {
   "cell_type": "markdown",
   "metadata": {},
   "source": [
    "We can also find out which functions use a spefici type."
   ]
  },
  {
   "cell_type": "code",
   "execution_count": 88,
   "metadata": {
    "collapsed": true
   },
   "outputs": [
    {
     "data": {
      "text/html": [
       "728-element Array{Method,1}:<ul><li> $(x::<b>Integer</b>) at <a href=\"https://github.com/JuliaLang/julia/tree/0ff703b40afddf9b705bd6a06d3a59cb4c089ea5/base/operators.jl#L77\" target=\"_blank\">operators.jl:77</a><li> $<i>{T<:Integer}</i>(x::<b>T<:Integer</b>, y::<b>T<:Integer</b>) at <a href=\"https://github.com/JuliaLang/julia/tree/0ff703b40afddf9b705bd6a06d3a59cb4c089ea5/base/promotion.jl#L223\" target=\"_blank\">promotion.jl:223</a><li> $(x::<b>Integer</b>, y::<b>Integer</b>) at <a href=\"https://github.com/JuliaLang/julia/tree/0ff703b40afddf9b705bd6a06d3a59cb4c089ea5/base/promotion.jl#L178\" target=\"_blank\">promotion.jl:178</a><li> rem(x::<b>Integer</b>, ::<b>Type{Bool}</b>) at <a href=\"https://github.com/JuliaLang/julia/tree/0ff703b40afddf9b705bd6a06d3a59cb4c089ea5/base/int.jl#L203\" target=\"_blank\">int.jl:203</a><li> rem<i>{T<:Integer}</i>(x::<b>T<:Integer</b>, ::<b>Type{T<:Integer}</b>) at <a href=\"https://github.com/JuliaLang/julia/tree/0ff703b40afddf9b705bd6a06d3a59cb4c089ea5/base/int.jl#L202\" target=\"_blank\">int.jl:202</a><li> &(x::<b>Integer</b>) at <a href=\"https://github.com/JuliaLang/julia/tree/0ff703b40afddf9b705bd6a06d3a59cb4c089ea5/base/operators.jl#L75\" target=\"_blank\">operators.jl:75</a><li> &<i>{T<:Integer}</i>(x::<b>T<:Integer</b>, y::<b>T<:Integer</b>) at <a href=\"https://github.com/JuliaLang/julia/tree/0ff703b40afddf9b705bd6a06d3a59cb4c089ea5/base/promotion.jl#L221\" target=\"_blank\">promotion.jl:221</a><li> &(x::<b>Integer</b>, y::<b>Integer</b>) at <a href=\"https://github.com/JuliaLang/julia/tree/0ff703b40afddf9b705bd6a06d3a59cb4c089ea5/base/promotion.jl#L176\" target=\"_blank\">promotion.jl:176</a><li> *<i>{N}</i>(a::<b>Integer</b>, index::<b>CartesianIndex{N}</b>) at <a href=\"https://github.com/JuliaLang/julia/tree/0ff703b40afddf9b705bd6a06d3a59cb4c089ea5/base/multidimensional.jl#L50\" target=\"_blank\">multidimensional.jl:50</a><li> *(index::<b>CartesianIndex{N}</b>, a::<b>Integer</b>) at <a href=\"https://github.com/JuliaLang/julia/tree/0ff703b40afddf9b705bd6a06d3a59cb4c089ea5/base/multidimensional.jl#L54\" target=\"_blank\">multidimensional.jl:54</a><li> +(x::<b>Integer</b>, y::<b>Ptr{T}</b>) at <a href=\"https://github.com/JuliaLang/julia/tree/0ff703b40afddf9b705bd6a06d3a59cb4c089ea5/base/pointer.jl#L77\" target=\"_blank\">pointer.jl:77</a><li> +(x::<b>Integer</b>, y::<b>Char</b>) at <a href=\"https://github.com/JuliaLang/julia/tree/0ff703b40afddf9b705bd6a06d3a59cb4c089ea5/base/char.jl#L43\" target=\"_blank\">char.jl:43</a><li> +(x::<b>Ptr{T}</b>, y::<b>Integer</b>) at <a href=\"https://github.com/JuliaLang/julia/tree/0ff703b40afddf9b705bd6a06d3a59cb4c089ea5/base/pointer.jl#L75\" target=\"_blank\">pointer.jl:75</a><li> +(x::<b>Char</b>, y::<b>Integer</b>) at <a href=\"https://github.com/JuliaLang/julia/tree/0ff703b40afddf9b705bd6a06d3a59cb4c089ea5/base/char.jl#L42\" target=\"_blank\">char.jl:42</a><li> -(x::<b>Ptr{T}</b>, y::<b>Integer</b>) at <a href=\"https://github.com/JuliaLang/julia/tree/0ff703b40afddf9b705bd6a06d3a59cb4c089ea5/base/pointer.jl#L76\" target=\"_blank\">pointer.jl:76</a><li> -(x::<b>Char</b>, y::<b>Integer</b>) at <a href=\"https://github.com/JuliaLang/julia/tree/0ff703b40afddf9b705bd6a06d3a59cb4c089ea5/base/char.jl#L41\" target=\"_blank\">char.jl:41</a><li> .%<i>{P<:Base.Dates.Period}</i>(X::<b>Union{DenseArray{P<:Base.Dates.Period,N},SubArray{P<:Base.Dates.Period,N,A<:DenseArray{T,N},I<:Tuple{Vararg{Union{Colon,Int64,Range{Int64}}}},LD}}</b>, y::<b>Integer</b>) at <a href=\"https://github.com/JuliaLang/julia/tree/0ff703b40afddf9b705bd6a06d3a59cb4c089ea5/base/dates/periods.jl#L66\" target=\"_blank\">dates/periods.jl:66</a><li> .^(B::<b>BitArray{N}</b>, x::<b>Integer</b>) at <a href=\"https://github.com/JuliaLang/julia/tree/0ff703b40afddf9b705bd6a06d3a59cb4c089ea5/base/bitarray.jl#L989\" target=\"_blank\">bitarray.jl:989</a><li> /(x::<b>Integer</b>, y::<b>Integer</b>) at <a href=\"https://github.com/JuliaLang/julia/tree/0ff703b40afddf9b705bd6a06d3a59cb4c089ea5/base/int.jl#L23\" target=\"_blank\">int.jl:23</a><li> //(n::<b>Integer</b>, d::<b>Integer</b>) at <a href=\"https://github.com/JuliaLang/julia/tree/0ff703b40afddf9b705bd6a06d3a59cb4c089ea5/base/rational.jl#L22\" target=\"_blank\">rational.jl:22</a><li> //(x::<b>Rational{T<:Integer}</b>, y::<b>Integer</b>) at <a href=\"https://github.com/JuliaLang/julia/tree/0ff703b40afddf9b705bd6a06d3a59cb4c089ea5/base/rational.jl#L25\" target=\"_blank\">rational.jl:25</a><li> //(x::<b>Integer</b>, y::<b>Rational{T<:Integer}</b>) at <a href=\"https://github.com/JuliaLang/julia/tree/0ff703b40afddf9b705bd6a06d3a59cb4c089ea5/base/rational.jl#L29\" target=\"_blank\">rational.jl:29</a><li> <(x::<b>Rational{T<:Integer}</b>, y::<b>Integer</b>) at <a href=\"https://github.com/JuliaLang/julia/tree/0ff703b40afddf9b705bd6a06d3a59cb4c089ea5/base/rational.jl#L204\" target=\"_blank\">rational.jl:204</a><li> <(x::<b>Integer</b>, y::<b>Rational{T<:Integer}</b>) at <a href=\"https://github.com/JuliaLang/julia/tree/0ff703b40afddf9b705bd6a06d3a59cb4c089ea5/base/rational.jl#L205\" target=\"_blank\">rational.jl:205</a><li> <(x::<b>BigInt</b>, i::<b>Integer</b>) at <a href=\"https://github.com/JuliaLang/julia/tree/0ff703b40afddf9b705bd6a06d3a59cb4c089ea5/base/gmp.jl#L493\" target=\"_blank\">gmp.jl:493</a><li> <(i::<b>Integer</b>, x::<b>BigInt</b>) at <a href=\"https://github.com/JuliaLang/julia/tree/0ff703b40afddf9b705bd6a06d3a59cb4c089ea5/base/gmp.jl#L494\" target=\"_blank\">gmp.jl:494</a><li> <(x::<b>BigFloat</b>, y::<b>Integer</b>) at <a href=\"https://github.com/JuliaLang/julia/tree/0ff703b40afddf9b705bd6a06d3a59cb4c089ea5/base/mpfr.jl#L672\" target=\"_blank\">mpfr.jl:672</a><li> <(x::<b>Integer</b>, y::<b>BigFloat</b>) at <a href=\"https://github.com/JuliaLang/julia/tree/0ff703b40afddf9b705bd6a06d3a59cb4c089ea5/base/mpfr.jl#L673\" target=\"_blank\">mpfr.jl:673</a><li> <<(x, y::<b>Integer</b>) at <a href=\"https://github.com/JuliaLang/julia/tree/0ff703b40afddf9b705bd6a06d3a59cb4c089ea5/base/operators.jl#L133\" target=\"_blank\">operators.jl:133</a><li> <=(x::<b>Rational{T<:Integer}</b>, y::<b>Integer</b>) at <a href=\"https://github.com/JuliaLang/julia/tree/0ff703b40afddf9b705bd6a06d3a59cb4c089ea5/base/rational.jl#L206\" target=\"_blank\">rational.jl:206</a><li> <=(x::<b>Integer</b>, y::<b>Rational{T<:Integer}</b>) at <a href=\"https://github.com/JuliaLang/julia/tree/0ff703b40afddf9b705bd6a06d3a59cb4c089ea5/base/rational.jl#L207\" target=\"_blank\">rational.jl:207</a><li> <=(x::<b>BigInt</b>, i::<b>Integer</b>) at <a href=\"https://github.com/JuliaLang/julia/tree/0ff703b40afddf9b705bd6a06d3a59cb4c089ea5/base/gmp.jl#L487\" target=\"_blank\">gmp.jl:487</a><li> <=(i::<b>Integer</b>, x::<b>BigInt</b>) at <a href=\"https://github.com/JuliaLang/julia/tree/0ff703b40afddf9b705bd6a06d3a59cb4c089ea5/base/gmp.jl#L488\" target=\"_blank\">gmp.jl:488</a><li> <=(x::<b>BigFloat</b>, y::<b>Integer</b>) at <a href=\"https://github.com/JuliaLang/julia/tree/0ff703b40afddf9b705bd6a06d3a59cb4c089ea5/base/mpfr.jl#L677\" target=\"_blank\">mpfr.jl:677</a><li> <=(x::<b>Integer</b>, y::<b>BigFloat</b>) at <a href=\"https://github.com/JuliaLang/julia/tree/0ff703b40afddf9b705bd6a06d3a59cb4c089ea5/base/mpfr.jl#L678\" target=\"_blank\">mpfr.jl:678</a><li> ==(x::<b>Rational{T<:Integer}</b>, y::<b>Integer</b>) at <a href=\"https://github.com/JuliaLang/julia/tree/0ff703b40afddf9b705bd6a06d3a59cb4c089ea5/base/rational.jl#L202\" target=\"_blank\">rational.jl:202</a><li> ==(x::<b>Integer</b>, y::<b>Rational{T<:Integer}</b>) at <a href=\"https://github.com/JuliaLang/julia/tree/0ff703b40afddf9b705bd6a06d3a59cb4c089ea5/base/rational.jl#L203\" target=\"_blank\">rational.jl:203</a><li> ==(x::<b>BigInt</b>, i::<b>Integer</b>) at <a href=\"https://github.com/JuliaLang/julia/tree/0ff703b40afddf9b705bd6a06d3a59cb4c089ea5/base/gmp.jl#L481\" target=\"_blank\">gmp.jl:481</a><li> ==(i::<b>Integer</b>, x::<b>BigInt</b>) at <a href=\"https://github.com/JuliaLang/julia/tree/0ff703b40afddf9b705bd6a06d3a59cb4c089ea5/base/gmp.jl#L482\" target=\"_blank\">gmp.jl:482</a><li> ==(x::<b>BigFloat</b>, y::<b>Integer</b>) at <a href=\"https://github.com/JuliaLang/julia/tree/0ff703b40afddf9b705bd6a06d3a59cb4c089ea5/base/mpfr.jl#L667\" target=\"_blank\">mpfr.jl:667</a><li> ==(x::<b>Integer</b>, y::<b>BigFloat</b>) at <a href=\"https://github.com/JuliaLang/julia/tree/0ff703b40afddf9b705bd6a06d3a59cb4c089ea5/base/mpfr.jl#L668\" target=\"_blank\">mpfr.jl:668</a><li> ==(x::<b>Char</b>, y::<b>Integer</b>) at <a href=\"https://github.com/JuliaLang/julia/tree/0ff703b40afddf9b705bd6a06d3a59cb4c089ea5/base/char.jl#L33\" target=\"_blank\">char.jl:33</a><li> ==(x::<b>Integer</b>, y::<b>Char</b>) at <a href=\"https://github.com/JuliaLang/julia/tree/0ff703b40afddf9b705bd6a06d3a59cb4c089ea5/base/char.jl#L34\" target=\"_blank\">char.jl:34</a><li> >>(x, y::<b>Integer</b>) at <a href=\"https://github.com/JuliaLang/julia/tree/0ff703b40afddf9b705bd6a06d3a59cb4c089ea5/base/operators.jl#L134\" target=\"_blank\">operators.jl:134</a><li> >>>(x, y::<b>Integer</b>) at <a href=\"https://github.com/JuliaLang/julia/tree/0ff703b40afddf9b705bd6a06d3a59cb4c089ea5/base/operators.jl#L135\" target=\"_blank\">operators.jl:135</a><li> ^(x::<b>Integer</b>, y::<b>Bool</b>) at <a href=\"https://github.com/JuliaLang/julia/tree/0ff703b40afddf9b705bd6a06d3a59cb4c089ea5/base/bool.jl#L40\" target=\"_blank\">bool.jl:40</a><li> ^<i>{T<:AbstractFloat}</i>(z::<b>Complex{T<:AbstractFloat}</b>, n::<b>Integer</b>) at <a href=\"https://github.com/JuliaLang/julia/tree/0ff703b40afddf9b705bd6a06d3a59cb4c089ea5/base/complex.jl#L543\" target=\"_blank\">complex.jl:543</a><li> ^<i>{T<:Integer}</i>(z::<b>Complex{T<:Integer}</b>, n::<b>Integer</b>) at <a href=\"https://github.com/JuliaLang/julia/tree/0ff703b40afddf9b705bd6a06d3a59cb4c089ea5/base/complex.jl#L545\" target=\"_blank\">complex.jl:545</a><li> ^<i>{T<:Rational{T<:Integer}}</i>(z::<b>Complex{T<:Rational{T<:Integer}}</b>, n::<b>Integer</b>) at <a href=\"https://github.com/JuliaLang/julia/tree/0ff703b40afddf9b705bd6a06d3a59cb4c089ea5/base/rational.jl#L323\" target=\"_blank\">rational.jl:323</a><li> ^(z::<b>Complex{T<:Real}</b>, n::<b>Integer</b>) at <a href=\"https://github.com/JuliaLang/julia/tree/0ff703b40afddf9b705bd6a06d3a59cb4c089ea5/base/complex.jl#L538\" target=\"_blank\">complex.jl:538</a><li> ^(x::<b>Rational{T<:Integer}</b>, n::<b>Integer</b>) at <a href=\"https://github.com/JuliaLang/julia/tree/0ff703b40afddf9b705bd6a06d3a59cb4c089ea5/base/rational.jl#L314\" target=\"_blank\">rational.jl:314</a><li> ^(x::<b>BigInt</b>, y::<b>Integer</b>) at <a href=\"https://github.com/JuliaLang/julia/tree/0ff703b40afddf9b705bd6a06d3a59cb4c089ea5/base/gmp.jl#L421\" target=\"_blank\">gmp.jl:421</a><li> ^(x::<b>Integer</b>, y::<b>BigInt</b>) at <a href=\"https://github.com/JuliaLang/julia/tree/0ff703b40afddf9b705bd6a06d3a59cb4c089ea5/base/gmp.jl#L422\" target=\"_blank\">gmp.jl:422</a><li> ^<i>{T<:Integer}</i>(x::<b>T<:Integer</b>, p::<b>T<:Integer</b>) at <a href=\"https://github.com/JuliaLang/julia/tree/0ff703b40afddf9b705bd6a06d3a59cb4c089ea5/base/intfuncs.jl#L106\" target=\"_blank\">intfuncs.jl:106</a><li> ^(x::<b>Float64</b>, y::<b>Integer</b>) at <a href=\"https://github.com/JuliaLang/julia/tree/0ff703b40afddf9b705bd6a06d3a59cb4c089ea5/base/math.jl#L278\" target=\"_blank\">math.jl:278</a><li> ^(x::<b>Float32</b>, y::<b>Integer</b>) at <a href=\"https://github.com/JuliaLang/julia/tree/0ff703b40afddf9b705bd6a06d3a59cb4c089ea5/base/math.jl#L280\" target=\"_blank\">math.jl:280</a><li> ^(x::<b>Float16</b>, y::<b>Integer</b>) at <a href=\"https://github.com/JuliaLang/julia/tree/0ff703b40afddf9b705bd6a06d3a59cb4c089ea5/base/float16.jl#L163\" target=\"_blank\">float16.jl:163</a><li> ^(::<b>Irrational{:e}</b>, x::<b>Integer</b>) at <a href=\"https://github.com/JuliaLang/julia/tree/0ff703b40afddf9b705bd6a06d3a59cb4c089ea5/base/irrationals.jl#L123\" target=\"_blank\">irrationals.jl:123</a><li> ^(x::<b>Number</b>, p::<b>Integer</b>) at <a href=\"https://github.com/JuliaLang/julia/tree/0ff703b40afddf9b705bd6a06d3a59cb4c089ea5/base/intfuncs.jl#L107\" target=\"_blank\">intfuncs.jl:107</a><li> ^(s::<b>AbstractString</b>, r::<b>Integer</b>) at <a href=\"https://github.com/JuliaLang/julia/tree/0ff703b40afddf9b705bd6a06d3a59cb4c089ea5/base/strings/types.jl#L185\" target=\"_blank\">strings/types.jl:185</a><li> ^(A::<b>Array{T,2}</b>, p::<b>Integer</b>) at <a href=\"https://github.com/JuliaLang/julia/tree/0ff703b40afddf9b705bd6a06d3a59cb4c089ea5/base/linalg/dense.jl#L172\" target=\"_blank\">linalg/dense.jl:172</a><li> ^(x, p::<b>Integer</b>) at <a href=\"https://github.com/JuliaLang/julia/tree/0ff703b40afddf9b705bd6a06d3a59cb4c089ea5/base/intfuncs.jl#L108\" target=\"_blank\">intfuncs.jl:108</a><li> addprocs(np::<b>Integer</b>) at <a href=\"https://github.com/JuliaLang/julia/tree/0ff703b40afddf9b705bd6a06d3a59cb4c089ea5/base/managers.jl#L179\" target=\"_blank\">managers.jl:179</a><li> ascii(p::<b>Ptr{UInt8}</b>, len::<b>Integer</b>) at <a href=\"https://github.com/JuliaLang/julia/tree/0ff703b40afddf9b705bd6a06d3a59cb4c089ea5/base/ascii.jl#L112\" target=\"_blank\">ascii.jl:112</a><li> base(b::<b>Integer</b>, n::<b>BigInt</b>) at <a href=\"https://github.com/JuliaLang/julia/tree/0ff703b40afddf9b705bd6a06d3a59cb4c089ea5/base/gmp.jl#L507\" target=\"_blank\">gmp.jl:507</a><li> base(b::<b>Integer</b>, n::<b>Integer</b>) at <a href=\"https://github.com/JuliaLang/julia/tree/0ff703b40afddf9b705bd6a06d3a59cb4c089ea5/base/intfuncs.jl#L292\" target=\"_blank\">intfuncs.jl:292</a><li> base(b::<b>Integer</b>, n::<b>Integer</b>, pad::<b>Integer</b>) at <a href=\"https://github.com/JuliaLang/julia/tree/0ff703b40afddf9b705bd6a06d3a59cb4c089ea5/base/intfuncs.jl#L292\" target=\"_blank\">intfuncs.jl:292</a><li> besselh(nu::<b>Float64</b>, k::<b>Integer</b>, z::<b>Complex{Float64}</b>) at <a href=\"https://github.com/JuliaLang/julia/tree/0ff703b40afddf9b705bd6a06d3a59cb4c089ea5/base/special/bessel.jl#L191\" target=\"_blank\">special/bessel.jl:191</a><li> besselh(nu::<b>Real</b>, k::<b>Integer</b>, z::<b>Complex{Float32}</b>) at <a href=\"https://github.com/JuliaLang/julia/tree/0ff703b40afddf9b705bd6a06d3a59cb4c089ea5/base/special/bessel.jl#L267\" target=\"_blank\">special/bessel.jl:267</a><li> besselh(nu::<b>Real</b>, k::<b>Integer</b>, z::<b>Complex{T<:Real}</b>) at <a href=\"https://github.com/JuliaLang/julia/tree/0ff703b40afddf9b705bd6a06d3a59cb4c089ea5/base/special/bessel.jl#L268\" target=\"_blank\">special/bessel.jl:268</a><li> besselh(nu::<b>Real</b>, k::<b>Integer</b>, x::<b>Real</b>) at <a href=\"https://github.com/JuliaLang/julia/tree/0ff703b40afddf9b705bd6a06d3a59cb4c089ea5/base/special/bessel.jl#L269\" target=\"_blank\">special/bessel.jl:269</a><li> besselhx(nu::<b>Float64</b>, k::<b>Integer</b>, z::<b>Complex{Float64}</b>) at <a href=\"https://github.com/JuliaLang/julia/tree/0ff703b40afddf9b705bd6a06d3a59cb4c089ea5/base/special/bessel.jl#L199\" target=\"_blank\">special/bessel.jl:199</a><li> besselhx(nu::<b>Real</b>, k::<b>Integer</b>, z::<b>Complex{Float32}</b>) at <a href=\"https://github.com/JuliaLang/julia/tree/0ff703b40afddf9b705bd6a06d3a59cb4c089ea5/base/special/bessel.jl#L278\" target=\"_blank\">special/bessel.jl:278</a><li> besselhx(nu::<b>Real</b>, k::<b>Integer</b>, z::<b>Complex{T<:Real}</b>) at <a href=\"https://github.com/JuliaLang/julia/tree/0ff703b40afddf9b705bd6a06d3a59cb4c089ea5/base/special/bessel.jl#L279\" target=\"_blank\">special/bessel.jl:279</a><li> besselhx(nu::<b>Real</b>, k::<b>Integer</b>, x::<b>Real</b>) at <a href=\"https://github.com/JuliaLang/julia/tree/0ff703b40afddf9b705bd6a06d3a59cb4c089ea5/base/special/bessel.jl#L280\" target=\"_blank\">special/bessel.jl:280</a><li> besseli(nu::<b>Real</b>, x::<b>Integer</b>) at <a href=\"https://github.com/JuliaLang/julia/tree/0ff703b40afddf9b705bd6a06d3a59cb4c089ea5/base/special/bessel.jl#L374\" target=\"_blank\">special/bessel.jl:374</a><li> besselix(nu::<b>Real</b>, x::<b>Integer</b>) at <a href=\"https://github.com/JuliaLang/julia/tree/0ff703b40afddf9b705bd6a06d3a59cb4c089ea5/base/special/bessel.jl#L374\" target=\"_blank\">special/bessel.jl:374</a><li> besselj(nu::<b>Integer</b>, x::<b>Float32</b>) at <a href=\"https://github.com/JuliaLang/julia/tree/0ff703b40afddf9b705bd6a06d3a59cb4c089ea5/base/special/bessel.jl#L234\" target=\"_blank\">special/bessel.jl:234</a><li> besselj(n::<b>Integer</b>, x::<b>BigFloat</b>) at <a href=\"https://github.com/JuliaLang/julia/tree/0ff703b40afddf9b705bd6a06d3a59cb4c089ea5/base/mpfr.jl#L499\" target=\"_blank\">mpfr.jl:499</a><li> besselj(nu::<b>Integer</b>, x::<b>AbstractFloat</b>) at <a href=\"https://github.com/JuliaLang/julia/tree/0ff703b40afddf9b705bd6a06d3a59cb4c089ea5/base/special/bessel.jl#L230\" target=\"_blank\">special/bessel.jl:230</a><li> besselj(nu::<b>Real</b>, x::<b>Integer</b>) at <a href=\"https://github.com/JuliaLang/julia/tree/0ff703b40afddf9b705bd6a06d3a59cb4c089ea5/base/special/bessel.jl#L374\" target=\"_blank\">special/bessel.jl:374</a><li> besseljx(nu::<b>Real</b>, x::<b>Integer</b>) at <a href=\"https://github.com/JuliaLang/julia/tree/0ff703b40afddf9b705bd6a06d3a59cb4c089ea5/base/special/bessel.jl#L374\" target=\"_blank\">special/bessel.jl:374</a><li> besselk(nu::<b>Real</b>, x::<b>Integer</b>) at <a href=\"https://github.com/JuliaLang/julia/tree/0ff703b40afddf9b705bd6a06d3a59cb4c089ea5/base/special/bessel.jl#L374\" target=\"_blank\">special/bessel.jl:374</a><li> besselkx(nu::<b>Real</b>, x::<b>Integer</b>) at <a href=\"https://github.com/JuliaLang/julia/tree/0ff703b40afddf9b705bd6a06d3a59cb4c089ea5/base/special/bessel.jl#L374\" target=\"_blank\">special/bessel.jl:374</a><li> bessely(nu::<b>Integer</b>, x::<b>Float32</b>) at <a href=\"https://github.com/JuliaLang/julia/tree/0ff703b40afddf9b705bd6a06d3a59cb4c089ea5/base/special/bessel.jl#L356\" target=\"_blank\">special/bessel.jl:356</a><li> bessely(n::<b>Integer</b>, x::<b>BigFloat</b>) at <a href=\"https://github.com/JuliaLang/julia/tree/0ff703b40afddf9b705bd6a06d3a59cb4c089ea5/base/mpfr.jl#L523\" target=\"_blank\">mpfr.jl:523</a><li> bessely(nu::<b>Integer</b>, x::<b>AbstractFloat</b>) at <a href=\"https://github.com/JuliaLang/julia/tree/0ff703b40afddf9b705bd6a06d3a59cb4c089ea5/base/special/bessel.jl#L350\" target=\"_blank\">special/bessel.jl:350</a><li> bessely(nu::<b>Real</b>, x::<b>Integer</b>) at <a href=\"https://github.com/JuliaLang/julia/tree/0ff703b40afddf9b705bd6a06d3a59cb4c089ea5/base/special/bessel.jl#L374\" target=\"_blank\">special/bessel.jl:374</a><li> besselyx(nu::<b>Real</b>, x::<b>Integer</b>) at <a href=\"https://github.com/JuliaLang/julia/tree/0ff703b40afddf9b705bd6a06d3a59cb4c089ea5/base/special/bessel.jl#L374\" target=\"_blank\">special/bessel.jl:374</a><li> big(n::<b>Integer</b>) at <a href=\"https://github.com/JuliaLang/julia/tree/0ff703b40afddf9b705bd6a06d3a59cb4c089ea5/base/sysimg.jl#L177\" target=\"_blank\">sysimg.jl:177</a><li> bin(x::<b>Integer</b>) at <a href=\"https://github.com/JuliaLang/julia/tree/0ff703b40afddf9b705bd6a06d3a59cb4c089ea5/base/intfuncs.jl#L301\" target=\"_blank\">intfuncs.jl:301</a><li> bin(x::<b>Integer</b>, p::<b>Int64</b>) at <a href=\"https://github.com/JuliaLang/julia/tree/0ff703b40afddf9b705bd6a06d3a59cb4c089ea5/base/intfuncs.jl#L300\" target=\"_blank\">intfuncs.jl:300</a><li> bind(sock::<b>Union{Base.TCPServer,UDPSocket}</b>, host::<b>IPv4</b>, port::<b>Integer</b>) at <a href=\"https://github.com/JuliaLang/julia/tree/0ff703b40afddf9b705bd6a06d3a59cb4c089ea5/base/socket.jl#L413\" target=\"_blank\">socket.jl:413</a><li> binomial(n::<b>BigInt</b>, k::<b>Integer</b>) at <a href=\"https://github.com/JuliaLang/julia/tree/0ff703b40afddf9b705bd6a06d3a59cb4c089ea5/base/gmp.jl#L478\" target=\"_blank\">gmp.jl:478</a><li> binomial<i>{T<:Integer}</i>(n::<b>T<:Integer</b>, k::<b>T<:Integer</b>) at <a href=\"https://github.com/JuliaLang/julia/tree/0ff703b40afddf9b705bd6a06d3a59cb4c089ea5/base/intfuncs.jl#L350\" target=\"_blank\">intfuncs.jl:350</a><li> blas_set_num_threads(n::<b>Integer</b>) at <a href=\"https://github.com/JuliaLang/julia/tree/0ff703b40afddf9b705bd6a06d3a59cb4c089ea5/base/util.jl#L243\" target=\"_blank\">util.jl:243</a><li> brfft<i>{T<:Real}</i>(x::<b>AbstractArray{T<:Real,N}</b>, d::<b>Integer</b>) at <a href=\"https://github.com/JuliaLang/julia/tree/0ff703b40afddf9b705bd6a06d3a59cb4c089ea5/base/dft.jl#L304\" target=\"_blank\">dft.jl:304</a><li> brfft<i>{T<:Real}</i>(x::<b>AbstractArray{T<:Real,N}</b>, d::<b>Integer</b>, region) at <a href=\"https://github.com/JuliaLang/julia/tree/0ff703b40afddf9b705bd6a06d3a59cb4c089ea5/base/dft.jl#L304\" target=\"_blank\">dft.jl:304</a><li> brfft<i>{T<:Union{Integer,Rational{T<:Integer}}}</i>(x::<b>AbstractArray{Complex{T<:Union{Integer,Rational{T<:Integer}}},N}</b>, d::<b>Integer</b>) at <a href=\"https://github.com/JuliaLang/julia/tree/0ff703b40afddf9b705bd6a06d3a59cb4c089ea5/base/dft.jl#L305\" target=\"_blank\">dft.jl:305</a><li> brfft<i>{T<:Union{Integer,Rational{T<:Integer}}}</i>(x::<b>AbstractArray{Complex{T<:Union{Integer,Rational{T<:Integer}}},N}</b>, d::<b>Integer</b>, region) at <a href=\"https://github.com/JuliaLang/julia/tree/0ff703b40afddf9b705bd6a06d3a59cb4c089ea5/base/dft.jl#L305\" target=\"_blank\">dft.jl:305</a><li> brfft(x::<b>AbstractArray{T,N}</b>, d::<b>Integer</b>) at <a href=\"https://github.com/JuliaLang/julia/tree/0ff703b40afddf9b705bd6a06d3a59cb4c089ea5/base/dft.jl#L296\" target=\"_blank\">dft.jl:296</a><li> brfft(x::<b>AbstractArray{T,N}</b>, d::<b>Integer</b>, region) at <a href=\"https://github.com/JuliaLang/julia/tree/0ff703b40afddf9b705bd6a06d3a59cb4c089ea5/base/dft.jl#L297\" target=\"_blank\">dft.jl:297</a><li> bytestring(p::<b>Union{Ptr{Int8},Ptr{UInt8}}</b>, len::<b>Integer</b>) at <a href=\"https://github.com/JuliaLang/julia/tree/0ff703b40afddf9b705bd6a06d3a59cb4c089ea5/base/strings/basic.jl#L23\" target=\"_blank\">strings/basic.jl:23</a><li> call<i>{T}</i>(::<b>Type{Array{T,1}}</b>, m::<b>Integer</b>) at <a href=\"https://github.com/JuliaLang/julia/tree/0ff703b40afddf9b705bd6a06d3a59cb4c089ea5/base/array.jl#L13\" target=\"_blank\">array.jl:13</a><li> call(::<b>Type{Array{T,1}}</b>, m::<b>Integer</b>) at <a href=\"https://github.com/JuliaLang/julia/tree/0ff703b40afddf9b705bd6a06d3a59cb4c089ea5/base/array.jl#L15\" target=\"_blank\">array.jl:15</a><li> call<i>{T}</i>(::<b>Type{Array{T,2}}</b>, m::<b>Integer</b>, n::<b>Integer</b>) at <a href=\"https://github.com/JuliaLang/julia/tree/0ff703b40afddf9b705bd6a06d3a59cb4c089ea5/base/array.jl#L18\" target=\"_blank\">array.jl:18</a><li> call(::<b>Type{Array{T,2}}</b>, m::<b>Integer</b>, n::<b>Integer</b>) at <a href=\"https://github.com/JuliaLang/julia/tree/0ff703b40afddf9b705bd6a06d3a59cb4c089ea5/base/array.jl#L20\" target=\"_blank\">array.jl:20</a><li> call<i>{T}</i>(::<b>Type{Array{T,N}}</b>, m::<b>Integer</b>) at <a href=\"https://github.com/JuliaLang/julia/tree/0ff703b40afddf9b705bd6a06d3a59cb4c089ea5/base/essentials.jl#L190\" target=\"_blank\">essentials.jl:190</a><li> call<i>{T}</i>(::<b>Type{Array{T,N}}</b>, m::<b>Integer</b>, n::<b>Integer</b>) at <a href=\"https://github.com/JuliaLang/julia/tree/0ff703b40afddf9b705bd6a06d3a59cb4c089ea5/base/essentials.jl#L192\" target=\"_blank\">essentials.jl:192</a><li> call<i>{T}</i>(::<b>Type{Array{T,N}}</b>, m::<b>Integer</b>, n::<b>Integer</b>, o::<b>Integer</b>) at <a href=\"https://github.com/JuliaLang/julia/tree/0ff703b40afddf9b705bd6a06d3a59cb4c089ea5/base/essentials.jl#L194\" target=\"_blank\">essentials.jl:194</a><li> call<i>{T}</i>(::<b>Type{Array{T,N}}</b>, ::<b>Type{T}</b>, m::<b>Integer</b>) at <a href=\"https://github.com/JuliaLang/julia/tree/0ff703b40afddf9b705bd6a06d3a59cb4c089ea5/base/essentials.jl#L200\" target=\"_blank\">essentials.jl:200</a><li> call<i>{T}</i>(::<b>Type{Array{T,N}}</b>, ::<b>Type{T}</b>, m::<b>Integer</b>, n::<b>Integer</b>) at <a href=\"https://github.com/JuliaLang/julia/tree/0ff703b40afddf9b705bd6a06d3a59cb4c089ea5/base/essentials.jl#L201\" target=\"_blank\">essentials.jl:201</a><li> call<i>{T}</i>(::<b>Type{Array{T,N}}</b>, ::<b>Type{T}</b>, m::<b>Integer</b>, n::<b>Integer</b>, o::<b>Integer</b>) at <a href=\"https://github.com/JuliaLang/julia/tree/0ff703b40afddf9b705bd6a06d3a59cb4c089ea5/base/essentials.jl#L202\" target=\"_blank\">essentials.jl:202</a><li> call(::<b>Type{SystemError}</b>, p::<b>AbstractString</b>, e::<b>Integer</b>) at <a href=\"https://github.com/JuliaLang/julia/tree/0ff703b40afddf9b705bd6a06d3a59cb4c089ea5/base/base.jl#L10\" target=\"_blank\">base.jl:10</a><li> call<i>{T}</i>(::<b>Type{Ref{T}}</b>, x::<b>Ptr{T}</b>, i::<b>Integer</b>) at <a href=\"https://github.com/JuliaLang/julia/tree/0ff703b40afddf9b705bd6a06d3a59cb4c089ea5/base/refpointer.jl#L22\" target=\"_blank\">refpointer.jl:22</a><li> call(::<b>Type{Ref{T}}</b>, x::<b>AbstractArray{T,N}</b>, i::<b>Integer</b>) at <a href=\"https://github.com/JuliaLang/julia/tree/0ff703b40afddf9b705bd6a06d3a59cb4c089ea5/base/refpointer.jl#L50\" target=\"_blank\">refpointer.jl:50</a><li> call(::<b>Type{Ref{T}}</b>, x, i::<b>Integer</b>) at <a href=\"https://github.com/JuliaLang/julia/tree/0ff703b40afddf9b705bd6a06d3a59cb4c089ea5/base/refpointer.jl#L23\" target=\"_blank\">refpointer.jl:23</a><li> call(::<b>Type{Rational{T<:Integer}}</b>, n::<b>Integer</b>) at <a href=\"https://github.com/JuliaLang/julia/tree/0ff703b40afddf9b705bd6a06d3a59cb4c089ea5/base/rational.jl#L15\" target=\"_blank\">rational.jl:15</a><li> call<i>{T<:Integer}</i>(::<b>Type{Rational{T<:Integer}}</b>, num::<b>Integer</b>, den::<b>Integer</b>) at <a href=\"https://github.com/JuliaLang/julia/tree/0ff703b40afddf9b705bd6a06d3a59cb4c089ea5/base/rational.jl#L8\" target=\"_blank\">rational.jl:8</a><li> call<i>{T<:Integer}</i>(::<b>Type{Rational{T<:Integer}}</b>, n::<b>T<:Integer</b>, d::<b>T<:Integer</b>) at <a href=\"https://github.com/JuliaLang/julia/tree/0ff703b40afddf9b705bd6a06d3a59cb4c089ea5/base/rational.jl#L13\" target=\"_blank\">rational.jl:13</a><li> call(::<b>Type{Rational{T<:Integer}}</b>, n::<b>Integer</b>, d::<b>Integer</b>) at <a href=\"https://github.com/JuliaLang/julia/tree/0ff703b40afddf9b705bd6a06d3a59cb4c089ea5/base/rational.jl#L14\" target=\"_blank\">rational.jl:14</a><li> call(::<b>Type{SubString{T<:AbstractString}}</b>, s::<b>AbstractString</b>, i::<b>Integer</b>) at <a href=\"https://github.com/JuliaLang/julia/tree/0ff703b40afddf9b705bd6a06d3a59cb4c089ea5/base/strings/types.jl#L32\" target=\"_blank\">strings/types.jl:32</a><li> call(::<b>Type{SubString{T<:AbstractString}}</b>, s::<b>AbstractString</b>, i::<b>Integer</b>, j::<b>Integer</b>) at <a href=\"https://github.com/JuliaLang/julia/tree/0ff703b40afddf9b705bd6a06d3a59cb4c089ea5/base/strings/types.jl#L31\" target=\"_blank\">strings/types.jl:31</a><li> call(::<b>Type{RepString}</b>, string::<b>AbstractString</b>, repeat::<b>Integer</b>) at <a href=\"https://github.com/JuliaLang/julia/tree/0ff703b40afddf9b705bd6a06d3a59cb4c089ea5/base/strings/types.jl#L137\" target=\"_blank\">strings/types.jl:137</a><li> call(::<b>Type{Regex}</b>, pattern::<b>AbstractString</b>, options::<b>Integer</b>)<li> call(::<b>Type{Regex}</b>, pattern::<b>AbstractString</b>, compile_options::<b>Integer</b>, match_options::<b>Integer</b>) at <a href=\"https://github.com/JuliaLang/julia/tree/0ff703b40afddf9b705bd6a06d3a59cb4c089ea5/base/regex.jl#L21\" target=\"_blank\">regex.jl:21</a><li> call(::<b>Type{RawFD}</b>, fd::<b>Integer</b>) at <a href=\"https://github.com/JuliaLang/julia/tree/0ff703b40afddf9b705bd6a06d3a59cb4c089ea5/base/libc.jl#L16\" target=\"_blank\">libc.jl:16</a><li> call(::<b>Type{Base.UVError}</b>, p::<b>AbstractString</b>, code::<b>Integer</b>) at <a href=\"https://github.com/JuliaLang/julia/tree/0ff703b40afddf9b705bd6a06d3a59cb4c089ea5/base/stream.jl#L1020\" target=\"_blank\">stream.jl:1020</a><li> call(::<b>Type{IPv4}</b>, host::<b>Integer</b>) at <a href=\"https://github.com/JuliaLang/julia/tree/0ff703b40afddf9b705bd6a06d3a59cb4c089ea5/base/socket.jl#L25\" target=\"_blank\">socket.jl:25</a><li> call(::<b>Type{IPv4}</b>, a::<b>Integer</b>, b::<b>Integer</b>, c::<b>Integer</b>, d::<b>Integer</b>) at <a href=\"https://github.com/JuliaLang/julia/tree/0ff703b40afddf9b705bd6a06d3a59cb4c089ea5/base/socket.jl#L17\" target=\"_blank\">socket.jl:17</a><li> call(::<b>Type{IPv6}</b>, host::<b>Integer</b>) at <a href=\"https://github.com/JuliaLang/julia/tree/0ff703b40afddf9b705bd6a06d3a59cb4c089ea5/base/socket.jl#L67\" target=\"_blank\">socket.jl:67</a><li> call(::<b>Type{IPv6}</b>, a::<b>Integer</b>, b::<b>Integer</b>, c::<b>Integer</b>, d::<b>Integer</b>, e::<b>Integer</b>, f::<b>Integer</b>, g::<b>Integer</b>, h::<b>Integer</b>) at <a href=\"https://github.com/JuliaLang/julia/tree/0ff703b40afddf9b705bd6a06d3a59cb4c089ea5/base/socket.jl#L57\" target=\"_blank\">socket.jl:57</a><li> call(::<b>Type{Base.InetAddr}</b>, host, port::<b>Integer</b>) at <a href=\"https://github.com/JuliaLang/julia/tree/0ff703b40afddf9b705bd6a06d3a59cb4c089ea5/base/socket.jl#L241\" target=\"_blank\">socket.jl:241</a><li> call(::<b>Type{Base.Cartesian.LReplace{S<:AbstractString}}</b>, sym::<b>Symbol</b>, val::<b>Integer</b>) at <a href=\"https://github.com/JuliaLang/julia/tree/0ff703b40afddf9b705bd6a06d3a59cb4c089ea5/base/cartesian.jl#L153\" target=\"_blank\">cartesian.jl:153</a><li> call(::<b>Type{VersionNumber}</b>, major::<b>Integer</b>) at <a href=\"https://github.com/JuliaLang/julia/tree/0ff703b40afddf9b705bd6a06d3a59cb4c089ea5/base/version.jl#L43\" target=\"_blank\">version.jl:43</a><li> call(::<b>Type{VersionNumber}</b>, major::<b>Integer</b>, minor::<b>Integer</b>) at <a href=\"https://github.com/JuliaLang/julia/tree/0ff703b40afddf9b705bd6a06d3a59cb4c089ea5/base/version.jl#L43\" target=\"_blank\">version.jl:43</a><li> call(::<b>Type{VersionNumber}</b>, major::<b>Integer</b>, minor::<b>Integer</b>, patch::<b>Integer</b>) at <a href=\"https://github.com/JuliaLang/julia/tree/0ff703b40afddf9b705bd6a06d3a59cb4c089ea5/base/version.jl#L43\" target=\"_blank\">version.jl:43</a><li> call(::<b>Type{VersionNumber}</b>, major::<b>Integer</b>, minor::<b>Integer</b>, patch::<b>Integer</b>, pre::<b>Tuple{Vararg{Union{AbstractString,Integer}}}</b>) at <a href=\"https://github.com/JuliaLang/julia/tree/0ff703b40afddf9b705bd6a06d3a59cb4c089ea5/base/version.jl#L43\" target=\"_blank\">version.jl:43</a><li> call(::<b>Type{VersionNumber}</b>, major::<b>Integer</b>, minor::<b>Integer</b>, patch::<b>Integer</b>, pre::<b>Tuple{Vararg{Union{AbstractString,Integer}}}</b>, bld::<b>Tuple{Vararg{Union{AbstractString,Integer}}}</b>) at <a href=\"https://github.com/JuliaLang/julia/tree/0ff703b40afddf9b705bd6a06d3a59cb4c089ea5/base/version.jl#L43\" target=\"_blank\">version.jl:43</a><li> call<i>{T<:Integer,U<:Unsigned}</i>(::<b>Type{Base.Random.RangeGeneratorInt{T<:Integer,U<:Unsigned}}</b>, a::<b>T<:Integer</b>, k::<b>U<:Unsigned</b>, u::<b>U<:Unsigned</b>) at <a href=\"https://github.com/JuliaLang/julia/tree/0ff703b40afddf9b705bd6a06d3a59cb4c089ea5/base/random.jl#L450\" target=\"_blank\">random.jl:450</a><li> call(::<b>Type{RemoteRef{RemoteStore}}</b>, pid::<b>Integer</b>) at <a href=\"https://github.com/JuliaLang/julia/tree/0ff703b40afddf9b705bd6a06d3a59cb4c089ea5/base/multi.jl#L492\" target=\"_blank\">multi.jl:492</a><li> call(::<b>Type{RemoteRef{RemoteStore}}</b>, f::<b>Function</b>, pid::<b>Integer</b>) at <a href=\"https://github.com/JuliaLang/julia/tree/0ff703b40afddf9b705bd6a06d3a59cb4c089ea5/base/multi.jl#L497\" target=\"_blank\">multi.jl:497</a><li> call(::<b>Type{Base.LocalManager}</b>, np::<b>Integer</b>) at <a href=\"https://github.com/JuliaLang/julia/tree/0ff703b40afddf9b705bd6a06d3a59cb4c089ea5/base/managers.jl#L174\" target=\"_blank\">managers.jl:174</a><li> call(::<b>Type{Base.FileEvent}</b>, flags::<b>Integer</b>) at <a href=\"https://github.com/JuliaLang/julia/tree/0ff703b40afddf9b705bd6a06d3a59cb4c089ea5/base/poll.jl#L12\" target=\"_blank\">poll.jl:12</a><li> call(::<b>Type{Base.FDEvent}</b>, flags::<b>Integer</b>) at <a href=\"https://github.com/JuliaLang/julia/tree/0ff703b40afddf9b705bd6a06d3a59cb4c089ea5/base/poll.jl#L30\" target=\"_blank\">poll.jl:30</a><li> call<i>{T,N}</i>(::<b>Type{SharedArray{T,N}}</b>, filename::<b>AbstractString</b>, ::<b>Type{T}</b>, dims::<b>NTuple{N,Int64}</b>, offset::<b>Integer</b>) at <a href=\"https://github.com/JuliaLang/julia/tree/0ff703b40afddf9b705bd6a06d3a59cb4c089ea5/base/sharedarray.jl#L105\" target=\"_blank\">sharedarray.jl:105</a><li> call<i>{Tv,Ti<:Integer}</i>(::<b>Type{SparseMatrixCSC{Tv,Ti<:Integer}}</b>, m::<b>Integer</b>, n::<b>Integer</b>, colptr::<b>Array{Ti<:Integer,1}</b>, rowval::<b>Array{Ti<:Integer,1}</b>, nzval::<b>Array{Tv,1}</b>) at <a href=\"https://github.com/JuliaLang/julia/tree/0ff703b40afddf9b705bd6a06d3a59cb4c089ea5/base/sparse/sparsematrix.jl#L16\" target=\"_blank\">sparse/sparsematrix.jl:16</a><li> call(::<b>Type{SparseMatrixCSC{Tv,Ti<:Integer}}</b>, m::<b>Integer</b>, n::<b>Integer</b>, colptr::<b>Array{T,1}</b>, rowval::<b>Array{T,1}</b>, nzval::<b>Array{T,1}</b>) at <a href=\"https://github.com/JuliaLang/julia/tree/0ff703b40afddf9b705bd6a06d3a59cb4c089ea5/base/sparse/sparsematrix.jl#L22\" target=\"_blank\">sparse/sparsematrix.jl:22</a><li> call<i>{Tv<:Union{Complex{Float64},Float64}}</i>(::<b>Type{Base.SparseMatrix.SPQR.Factorization{Tv<:Union{Complex{Float64},Float64}}}</b>, m::<b>Integer</b>, n::<b>Integer</b>, p::<b>Ptr{Base.SparseMatrix.SPQR.C_Factorization{Tv<:Union{Complex{Float64},Float64}}}</b>) at <a href=\"https://github.com/JuliaLang/julia/tree/0ff703b40afddf9b705bd6a06d3a59cb4c089ea5/base/sparse/spqr.jl#L60\" target=\"_blank\">sparse/spqr.jl:60</a><li> call<i>{Tv<:Union{Complex{Float64},Float64}}</i>(::<b>Type{Base.SparseMatrix.SPQR.Factorization{Tv<:Union{Complex{Float64},Float64}}}</b>, m::<b>Integer</b>, n::<b>Integer</b>, p::<b>Ptr{Base.SparseMatrix.SPQR.C_Factorization{Tv<:Union{Complex{Float64},Float64}}}</b>) at <a href=\"https://github.com/JuliaLang/julia/tree/0ff703b40afddf9b705bd6a06d3a59cb4c089ea5/base/sparse/spqr.jl#L66\" target=\"_blank\">sparse/spqr.jl:66</a><li> call<i>{T<:Union{Complex{Float32},Complex{Float64},Float32,Float64},K,inplace,N}</i>(::<b>Type{Base.DFT.FFTW.cFFTWPlan{T<:Union{Complex{Float32},Complex{Float64},Float32,Float64},K,inplace,N}}</b>, plan::<b>Ptr{Base.DFT.FFTW.fftw_plan_struct}</b>, flags::<b>Integer</b>, R, X::<b>Union{DenseArray{T<:Union{Complex{Float32},Complex{Float64},Float32,Float64},N},SubArray{T<:Union{Complex{Float32},Complex{Float64},Float32,Float64},N,A<:DenseArray{T,N},I<:Tuple{Vararg{Union{Colon,Int64,Range{Int64}}}},LD}}</b>, Y::<b>Union{DenseArray{T,N},SubArray{T,N,A<:DenseArray{T,N},I<:Tuple{Vararg{Union{Colon,Int64,Range{Int64}}}},LD}}</b>) at <a href=\"https://github.com/JuliaLang/julia/tree/0ff703b40afddf9b705bd6a06d3a59cb4c089ea5/base/fft/FFTW.jl#L216\" target=\"_blank\">fft/FFTW.jl:216</a><li> call<i>{T<:Union{Complex{Float32},Complex{Float64},Float32,Float64},K,inplace,N}</i>(::<b>Type{Base.DFT.FFTW.rFFTWPlan{T<:Union{Complex{Float32},Complex{Float64},Float32,Float64},K,inplace,N}}</b>, plan::<b>Ptr{Base.DFT.FFTW.fftw_plan_struct}</b>, flags::<b>Integer</b>, R, X::<b>Union{DenseArray{T<:Union{Complex{Float32},Complex{Float64},Float32,Float64},N},SubArray{T<:Union{Complex{Float32},Complex{Float64},Float32,Float64},N,A<:DenseArray{T,N},I<:Tuple{Vararg{Union{Colon,Int64,Range{Int64}}}},LD}}</b>, Y::<b>Union{DenseArray{T,N},SubArray{T,N,A<:DenseArray{T,N},I<:Tuple{Vararg{Union{Colon,Int64,Range{Int64}}}},LD}}</b>) at <a href=\"https://github.com/JuliaLang/julia/tree/0ff703b40afddf9b705bd6a06d3a59cb4c089ea5/base/fft/FFTW.jl#L216\" target=\"_blank\">fft/FFTW.jl:216</a><li> call<i>{T<:Union{Complex{Float32},Complex{Float64},Float32,Float64},K,inplace,N}</i>(::<b>Type{Base.DFT.FFTW.r2rFFTWPlan{T<:Union{Complex{Float32},Complex{Float64},Float32,Float64},K,inplace,N}}</b>, plan::<b>Ptr{Base.DFT.FFTW.fftw_plan_struct}</b>, flags::<b>Integer</b>, R, X::<b>Union{DenseArray{T<:Union{Complex{Float32},Complex{Float64},Float32,Float64},N},SubArray{T<:Union{Complex{Float32},Complex{Float64},Float32,Float64},N,A<:DenseArray{T,N},I<:Tuple{Vararg{Union{Colon,Int64,Range{Int64}}}},LD}}</b>, Y::<b>Union{DenseArray{T,N},SubArray{T,N,A<:DenseArray{T,N},I<:Tuple{Vararg{Union{Colon,Int64,Range{Int64}}}},LD}}</b>) at <a href=\"https://github.com/JuliaLang/julia/tree/0ff703b40afddf9b705bd6a06d3a59cb4c089ea5/base/fft/FFTW.jl#L216\" target=\"_blank\">fft/FFTW.jl:216</a><li> call<i>{K,inplace,N}</i>(::<b>Type{Base.DFT.FFTW.cFFTWPlan{Complex{Float64},K,inplace,N}}</b>, X::<b>Union{DenseArray{Complex{Float64},N},SubArray{Complex{Float64},N,A<:DenseArray{T,N},I<:Tuple{Vararg{Union{Colon,Int64,Range{Int64}}}},LD}}</b>, Y::<b>Union{DenseArray{Complex{Float64},N},SubArray{Complex{Float64},N,A<:DenseArray{T,N},I<:Tuple{Vararg{Union{Colon,Int64,Range{Int64}}}},LD}}</b>, region, flags::<b>Integer</b>, timelimit::<b>Real</b>) at <a href=\"https://github.com/JuliaLang/julia/tree/0ff703b40afddf9b705bd6a06d3a59cb4c089ea5/base/fft/FFTW.jl#L461\" target=\"_blank\">fft/FFTW.jl:461</a><li> call<i>{inplace,N}</i>(::<b>Type{Base.DFT.FFTW.rFFTWPlan{Float64,-1,inplace,N}}</b>, X::<b>Union{DenseArray{Float64,N},SubArray{Float64,N,A<:DenseArray{T,N},I<:Tuple{Vararg{Union{Colon,Int64,Range{Int64}}}},LD}}</b>, Y::<b>Union{DenseArray{Complex{Float64},N},SubArray{Complex{Float64},N,A<:DenseArray{T,N},I<:Tuple{Vararg{Union{Colon,Int64,Range{Int64}}}},LD}}</b>, region, flags::<b>Integer</b>, timelimit::<b>Real</b>) at <a href=\"https://github.com/JuliaLang/julia/tree/0ff703b40afddf9b705bd6a06d3a59cb4c089ea5/base/fft/FFTW.jl#L482\" target=\"_blank\">fft/FFTW.jl:482</a><li> call<i>{inplace,N}</i>(::<b>Type{Base.DFT.FFTW.rFFTWPlan{Complex{Float64},1,inplace,N}}</b>, X::<b>Union{DenseArray{Complex{Float64},N},SubArray{Complex{Float64},N,A<:DenseArray{T,N},I<:Tuple{Vararg{Union{Colon,Int64,Range{Int64}}}},LD}}</b>, Y::<b>Union{DenseArray{Float64,N},SubArray{Float64,N,A<:DenseArray{T,N},I<:Tuple{Vararg{Union{Colon,Int64,Range{Int64}}}},LD}}</b>, region, flags::<b>Integer</b>, timelimit::<b>Real</b>) at <a href=\"https://github.com/JuliaLang/julia/tree/0ff703b40afddf9b705bd6a06d3a59cb4c089ea5/base/fft/FFTW.jl#L503\" target=\"_blank\">fft/FFTW.jl:503</a><li> call<i>{inplace,N}</i>(::<b>Type{Base.DFT.FFTW.r2rFFTWPlan{Float64,ANY,inplace,N}}</b>, X::<b>Union{DenseArray{Float64,N},SubArray{Float64,N,A<:DenseArray{T,N},I<:Tuple{Vararg{Union{Colon,Int64,Range{Int64}}}},LD}}</b>, Y::<b>Union{DenseArray{Float64,N},SubArray{Float64,N,A<:DenseArray{T,N},I<:Tuple{Vararg{Union{Colon,Int64,Range{Int64}}}},LD}}</b>, region, kinds, flags::<b>Integer</b>, timelimit::<b>Real</b>) at <a href=\"https://github.com/JuliaLang/julia/tree/0ff703b40afddf9b705bd6a06d3a59cb4c089ea5/base/fft/FFTW.jl#L525\" target=\"_blank\">fft/FFTW.jl:525</a><li> call<i>{inplace,N}</i>(::<b>Type{Base.DFT.FFTW.r2rFFTWPlan{Complex{Float64},ANY,inplace,N}}</b>, X::<b>Union{DenseArray{Complex{Float64},N},SubArray{Complex{Float64},N,A<:DenseArray{T,N},I<:Tuple{Vararg{Union{Colon,Int64,Range{Int64}}}},LD}}</b>, Y::<b>Union{DenseArray{Complex{Float64},N},SubArray{Complex{Float64},N,A<:DenseArray{T,N},I<:Tuple{Vararg{Union{Colon,Int64,Range{Int64}}}},LD}}</b>, region, kinds, flags::<b>Integer</b>, timelimit::<b>Real</b>) at <a href=\"https://github.com/JuliaLang/julia/tree/0ff703b40afddf9b705bd6a06d3a59cb4c089ea5/base/fft/FFTW.jl#L548\" target=\"_blank\">fft/FFTW.jl:548</a><li> call<i>{K,inplace,N}</i>(::<b>Type{Base.DFT.FFTW.cFFTWPlan{Complex{Float32},K,inplace,N}}</b>, X::<b>Union{DenseArray{Complex{Float32},N},SubArray{Complex{Float32},N,A<:DenseArray{T,N},I<:Tuple{Vararg{Union{Colon,Int64,Range{Int64}}}},LD}}</b>, Y::<b>Union{DenseArray{Complex{Float32},N},SubArray{Complex{Float32},N,A<:DenseArray{T,N},I<:Tuple{Vararg{Union{Colon,Int64,Range{Int64}}}},LD}}</b>, region, flags::<b>Integer</b>, timelimit::<b>Real</b>) at <a href=\"https://github.com/JuliaLang/julia/tree/0ff703b40afddf9b705bd6a06d3a59cb4c089ea5/base/fft/FFTW.jl#L461\" target=\"_blank\">fft/FFTW.jl:461</a><li> call<i>{inplace,N}</i>(::<b>Type{Base.DFT.FFTW.rFFTWPlan{Float32,-1,inplace,N}}</b>, X::<b>Union{DenseArray{Float32,N},SubArray{Float32,N,A<:DenseArray{T,N},I<:Tuple{Vararg{Union{Colon,Int64,Range{Int64}}}},LD}}</b>, Y::<b>Union{DenseArray{Complex{Float32},N},SubArray{Complex{Float32},N,A<:DenseArray{T,N},I<:Tuple{Vararg{Union{Colon,Int64,Range{Int64}}}},LD}}</b>, region, flags::<b>Integer</b>, timelimit::<b>Real</b>) at <a href=\"https://github.com/JuliaLang/julia/tree/0ff703b40afddf9b705bd6a06d3a59cb4c089ea5/base/fft/FFTW.jl#L482\" target=\"_blank\">fft/FFTW.jl:482</a><li> call<i>{inplace,N}</i>(::<b>Type{Base.DFT.FFTW.rFFTWPlan{Complex{Float32},1,inplace,N}}</b>, X::<b>Union{DenseArray{Complex{Float32},N},SubArray{Complex{Float32},N,A<:DenseArray{T,N},I<:Tuple{Vararg{Union{Colon,Int64,Range{Int64}}}},LD}}</b>, Y::<b>Union{DenseArray{Float32,N},SubArray{Float32,N,A<:DenseArray{T,N},I<:Tuple{Vararg{Union{Colon,Int64,Range{Int64}}}},LD}}</b>, region, flags::<b>Integer</b>, timelimit::<b>Real</b>) at <a href=\"https://github.com/JuliaLang/julia/tree/0ff703b40afddf9b705bd6a06d3a59cb4c089ea5/base/fft/FFTW.jl#L503\" target=\"_blank\">fft/FFTW.jl:503</a><li> call<i>{inplace,N}</i>(::<b>Type{Base.DFT.FFTW.r2rFFTWPlan{Float32,ANY,inplace,N}}</b>, X::<b>Union{DenseArray{Float32,N},SubArray{Float32,N,A<:DenseArray{T,N},I<:Tuple{Vararg{Union{Colon,Int64,Range{Int64}}}},LD}}</b>, Y::<b>Union{DenseArray{Float32,N},SubArray{Float32,N,A<:DenseArray{T,N},I<:Tuple{Vararg{Union{Colon,Int64,Range{Int64}}}},LD}}</b>, region, kinds, flags::<b>Integer</b>, timelimit::<b>Real</b>) at <a href=\"https://github.com/JuliaLang/julia/tree/0ff703b40afddf9b705bd6a06d3a59cb4c089ea5/base/fft/FFTW.jl#L525\" target=\"_blank\">fft/FFTW.jl:525</a><li> call<i>{inplace,N}</i>(::<b>Type{Base.DFT.FFTW.r2rFFTWPlan{Complex{Float32},ANY,inplace,N}}</b>, X::<b>Union{DenseArray{Complex{Float32},N},SubArray{Complex{Float32},N,A<:DenseArray{T,N},I<:Tuple{Vararg{Union{Colon,Int64,Range{Int64}}}},LD}}</b>, Y::<b>Union{DenseArray{Complex{Float32},N},SubArray{Complex{Float32},N,A<:DenseArray{T,N},I<:Tuple{Vararg{Union{Colon,Int64,Range{Int64}}}},LD}}</b>, region, kinds, flags::<b>Integer</b>, timelimit::<b>Real</b>) at <a href=\"https://github.com/JuliaLang/julia/tree/0ff703b40afddf9b705bd6a06d3a59cb4c089ea5/base/fft/FFTW.jl#L548\" target=\"_blank\">fft/FFTW.jl:548</a><li> call(::<b>Type{ZMQ.Socket}</b>, ctx, typ::<b>Integer</b>) at <a href=\"https://github.com/JuliaLang/ZMQ.jl/tree/89f9a65a38cb565b6c938a0eac760bb9ea458043/src/ZMQ.jl#L81\" target=\"_blank\">/Users/juanklopper/.julia/v0.4/ZMQ/src/ZMQ.jl:81</a><li> call(::<b>Type{ZMQ.Context}</b>, n::<b>Integer</b>) at <a href=\"https://github.com/JuliaLang/ZMQ.jl/tree/89f9a65a38cb565b6c938a0eac760bb9ea458043/src/ZMQ.jl#L126\" target=\"_blank\">/Users/juanklopper/.julia/v0.4/ZMQ/src/ZMQ.jl:126</a><li> call(::<b>Type{ZMQ.Message}</b>, len::<b>Integer</b>) at <a href=\"https://github.com/JuliaLang/ZMQ.jl/tree/89f9a65a38cb565b6c938a0eac760bb9ea458043/src/ZMQ.jl#L363\" target=\"_blank\">/Users/juanklopper/.julia/v0.4/ZMQ/src/ZMQ.jl:363</a><li> call<i>{T}</i>(::<b>Type{ZMQ.Message}</b>, origin, m::<b>Ptr{T}</b>, len::<b>Integer</b>) at <a href=\"https://github.com/JuliaLang/ZMQ.jl/tree/89f9a65a38cb565b6c938a0eac760bb9ea458043/src/ZMQ.jl#L378\" target=\"_blank\">/Users/juanklopper/.julia/v0.4/ZMQ/src/ZMQ.jl:378</a><li> cat(catdim::<b>Integer</b>) at <a href=\"https://github.com/JuliaLang/julia/tree/0ff703b40afddf9b705bd6a06d3a59cb4c089ea5/base/abstractarray.jl#L704\" target=\"_blank\">abstractarray.jl:704</a><li> cat(catdim::<b>Integer</b>, X::<b>Union{BitArray{N},Integer}...</b>) at <a href=\"https://github.com/JuliaLang/julia/tree/0ff703b40afddf9b705bd6a06d3a59cb4c089ea5/base/bitarray.jl#L1743\" target=\"_blank\">bitarray.jl:1743</a><li> ceil(x::<b>Integer</b>) at <a href=\"https://github.com/JuliaLang/julia/tree/0ff703b40afddf9b705bd6a06d3a59cb4c089ea5/base/int.jl#L253\" target=\"_blank\">int.jl:253</a><li> ceil<i>{T<:Integer}</i>(::<b>Type{T<:Integer}</b>, x::<b>Integer</b>) at <a href=\"https://github.com/JuliaLang/julia/tree/0ff703b40afddf9b705bd6a06d3a59cb4c089ea5/base/int.jl#L258\" target=\"_blank\">int.jl:258</a><li> ceil<i>{R}</i>(x::<b>AbstractArray{R,1}</b>, digits::<b>Integer</b>) at <a href=\"https://github.com/JuliaLang/julia/tree/0ff703b40afddf9b705bd6a06d3a59cb4c089ea5/base/floatfuncs.jl#L81\" target=\"_blank\">floatfuncs.jl:81</a><li> ceil<i>{R}</i>(x::<b>AbstractArray{R,1}</b>, digits::<b>Integer</b>, base::<b>Integer</b>) at <a href=\"https://github.com/JuliaLang/julia/tree/0ff703b40afddf9b705bd6a06d3a59cb4c089ea5/base/floatfuncs.jl#L81\" target=\"_blank\">floatfuncs.jl:81</a><li> ceil<i>{R}</i>(x::<b>AbstractArray{R,2}</b>, digits::<b>Integer</b>) at <a href=\"https://github.com/JuliaLang/julia/tree/0ff703b40afddf9b705bd6a06d3a59cb4c089ea5/base/floatfuncs.jl#L84\" target=\"_blank\">floatfuncs.jl:84</a><li> ceil<i>{R}</i>(x::<b>AbstractArray{R,2}</b>, digits::<b>Integer</b>, base::<b>Integer</b>) at <a href=\"https://github.com/JuliaLang/julia/tree/0ff703b40afddf9b705bd6a06d3a59cb4c089ea5/base/floatfuncs.jl#L84\" target=\"_blank\">floatfuncs.jl:84</a><li> ceil(x::<b>AbstractArray{T,N}</b>, digits::<b>Integer</b>) at <a href=\"https://github.com/JuliaLang/julia/tree/0ff703b40afddf9b705bd6a06d3a59cb4c089ea5/base/floatfuncs.jl#L87\" target=\"_blank\">floatfuncs.jl:87</a><li> ceil(x::<b>AbstractArray{T,N}</b>, digits::<b>Integer</b>, base::<b>Integer</b>) at <a href=\"https://github.com/JuliaLang/julia/tree/0ff703b40afddf9b705bd6a06d3a59cb4c089ea5/base/floatfuncs.jl#L87\" target=\"_blank\">floatfuncs.jl:87</a><li> ceil(x::<b>Real</b>, digits::<b>Integer</b>) at <a href=\"https://github.com/JuliaLang/julia/tree/0ff703b40afddf9b705bd6a06d3a59cb4c089ea5/base/floatfuncs.jl#L148\" target=\"_blank\">floatfuncs.jl:148</a><li> ceil(x::<b>Real</b>, digits::<b>Integer</b>, base::<b>Integer</b>) at <a href=\"https://github.com/JuliaLang/julia/tree/0ff703b40afddf9b705bd6a06d3a59cb4c089ea5/base/floatfuncs.jl#L148\" target=\"_blank\">floatfuncs.jl:148</a><li> checkbounds(::<b>Type{Bool}</b>, sz::<b>Integer</b>, i::<b>Real</b>) at <a href=\"https://github.com/JuliaLang/julia/tree/0ff703b40afddf9b705bd6a06d3a59cb4c089ea5/base/abstractarray.jl#L140\" target=\"_blank\">abstractarray.jl:140</a><li> checkbounds(::<b>Type{Bool}</b>, sz::<b>Integer</b>, ::<b>Colon</b>) at <a href=\"https://github.com/JuliaLang/julia/tree/0ff703b40afddf9b705bd6a06d3a59cb4c089ea5/base/abstractarray.jl#L141\" target=\"_blank\">abstractarray.jl:141</a><li> checkbounds(::<b>Type{Bool}</b>, sz::<b>Integer</b>, r::<b>Range{T}</b>) at <a href=\"https://github.com/JuliaLang/julia/tree/0ff703b40afddf9b705bd6a06d3a59cb4c089ea5/base/abstractarray.jl#L143\" target=\"_blank\">abstractarray.jl:143</a><li> checkbounds(::<b>Type{Bool}</b>, sz::<b>Integer</b>, I::<b>AbstractArray{Bool,N}</b>) at <a href=\"https://github.com/JuliaLang/julia/tree/0ff703b40afddf9b705bd6a06d3a59cb4c089ea5/base/abstractarray.jl#L146\" target=\"_blank\">abstractarray.jl:146</a><li> checkbounds(::<b>Type{Bool}</b>, sz::<b>Integer</b>, I::<b>AbstractArray{T,N}</b>) at <a href=\"https://github.com/JuliaLang/julia/tree/0ff703b40afddf9b705bd6a06d3a59cb4c089ea5/base/abstractarray.jl#L148\" target=\"_blank\">abstractarray.jl:148</a><li> checkbounds(::<b>Type{Bool}</b>, sz::<b>Integer</b>, i) at <a href=\"https://github.com/JuliaLang/julia/tree/0ff703b40afddf9b705bd6a06d3a59cb4c089ea5/base/abstractarray.jl#L139\" target=\"_blank\">abstractarray.jl:139</a><li> checkbounds(s::<b>AbstractString</b>, i::<b>Integer</b>) at <a href=\"https://github.com/JuliaLang/julia/tree/0ff703b40afddf9b705bd6a06d3a59cb4c089ea5/base/strings/basic.jl#L151\" target=\"_blank\">strings/basic.jl:151</a><li> chmod(p::<b>AbstractString</b>, mode::<b>Integer</b>) at <a href=\"https://github.com/JuliaLang/julia/tree/0ff703b40afddf9b705bd6a06d3a59cb4c089ea5/base/fs.jl#L183\" target=\"_blank\">fs.jl:183</a><li> chr2ind<i>{T<:DirectIndexString}</i>(s::<b>SubString{T<:DirectIndexString}</b>, i::<b>Integer</b>) at <a href=\"https://github.com/JuliaLang/julia/tree/0ff703b40afddf9b705bd6a06d3a59cb4c089ea5/base/strings/types.jl#L72\" target=\"_blank\">strings/types.jl:72</a><li> chr2ind(s::<b>DirectIndexString</b>, i::<b>Integer</b>) at <a href=\"https://github.com/JuliaLang/julia/tree/0ff703b40afddf9b705bd6a06d3a59cb4c089ea5/base/strings/basic.jl#L158\" target=\"_blank\">strings/basic.jl:158</a><li> chr2ind(s::<b>AbstractString</b>, i::<b>Integer</b>) at <a href=\"https://github.com/JuliaLang/julia/tree/0ff703b40afddf9b705bd6a06d3a59cb4c089ea5/base/strings/basic.jl#L175\" target=\"_blank\">strings/basic.jl:175</a><li> cld<i>{T<:Integer}</i>(x::<b>T<:Integer</b>, y::<b>T<:Integer</b>) at <a href=\"https://github.com/JuliaLang/julia/tree/0ff703b40afddf9b705bd6a06d3a59cb4c089ea5/base/int.jl#L94\" target=\"_blank\">int.jl:94</a><li> cld(x::<b>Rational{T<:Integer}</b>, y::<b>Integer</b>) at <a href=\"https://github.com/JuliaLang/julia/tree/0ff703b40afddf9b705bd6a06d3a59cb4c089ea5/base/rational.jl#L272\" target=\"_blank\">rational.jl:272</a><li> cld(x::<b>Integer</b>, y::<b>Rational{T<:Integer}</b>) at <a href=\"https://github.com/JuliaLang/julia/tree/0ff703b40afddf9b705bd6a06d3a59cb4c089ea5/base/rational.jl#L276\" target=\"_blank\">rational.jl:276</a><li> cmp(x::<b>BigInt</b>, y::<b>Integer</b>) at <a href=\"https://github.com/JuliaLang/julia/tree/0ff703b40afddf9b705bd6a06d3a59cb4c089ea5/base/gmp.jl#L378\" target=\"_blank\">gmp.jl:378</a><li> cmp(x::<b>Integer</b>, y::<b>BigInt</b>) at <a href=\"https://github.com/JuliaLang/julia/tree/0ff703b40afddf9b705bd6a06d3a59cb4c089ea5/base/gmp.jl#L379\" target=\"_blank\">gmp.jl:379</a><li> cmp(x::<b>Integer</b>, y::<b>Integer</b>) at <a href=\"https://github.com/JuliaLang/julia/tree/0ff703b40afddf9b705bd6a06d3a59cb4c089ea5/base/operators.jl#L55\" target=\"_blank\">operators.jl:55</a><li> cmp(x::<b>Integer</b>, y::<b>BigFloat</b>) at <a href=\"https://github.com/JuliaLang/julia/tree/0ff703b40afddf9b705bd6a06d3a59cb4c089ea5/base/mpfr.jl#L659\" target=\"_blank\">mpfr.jl:659</a><li> cmp(x::<b>BigFloat</b>, y::<b>Integer</b>) at <a href=\"https://github.com/JuliaLang/julia/tree/0ff703b40afddf9b705bd6a06d3a59cb4c089ea5/base/mpfr.jl#L658\" target=\"_blank\">mpfr.jl:658</a><li> combinations(a, t::<b>Integer</b>) at <a href=\"https://github.com/JuliaLang/julia/tree/0ff703b40afddf9b705bd6a06d3a59cb4c089ea5/base/combinatorics.jl#L182\" target=\"_blank\">combinatorics.jl:182</a><li> connect(sock::<b>TCPSocket</b>, port::<b>Integer</b>) at <a href=\"https://github.com/JuliaLang/julia/tree/0ff703b40afddf9b705bd6a06d3a59cb4c089ea5/base/socket.jl#L664\" target=\"_blank\">socket.jl:664</a><li> connect(port::<b>Integer</b>) at <a href=\"https://github.com/JuliaLang/julia/tree/0ff703b40afddf9b705bd6a06d3a59cb4c089ea5/base/socket.jl#L665\" target=\"_blank\">socket.jl:665</a><li> connect(host::<b>AbstractString</b>, port::<b>Integer</b>) at <a href=\"https://github.com/JuliaLang/julia/tree/0ff703b40afddf9b705bd6a06d3a59cb4c089ea5/base/socket.jl#L668\" target=\"_blank\">socket.jl:668</a><li> connect(addr::<b>Base.IPAddr</b>, port::<b>Integer</b>) at <a href=\"https://github.com/JuliaLang/julia/tree/0ff703b40afddf9b705bd6a06d3a59cb4c089ea5/base/socket.jl#L669\" target=\"_blank\">socket.jl:669</a><li> convert(::<b>Type{Integer}</b>, x::<b>Integer</b>) at <a href=\"https://github.com/JuliaLang/julia/tree/0ff703b40afddf9b705bd6a06d3a59cb4c089ea5/base/int.jl#L247\" target=\"_blank\">int.jl:247</a><li> convert(::<b>Type{Float16}</b>, x::<b>Integer</b>) at <a href=\"https://github.com/JuliaLang/julia/tree/0ff703b40afddf9b705bd6a06d3a59cb4c089ea5/base/float.jl#L15\" target=\"_blank\">float.jl:15</a><li> convert<i>{T<:Integer}</i>(::<b>Type{Rational{T<:Integer}}</b>, x::<b>Integer</b>) at <a href=\"https://github.com/JuliaLang/julia/tree/0ff703b40afddf9b705bd6a06d3a59cb4c089ea5/base/rational.jl#L70\" target=\"_blank\">rational.jl:70</a><li> convert(::<b>Type{Rational{T<:Integer}}</b>, x::<b>Integer</b>) at <a href=\"https://github.com/JuliaLang/julia/tree/0ff703b40afddf9b705bd6a06d3a59cb4c089ea5/base/rational.jl#L73\" target=\"_blank\">rational.jl:73</a><li> convert(::<b>Type{VersionNumber}</b>, v::<b>Integer</b>) at <a href=\"https://github.com/JuliaLang/julia/tree/0ff703b40afddf9b705bd6a06d3a59cb4c089ea5/base/version.jl#L71\" target=\"_blank\">version.jl:71</a><li> convert(::<b>Type{BigInt}</b>, x::<b>Integer</b>) at <a href=\"https://github.com/JuliaLang/julia/tree/0ff703b40afddf9b705bd6a06d3a59cb4c089ea5/base/gmp.jl#L134\" target=\"_blank\">gmp.jl:134</a><li> convert(::<b>Type{BigFloat}</b>, x::<b>Integer</b>) at <a href=\"https://github.com/JuliaLang/julia/tree/0ff703b40afddf9b705bd6a06d3a59cb4c089ea5/base/mpfr.jl#L88\" target=\"_blank\">mpfr.jl:88</a><li> convert(::<b>Type{Base.WorkerState}</b>, ::<b>Integer</b>) at <a href=\"https://github.com/JuliaLang/julia/tree/0ff703b40afddf9b705bd6a06d3a59cb4c089ea5/base/Enums.jl#L79\" target=\"_blank\">Enums.jl:79</a><li> convert<i>{Tv<:Union{Complex{Float64},Float64}}</i>(::<b>Type{Base.SparseMatrix.CHOLMOD.Sparse{Tv<:Union{Complex{Float64},Float64}}}</b>, m::<b>Integer</b>, n::<b>Integer</b>, colptr::<b>Array{Int64,1}</b>, rowval::<b>Array{Int64,1}</b>, nzval::<b>Array{Tv<:Union{Complex{Float64},Float64},1}</b>, stype) at <a href=\"https://github.com/JuliaLang/julia/tree/0ff703b40afddf9b705bd6a06d3a59cb4c089ea5/base/sparse/cholmod.jl#L811\" target=\"_blank\">sparse/cholmod.jl:811</a><li> convert<i>{Tv<:Union{Complex{Float64},Float64}}</i>(::<b>Type{Base.SparseMatrix.CHOLMOD.Sparse{Tv<:Union{Complex{Float64},Float64}}}</b>, m::<b>Integer</b>, n::<b>Integer</b>, colptr::<b>Array{Int64,1}</b>, rowval::<b>Array{Int64,1}</b>, nzval::<b>Array{Tv<:Union{Complex{Float64},Float64},1}</b>) at <a href=\"https://github.com/JuliaLang/julia/tree/0ff703b40afddf9b705bd6a06d3a59cb4c089ea5/base/sparse/cholmod.jl#L832\" target=\"_blank\">sparse/cholmod.jl:832</a><li> convert<i>{Tv<:Union{Complex{Float64},Float64}}</i>(::<b>Type{Base.SparseMatrix.CHOLMOD.Sparse{Tv<:Union{Complex{Float64},Float64}}}</b>, A::<b>SparseMatrixCSC{Tv<:Union{Complex{Float64},Float64},Int64}</b>, stype::<b>Integer</b>) at <a href=\"https://github.com/JuliaLang/julia/tree/0ff703b40afddf9b705bd6a06d3a59cb4c089ea5/base/sparse/cholmod.jl#L842\" target=\"_blank\">sparse/cholmod.jl:842</a><li> convert<i>{T}</i>(::<b>Type{Ptr{T}}</b>, x::<b>Integer</b>) at <a href=\"https://github.com/JuliaLang/julia/tree/0ff703b40afddf9b705bd6a06d3a59cb4c089ea5/base/deprecated.jl#L423\" target=\"_blank\">deprecated.jl:423</a><li> copy<i>{Tv<:Float64}</i>(A::<b>Base.SparseMatrix.CHOLMOD.Sparse{Tv<:Float64}</b>, stype::<b>Integer</b>, mode::<b>Integer</b>) at <a href=\"https://github.com/JuliaLang/julia/tree/0ff703b40afddf9b705bd6a06d3a59cb4c089ea5/base/sparse/cholmod.jl#L583\" target=\"_blank\">sparse/cholmod.jl:583</a><li> copy!<i>{T}</i>(dest::<b>Array{T,N}</b>, doffs::<b>Integer</b>, src::<b>Array{T,N}</b>, soffs::<b>Integer</b>, n::<b>Integer</b>) at <a href=\"https://github.com/JuliaLang/julia/tree/0ff703b40afddf9b705bd6a06d3a59cb4c089ea5/base/array.jl#L90\" target=\"_blank\">array.jl:90</a><li> copy!(dest::<b>BitArray{N}</b>, doffs::<b>Integer</b>, src::<b>BitArray{N}</b>, soffs::<b>Integer</b>, n::<b>Integer</b>) at <a href=\"https://github.com/JuliaLang/julia/tree/0ff703b40afddf9b705bd6a06d3a59cb4c089ea5/base/bitarray.jl#L272\" target=\"_blank\">bitarray.jl:272</a><li> copy!(dest::<b>AbstractArray{T,N}</b>, doffs::<b>Integer</b>, src::<b>AbstractArray{T,N}</b>) at <a href=\"https://github.com/JuliaLang/julia/tree/0ff703b40afddf9b705bd6a06d3a59cb4c089ea5/base/abstractarray.jl#L313\" target=\"_blank\">abstractarray.jl:313</a><li> copy!(dest::<b>AbstractArray{T,N}</b>, doffs::<b>Integer</b>, src::<b>AbstractArray{T,N}</b>, soffs::<b>Integer</b>) at <a href=\"https://github.com/JuliaLang/julia/tree/0ff703b40afddf9b705bd6a06d3a59cb4c089ea5/base/abstractarray.jl#L317\" target=\"_blank\">abstractarray.jl:317</a><li> copy!(dest::<b>AbstractArray{T,N}</b>, doffs::<b>Integer</b>, src::<b>AbstractArray{T,N}</b>, soffs::<b>Integer</b>, n::<b>Integer</b>) at <a href=\"https://github.com/JuliaLang/julia/tree/0ff703b40afddf9b705bd6a06d3a59cb4c089ea5/base/abstractarray.jl#L324\" target=\"_blank\">abstractarray.jl:324</a><li> copy!(dest::<b>AbstractArray{T,N}</b>, doffs::<b>Integer</b>, src) at <a href=\"https://github.com/JuliaLang/julia/tree/0ff703b40afddf9b705bd6a06d3a59cb4c089ea5/base/abstractarray.jl#L230\" target=\"_blank\">abstractarray.jl:230</a><li> copy!(dest::<b>AbstractArray{T,N}</b>, doffs::<b>Integer</b>, src, soffs::<b>Integer</b>) at <a href=\"https://github.com/JuliaLang/julia/tree/0ff703b40afddf9b705bd6a06d3a59cb4c089ea5/base/abstractarray.jl#L244\" target=\"_blank\">abstractarray.jl:244</a><li> copy!(dest::<b>AbstractArray{T,N}</b>, doffs::<b>Integer</b>, src, soffs::<b>Integer</b>, n::<b>Integer</b>) at <a href=\"https://github.com/JuliaLang/julia/tree/0ff703b40afddf9b705bd6a06d3a59cb4c089ea5/base/abstractarray.jl#L274\" target=\"_blank\">abstractarray.jl:274</a><li> cosc(x::<b>Integer</b>) at <a href=\"https://github.com/JuliaLang/julia/tree/0ff703b40afddf9b705bd6a06d3a59cb4c089ea5/base/special/trig.jl#L248\" target=\"_blank\">special/trig.jl:248</a><li> cospi(x::<b>Integer</b>) at <a href=\"https://github.com/JuliaLang/julia/tree/0ff703b40afddf9b705bd6a06d3a59cb4c089ea5/base/special/trig.jl#L210\" target=\"_blank\">special/trig.jl:210</a><li> count_zeros(x::<b>Integer</b>) at <a href=\"https://github.com/JuliaLang/julia/tree/0ff703b40afddf9b705bd6a06d3a59cb4c089ea5/base/int.jl#L138\" target=\"_blank\">int.jl:138</a><li> cummax(A::<b>Union{DenseArray{T,N},SubArray{T,N,A<:DenseArray{T,N},I<:Tuple{Vararg{Union{Colon,Int64,Range{Int64}}}},LD}}</b>, axis::<b>Integer</b>) at <a href=\"https://github.com/JuliaLang/julia/tree/0ff703b40afddf9b705bd6a06d3a59cb4c089ea5/base/arraymath.jl#L469\" target=\"_blank\">arraymath.jl:469</a><li> cummin(A::<b>Union{DenseArray{T,N},SubArray{T,N,A<:DenseArray{T,N},I<:Tuple{Vararg{Union{Colon,Int64,Range{Int64}}}},LD}}</b>, axis::<b>Integer</b>) at <a href=\"https://github.com/JuliaLang/julia/tree/0ff703b40afddf9b705bd6a06d3a59cb4c089ea5/base/arraymath.jl#L469\" target=\"_blank\">arraymath.jl:469</a><li> cumprod(A::<b>AbstractArray{T,N}</b>, axis::<b>Integer</b>) at <a href=\"https://github.com/JuliaLang/julia/tree/0ff703b40afddf9b705bd6a06d3a59cb4c089ea5/base/multidimensional.jl#L517\" target=\"_blank\">multidimensional.jl:517</a><li> cumprod!<i>{T,N}</i>(B, A::<b>AbstractArray{T,N}</b>, axis::<b>Integer</b>) at <a href=\"https://github.com/JuliaLang/julia/tree/0ff703b40afddf9b705bd6a06d3a59cb4c089ea5/base/multidimensional.jl#L524\" target=\"_blank\">multidimensional.jl:524</a><li> cumsum(A::<b>AbstractArray{T,N}</b>, axis::<b>Integer</b>) at <a href=\"https://github.com/JuliaLang/julia/tree/0ff703b40afddf9b705bd6a06d3a59cb4c089ea5/base/multidimensional.jl#L515\" target=\"_blank\">multidimensional.jl:515</a><li> cumsum!<i>{T,N}</i>(B, A::<b>AbstractArray{T,N}</b>, axis::<b>Integer</b>) at <a href=\"https://github.com/JuliaLang/julia/tree/0ff703b40afddf9b705bd6a06d3a59cb4c089ea5/base/multidimensional.jl#L524\" target=\"_blank\">multidimensional.jl:524</a><li> cumsum_kbn<i>{T<:AbstractFloat}</i>(A::<b>AbstractArray{T<:AbstractFloat,N}</b>, axis::<b>Integer</b>) at <a href=\"https://github.com/JuliaLang/julia/tree/0ff703b40afddf9b705bd6a06d3a59cb4c089ea5/base/abstractarraymath.jl#L132\" target=\"_blank\">abstractarraymath.jl:132</a><li> dawson(x::<b>Integer</b>) at <a href=\"https://github.com/JuliaLang/julia/tree/0ff703b40afddf9b705bd6a06d3a59cb4c089ea5/base/special/erf.jl#L16\" target=\"_blank\">special/erf.jl:16</a><li> dec(x::<b>Integer</b>) at <a href=\"https://github.com/JuliaLang/julia/tree/0ff703b40afddf9b705bd6a06d3a59cb4c089ea5/base/intfuncs.jl#L301\" target=\"_blank\">intfuncs.jl:301</a><li> dec(x::<b>Integer</b>, p::<b>Int64</b>) at <a href=\"https://github.com/JuliaLang/julia/tree/0ff703b40afddf9b705bd6a06d3a59cb4c089ea5/base/intfuncs.jl#L300\" target=\"_blank\">intfuncs.jl:300</a><li> delete!(s::<b>IntSet</b>, n::<b>Integer</b>) at <a href=\"https://github.com/JuliaLang/julia/tree/0ff703b40afddf9b705bd6a06d3a59cb4c089ea5/base/intset.jl#L111\" target=\"_blank\">intset.jl:111</a><li> deleteat!(a::<b>Array{T,1}</b>, i::<b>Integer</b>) at <a href=\"https://github.com/JuliaLang/julia/tree/0ff703b40afddf9b705bd6a06d3a59cb4c089ea5/base/array.jl#L519\" target=\"_blank\">array.jl:519</a><li> deleteat!(B::<b>BitArray{1}</b>, i::<b>Integer</b>) at <a href=\"https://github.com/JuliaLang/julia/tree/0ff703b40afddf9b705bd6a06d3a59cb4c089ea5/base/bitarray.jl#L643\" target=\"_blank\">bitarray.jl:643</a><li> den(x::<b>Integer</b>) at <a href=\"https://github.com/JuliaLang/julia/tree/0ff703b40afddf9b705bd6a06d3a59cb4c089ea5/base/rational.jl#L151\" target=\"_blank\">rational.jl:151</a><li> diag<i>{T}</i>(M::<b>SymTridiagonal{T}</b>, n::<b>Integer</b>) at <a href=\"https://github.com/JuliaLang/julia/tree/0ff703b40afddf9b705bd6a06d3a59cb4c089ea5/base/linalg/tridiag.jl#L72\" target=\"_blank\">linalg/tridiag.jl:72</a><li> diag<i>{T}</i>(M::<b>Tridiagonal{T}</b>, n::<b>Integer</b>) at <a href=\"https://github.com/JuliaLang/julia/tree/0ff703b40afddf9b705bd6a06d3a59cb4c089ea5/base/linalg/tridiag.jl#L333\" target=\"_blank\">linalg/tridiag.jl:333</a><li> diag<i>{T}</i>(M::<b>Bidiagonal{T}</b>, n::<b>Integer</b>) at <a href=\"https://github.com/JuliaLang/julia/tree/0ff703b40afddf9b705bd6a06d3a59cb4c089ea5/base/linalg/bidiag.jl#L162\" target=\"_blank\">linalg/bidiag.jl:162</a><li> diag(A::<b>AbstractArray{T,2}</b>, k::<b>Integer</b>) at <a href=\"https://github.com/JuliaLang/julia/tree/0ff703b40afddf9b705bd6a06d3a59cb4c089ea5/base/linalg/dense.jl#L133\" target=\"_blank\">linalg/dense.jl:133</a><li> diagind(m::<b>Integer</b>, n::<b>Integer</b>) at <a href=\"https://github.com/JuliaLang/julia/tree/0ff703b40afddf9b705bd6a06d3a59cb4c089ea5/base/linalg/dense.jl#L125\" target=\"_blank\">linalg/dense.jl:125</a><li> diagind(m::<b>Integer</b>, n::<b>Integer</b>, k::<b>Integer</b>) at <a href=\"https://github.com/JuliaLang/julia/tree/0ff703b40afddf9b705bd6a06d3a59cb4c089ea5/base/linalg/dense.jl#L125\" target=\"_blank\">linalg/dense.jl:125</a><li> diagind(A::<b>AbstractArray{T,2}</b>, k::<b>Integer</b>) at <a href=\"https://github.com/JuliaLang/julia/tree/0ff703b40afddf9b705bd6a06d3a59cb4c089ea5/base/linalg/dense.jl#L131\" target=\"_blank\">linalg/dense.jl:131</a><li> diagm<i>{T}</i>(v::<b>AbstractArray{T,1}</b>, k::<b>Integer</b>) at <a href=\"https://github.com/JuliaLang/julia/tree/0ff703b40afddf9b705bd6a06d3a59cb4c089ea5/base/linalg/dense.jl#L136\" target=\"_blank\">linalg/dense.jl:136</a><li> diff(a::<b>SparseMatrixCSC{Tv,Ti<:Integer}</b>, dim::<b>Integer</b>) at <a href=\"https://github.com/JuliaLang/julia/tree/0ff703b40afddf9b705bd6a06d3a59cb4c089ea5/base/sparse/linalg.jl#L451\" target=\"_blank\">sparse/linalg.jl:451</a><li> diff(A::<b>AbstractArray{T,2}</b>, dim::<b>Integer</b>) at <a href=\"https://github.com/JuliaLang/julia/tree/0ff703b40afddf9b705bd6a06d3a59cb4c089ea5/base/linalg/generic.jl#L44\" target=\"_blank\">linalg/generic.jl:44</a><li> digits(n::<b>Integer</b>) at <a href=\"https://github.com/JuliaLang/julia/tree/0ff703b40afddf9b705bd6a06d3a59cb4c089ea5/base/intfuncs.jl#L312\" target=\"_blank\">intfuncs.jl:312</a><li> digits<i>{T<:Integer}</i>(n::<b>Integer</b>, base::<b>T<:Integer</b>) at <a href=\"https://github.com/JuliaLang/julia/tree/0ff703b40afddf9b705bd6a06d3a59cb4c089ea5/base/intfuncs.jl#L312\" target=\"_blank\">intfuncs.jl:312</a><li> digits<i>{T<:Integer}</i>(n::<b>Integer</b>, base::<b>T<:Integer</b>, pad::<b>Integer</b>) at <a href=\"https://github.com/JuliaLang/julia/tree/0ff703b40afddf9b705bd6a06d3a59cb4c089ea5/base/intfuncs.jl#L312\" target=\"_blank\">intfuncs.jl:312</a><li> digits!<i>{T<:Integer}</i>(a::<b>AbstractArray{T<:Integer,1}</b>, n::<b>Integer</b>) at <a href=\"https://github.com/JuliaLang/julia/tree/0ff703b40afddf9b705bd6a06d3a59cb4c089ea5/base/intfuncs.jl#L320\" target=\"_blank\">intfuncs.jl:320</a><li> digits!<i>{T<:Integer}</i>(a::<b>AbstractArray{T<:Integer,1}</b>, n::<b>Integer</b>, base::<b>T<:Integer</b>) at <a href=\"https://github.com/JuliaLang/julia/tree/0ff703b40afddf9b705bd6a06d3a59cb4c089ea5/base/intfuncs.jl#L320\" target=\"_blank\">intfuncs.jl:320</a><li> div(x::<b>Rational{T<:Integer}</b>, y::<b>Integer</b>) at <a href=\"https://github.com/JuliaLang/julia/tree/0ff703b40afddf9b705bd6a06d3a59cb4c089ea5/base/rational.jl#L272\" target=\"_blank\">rational.jl:272</a><li> div(x::<b>Integer</b>, y::<b>Rational{T<:Integer}</b>) at <a href=\"https://github.com/JuliaLang/julia/tree/0ff703b40afddf9b705bd6a06d3a59cb4c089ea5/base/rational.jl#L276\" target=\"_blank\">rational.jl:276</a><li> div<i>{P<:Base.Dates.Period}</i>(X::<b>Union{DenseArray{P<:Base.Dates.Period,N},SubArray{P<:Base.Dates.Period,N,A<:DenseArray{T,N},I<:Tuple{Vararg{Union{Colon,Int64,Range{Int64}}}},LD}}</b>, y::<b>Integer</b>) at <a href=\"https://github.com/JuliaLang/julia/tree/0ff703b40afddf9b705bd6a06d3a59cb4c089ea5/base/dates/periods.jl#L66\" target=\"_blank\">dates/periods.jl:66</a><li> done<i>{T<:Base.Dates.TimeType,S<:Base.Dates.Period}</i>(r::<b>StepRange{T<:Base.Dates.TimeType,S<:Base.Dates.Period}</b>, i::<b>Integer</b>) at <a href=\"https://github.com/JuliaLang/julia/tree/0ff703b40afddf9b705bd6a06d3a59cb4c089ea5/base/dates/ranges.jl#L35\" target=\"_blank\">dates/ranges.jl:35</a><li> done<i>{T,S}</i>(r::<b>StepRange{T,S}</b>, i::<b>Integer</b>) at <a href=\"https://github.com/JuliaLang/julia/tree/0ff703b40afddf9b705bd6a06d3a59cb4c089ea5/base/range.jl#L344\" target=\"_blank\">range.jl:344</a><li> edit(file::<b>AbstractString</b>, line::<b>Integer</b>) at <a href=\"https://github.com/JuliaLang/julia/tree/0ff703b40afddf9b705bd6a06d3a59cb4c089ea5/base/interactiveutil.jl#L6\" target=\"_blank\">interactiveutil.jl:6</a><li> edit(file, line::<b>Integer</b>) at <a href=\"https://github.com/JuliaLang/julia/tree/0ff703b40afddf9b705bd6a06d3a59cb4c089ea5/base/interactiveutil.jl#L59\" target=\"_blank\">interactiveutil.jl:59</a><li> erfcinv(x::<b>Integer</b>) at <a href=\"https://github.com/JuliaLang/julia/tree/0ff703b40afddf9b705bd6a06d3a59cb4c089ea5/base/special/erf.jl#L219\" target=\"_blank\">special/erf.jl:219</a><li> erfcx(x::<b>Integer</b>) at <a href=\"https://github.com/JuliaLang/julia/tree/0ff703b40afddf9b705bd6a06d3a59cb4c089ea5/base/special/erf.jl#L16\" target=\"_blank\">special/erf.jl:16</a><li> erfi(x::<b>Integer</b>) at <a href=\"https://github.com/JuliaLang/julia/tree/0ff703b40afddf9b705bd6a06d3a59cb4c089ea5/base/special/erf.jl#L16\" target=\"_blank\">special/erf.jl:16</a><li> erfinv(x::<b>Integer</b>) at <a href=\"https://github.com/JuliaLang/julia/tree/0ff703b40afddf9b705bd6a06d3a59cb4c089ea5/base/special/erf.jl#L139\" target=\"_blank\">special/erf.jl:139</a><li> eta(x::<b>Integer</b>) at <a href=\"https://github.com/JuliaLang/julia/tree/0ff703b40afddf9b705bd6a06d3a59cb4c089ea5/base/special/gamma.jl#L481\" target=\"_blank\">special/gamma.jl:481</a><li> exp10(x::<b>Integer</b>) at <a href=\"https://github.com/JuliaLang/julia/tree/0ff703b40afddf9b705bd6a06d3a59cb4c089ea5/base/math.jl#L130\" target=\"_blank\">math.jl:130</a><li> eye(T::<b>Type{T}</b>, n::<b>Integer</b>) at <a href=\"https://github.com/JuliaLang/julia/tree/0ff703b40afddf9b705bd6a06d3a59cb4c089ea5/base/array.jl#L225\" target=\"_blank\">array.jl:225</a><li> eye(T::<b>Type{T}</b>, m::<b>Integer</b>, n::<b>Integer</b>) at <a href=\"https://github.com/JuliaLang/julia/tree/0ff703b40afddf9b705bd6a06d3a59cb4c089ea5/base/array.jl#L218\" target=\"_blank\">array.jl:218</a><li> eye(n::<b>Integer</b>) at <a href=\"https://github.com/JuliaLang/julia/tree/0ff703b40afddf9b705bd6a06d3a59cb4c089ea5/base/array.jl#L226\" target=\"_blank\">array.jl:226</a><li> eye(m::<b>Integer</b>, n::<b>Integer</b>) at <a href=\"https://github.com/JuliaLang/julia/tree/0ff703b40afddf9b705bd6a06d3a59cb4c089ea5/base/array.jl#L224\" target=\"_blank\">array.jl:224</a><li> factor<i>{T<:Integer}</i>(n::<b>T<:Integer</b>) at <a href=\"https://github.com/JuliaLang/julia/tree/0ff703b40afddf9b705bd6a06d3a59cb4c089ea5/base/primes.jl#L168\" target=\"_blank\">primes.jl:168</a><li> factorial<i>{T<:Integer}</i>(n::<b>T<:Integer</b>, k::<b>T<:Integer</b>) at <a href=\"https://github.com/JuliaLang/julia/tree/0ff703b40afddf9b705bd6a06d3a59cb4c089ea5/base/combinatorics.jl#L56\" target=\"_blank\">combinatorics.jl:56</a><li> factorial(n::<b>Integer</b>) at <a href=\"https://github.com/JuliaLang/julia/tree/0ff703b40afddf9b705bd6a06d3a59cb4c089ea5/base/intfuncs.jl#L340\" target=\"_blank\">intfuncs.jl:340</a><li> factorial(n::<b>Integer</b>, k::<b>Integer</b>) at <a href=\"https://github.com/JuliaLang/julia/tree/0ff703b40afddf9b705bd6a06d3a59cb4c089ea5/base/combinatorics.jl#L66\" target=\"_blank\">combinatorics.jl:66</a><li> fdio(name::<b>AbstractString</b>, fd::<b>Integer</b>) at <a href=\"https://github.com/JuliaLang/julia/tree/0ff703b40afddf9b705bd6a06d3a59cb4c089ea5/base/iostream.jl#L81\" target=\"_blank\">iostream.jl:81</a><li> fdio(name::<b>AbstractString</b>, fd::<b>Integer</b>, own::<b>Bool</b>) at <a href=\"https://github.com/JuliaLang/julia/tree/0ff703b40afddf9b705bd6a06d3a59cb4c089ea5/base/iostream.jl#L81\" target=\"_blank\">iostream.jl:81</a><li> fdio(fd::<b>Integer</b>) at <a href=\"https://github.com/JuliaLang/julia/tree/0ff703b40afddf9b705bd6a06d3a59cb4c089ea5/base/iostream.jl#L86\" target=\"_blank\">iostream.jl:86</a><li> fdio(fd::<b>Integer</b>, own::<b>Bool</b>) at <a href=\"https://github.com/JuliaLang/julia/tree/0ff703b40afddf9b705bd6a06d3a59cb4c089ea5/base/iostream.jl#L86\" target=\"_blank\">iostream.jl:86</a><li> fill!(a::<b>Union{Array{Int8,N},Array{UInt8,N}}</b>, x::<b>Integer</b>) at <a href=\"https://github.com/JuliaLang/julia/tree/0ff703b40afddf9b705bd6a06d3a59cb4c089ea5/base/array.jl#L181\" target=\"_blank\">array.jl:181</a><li> findnext(B::<b>BitArray{N}</b>, start::<b>Integer</b>) at <a href=\"https://github.com/JuliaLang/julia/tree/0ff703b40afddf9b705bd6a06d3a59cb4c089ea5/base/bitarray.jl#L1282\" target=\"_blank\">bitarray.jl:1282</a><li> findnext(A, start::<b>Integer</b>) at <a href=\"https://github.com/JuliaLang/julia/tree/0ff703b40afddf9b705bd6a06d3a59cb4c089ea5/base/array.jl#L704\" target=\"_blank\">array.jl:704</a><li> findnext(testf::<b>Function</b>, B::<b>BitArray{N}</b>, start::<b>Integer</b>) at <a href=\"https://github.com/JuliaLang/julia/tree/0ff703b40afddf9b705bd6a06d3a59cb4c089ea5/base/bitarray.jl#L1348\" target=\"_blank\">bitarray.jl:1348</a><li> findnext(testf::<b>Function</b>, A, start::<b>Integer</b>) at <a href=\"https://github.com/JuliaLang/julia/tree/0ff703b40afddf9b705bd6a06d3a59cb4c089ea5/base/array.jl#L726\" target=\"_blank\">array.jl:726</a><li> findnext(B::<b>BitArray{N}</b>, v, start::<b>Integer</b>) at <a href=\"https://github.com/JuliaLang/julia/tree/0ff703b40afddf9b705bd6a06d3a59cb4c089ea5/base/bitarray.jl#L1340\" target=\"_blank\">bitarray.jl:1340</a><li> findnext(A, v, start::<b>Integer</b>) at <a href=\"https://github.com/JuliaLang/julia/tree/0ff703b40afddf9b705bd6a06d3a59cb4c089ea5/base/array.jl#L715\" target=\"_blank\">array.jl:715</a><li> findprev(testf::<b>Function</b>, B::<b>BitArray{N}</b>, start::<b>Integer</b>) at <a href=\"https://github.com/JuliaLang/julia/tree/0ff703b40afddf9b705bd6a06d3a59cb4c089ea5/base/bitarray.jl#L1418\" target=\"_blank\">bitarray.jl:1418</a><li> findprev(B::<b>BitArray{N}</b>, start::<b>Integer</b>) at <a href=\"https://github.com/JuliaLang/julia/tree/0ff703b40afddf9b705bd6a06d3a59cb4c089ea5/base/bitarray.jl#L1362\" target=\"_blank\">bitarray.jl:1362</a><li> findprev(B::<b>BitArray{N}</b>, v, start::<b>Integer</b>) at <a href=\"https://github.com/JuliaLang/julia/tree/0ff703b40afddf9b705bd6a06d3a59cb4c089ea5/base/bitarray.jl#L1410\" target=\"_blank\">bitarray.jl:1410</a><li> fld<i>{T<:Integer}</i>(x::<b>T<:Integer</b>, y::<b>T<:Integer</b>) at <a href=\"https://github.com/JuliaLang/julia/tree/0ff703b40afddf9b705bd6a06d3a59cb4c089ea5/base/int.jl#L91\" target=\"_blank\">int.jl:91</a><li> fld(x::<b>Rational{T<:Integer}</b>, y::<b>Integer</b>) at <a href=\"https://github.com/JuliaLang/julia/tree/0ff703b40afddf9b705bd6a06d3a59cb4c089ea5/base/rational.jl#L272\" target=\"_blank\">rational.jl:272</a><li> fld(x::<b>Integer</b>, y::<b>Rational{T<:Integer}</b>) at <a href=\"https://github.com/JuliaLang/julia/tree/0ff703b40afddf9b705bd6a06d3a59cb4c089ea5/base/rational.jl#L276\" target=\"_blank\">rational.jl:276</a><li> flipdim<i>{T}</i>(A::<b>Array{T,N}</b>, d::<b>Integer</b>) at <a href=\"https://github.com/JuliaLang/julia/tree/0ff703b40afddf9b705bd6a06d3a59cb4c089ea5/base/arraymath.jl#L212\" target=\"_blank\">arraymath.jl:212</a><li> flipdim(A::<b>BitArray{N}</b>, d::<b>Integer</b>) at <a href=\"https://github.com/JuliaLang/julia/tree/0ff703b40afddf9b705bd6a06d3a59cb4c089ea5/base/bitarray.jl#L1097\" target=\"_blank\">bitarray.jl:1097</a><li> flipdim(A::<b>AbstractArray{T,1}</b>, d::<b>Integer</b>) at <a href=\"https://github.com/JuliaLang/julia/tree/0ff703b40afddf9b705bd6a06d3a59cb4c089ea5/base/abstractarraymath.jl#L67\" target=\"_blank\">abstractarraymath.jl:67</a><li> flipdim(A::<b>AbstractArray{T,N}</b>, d::<b>Integer</b>) at <a href=\"https://github.com/JuliaLang/julia/tree/0ff703b40afddf9b705bd6a06d3a59cb4c089ea5/base/abstractarraymath.jl#L73\" target=\"_blank\">abstractarraymath.jl:73</a><li> floor(x::<b>Integer</b>) at <a href=\"https://github.com/JuliaLang/julia/tree/0ff703b40afddf9b705bd6a06d3a59cb4c089ea5/base/int.jl#L252\" target=\"_blank\">int.jl:252</a><li> floor<i>{T<:Integer}</i>(::<b>Type{T<:Integer}</b>, x::<b>Integer</b>) at <a href=\"https://github.com/JuliaLang/julia/tree/0ff703b40afddf9b705bd6a06d3a59cb4c089ea5/base/int.jl#L257\" target=\"_blank\">int.jl:257</a><li> floor<i>{R}</i>(x::<b>AbstractArray{R,1}</b>, digits::<b>Integer</b>) at <a href=\"https://github.com/JuliaLang/julia/tree/0ff703b40afddf9b705bd6a06d3a59cb4c089ea5/base/floatfuncs.jl#L81\" target=\"_blank\">floatfuncs.jl:81</a><li> floor<i>{R}</i>(x::<b>AbstractArray{R,1}</b>, digits::<b>Integer</b>, base::<b>Integer</b>) at <a href=\"https://github.com/JuliaLang/julia/tree/0ff703b40afddf9b705bd6a06d3a59cb4c089ea5/base/floatfuncs.jl#L81\" target=\"_blank\">floatfuncs.jl:81</a><li> floor<i>{R}</i>(x::<b>AbstractArray{R,2}</b>, digits::<b>Integer</b>) at <a href=\"https://github.com/JuliaLang/julia/tree/0ff703b40afddf9b705bd6a06d3a59cb4c089ea5/base/floatfuncs.jl#L84\" target=\"_blank\">floatfuncs.jl:84</a><li> floor<i>{R}</i>(x::<b>AbstractArray{R,2}</b>, digits::<b>Integer</b>, base::<b>Integer</b>) at <a href=\"https://github.com/JuliaLang/julia/tree/0ff703b40afddf9b705bd6a06d3a59cb4c089ea5/base/floatfuncs.jl#L84\" target=\"_blank\">floatfuncs.jl:84</a><li> floor(x::<b>AbstractArray{T,N}</b>, digits::<b>Integer</b>) at <a href=\"https://github.com/JuliaLang/julia/tree/0ff703b40afddf9b705bd6a06d3a59cb4c089ea5/base/floatfuncs.jl#L87\" target=\"_blank\">floatfuncs.jl:87</a><li> floor(x::<b>AbstractArray{T,N}</b>, digits::<b>Integer</b>, base::<b>Integer</b>) at <a href=\"https://github.com/JuliaLang/julia/tree/0ff703b40afddf9b705bd6a06d3a59cb4c089ea5/base/floatfuncs.jl#L87\" target=\"_blank\">floatfuncs.jl:87</a><li> floor(x::<b>Real</b>, digits::<b>Integer</b>) at <a href=\"https://github.com/JuliaLang/julia/tree/0ff703b40afddf9b705bd6a06d3a59cb4c089ea5/base/floatfuncs.jl#L148\" target=\"_blank\">floatfuncs.jl:148</a><li> floor(x::<b>Real</b>, digits::<b>Integer</b>, base::<b>Integer</b>) at <a href=\"https://github.com/JuliaLang/julia/tree/0ff703b40afddf9b705bd6a06d3a59cb4c089ea5/base/floatfuncs.jl#L148\" target=\"_blank\">floatfuncs.jl:148</a><li> fma(x::<b>Integer</b>, y::<b>Integer</b>, z::<b>Integer</b>) at <a href=\"https://github.com/JuliaLang/julia/tree/0ff703b40afddf9b705bd6a06d3a59cb4c089ea5/base/promotion.jl#L218\" target=\"_blank\">promotion.jl:218</a><li> gcd(a::<b>Integer</b>) at <a href=\"https://github.com/JuliaLang/julia/tree/0ff703b40afddf9b705bd6a06d3a59cb4c089ea5/base/intfuncs.jl#L37\" target=\"_blank\">intfuncs.jl:37</a><li> gcd<i>{T<:Integer}</i>(a::<b>T<:Integer</b>, b::<b>T<:Integer</b>) at <a href=\"https://github.com/JuliaLang/julia/tree/0ff703b40afddf9b705bd6a06d3a59cb4c089ea5/base/intfuncs.jl#L6\" target=\"_blank\">intfuncs.jl:6</a><li> gcd(a::<b>Integer</b>, b::<b>Integer</b>) at <a href=\"https://github.com/JuliaLang/julia/tree/0ff703b40afddf9b705bd6a06d3a59cb4c089ea5/base/intfuncs.jl#L39\" target=\"_blank\">intfuncs.jl:39</a><li> gcd(a::<b>Integer</b>, b::<b>Integer...</b>) at <a href=\"https://github.com/JuliaLang/julia/tree/0ff703b40afddf9b705bd6a06d3a59cb4c089ea5/base/intfuncs.jl#L41\" target=\"_blank\">intfuncs.jl:41</a><li> gcdx<i>{T<:Integer}</i>(a::<b>T<:Integer</b>, b::<b>T<:Integer</b>) at <a href=\"https://github.com/JuliaLang/julia/tree/0ff703b40afddf9b705bd6a06d3a59cb4c089ea5/base/intfuncs.jl#L49\" target=\"_blank\">intfuncs.jl:49</a><li> gcdx(a::<b>Integer</b>, b::<b>Integer</b>) at <a href=\"https://github.com/JuliaLang/julia/tree/0ff703b40afddf9b705bd6a06d3a59cb4c089ea5/base/intfuncs.jl#L59\" target=\"_blank\">intfuncs.jl:59</a><li> get(zmsg::<b>ZMQ.Message</b>, property::<b>Integer</b>) at <a href=\"https://github.com/JuliaLang/ZMQ.jl/tree/89f9a65a38cb565b6c938a0eac760bb9ea458043/src/ZMQ.jl#L445\" target=\"_blank\">/Users/juanklopper/.julia/v0.4/ZMQ/src/ZMQ.jl:445</a><li> get(A::<b>AbstractArray{T,N}</b>, i::<b>Integer</b>, default) at <a href=\"https://github.com/JuliaLang/julia/tree/0ff703b40afddf9b705bd6a06d3a59cb4c089ea5/base/abstractarray.jl#L674\" target=\"_blank\">abstractarray.jl:674</a><li> get(ctx::<b>ZMQ.Context</b>, option::<b>Integer</b>) at <a href=\"https://github.com/JuliaLang/ZMQ.jl/tree/89f9a65a38cb565b6c938a0eac760bb9ea458043/src/ZMQ.jl#L153\" target=\"_blank\">/Users/juanklopper/.julia/v0.4/ZMQ/src/ZMQ.jl:153</a><li> getindex<i>{T}</i>(r::<b>FloatRange{T}</b>, i::<b>Integer</b>) at <a href=\"https://github.com/JuliaLang/julia/tree/0ff703b40afddf9b705bd6a06d3a59cb4c089ea5/base/range.jl#L356\" target=\"_blank\">range.jl:356</a><li> getindex<i>{T}</i>(r::<b>LinSpace{T}</b>, i::<b>Integer</b>) at <a href=\"https://github.com/JuliaLang/julia/tree/0ff703b40afddf9b705bd6a06d3a59cb4c089ea5/base/range.jl#L359\" target=\"_blank\">range.jl:359</a><li> getindex(r::<b>Range{T}</b>, i::<b>Integer</b>) at <a href=\"https://github.com/JuliaLang/julia/tree/0ff703b40afddf9b705bd6a06d3a59cb4c089ea5/base/range.jl#L353\" target=\"_blank\">range.jl:353</a><li> getindex(x::<b>Number</b>, i::<b>Integer</b>) at <a href=\"https://github.com/JuliaLang/julia/tree/0ff703b40afddf9b705bd6a06d3a59cb4c089ea5/base/number.jl#L15\" target=\"_blank\">number.jl:15</a><li> getindex<i>{T}</i>(A::<b>SymTridiagonal{T}</b>, i::<b>Integer</b>, j::<b>Integer</b>) at <a href=\"https://github.com/JuliaLang/julia/tree/0ff703b40afddf9b705bd6a06d3a59cb4c089ea5/base/linalg/tridiag.jl#L251\" target=\"_blank\">linalg/tridiag.jl:251</a><li> getindex<i>{T}</i>(A::<b>Tridiagonal{T}</b>, i::<b>Integer</b>, j::<b>Integer</b>) at <a href=\"https://github.com/JuliaLang/julia/tree/0ff703b40afddf9b705bd6a06d3a59cb4c089ea5/base/linalg/tridiag.jl#L347\" target=\"_blank\">linalg/tridiag.jl:347</a><li> getindex<i>{T,S}</i>(A::<b>Base.LinAlg.UnitLowerTriangular{T,S}</b>, i::<b>Integer</b>, j::<b>Integer</b>) at <a href=\"https://github.com/JuliaLang/julia/tree/0ff703b40afddf9b705bd6a06d3a59cb4c089ea5/base/linalg/triangular.jl#L115\" target=\"_blank\">linalg/triangular.jl:115</a><li> getindex<i>{T,S}</i>(A::<b>LowerTriangular{T,S}</b>, i::<b>Integer</b>, j::<b>Integer</b>) at <a href=\"https://github.com/JuliaLang/julia/tree/0ff703b40afddf9b705bd6a06d3a59cb4c089ea5/base/linalg/triangular.jl#L116\" target=\"_blank\">linalg/triangular.jl:116</a><li> getindex<i>{T,S}</i>(A::<b>Base.LinAlg.UnitUpperTriangular{T,S}</b>, i::<b>Integer</b>, j::<b>Integer</b>) at <a href=\"https://github.com/JuliaLang/julia/tree/0ff703b40afddf9b705bd6a06d3a59cb4c089ea5/base/linalg/triangular.jl#L117\" target=\"_blank\">linalg/triangular.jl:117</a><li> getindex<i>{T,S}</i>(A::<b>UpperTriangular{T,S}</b>, i::<b>Integer</b>, j::<b>Integer</b>) at <a href=\"https://github.com/JuliaLang/julia/tree/0ff703b40afddf9b705bd6a06d3a59cb4c089ea5/base/linalg/triangular.jl#L118\" target=\"_blank\">linalg/triangular.jl:118</a><li> getindex(A::<b>Union{Base.LinAlg.HessenbergQ{T,S<:AbstractArray{T,2}},Base.LinAlg.QRCompactWYQ{S,M<:AbstractArray{T,2}},Base.LinAlg.QRPackedQ{T,S<:AbstractArray{T,2}}}</b>, i::<b>Integer</b>, j::<b>Integer</b>) at <a href=\"https://github.com/JuliaLang/julia/tree/0ff703b40afddf9b705bd6a06d3a59cb4c089ea5/base/linalg/qr.jl#L454\" target=\"_blank\">linalg/qr.jl:454</a><li> getindex(A::<b>Symmetric{T,S<:AbstractArray{T,2}}</b>, i::<b>Integer</b>, j::<b>Integer</b>) at <a href=\"https://github.com/JuliaLang/julia/tree/0ff703b40afddf9b705bd6a06d3a59cb4c089ea5/base/linalg/symmetric.jl#L26\" target=\"_blank\">linalg/symmetric.jl:26</a><li> getindex(A::<b>Hermitian{T,S<:AbstractArray{T,2}}</b>, i::<b>Integer</b>, j::<b>Integer</b>) at <a href=\"https://github.com/JuliaLang/julia/tree/0ff703b40afddf9b705bd6a06d3a59cb4c089ea5/base/linalg/symmetric.jl#L27\" target=\"_blank\">linalg/symmetric.jl:27</a><li> getindex<i>{T}</i>(A::<b>Bidiagonal{T}</b>, i::<b>Integer</b>, j::<b>Integer</b>) at <a href=\"https://github.com/JuliaLang/julia/tree/0ff703b40afddf9b705bd6a06d3a59cb4c089ea5/base/linalg/bidiag.jl#L37\" target=\"_blank\">linalg/bidiag.jl:37</a><li> getindex<i>{T}</i>(A::<b>SparseMatrixCSC{T,Ti<:Integer}</b>, i0::<b>Integer</b>, i1::<b>Integer</b>) at <a href=\"https://github.com/JuliaLang/julia/tree/0ff703b40afddf9b705bd6a06d3a59cb4c089ea5/base/sparse/sparsematrix.jl#L1395\" target=\"_blank\">sparse/sparsematrix.jl:1395</a><li> getindex(A::<b>SparseMatrixCSC{Tv,Ti<:Integer}</b>, I::<b>AbstractArray{Bool,1}</b>, J::<b>Integer</b>) at <a href=\"https://github.com/JuliaLang/julia/tree/0ff703b40afddf9b705bd6a06d3a59cb4c089ea5/base/sparse/sparsematrix.jl#L1764\" target=\"_blank\">sparse/sparsematrix.jl:1764</a><li> getindex<i>{T<:Integer}</i>(A::<b>SparseMatrixCSC{Tv,Ti<:Integer}</b>, I::<b>AbstractArray{T<:Integer,1}</b>, j::<b>Integer</b>) at <a href=\"https://github.com/JuliaLang/julia/tree/0ff703b40afddf9b705bd6a06d3a59cb4c089ea5/base/sparse/sparsematrix.jl#L1403\" target=\"_blank\">sparse/sparsematrix.jl:1403</a><li> getindex(A::<b>SparseMatrixCSC{Tv,Ti<:Integer}</b>, I::<b>Integer</b>, J::<b>AbstractArray{Bool,1}</b>) at <a href=\"https://github.com/JuliaLang/julia/tree/0ff703b40afddf9b705bd6a06d3a59cb4c089ea5/base/sparse/sparsematrix.jl#L1763\" target=\"_blank\">sparse/sparsematrix.jl:1763</a><li> getindex<i>{T<:Integer}</i>(A::<b>SparseMatrixCSC{Tv,Ti<:Integer}</b>, i::<b>Integer</b>, J::<b>AbstractArray{T<:Integer,1}</b>) at <a href=\"https://github.com/JuliaLang/julia/tree/0ff703b40afddf9b705bd6a06d3a59cb4c089ea5/base/sparse/sparsematrix.jl#L1404\" target=\"_blank\">sparse/sparsematrix.jl:1404</a><li> getindex(A::<b>Base.SparseMatrix.CHOLMOD.Dense{T<:Union{Complex{Float64},Float64}}</b>, i::<b>Integer</b>) at <a href=\"https://github.com/JuliaLang/julia/tree/0ff703b40afddf9b705bd6a06d3a59cb4c089ea5/base/sparse/cholmod.jl#L1101\" target=\"_blank\">sparse/cholmod.jl:1101</a><li> getindex<i>{T}</i>(A::<b>Base.SparseMatrix.CHOLMOD.Sparse{T}</b>, i0::<b>Integer</b>, i1::<b>Integer</b>) at <a href=\"https://github.com/JuliaLang/julia/tree/0ff703b40afddf9b705bd6a06d3a59cb4c089ea5/base/sparse/cholmod.jl#L1108\" target=\"_blank\">sparse/cholmod.jl:1108</a><li> getindex(a::<b>ZMQ.Message</b>, i::<b>Integer</b>) at <a href=\"https://github.com/JuliaLang/ZMQ.jl/tree/89f9a65a38cb565b6c938a0eac760bb9ea458043/src/ZMQ.jl#L413\" target=\"_blank\">/Users/juanklopper/.julia/v0.4/ZMQ/src/ZMQ.jl:413</a><li> getindex(c::<b>Char</b>, i::<b>Integer</b>) at <a href=\"https://github.com/JuliaLang/julia/tree/0ff703b40afddf9b705bd6a06d3a59cb4c089ea5/base/char.jl#L20\" target=\"_blank\">char.jl:20</a><li> getindex(s::<b>AbstractString</b>, i::<b>Integer</b>) at <a href=\"https://github.com/JuliaLang/julia/tree/0ff703b40afddf9b705bd6a06d3a59cb4c089ea5/base/strings/basic.jl#L38\" target=\"_blank\">strings/basic.jl:38</a><li> getindex(m::<b>RegexMatch</b>, idx::<b>Integer</b>) at <a href=\"https://github.com/JuliaLang/julia/tree/0ff703b40afddf9b705bd6a06d3a59cb4c089ea5/base/regex.jl#L118\" target=\"_blank\">regex.jl:118</a><li> getindex(index::<b>CartesianIndex{N}</b>, i::<b>Integer</b>) at <a href=\"https://github.com/JuliaLang/julia/tree/0ff703b40afddf9b705bd6a06d3a59cb4c089ea5/base/multidimensional.jl#L36\" target=\"_blank\">multidimensional.jl:36</a><li> getindex(J::<b>UniformScaling{T<:Number}</b>, i::<b>Integer</b>, j::<b>Integer</b>) at <a href=\"https://github.com/JuliaLang/julia/tree/0ff703b40afddf9b705bd6a06d3a59cb4c089ea5/base/linalg/uniformscaling.jl#L14\" target=\"_blank\">linalg/uniformscaling.jl:14</a><li> getindex(G::<b>Base.LinAlg.Givens{T}</b>, i::<b>Integer</b>, j::<b>Integer</b>) at <a href=\"https://github.com/JuliaLang/julia/tree/0ff703b40afddf9b705bd6a06d3a59cb4c089ea5/base/linalg/givens.jl#L264\" target=\"_blank\">linalg/givens.jl:264</a><li> givens<i>{T}</i>(A::<b>AbstractArray{T,2}</b>, i1::<b>Integer</b>, i2::<b>Integer</b>, col::<b>Integer</b>) at <a href=\"https://github.com/JuliaLang/julia/tree/0ff703b40afddf9b705bd6a06d3a59cb4c089ea5/base/linalg/givens.jl#L257\" target=\"_blank\">linalg/givens.jl:257</a><li> givens<i>{T}</i>(f::<b>T</b>, g::<b>T</b>, i1::<b>Integer</b>, i2::<b>Integer</b>) at <a href=\"https://github.com/JuliaLang/julia/tree/0ff703b40afddf9b705bd6a06d3a59cb4c089ea5/base/linalg/givens.jl#L237\" target=\"_blank\">linalg/givens.jl:237</a><li> givens<i>{T}</i>(f::<b>T</b>, g::<b>T</b>, i1::<b>Integer</b>, i2::<b>Integer</b>, cols::<b>Integer</b>) at <a href=\"https://github.com/JuliaLang/julia/tree/0ff703b40afddf9b705bd6a06d3a59cb4c089ea5/base/deprecated.jl#L49\" target=\"_blank\">deprecated.jl:49</a><li> hex(x::<b>Integer</b>) at <a href=\"https://github.com/JuliaLang/julia/tree/0ff703b40afddf9b705bd6a06d3a59cb4c089ea5/base/intfuncs.jl#L301\" target=\"_blank\">intfuncs.jl:301</a><li> hex(x::<b>Integer</b>, p::<b>Int64</b>) at <a href=\"https://github.com/JuliaLang/julia/tree/0ff703b40afddf9b705bd6a06d3a59cb4c089ea5/base/intfuncs.jl#L300\" target=\"_blank\">intfuncs.jl:300</a><li> hist(v::<b>AbstractArray{T,1}</b>, n::<b>Integer</b>) at <a href=\"https://github.com/JuliaLang/julia/tree/0ff703b40afddf9b705bd6a06d3a59cb4c089ea5/base/statistics.jl#L654\" target=\"_blank\">statistics.jl:654</a><li> hist(A::<b>AbstractArray{T,2}</b>, n::<b>Integer</b>) at <a href=\"https://github.com/JuliaLang/julia/tree/0ff703b40afddf9b705bd6a06d3a59cb4c089ea5/base/statistics.jl#L672\" target=\"_blank\">statistics.jl:672</a><li> hist2d(v::<b>AbstractArray{T,2}</b>, n::<b>Integer</b>) at <a href=\"https://github.com/JuliaLang/julia/tree/0ff703b40afddf9b705bd6a06d3a59cb4c089ea5/base/statistics.jl#L703\" target=\"_blank\">statistics.jl:703</a><li> hist2d(v::<b>AbstractArray{T,2}</b>, n1::<b>Integer</b>, n2::<b>Integer</b>) at <a href=\"https://github.com/JuliaLang/julia/tree/0ff703b40afddf9b705bd6a06d3a59cb4c089ea5/base/statistics.jl#L701\" target=\"_blank\">statistics.jl:701</a><li> histrange<i>{T<:AbstractFloat,N}</i>(v::<b>AbstractArray{T<:AbstractFloat,N}</b>, n::<b>Integer</b>) at <a href=\"https://github.com/JuliaLang/julia/tree/0ff703b40afddf9b705bd6a06d3a59cb4c089ea5/base/statistics.jl#L564\" target=\"_blank\">statistics.jl:564</a><li> histrange<i>{T<:Integer,N}</i>(v::<b>AbstractArray{T<:Integer,N}</b>, n::<b>Integer</b>) at <a href=\"https://github.com/JuliaLang/julia/tree/0ff703b40afddf9b705bd6a06d3a59cb4c089ea5/base/statistics.jl#L594\" target=\"_blank\">statistics.jl:594</a><li> hvcat(nbc::<b>Integer</b>, as...) at <a href=\"https://github.com/JuliaLang/julia/tree/0ff703b40afddf9b705bd6a06d3a59cb4c089ea5/base/abstractarray.jl#L878\" target=\"_blank\">abstractarray.jl:878</a><li> in(n::<b>Integer</b>, s::<b>IntSet</b>) at <a href=\"https://github.com/JuliaLang/julia/tree/0ff703b40afddf9b705bd6a06d3a59cb4c089ea5/base/intset.jl#L165\" target=\"_blank\">intset.jl:165</a><li> ind2chr<i>{T<:DirectIndexString}</i>(s::<b>SubString{T<:DirectIndexString}</b>, i::<b>Integer</b>) at <a href=\"https://github.com/JuliaLang/julia/tree/0ff703b40afddf9b705bd6a06d3a59cb4c089ea5/base/strings/types.jl#L71\" target=\"_blank\">strings/types.jl:71</a><li> ind2chr(s::<b>DirectIndexString</b>, i::<b>Integer</b>) at <a href=\"https://github.com/JuliaLang/julia/tree/0ff703b40afddf9b705bd6a06d3a59cb4c089ea5/base/strings/basic.jl#L157\" target=\"_blank\">strings/basic.jl:157</a><li> ind2chr(s::<b>AbstractString</b>, i::<b>Integer</b>) at <a href=\"https://github.com/JuliaLang/julia/tree/0ff703b40afddf9b705bd6a06d3a59cb4c089ea5/base/strings/basic.jl#L161\" target=\"_blank\">strings/basic.jl:161</a><li> ind2sub<i>{N}</i>(dims::<b>NTuple{N,Integer}</b>, ind::<b>Integer</b>) at <a href=\"https://github.com/JuliaLang/julia/tree/0ff703b40afddf9b705bd6a06d3a59cb4c089ea5/base/abstractarray.jl#L1064\" target=\"_blank\">abstractarray.jl:1064</a><li> ind2sub(a::<b>AbstractArray{T,N}</b>, ind::<b>Integer</b>) at <a href=\"https://github.com/JuliaLang/julia/tree/0ff703b40afddf9b705bd6a06d3a59cb4c089ea5/base/abstractarray.jl#L1077\" target=\"_blank\">abstractarray.jl:1077</a><li> ind2sub!<i>{T<:Integer}</i>(sub::<b>Array{T<:Integer,N}</b>, dims::<b>Tuple{Vararg{T<:Integer}}</b>, ind::<b>T<:Integer</b>) at <a href=\"https://github.com/JuliaLang/julia/tree/0ff703b40afddf9b705bd6a06d3a59cb4c089ea5/base/abstractarray.jl#L1115\" target=\"_blank\">abstractarray.jl:1115</a><li> ind2sub!<i>{T<:Integer}</i>(sub::<b>Array{T<:Integer,N}</b>, dims::<b>Array{T<:Integer,N}</b>, ind::<b>T<:Integer</b>) at <a href=\"https://github.com/JuliaLang/julia/tree/0ff703b40afddf9b705bd6a06d3a59cb4c089ea5/base/deprecated.jl#L49\" target=\"_blank\">deprecated.jl:49</a><li> insert!<i>{T}</i>(a::<b>Array{T,1}</b>, i::<b>Integer</b>, item) at <a href=\"https://github.com/JuliaLang/julia/tree/0ff703b40afddf9b705bd6a06d3a59cb4c089ea5/base/array.jl#L506\" target=\"_blank\">array.jl:506</a><li> insert!(B::<b>BitArray{1}</b>, i::<b>Integer</b>, item) at <a href=\"https://github.com/JuliaLang/julia/tree/0ff703b40afddf9b705bd6a06d3a59cb4c089ea5/base/bitarray.jl#L582\" target=\"_blank\">bitarray.jl:582</a><li> interrupt(pid::<b>Integer</b>) at <a href=\"https://github.com/JuliaLang/julia/tree/0ff703b40afddf9b705bd6a06d3a59cb4c089ea5/base/multi.jl#L1597\" target=\"_blank\">multi.jl:1597</a><li> intersect<i>{T<:Integer}</i>(i::<b>Integer</b>, r::<b>UnitRange{T<:Integer}</b>) at <a href=\"https://github.com/JuliaLang/julia/tree/0ff703b40afddf9b705bd6a06d3a59cb4c089ea5/base/range.jl#L425\" target=\"_blank\">range.jl:425</a><li> intersect<i>{T<:Integer}</i>(r::<b>UnitRange{T<:Integer}</b>, i::<b>Integer</b>) at <a href=\"https://github.com/JuliaLang/julia/tree/0ff703b40afddf9b705bd6a06d3a59cb4c089ea5/base/range.jl#L429\" target=\"_blank\">range.jl:429</a><li> inv(x::<b>Integer</b>) at <a href=\"https://github.com/JuliaLang/julia/tree/0ff703b40afddf9b705bd6a06d3a59cb4c089ea5/base/int.jl#L24\" target=\"_blank\">int.jl:24</a><li> irfft<i>{T<:Real}</i>(x::<b>AbstractArray{T<:Real,N}</b>, d::<b>Integer</b>) at <a href=\"https://github.com/JuliaLang/julia/tree/0ff703b40afddf9b705bd6a06d3a59cb4c089ea5/base/dft.jl#L304\" target=\"_blank\">dft.jl:304</a><li> irfft<i>{T<:Real}</i>(x::<b>AbstractArray{T<:Real,N}</b>, d::<b>Integer</b>, region) at <a href=\"https://github.com/JuliaLang/julia/tree/0ff703b40afddf9b705bd6a06d3a59cb4c089ea5/base/dft.jl#L304\" target=\"_blank\">dft.jl:304</a><li> irfft<i>{T<:Union{Integer,Rational{T<:Integer}}}</i>(x::<b>AbstractArray{Complex{T<:Union{Integer,Rational{T<:Integer}}},N}</b>, d::<b>Integer</b>) at <a href=\"https://github.com/JuliaLang/julia/tree/0ff703b40afddf9b705bd6a06d3a59cb4c089ea5/base/dft.jl#L305\" target=\"_blank\">dft.jl:305</a><li> irfft<i>{T<:Union{Integer,Rational{T<:Integer}}}</i>(x::<b>AbstractArray{Complex{T<:Union{Integer,Rational{T<:Integer}}},N}</b>, d::<b>Integer</b>, region) at <a href=\"https://github.com/JuliaLang/julia/tree/0ff703b40afddf9b705bd6a06d3a59cb4c089ea5/base/dft.jl#L305\" target=\"_blank\">dft.jl:305</a><li> irfft(x::<b>AbstractArray{T,N}</b>, d::<b>Integer</b>) at <a href=\"https://github.com/JuliaLang/julia/tree/0ff703b40afddf9b705bd6a06d3a59cb4c089ea5/base/dft.jl#L296\" target=\"_blank\">dft.jl:296</a><li> irfft(x::<b>AbstractArray{T,N}</b>, d::<b>Integer</b>, region) at <a href=\"https://github.com/JuliaLang/julia/tree/0ff703b40afddf9b705bd6a06d3a59cb4c089ea5/base/dft.jl#L297\" target=\"_blank\">dft.jl:297</a><li> iseven(n::<b>Integer</b>) at <a href=\"https://github.com/JuliaLang/julia/tree/0ff703b40afddf9b705bd6a06d3a59cb4c089ea5/base/int.jl#L27\" target=\"_blank\">int.jl:27</a><li> isfinite(x::<b>Integer</b>) at <a href=\"https://github.com/JuliaLang/julia/tree/0ff703b40afddf9b705bd6a06d3a59cb4c089ea5/base/float.jl#L311\" target=\"_blank\">float.jl:311</a><li> isinteger(x::<b>Integer</b>) at <a href=\"https://github.com/JuliaLang/julia/tree/0ff703b40afddf9b705bd6a06d3a59cb4c089ea5/base/number.jl#L5\" target=\"_blank\">number.jl:5</a><li> isless(x::<b>Char</b>, y::<b>Integer</b>) at <a href=\"https://github.com/JuliaLang/julia/tree/0ff703b40afddf9b705bd6a06d3a59cb4c089ea5/base/char.jl#L37\" target=\"_blank\">char.jl:37</a><li> isless(x::<b>Integer</b>, y::<b>Char</b>) at <a href=\"https://github.com/JuliaLang/julia/tree/0ff703b40afddf9b705bd6a06d3a59cb4c089ea5/base/char.jl#L38\" target=\"_blank\">char.jl:38</a><li> ismatch(r::<b>Regex</b>, s::<b>SubString{T<:AbstractString}</b>, offset::<b>Integer</b>) at <a href=\"https://github.com/JuliaLang/julia/tree/0ff703b40afddf9b705bd6a06d3a59cb4c089ea5/base/regex.jl#L133\" target=\"_blank\">regex.jl:133</a><li> ismatch(r::<b>Regex</b>, s::<b>AbstractString</b>, offset::<b>Integer</b>) at <a href=\"https://github.com/JuliaLang/julia/tree/0ff703b40afddf9b705bd6a06d3a59cb4c089ea5/base/regex.jl#L127\" target=\"_blank\">regex.jl:127</a><li> isodd(n::<b>Integer</b>) at <a href=\"https://github.com/JuliaLang/julia/tree/0ff703b40afddf9b705bd6a06d3a59cb4c089ea5/base/int.jl#L26\" target=\"_blank\">int.jl:26</a><li> ispow2(x::<b>Integer</b>) at <a href=\"https://github.com/JuliaLang/julia/tree/0ff703b40afddf9b705bd6a06d3a59cb4c089ea5/base/intfuncs.jl#L139\" target=\"_blank\">intfuncs.jl:139</a><li> isprime(n::<b>Integer</b>) at <a href=\"https://github.com/JuliaLang/julia/tree/0ff703b40afddf9b705bd6a06d3a59cb4c089ea5/base/primes.jl#L124\" target=\"_blank\">primes.jl:124</a><li> isqrt(x::<b>Integer</b>) at <a href=\"https://github.com/JuliaLang/julia/tree/0ff703b40afddf9b705bd6a06d3a59cb4c089ea5/base/intfuncs.jl#L328\" target=\"_blank\">intfuncs.jl:328</a><li> isvalid<i>{T<:DirectIndexString}</i>(s::<b>SubString{T<:DirectIndexString}</b>, i::<b>Integer</b>) at <a href=\"https://github.com/JuliaLang/julia/tree/0ff703b40afddf9b705bd6a06d3a59cb4c089ea5/base/strings/types.jl#L69\" target=\"_blank\">strings/types.jl:69</a><li> isvalid(s::<b>SubString{T<:AbstractString}</b>, i::<b>Integer</b>) at <a href=\"https://github.com/JuliaLang/julia/tree/0ff703b40afddf9b705bd6a06d3a59cb4c089ea5/base/strings/types.jl#L66\" target=\"_blank\">strings/types.jl:66</a><li> isvalid(s::<b>DirectIndexString</b>, i::<b>Integer</b>) at <a href=\"https://github.com/JuliaLang/julia/tree/0ff703b40afddf9b705bd6a06d3a59cb4c089ea5/base/strings/basic.jl#L101\" target=\"_blank\">strings/basic.jl:101</a><li> isvalid(s::<b>UTF8String</b>, i::<b>Integer</b>) at <a href=\"https://github.com/JuliaLang/julia/tree/0ff703b40afddf9b705bd6a06d3a59cb4c089ea5/base/unicode/utf8.jl#L104\" target=\"_blank\">unicode/utf8.jl:104</a><li> isvalid(s::<b>AbstractString</b>, i::<b>Integer</b>) at <a href=\"https://github.com/JuliaLang/julia/tree/0ff703b40afddf9b705bd6a06d3a59cb4c089ea5/base/strings/basic.jl#L103\" target=\"_blank\">strings/basic.jl:103</a><li> isvalid(::<b>Type{Char}</b>, ch::<b>Integer</b>) at <a href=\"https://github.com/JuliaLang/julia/tree/0ff703b40afddf9b705bd6a06d3a59cb4c089ea5/base/unicode/utf8proc.jl#L17\" target=\"_blank\">unicode/utf8proc.jl:17</a><li> itrunc<i>{T<:Integer}</i>(::<b>Type{T<:Integer}</b>, n::<b>Integer</b>) at <a href=\"https://github.com/JuliaLang/julia/tree/0ff703b40afddf9b705bd6a06d3a59cb4c089ea5/base/deprecated.jl#L49\" target=\"_blank\">deprecated.jl:49</a><li> kill(p::<b>Base.Process</b>, signum::<b>Integer</b>) at <a href=\"https://github.com/JuliaLang/julia/tree/0ff703b40afddf9b705bd6a06d3a59cb4c089ea5/base/process.jl#L578\" target=\"_blank\">process.jl:578</a><li> lcm(a::<b>Integer</b>) at <a href=\"https://github.com/JuliaLang/julia/tree/0ff703b40afddf9b705bd6a06d3a59cb4c089ea5/base/intfuncs.jl#L38\" target=\"_blank\">intfuncs.jl:38</a><li> lcm<i>{T<:Integer}</i>(a::<b>T<:Integer</b>, b::<b>T<:Integer</b>) at <a href=\"https://github.com/JuliaLang/julia/tree/0ff703b40afddf9b705bd6a06d3a59cb4c089ea5/base/intfuncs.jl#L35\" target=\"_blank\">intfuncs.jl:35</a><li> lcm(a::<b>Integer</b>, b::<b>Integer</b>) at <a href=\"https://github.com/JuliaLang/julia/tree/0ff703b40afddf9b705bd6a06d3a59cb4c089ea5/base/intfuncs.jl#L40\" target=\"_blank\">intfuncs.jl:40</a><li> lcm(a::<b>Integer</b>, b::<b>Integer...</b>) at <a href=\"https://github.com/JuliaLang/julia/tree/0ff703b40afddf9b705bd6a06d3a59cb4c089ea5/base/intfuncs.jl#L42\" target=\"_blank\">intfuncs.jl:42</a><li> ldexp(x::<b>Float64</b>, e::<b>Integer</b>) at <a href=\"https://github.com/JuliaLang/julia/tree/0ff703b40afddf9b705bd6a06d3a59cb4c089ea5/base/math.jl#L194\" target=\"_blank\">math.jl:194</a><li> ldexp(x::<b>Float32</b>, e::<b>Integer</b>) at <a href=\"https://github.com/JuliaLang/julia/tree/0ff703b40afddf9b705bd6a06d3a59cb4c089ea5/base/math.jl#L195\" target=\"_blank\">math.jl:195</a><li> ldexp(a::<b>Float16</b>, b::<b>Integer</b>) at <a href=\"https://github.com/JuliaLang/julia/tree/0ff703b40afddf9b705bd6a06d3a59cb4c089ea5/base/float16.jl#L161\" target=\"_blank\">float16.jl:161</a><li> ldexp(x::<b>BigFloat</b>, n::<b>Integer</b>) at <a href=\"https://github.com/JuliaLang/julia/tree/0ff703b40afddf9b705bd6a06d3a59cb4c089ea5/base/mpfr.jl#L484\" target=\"_blank\">mpfr.jl:484</a><li> leading_ones(x::<b>Integer</b>) at <a href=\"https://github.com/JuliaLang/julia/tree/0ff703b40afddf9b705bd6a06d3a59cb4c089ea5/base/int.jl#L139\" target=\"_blank\">int.jl:139</a><li> less(file::<b>AbstractString</b>, line::<b>Integer</b>) at <a href=\"https://github.com/JuliaLang/julia/tree/0ff703b40afddf9b705bd6a06d3a59cb4c089ea5/base/interactiveutil.jl#L64\" target=\"_blank\">interactiveutil.jl:64</a><li> less(file, line::<b>Integer</b>) at <a href=\"https://github.com/JuliaLang/julia/tree/0ff703b40afddf9b705bd6a06d3a59cb4c089ea5/base/interactiveutil.jl#L71\" target=\"_blank\">interactiveutil.jl:71</a><li> listen(port::<b>Integer</b>) at <a href=\"https://github.com/JuliaLang/julia/tree/0ff703b40afddf9b705bd6a06d3a59cb4c089ea5/base/socket.jl#L695\" target=\"_blank\">socket.jl:695</a><li> listen(host::<b>Base.IPAddr</b>, port::<b>Integer</b>) at <a href=\"https://github.com/JuliaLang/julia/tree/0ff703b40afddf9b705bd6a06d3a59cb4c089ea5/base/socket.jl#L696\" target=\"_blank\">socket.jl:696</a><li> logspace(start::<b>Real</b>, stop::<b>Real</b>, n::<b>Integer</b>) at <a href=\"https://github.com/JuliaLang/julia/tree/0ff703b40afddf9b705bd6a06d3a59cb4c089ea5/base/range.jl#L247\" target=\"_blank\">range.jl:247</a><li> lpad(s::<b>AbstractString</b>, n::<b>Integer</b>) at <a href=\"https://github.com/JuliaLang/julia/tree/0ff703b40afddf9b705bd6a06d3a59cb4c089ea5/base/strings/util.jl#L95\" target=\"_blank\">strings/util.jl:95</a><li> lpad(s::<b>AbstractString</b>, n::<b>Integer</b>, p::<b>AbstractString</b>) at <a href=\"https://github.com/JuliaLang/julia/tree/0ff703b40afddf9b705bd6a06d3a59cb4c089ea5/base/strings/util.jl#L95\" target=\"_blank\">strings/util.jl:95</a><li> lpad(s, n::<b>Integer</b>) at <a href=\"https://github.com/JuliaLang/julia/tree/0ff703b40afddf9b705bd6a06d3a59cb4c089ea5/base/strings/util.jl#L120\" target=\"_blank\">strings/util.jl:120</a><li> lpad(s, n::<b>Integer</b>, p) at <a href=\"https://github.com/JuliaLang/julia/tree/0ff703b40afddf9b705bd6a06d3a59cb4c089ea5/base/strings/util.jl#L120\" target=\"_blank\">strings/util.jl:120</a><li> manage(manager::<b>Base.SSHManager</b>, id::<b>Integer</b>, config::<b>WorkerConfig</b>, op::<b>Symbol</b>) at <a href=\"https://github.com/JuliaLang/julia/tree/0ff703b40afddf9b705bd6a06d3a59cb4c089ea5/base/managers.jl#L127\" target=\"_blank\">managers.jl:127</a><li> manage(manager::<b>Base.LocalManager</b>, id::<b>Integer</b>, config::<b>WorkerConfig</b>, op::<b>Symbol</b>) at <a href=\"https://github.com/JuliaLang/julia/tree/0ff703b40afddf9b705bd6a06d3a59cb4c089ea5/base/managers.jl#L203\" target=\"_blank\">managers.jl:203</a><li> match(re::<b>Regex</b>, str::<b>Union{SubString{UTF8String},UTF8String}</b>, idx::<b>Integer</b>) at <a href=\"https://github.com/JuliaLang/julia/tree/0ff703b40afddf9b705bd6a06d3a59cb4c089ea5/base/regex.jl#L141\" target=\"_blank\">regex.jl:141</a><li> match(re::<b>Regex</b>, str::<b>Union{SubString{UTF8String},UTF8String}</b>, idx::<b>Integer</b>, add_opts::<b>UInt32</b>) at <a href=\"https://github.com/JuliaLang/julia/tree/0ff703b40afddf9b705bd6a06d3a59cb4c089ea5/base/regex.jl#L141\" target=\"_blank\">regex.jl:141</a><li> match<i>{T<:Union{ASCIIString,UTF8String}}</i>(re::<b>Regex</b>, str::<b>Union{SubString{T<:Union{ASCIIString,UTF8String}},T<:Union{ASCIIString,UTF8String}}</b>, idx::<b>Integer</b>) at <a href=\"https://github.com/JuliaLang/julia/tree/0ff703b40afddf9b705bd6a06d3a59cb4c089ea5/base/regex.jl#L157\" target=\"_blank\">regex.jl:157</a><li> match<i>{T<:Union{ASCIIString,UTF8String}}</i>(re::<b>Regex</b>, str::<b>Union{SubString{T<:Union{ASCIIString,UTF8String}},T<:Union{ASCIIString,UTF8String}}</b>, idx::<b>Integer</b>, add_opts::<b>UInt32</b>) at <a href=\"https://github.com/JuliaLang/julia/tree/0ff703b40afddf9b705bd6a06d3a59cb4c089ea5/base/regex.jl#L157\" target=\"_blank\">regex.jl:157</a><li> match(r::<b>Regex</b>, s::<b>AbstractString</b>, i::<b>Integer</b>) at <a href=\"https://github.com/JuliaLang/julia/tree/0ff703b40afddf9b705bd6a06d3a59cb4c089ea5/base/regex.jl#L161\" target=\"_blank\">regex.jl:161</a><li> mmap(len::<b>Integer</b>, prot::<b>Integer</b>, flags::<b>Integer</b>, fd, offset::<b>Integer</b>)<li> mod<i>{T<:Integer}</i>(x::<b>Integer</b>, ::<b>Type{T<:Integer}</b>) at <a href=\"https://github.com/JuliaLang/julia/tree/0ff703b40afddf9b705bd6a06d3a59cb4c089ea5/base/int.jl#L204\" target=\"_blank\">int.jl:204</a><li> mod<i>{P<:Base.Dates.Period}</i>(X::<b>Union{DenseArray{P<:Base.Dates.Period,N},SubArray{P<:Base.Dates.Period,N,A<:DenseArray{T,N},I<:Tuple{Vararg{Union{Colon,Int64,Range{Int64}}}},LD}}</b>, y::<b>Integer</b>) at <a href=\"https://github.com/JuliaLang/julia/tree/0ff703b40afddf9b705bd6a06d3a59cb4c089ea5/base/dates/periods.jl#L66\" target=\"_blank\">dates/periods.jl:66</a><li> msync(p::<b>Ptr{T}</b>, len::<b>Integer</b>) at <a href=\"https://github.com/JuliaLang/julia/tree/0ff703b40afddf9b705bd6a06d3a59cb4c089ea5/base/deprecated.jl#L612\" target=\"_blank\">deprecated.jl:612</a><li> msync(p::<b>Ptr{T}</b>, len::<b>Integer</b>, flags::<b>Integer</b>) at <a href=\"https://github.com/JuliaLang/julia/tree/0ff703b40afddf9b705bd6a06d3a59cb4c089ea5/base/deprecated.jl#L612\" target=\"_blank\">deprecated.jl:612</a><li> ndigits(x::<b>Unsigned</b>, b::<b>Integer</b>) at <a href=\"https://github.com/JuliaLang/julia/tree/0ff703b40afddf9b705bd6a06d3a59cb4c089ea5/base/intfuncs.jl#L217\" target=\"_blank\">intfuncs.jl:217</a><li> ndigits(x::<b>BigInt</b>, b::<b>Integer</b>) at <a href=\"https://github.com/JuliaLang/julia/tree/0ff703b40afddf9b705bd6a06d3a59cb4c089ea5/base/gmp.jl#L534\" target=\"_blank\">gmp.jl:534</a><li> ndigits(x::<b>Integer</b>) at <a href=\"https://github.com/JuliaLang/julia/tree/0ff703b40afddf9b705bd6a06d3a59cb4c089ea5/base/intfuncs.jl#L221\" target=\"_blank\">intfuncs.jl:221</a><li> ndigits(x::<b>Integer</b>, b::<b>Integer</b>) at <a href=\"https://github.com/JuliaLang/julia/tree/0ff703b40afddf9b705bd6a06d3a59cb4c089ea5/base/intfuncs.jl#L220\" target=\"_blank\">intfuncs.jl:220</a><li> next(s::<b>AbstractString</b>, i::<b>Integer</b>) at <a href=\"https://github.com/JuliaLang/julia/tree/0ff703b40afddf9b705bd6a06d3a59cb4c089ea5/base/strings/basic.jl#L8\" target=\"_blank\">strings/basic.jl:8</a><li> nextfloat(x::<b>Float16</b>, i::<b>Integer</b>) at <a href=\"https://github.com/JuliaLang/julia/tree/0ff703b40afddf9b705bd6a06d3a59cb4c089ea5/base/float.jl#L344\" target=\"_blank\">float.jl:344</a><li> nextfloat(x::<b>Float32</b>, i::<b>Integer</b>) at <a href=\"https://github.com/JuliaLang/julia/tree/0ff703b40afddf9b705bd6a06d3a59cb4c089ea5/base/float.jl#L346\" target=\"_blank\">float.jl:346</a><li> nextfloat(x::<b>Float64</b>, i::<b>Integer</b>) at <a href=\"https://github.com/JuliaLang/julia/tree/0ff703b40afddf9b705bd6a06d3a59cb4c089ea5/base/float.jl#L348\" target=\"_blank\">float.jl:348</a><li> nextind(s::<b>SubString{T<:AbstractString}</b>, i::<b>Integer</b>) at <a href=\"https://github.com/JuliaLang/julia/tree/0ff703b40afddf9b705bd6a06d3a59cb4c089ea5/base/strings/types.jl#L74\" target=\"_blank\">strings/types.jl:74</a><li> nextind(s::<b>DirectIndexString</b>, i::<b>Integer</b>) at <a href=\"https://github.com/JuliaLang/julia/tree/0ff703b40afddf9b705bd6a06d3a59cb4c089ea5/base/strings/basic.jl#L117\" target=\"_blank\">strings/basic.jl:117</a><li> nextind(s::<b>AbstractArray{T,N}</b>, i::<b>Integer</b>) at <a href=\"https://github.com/JuliaLang/julia/tree/0ff703b40afddf9b705bd6a06d3a59cb4c089ea5/base/strings/basic.jl#L118\" target=\"_blank\">strings/basic.jl:118</a><li> nextind(s::<b>AbstractString</b>, i::<b>Integer</b>) at <a href=\"https://github.com/JuliaLang/julia/tree/0ff703b40afddf9b705bd6a06d3a59cb4c089ea5/base/strings/basic.jl#L136\" target=\"_blank\">strings/basic.jl:136</a><li> nextind(a, i::<b>Integer</b>) at <a href=\"https://github.com/JuliaLang/julia/tree/0ff703b40afddf9b705bd6a06d3a59cb4c089ea5/base/deprecated.jl#L49\" target=\"_blank\">deprecated.jl:49</a><li> nextpow2(x::<b>Integer</b>) at <a href=\"https://github.com/JuliaLang/julia/tree/0ff703b40afddf9b705bd6a06d3a59cb4c089ea5/base/intfuncs.jl#L134\" target=\"_blank\">intfuncs.jl:134</a><li> nthperm(a::<b>AbstractArray{T,1}</b>, k::<b>Integer</b>) at <a href=\"https://github.com/JuliaLang/julia/tree/0ff703b40afddf9b705bd6a06d3a59cb4c089ea5/base/combinatorics.jl#L89\" target=\"_blank\">combinatorics.jl:89</a><li> nthperm!(a::<b>AbstractArray{T,1}</b>, k::<b>Integer</b>) at <a href=\"https://github.com/JuliaLang/julia/tree/0ff703b40afddf9b705bd6a06d3a59cb4c089ea5/base/combinatorics.jl#L70\" target=\"_blank\">combinatorics.jl:70</a><li> ntuple(f::<b>Function</b>, n::<b>Integer</b>) at <a href=\"https://github.com/JuliaLang/julia/tree/0ff703b40afddf9b705bd6a06d3a59cb4c089ea5/base/tuple.jl#L32\" target=\"_blank\">tuple.jl:32</a><li> ntuple(n::<b>Integer</b>, f::<b>Function</b>) at <a href=\"https://github.com/JuliaLang/julia/tree/0ff703b40afddf9b705bd6a06d3a59cb4c089ea5/base/deprecated.jl#L49\" target=\"_blank\">deprecated.jl:49</a><li> num(x::<b>Integer</b>) at <a href=\"https://github.com/JuliaLang/julia/tree/0ff703b40afddf9b705bd6a06d3a59cb4c089ea5/base/rational.jl#L150\" target=\"_blank\">rational.jl:150</a><li> num2hex(n::<b>Integer</b>) at <a href=\"https://github.com/JuliaLang/julia/tree/0ff703b40afddf9b705bd6a06d3a59cb4c089ea5/base/intfuncs.jl#L274\" target=\"_blank\">intfuncs.jl:274</a><li> nzrange(S::<b>SparseMatrixCSC{Tv,Ti<:Integer}</b>, col::<b>Integer</b>) at <a href=\"https://github.com/JuliaLang/julia/tree/0ff703b40afddf9b705bd6a06d3a59cb4c089ea5/base/sparse/sparsematrix.jl#L68\" target=\"_blank\">sparse/sparsematrix.jl:68</a><li> oct(x::<b>Integer</b>) at <a href=\"https://github.com/JuliaLang/julia/tree/0ff703b40afddf9b705bd6a06d3a59cb4c089ea5/base/intfuncs.jl#L301\" target=\"_blank\">intfuncs.jl:301</a><li> oct(x::<b>Integer</b>, p::<b>Int64</b>) at <a href=\"https://github.com/JuliaLang/julia/tree/0ff703b40afddf9b705bd6a06d3a59cb4c089ea5/base/intfuncs.jl#L300\" target=\"_blank\">intfuncs.jl:300</a><li> parse<i>{T<:Integer}</i>(::<b>Type{T<:Integer}</b>, c::<b>Char</b>, base::<b>Integer</b>) at <a href=\"https://github.com/JuliaLang/julia/tree/0ff703b40afddf9b705bd6a06d3a59cb4c089ea5/base/parse.jl#L6\" target=\"_blank\">parse.jl:6</a><li> parse<i>{T<:Integer}</i>(::<b>Type{T<:Integer}</b>, s::<b>AbstractString</b>, base::<b>Integer</b>) at <a href=\"https://github.com/JuliaLang/julia/tree/0ff703b40afddf9b705bd6a06d3a59cb4c089ea5/base/parse.jl#L143\" target=\"_blank\">parse.jl:143</a><li> partitions(n::<b>Integer</b>) at <a href=\"https://github.com/JuliaLang/julia/tree/0ff703b40afddf9b705bd6a06d3a59cb4c089ea5/base/combinatorics.jl#L252\" target=\"_blank\">combinatorics.jl:252</a><li> partitions(n::<b>Integer</b>, m::<b>Integer</b>) at <a href=\"https://github.com/JuliaLang/julia/tree/0ff703b40afddf9b705bd6a06d3a59cb4c089ea5/base/combinatorics.jl#L318\" target=\"_blank\">combinatorics.jl:318</a><li> peakflops(n::<b>Integer</b>) at <a href=\"https://github.com/JuliaLang/julia/tree/0ff703b40afddf9b705bd6a06d3a59cb4c089ea5/base/linalg/generic.jl#L422\" target=\"_blank\">linalg/generic.jl:422</a><li> plan_brfft<i>{N}</i>(X::<b>Union{DenseArray{Complex{Float32},N},SubArray{Complex{Float32},N,A<:DenseArray{T,N},I<:Tuple{Vararg{Union{Colon,Int64,Range{Int64}}}},LD}}</b>, d::<b>Integer</b>, region) at <a href=\"https://github.com/JuliaLang/julia/tree/0ff703b40afddf9b705bd6a06d3a59cb4c089ea5/base/fft/FFTW.jl#L649\" target=\"_blank\">fft/FFTW.jl:649</a><li> plan_brfft<i>{N}</i>(X::<b>Union{DenseArray{Complex{Float64},N},SubArray{Complex{Float64},N,A<:DenseArray{T,N},I<:Tuple{Vararg{Union{Colon,Int64,Range{Int64}}}},LD}}</b>, d::<b>Integer</b>, region) at <a href=\"https://github.com/JuliaLang/julia/tree/0ff703b40afddf9b705bd6a06d3a59cb4c089ea5/base/fft/FFTW.jl#L649\" target=\"_blank\">fft/FFTW.jl:649</a><li> plan_brfft(x::<b>AbstractArray{T,N}</b>, d::<b>Integer</b>) at <a href=\"https://github.com/JuliaLang/julia/tree/0ff703b40afddf9b705bd6a06d3a59cb4c089ea5/base/dft.jl#L298\" target=\"_blank\">dft.jl:298</a><li> plan_irfft<i>{T}</i>(x::<b>AbstractArray{Complex{T},N}</b>, d::<b>Integer</b>, region) at <a href=\"https://github.com/JuliaLang/julia/tree/0ff703b40afddf9b705bd6a06d3a59cb4c089ea5/base/dft.jl#L354\" target=\"_blank\">dft.jl:354</a><li> plan_irfft(x::<b>AbstractArray{T,N}</b>, d::<b>Integer</b>) at <a href=\"https://github.com/JuliaLang/julia/tree/0ff703b40afddf9b705bd6a06d3a59cb4c089ea5/base/dft.jl#L298\" target=\"_blank\">dft.jl:298</a><li> pointer<i>{T}</i>(x::<b>AbstractArray{T,N}</b>, i::<b>Integer</b>) at <a href=\"https://github.com/JuliaLang/julia/tree/0ff703b40afddf9b705bd6a06d3a59cb4c089ea5/base/abstractarray.jl#L446\" target=\"_blank\">abstractarray.jl:446</a><li> pointer(x::<b>ByteString</b>, i::<b>Integer</b>) at <a href=\"https://github.com/JuliaLang/julia/tree/0ff703b40afddf9b705bd6a06d3a59cb4c089ea5/base/unicode/utf32.jl#L228\" target=\"_blank\">unicode/utf32.jl:228</a><li> pointer(x::<b>Union{UTF16String,UTF32String}</b>, i::<b>Integer</b>) at <a href=\"https://github.com/JuliaLang/julia/tree/0ff703b40afddf9b705bd6a06d3a59cb4c089ea5/base/unicode/utf32.jl#L229\" target=\"_blank\">unicode/utf32.jl:229</a><li> pointer<i>{T<:Union{ASCIIString,UTF8String}}</i>(x::<b>SubString{T<:Union{ASCIIString,UTF8String}}</b>, i::<b>Integer</b>) at <a href=\"https://github.com/JuliaLang/julia/tree/0ff703b40afddf9b705bd6a06d3a59cb4c089ea5/base/unicode/utf32.jl#L233\" target=\"_blank\">unicode/utf32.jl:233</a><li> pointer<i>{T<:Union{UTF16String,UTF32String}}</i>(x::<b>SubString{T<:Union{UTF16String,UTF32String}}</b>, i::<b>Integer</b>) at <a href=\"https://github.com/JuliaLang/julia/tree/0ff703b40afddf9b705bd6a06d3a59cb4c089ea5/base/unicode/utf32.jl#L235\" target=\"_blank\">unicode/utf32.jl:235</a><li> pointer_to_array(p, d::<b>Integer</b>) at <a href=\"https://github.com/JuliaLang/julia/tree/0ff703b40afddf9b705bd6a06d3a59cb4c089ea5/base/pointer.jl#L32\" target=\"_blank\">pointer.jl:32</a><li> pointer_to_array(p, d::<b>Integer</b>, own) at <a href=\"https://github.com/JuliaLang/julia/tree/0ff703b40afddf9b705bd6a06d3a59cb4c089ea5/base/pointer.jl#L32\" target=\"_blank\">pointer.jl:32</a><li> pointer_to_string(p::<b>Ptr{UInt8}</b>, len::<b>Integer</b>) at <a href=\"https://github.com/JuliaLang/julia/tree/0ff703b40afddf9b705bd6a06d3a59cb4c089ea5/base/pointer.jl#L55\" target=\"_blank\">pointer.jl:55</a><li> pointer_to_string(p::<b>Ptr{UInt8}</b>, len::<b>Integer</b>, own::<b>Bool</b>) at <a href=\"https://github.com/JuliaLang/julia/tree/0ff703b40afddf9b705bd6a06d3a59cb4c089ea5/base/pointer.jl#L55\" target=\"_blank\">pointer.jl:55</a><li> polygamma(m::<b>Integer</b>, z::<b>Union{Complex{Float64},Float64}</b>) at <a href=\"https://github.com/JuliaLang/julia/tree/0ff703b40afddf9b705bd6a06d3a59cb4c089ea5/base/special/gamma.jl#L318\" target=\"_blank\">special/gamma.jl:318</a><li> polygamma(m::<b>Integer</b>, z::<b>Union{Complex{Float32},Float32}</b>) at <a href=\"https://github.com/JuliaLang/julia/tree/0ff703b40afddf9b705bd6a06d3a59cb4c089ea5/base/special/gamma.jl#L358\" target=\"_blank\">special/gamma.jl:358</a><li> polygamma(m::<b>Integer</b>, z::<b>Union{Complex{Float16},Float16}</b>) at <a href=\"https://github.com/JuliaLang/julia/tree/0ff703b40afddf9b705bd6a06d3a59cb4c089ea5/base/special/gamma.jl#L358\" target=\"_blank\">special/gamma.jl:358</a><li> polygamma(m::<b>Integer</b>, z::<b>Number</b>) at <a href=\"https://github.com/JuliaLang/julia/tree/0ff703b40afddf9b705bd6a06d3a59cb4c089ea5/base/special/gamma.jl#L372\" target=\"_blank\">special/gamma.jl:372</a><li> pop!(s::<b>IntSet</b>, n::<b>Integer</b>) at <a href=\"https://github.com/JuliaLang/julia/tree/0ff703b40afddf9b705bd6a06d3a59cb4c089ea5/base/intset.jl#L101\" target=\"_blank\">intset.jl:101</a><li> pop!(s::<b>IntSet</b>, n::<b>Integer</b>, deflt) at <a href=\"https://github.com/JuliaLang/julia/tree/0ff703b40afddf9b705bd6a06d3a59cb4c089ea5/base/intset.jl#L77\" target=\"_blank\">intset.jl:77</a><li> powermod(x::<b>BigInt</b>, p::<b>Integer</b>, m::<b>BigInt</b>) at <a href=\"https://github.com/JuliaLang/julia/tree/0ff703b40afddf9b705bd6a06d3a59cb4c089ea5/base/gmp.jl#L432\" target=\"_blank\">gmp.jl:432</a><li> powermod(x::<b>BigInt</b>, p::<b>Integer</b>, m::<b>Integer</b>) at <a href=\"https://github.com/JuliaLang/julia/tree/0ff703b40afddf9b705bd6a06d3a59cb4c089ea5/base/gmp.jl#L433\" target=\"_blank\">gmp.jl:433</a><li> powermod<i>{T}</i>(b::<b>Integer</b>, p::<b>Integer</b>, m::<b>T</b>) at <a href=\"https://github.com/JuliaLang/julia/tree/0ff703b40afddf9b705bd6a06d3a59cb4c089ea5/base/intfuncs.jl#L112\" target=\"_blank\">intfuncs.jl:112</a><li> prevind(s::<b>SubString{T<:AbstractString}</b>, i::<b>Integer</b>) at <a href=\"https://github.com/JuliaLang/julia/tree/0ff703b40afddf9b705bd6a06d3a59cb4c089ea5/base/strings/types.jl#L75\" target=\"_blank\">strings/types.jl:75</a><li> prevind(s::<b>DirectIndexString</b>, i::<b>Integer</b>) at <a href=\"https://github.com/JuliaLang/julia/tree/0ff703b40afddf9b705bd6a06d3a59cb4c089ea5/base/strings/basic.jl#L115\" target=\"_blank\">strings/basic.jl:115</a><li> prevind(s::<b>AbstractArray{T,N}</b>, i::<b>Integer</b>) at <a href=\"https://github.com/JuliaLang/julia/tree/0ff703b40afddf9b705bd6a06d3a59cb4c089ea5/base/strings/basic.jl#L116\" target=\"_blank\">strings/basic.jl:116</a><li> prevind(s::<b>AbstractString</b>, i::<b>Integer</b>) at <a href=\"https://github.com/JuliaLang/julia/tree/0ff703b40afddf9b705bd6a06d3a59cb4c089ea5/base/strings/basic.jl#L121\" target=\"_blank\">strings/basic.jl:121</a><li> prevind(a, i::<b>Integer</b>) at <a href=\"https://github.com/JuliaLang/julia/tree/0ff703b40afddf9b705bd6a06d3a59cb4c089ea5/base/deprecated.jl#L49\" target=\"_blank\">deprecated.jl:49</a><li> prevpow2(x::<b>Integer</b>) at <a href=\"https://github.com/JuliaLang/julia/tree/0ff703b40afddf9b705bd6a06d3a59cb4c089ea5/base/intfuncs.jl#L137\" target=\"_blank\">intfuncs.jl:137</a><li> primesmask<i>{T<:Integer}</i>(lo::<b>T<:Integer</b>, hi::<b>T<:Integer</b>) at <a href=\"https://github.com/JuliaLang/julia/tree/0ff703b40afddf9b705bd6a06d3a59cb4c089ea5/base/primes.jl#L86\" target=\"_blank\">primes.jl:86</a><li> primesmask(n::<b>Integer</b>) at <a href=\"https://github.com/JuliaLang/julia/tree/0ff703b40afddf9b705bd6a06d3a59cb4c089ea5/base/primes.jl#L68\" target=\"_blank\">primes.jl:68</a><li> procs(pid::<b>Integer</b>) at <a href=\"https://github.com/JuliaLang/julia/tree/0ff703b40afddf9b705bd6a06d3a59cb4c089ea5/base/multi.jl#L312\" target=\"_blank\">multi.jl:312</a><li> push!(s::<b>IntSet</b>, n::<b>Integer</b>) at <a href=\"https://github.com/JuliaLang/julia/tree/0ff703b40afddf9b705bd6a06d3a59cb4c089ea5/base/intset.jl#L51\" target=\"_blank\">intset.jl:51</a><li> rand(T::<b>Type{T}</b>, d1::<b>Integer</b>, dims::<b>Integer...</b>) at <a href=\"https://github.com/JuliaLang/julia/tree/0ff703b40afddf9b705bd6a06d3a59cb4c089ea5/base/random.jl#L218\" target=\"_blank\">random.jl:218</a><li> rand(r::<b>AbstractRNG</b>, T::<b>Type{T}</b>, d1::<b>Integer</b>, dims::<b>Integer...</b>) at <a href=\"https://github.com/JuliaLang/julia/tree/0ff703b40afddf9b705bd6a06d3a59cb4c089ea5/base/random.jl#L286\" target=\"_blank\">random.jl:286</a><li> randcycle(r::<b>AbstractRNG</b>, n::<b>Integer</b>) at <a href=\"https://github.com/JuliaLang/julia/tree/0ff703b40afddf9b705bd6a06d3a59cb4c089ea5/base/random.jl#L1356\" target=\"_blank\">random.jl:1356</a><li> randcycle(n::<b>Integer</b>) at <a href=\"https://github.com/JuliaLang/julia/tree/0ff703b40afddf9b705bd6a06d3a59cb4c089ea5/base/random.jl#L1365\" target=\"_blank\">random.jl:1365</a><li> randjump(r::<b>MersenneTwister</b>, jumps::<b>Integer</b>) at <a href=\"https://github.com/JuliaLang/julia/tree/0ff703b40afddf9b705bd6a06d3a59cb4c089ea5/base/random.jl#L127\" target=\"_blank\">random.jl:127</a><li> randjump(mt::<b>MersenneTwister</b>, jumps::<b>Integer</b>, jumppoly::<b>AbstractString</b>) at <a href=\"https://github.com/JuliaLang/julia/tree/0ff703b40afddf9b705bd6a06d3a59cb4c089ea5/base/random.jl#L119\" target=\"_blank\">random.jl:119</a><li> randperm(r::<b>AbstractRNG</b>, n::<b>Integer</b>) at <a href=\"https://github.com/JuliaLang/julia/tree/0ff703b40afddf9b705bd6a06d3a59cb4c089ea5/base/random.jl#L1341\" target=\"_blank\">random.jl:1341</a><li> randperm(n::<b>Integer</b>) at <a href=\"https://github.com/JuliaLang/julia/tree/0ff703b40afddf9b705bd6a06d3a59cb4c089ea5/base/random.jl#L1353\" target=\"_blank\">random.jl:1353</a><li> range(a::<b>AbstractFloat</b>, len::<b>Integer</b>) at <a href=\"https://github.com/JuliaLang/julia/tree/0ff703b40afddf9b705bd6a06d3a59cb4c089ea5/base/range.jl#L168\" target=\"_blank\">range.jl:168</a><li> range(a::<b>Real</b>, len::<b>Integer</b>) at <a href=\"https://github.com/JuliaLang/julia/tree/0ff703b40afddf9b705bd6a06d3a59cb4c089ea5/base/range.jl#L84\" target=\"_blank\">range.jl:84</a><li> range<i>{T}</i>(a::<b>T</b>, len::<b>Integer</b>) at <a href=\"https://github.com/JuliaLang/julia/tree/0ff703b40afddf9b705bd6a06d3a59cb4c089ea5/base/range.jl#L88\" target=\"_blank\">range.jl:88</a><li> range(a::<b>AbstractFloat</b>, st::<b>AbstractFloat</b>, len::<b>Integer</b>) at <a href=\"https://github.com/JuliaLang/julia/tree/0ff703b40afddf9b705bd6a06d3a59cb4c089ea5/base/range.jl#L169\" target=\"_blank\">range.jl:169</a><li> range(a::<b>Real</b>, st::<b>AbstractFloat</b>, len::<b>Integer</b>) at <a href=\"https://github.com/JuliaLang/julia/tree/0ff703b40afddf9b705bd6a06d3a59cb4c089ea5/base/range.jl#L170\" target=\"_blank\">range.jl:170</a><li> range(a::<b>AbstractFloat</b>, st::<b>Real</b>, len::<b>Integer</b>) at <a href=\"https://github.com/JuliaLang/julia/tree/0ff703b40afddf9b705bd6a06d3a59cb4c089ea5/base/range.jl#L171\" target=\"_blank\">range.jl:171</a><li> range<i>{T,S}</i>(a::<b>T</b>, step::<b>S</b>, len::<b>Integer</b>) at <a href=\"https://github.com/JuliaLang/julia/tree/0ff703b40afddf9b705bd6a06d3a59cb4c089ea5/base/range.jl#L101\" target=\"_blank\">range.jl:101</a><li> read<i>{T}</i>(s::<b>IO</b>, t::<b>Type{T}</b>, d1::<b>Integer</b>, dims::<b>Integer...</b>) at <a href=\"https://github.com/JuliaLang/julia/tree/0ff703b40afddf9b705bd6a06d3a59cb4c089ea5/base/io.jl#L123\" target=\"_blank\">io.jl:123</a><li> read!(from::<b>Base.AbstractIOBuffer{T<:AbstractArray{UInt8,1}}</b>, p::<b>Ptr{T}</b>, nb::<b>Integer</b>) at <a href=\"https://github.com/JuliaLang/julia/tree/0ff703b40afddf9b705bd6a06d3a59cb4c089ea5/base/deprecated.jl#L538\" target=\"_blank\">deprecated.jl:538</a><li> readbytes(s::<b>IOStream</b>, nb::<b>Integer</b>) at <a href=\"https://github.com/JuliaLang/julia/tree/0ff703b40afddf9b705bd6a06d3a59cb4c089ea5/base/iostream.jl#L268\" target=\"_blank\">iostream.jl:268</a><li> remotecall(id::<b>Integer</b>, f, args...) at <a href=\"https://github.com/JuliaLang/julia/tree/0ff703b40afddf9b705bd6a06d3a59cb4c089ea5/base/multi.jl#L714\" target=\"_blank\">multi.jl:714</a><li> remotecall(f::<b>Function</b>, id::<b>Integer</b>, args...) at <a href=\"https://github.com/JuliaLang/Compat.jl/tree/ab43b410b755317a1b0561a374464bdb3a44f20c/src/Compat.jl#L699\" target=\"_blank\">/Users/juanklopper/.julia/v0.4/Compat/src/Compat.jl:699</a><li> remotecall_fetch(id::<b>Integer</b>, f, args...) at <a href=\"https://github.com/JuliaLang/julia/tree/0ff703b40afddf9b705bd6a06d3a59cb4c089ea5/base/multi.jl#L734\" target=\"_blank\">multi.jl:734</a><li> remotecall_fetch(f::<b>Function</b>, id::<b>Integer</b>, args...) at <a href=\"https://github.com/JuliaLang/Compat.jl/tree/ab43b410b755317a1b0561a374464bdb3a44f20c/src/Compat.jl#L699\" target=\"_blank\">/Users/juanklopper/.julia/v0.4/Compat/src/Compat.jl:699</a><li> remotecall_wait(id::<b>Integer</b>, f, args...) at <a href=\"https://github.com/JuliaLang/julia/tree/0ff703b40afddf9b705bd6a06d3a59cb4c089ea5/base/multi.jl#L751\" target=\"_blank\">multi.jl:751</a><li> remotecall_wait(f::<b>Function</b>, id::<b>Integer</b>, args...) at <a href=\"https://github.com/JuliaLang/Compat.jl/tree/ab43b410b755317a1b0561a374464bdb3a44f20c/src/Compat.jl#L699\" target=\"_blank\">/Users/juanklopper/.julia/v0.4/Compat/src/Compat.jl:699</a><li> repeat(s::<b>ByteString</b>, r::<b>Integer</b>) at <a href=\"https://github.com/JuliaLang/julia/tree/0ff703b40afddf9b705bd6a06d3a59cb4c089ea5/base/strings/types.jl#L176\" target=\"_blank\">strings/types.jl:176</a><li> repeat(s::<b>AbstractString</b>, r::<b>Integer</b>) at <a href=\"https://github.com/JuliaLang/julia/tree/0ff703b40afddf9b705bd6a06d3a59cb4c089ea5/base/strings/types.jl#L167\" target=\"_blank\">strings/types.jl:167</a><li> replace(str::<b>ByteString</b>, pattern, repl, limit::<b>Integer</b>) at <a href=\"https://github.com/JuliaLang/julia/tree/0ff703b40afddf9b705bd6a06d3a59cb4c089ea5/base/strings/util.jl#L181\" target=\"_blank\">strings/util.jl:181</a><li> replace(s::<b>AbstractString</b>, pat, f, n::<b>Integer</b>) at <a href=\"https://github.com/JuliaLang/julia/tree/0ff703b40afddf9b705bd6a06d3a59cb4c089ea5/base/strings/util.jl#L210\" target=\"_blank\">strings/util.jl:210</a><li> resize!(a::<b>Array{T,1}</b>, nl::<b>Integer</b>) at <a href=\"https://github.com/JuliaLang/julia/tree/0ff703b40afddf9b705bd6a06d3a59cb4c089ea5/base/array.jl#L463\" target=\"_blank\">array.jl:463</a><li> resize!(B::<b>BitArray{1}</b>, n::<b>Integer</b>) at <a href=\"https://github.com/JuliaLang/julia/tree/0ff703b40afddf9b705bd6a06d3a59cb4c089ea5/base/bitarray.jl#L506\" target=\"_blank\">bitarray.jl:506</a><li> reverseind(a::<b>AbstractArray{T,1}</b>, i::<b>Integer</b>) at <a href=\"https://github.com/JuliaLang/julia/tree/0ff703b40afddf9b705bd6a06d3a59cb4c089ea5/base/array.jl#L648\" target=\"_blank\">array.jl:648</a><li> reverseind(s::<b>Union{DirectIndexString,SubString{DirectIndexString}}</b>, i::<b>Integer</b>) at <a href=\"https://github.com/JuliaLang/julia/tree/0ff703b40afddf9b705bd6a06d3a59cb4c089ea5/base/strings/types.jl#L127\" target=\"_blank\">strings/types.jl:127</a><li> reverseind(s::<b>RevString{T<:AbstractString}</b>, i::<b>Integer</b>) at <a href=\"https://github.com/JuliaLang/julia/tree/0ff703b40afddf9b705bd6a06d3a59cb4c089ea5/base/strings/types.jl#L128\" target=\"_blank\">strings/types.jl:128</a><li> reverseind(s::<b>SubString{T<:AbstractString}</b>, i::<b>Integer</b>) at <a href=\"https://github.com/JuliaLang/julia/tree/0ff703b40afddf9b705bd6a06d3a59cb4c089ea5/base/strings/types.jl#L131\" target=\"_blank\">strings/types.jl:131</a><li> reverseind(s::<b>UTF8String</b>, i::<b>Integer</b>) at <a href=\"https://github.com/JuliaLang/julia/tree/0ff703b40afddf9b705bd6a06d3a59cb4c089ea5/base/unicode/utf8.jl#L90\" target=\"_blank\">unicode/utf8.jl:90</a><li> reverseind(s::<b>UTF16String</b>, i::<b>Integer</b>) at <a href=\"https://github.com/JuliaLang/julia/tree/0ff703b40afddf9b705bd6a06d3a59cb4c089ea5/base/unicode/utf16.jl#L65\" target=\"_blank\">unicode/utf16.jl:65</a><li> rol(B::<b>BitArray{1}</b>, i::<b>Integer</b>) at <a href=\"https://github.com/JuliaLang/julia/tree/0ff703b40afddf9b705bd6a06d3a59cb4c089ea5/base/bitarray.jl#L1246\" target=\"_blank\">bitarray.jl:1246</a><li> rol!(dest::<b>BitArray{1}</b>, src::<b>BitArray{1}</b>, i::<b>Integer</b>) at <a href=\"https://github.com/JuliaLang/julia/tree/0ff703b40afddf9b705bd6a06d3a59cb4c089ea5/base/bitarray.jl#L1230\" target=\"_blank\">bitarray.jl:1230</a><li> rol!(B::<b>BitArray{1}</b>, i::<b>Integer</b>) at <a href=\"https://github.com/JuliaLang/julia/tree/0ff703b40afddf9b705bd6a06d3a59cb4c089ea5/base/bitarray.jl#L1242\" target=\"_blank\">bitarray.jl:1242</a><li> ror(B::<b>BitArray{1}</b>, i::<b>Integer</b>) at <a href=\"https://github.com/JuliaLang/julia/tree/0ff703b40afddf9b705bd6a06d3a59cb4c089ea5/base/bitarray.jl#L1266\" target=\"_blank\">bitarray.jl:1266</a><li> ror!(dest::<b>BitArray{1}</b>, src::<b>BitArray{1}</b>, i::<b>Integer</b>) at <a href=\"https://github.com/JuliaLang/julia/tree/0ff703b40afddf9b705bd6a06d3a59cb4c089ea5/base/bitarray.jl#L1250\" target=\"_blank\">bitarray.jl:1250</a><li> ror!(B::<b>BitArray{1}</b>, i::<b>Integer</b>) at <a href=\"https://github.com/JuliaLang/julia/tree/0ff703b40afddf9b705bd6a06d3a59cb4c089ea5/base/bitarray.jl#L1262\" target=\"_blank\">bitarray.jl:1262</a><li> rot180(A::<b>AbstractArray{T,2}</b>, k::<b>Integer</b>) at <a href=\"https://github.com/JuliaLang/julia/tree/0ff703b40afddf9b705bd6a06d3a59cb4c089ea5/base/arraymath.jl#L305\" target=\"_blank\">arraymath.jl:305</a><li> rotl90(A::<b>AbstractArray{T,2}</b>, k::<b>Integer</b>) at <a href=\"https://github.com/JuliaLang/julia/tree/0ff703b40afddf9b705bd6a06d3a59cb4c089ea5/base/arraymath.jl#L299\" target=\"_blank\">arraymath.jl:299</a><li> rotr90(A::<b>AbstractArray{T,2}</b>, k::<b>Integer</b>) at <a href=\"https://github.com/JuliaLang/julia/tree/0ff703b40afddf9b705bd6a06d3a59cb4c089ea5/base/arraymath.jl#L304\" target=\"_blank\">arraymath.jl:304</a><li> round(x::<b>Integer</b>) at <a href=\"https://github.com/JuliaLang/julia/tree/0ff703b40afddf9b705bd6a06d3a59cb4c089ea5/base/int.jl#L250\" target=\"_blank\">int.jl:250</a><li> round<i>{T<:Integer}</i>(::<b>Type{T<:Integer}</b>, x::<b>Integer</b>) at <a href=\"https://github.com/JuliaLang/julia/tree/0ff703b40afddf9b705bd6a06d3a59cb4c089ea5/base/int.jl#L255\" target=\"_blank\">int.jl:255</a><li> round(z::<b>Complex{T<:Real}</b>, digits::<b>Integer</b>) at <a href=\"https://github.com/JuliaLang/julia/tree/0ff703b40afddf9b705bd6a06d3a59cb4c089ea5/base/complex.jl#L747\" target=\"_blank\">complex.jl:747</a><li> round(z::<b>Complex{T<:Real}</b>, digits::<b>Integer</b>, base::<b>Integer</b>) at <a href=\"https://github.com/JuliaLang/julia/tree/0ff703b40afddf9b705bd6a06d3a59cb4c089ea5/base/complex.jl#L747\" target=\"_blank\">complex.jl:747</a><li> round<i>{R}</i>(x::<b>AbstractArray{R,1}</b>, digits::<b>Integer</b>) at <a href=\"https://github.com/JuliaLang/julia/tree/0ff703b40afddf9b705bd6a06d3a59cb4c089ea5/base/floatfuncs.jl#L81\" target=\"_blank\">floatfuncs.jl:81</a><li> round<i>{R}</i>(x::<b>AbstractArray{R,1}</b>, digits::<b>Integer</b>, base::<b>Integer</b>) at <a href=\"https://github.com/JuliaLang/julia/tree/0ff703b40afddf9b705bd6a06d3a59cb4c089ea5/base/floatfuncs.jl#L81\" target=\"_blank\">floatfuncs.jl:81</a><li> round<i>{R}</i>(x::<b>AbstractArray{R,2}</b>, digits::<b>Integer</b>) at <a href=\"https://github.com/JuliaLang/julia/tree/0ff703b40afddf9b705bd6a06d3a59cb4c089ea5/base/floatfuncs.jl#L84\" target=\"_blank\">floatfuncs.jl:84</a><li> round<i>{R}</i>(x::<b>AbstractArray{R,2}</b>, digits::<b>Integer</b>, base::<b>Integer</b>) at <a href=\"https://github.com/JuliaLang/julia/tree/0ff703b40afddf9b705bd6a06d3a59cb4c089ea5/base/floatfuncs.jl#L84\" target=\"_blank\">floatfuncs.jl:84</a><li> round(x::<b>AbstractArray{T,N}</b>, digits::<b>Integer</b>) at <a href=\"https://github.com/JuliaLang/julia/tree/0ff703b40afddf9b705bd6a06d3a59cb4c089ea5/base/floatfuncs.jl#L87\" target=\"_blank\">floatfuncs.jl:87</a><li> round(x::<b>AbstractArray{T,N}</b>, digits::<b>Integer</b>, base::<b>Integer</b>) at <a href=\"https://github.com/JuliaLang/julia/tree/0ff703b40afddf9b705bd6a06d3a59cb4c089ea5/base/floatfuncs.jl#L87\" target=\"_blank\">floatfuncs.jl:87</a><li> round(x::<b>Real</b>, digits::<b>Integer</b>) at <a href=\"https://github.com/JuliaLang/julia/tree/0ff703b40afddf9b705bd6a06d3a59cb4c089ea5/base/floatfuncs.jl#L148\" target=\"_blank\">floatfuncs.jl:148</a><li> round(x::<b>Real</b>, digits::<b>Integer</b>, base::<b>Integer</b>) at <a href=\"https://github.com/JuliaLang/julia/tree/0ff703b40afddf9b705bd6a06d3a59cb4c089ea5/base/floatfuncs.jl#L148\" target=\"_blank\">floatfuncs.jl:148</a><li> rpad(s::<b>AbstractString</b>, n::<b>Integer</b>) at <a href=\"https://github.com/JuliaLang/julia/tree/0ff703b40afddf9b705bd6a06d3a59cb4c089ea5/base/strings/util.jl#L108\" target=\"_blank\">strings/util.jl:108</a><li> rpad(s::<b>AbstractString</b>, n::<b>Integer</b>, p::<b>AbstractString</b>) at <a href=\"https://github.com/JuliaLang/julia/tree/0ff703b40afddf9b705bd6a06d3a59cb4c089ea5/base/strings/util.jl#L108\" target=\"_blank\">strings/util.jl:108</a><li> rpad(s, n::<b>Integer</b>) at <a href=\"https://github.com/JuliaLang/julia/tree/0ff703b40afddf9b705bd6a06d3a59cb4c089ea5/base/strings/util.jl#L121\" target=\"_blank\">strings/util.jl:121</a><li> rpad(s, n::<b>Integer</b>, p) at <a href=\"https://github.com/JuliaLang/julia/tree/0ff703b40afddf9b705bd6a06d3a59cb4c089ea5/base/strings/util.jl#L121\" target=\"_blank\">strings/util.jl:121</a><li> rsearch(s::<b>ASCIIString</b>, c::<b>Char</b>, i::<b>Integer</b>) at <a href=\"https://github.com/JuliaLang/julia/tree/0ff703b40afddf9b705bd6a06d3a59cb4c089ea5/base/ascii.jl#L27\" target=\"_blank\">ascii.jl:27</a><li> rsearch(s::<b>UTF8String</b>, c::<b>Char</b>, i::<b>Integer</b>) at <a href=\"https://github.com/JuliaLang/julia/tree/0ff703b40afddf9b705bd6a06d3a59cb4c089ea5/base/unicode/utf8.jl#L144\" target=\"_blank\">unicode/utf8.jl:144</a><li> rsearch(s::<b>AbstractString</b>, c::<b>Union{AbstractArray{Char,1},Char,Set{Char},Tuple{Vararg{Char}}}</b>, i::<b>Integer</b>) at <a href=\"https://github.com/JuliaLang/julia/tree/0ff703b40afddf9b705bd6a06d3a59cb4c089ea5/base/strings/search.jl#L161\" target=\"_blank\">strings/search.jl:161</a><li> rsearch(s::<b>Union{Array{Int8,1},Array{UInt8,1}}</b>, t::<b>Union{Array{Int8,1},Array{UInt8,1}}</b>, i::<b>Integer</b>) at <a href=\"https://github.com/JuliaLang/julia/tree/0ff703b40afddf9b705bd6a06d3a59cb4c089ea5/base/strings/search.jl#L293\" target=\"_blank\">strings/search.jl:293</a><li> rsearch(s::<b>AbstractString</b>, t::<b>AbstractString</b>, i::<b>Integer</b>) at <a href=\"https://github.com/JuliaLang/julia/tree/0ff703b40afddf9b705bd6a06d3a59cb4c089ea5/base/strings/search.jl#L302\" target=\"_blank\">strings/search.jl:302</a><li> rsearch(a::<b>Union{Array{Int8,1},Array{UInt8,1}}</b>, b::<b>Union{Int8,UInt8}</b>, i::<b>Integer</b>) at <a href=\"https://github.com/JuliaLang/julia/tree/0ff703b40afddf9b705bd6a06d3a59cb4c089ea5/base/strings/search.jl#L340\" target=\"_blank\">strings/search.jl:340</a><li> rsearch(a::<b>Union{Array{Int8,1},Array{UInt8,1}}</b>, b::<b>Char</b>, i::<b>Integer</b>) at <a href=\"https://github.com/JuliaLang/julia/tree/0ff703b40afddf9b705bd6a06d3a59cb4c089ea5/base/strings/search.jl#L352\" target=\"_blank\">strings/search.jl:352</a><li> rsearchindex(s::<b>ByteString</b>, t::<b>ByteString</b>, i::<b>Integer</b>) at <a href=\"https://github.com/JuliaLang/julia/tree/0ff703b40afddf9b705bd6a06d3a59cb4c089ea5/base/strings/search.jl#L279\" target=\"_blank\">strings/search.jl:279</a><li> rsearchindex(s::<b>AbstractString</b>, t::<b>AbstractString</b>, i::<b>Integer</b>) at <a href=\"https://github.com/JuliaLang/julia/tree/0ff703b40afddf9b705bd6a06d3a59cb4c089ea5/base/strings/search.jl#L263\" target=\"_blank\">strings/search.jl:263</a><li> rsplit(x, y, l::<b>Integer</b>) at <a href=\"https://github.com/JuliaLang/julia/tree/0ff703b40afddf9b705bd6a06d3a59cb4c089ea5/base/deprecated.jl#L49\" target=\"_blank\">deprecated.jl:49</a><li> rsplit(x, y, l::<b>Integer</b>, k::<b>Bool</b>) at <a href=\"https://github.com/JuliaLang/julia/tree/0ff703b40afddf9b705bd6a06d3a59cb4c089ea5/base/deprecated.jl#L49\" target=\"_blank\">deprecated.jl:49</a><li> search(s::<b>ASCIIString</b>, c::<b>Char</b>, i::<b>Integer</b>) at <a href=\"https://github.com/JuliaLang/julia/tree/0ff703b40afddf9b705bd6a06d3a59cb4c089ea5/base/ascii.jl#L23\" target=\"_blank\">ascii.jl:23</a><li> search(s::<b>UTF8String</b>, c::<b>Char</b>, i::<b>Integer</b>) at <a href=\"https://github.com/JuliaLang/julia/tree/0ff703b40afddf9b705bd6a06d3a59cb4c089ea5/base/unicode/utf8.jl#L127\" target=\"_blank\">unicode/utf8.jl:127</a><li> search(s::<b>AbstractString</b>, c::<b>Union{AbstractArray{Char,1},Char,Set{Char},Tuple{Vararg{Char}}}</b>, i::<b>Integer</b>) at <a href=\"https://github.com/JuliaLang/julia/tree/0ff703b40afddf9b705bd6a06d3a59cb4c089ea5/base/strings/search.jl#L4\" target=\"_blank\">strings/search.jl:4</a><li> search(s::<b>AbstractString</b>, t::<b>AbstractString</b>, i::<b>Integer</b>) at <a href=\"https://github.com/JuliaLang/julia/tree/0ff703b40afddf9b705bd6a06d3a59cb4c089ea5/base/strings/search.jl#L146\" target=\"_blank\">strings/search.jl:146</a><li> search(a::<b>Union{Array{Int8,1},Array{UInt8,1}}</b>, b::<b>Union{Int8,UInt8}</b>, i::<b>Integer</b>) at <a href=\"https://github.com/JuliaLang/julia/tree/0ff703b40afddf9b705bd6a06d3a59cb4c089ea5/base/strings/search.jl#L319\" target=\"_blank\">strings/search.jl:319</a><li> search(a::<b>Union{Array{Int8,1},Array{UInt8,1}}</b>, b::<b>Char</b>, i::<b>Integer</b>) at <a href=\"https://github.com/JuliaLang/julia/tree/0ff703b40afddf9b705bd6a06d3a59cb4c089ea5/base/strings/search.jl#L331\" target=\"_blank\">strings/search.jl:331</a><li> search(str::<b>Union{ASCIIString,SubString{T<:AbstractString},UTF8String}</b>, re::<b>Regex</b>, idx::<b>Integer</b>) at <a href=\"https://github.com/JuliaLang/julia/tree/0ff703b40afddf9b705bd6a06d3a59cb4c089ea5/base/regex.jl#L202\" target=\"_blank\">regex.jl:202</a><li> search(s::<b>AbstractString</b>, r::<b>Regex</b>, idx::<b>Integer</b>) at <a href=\"https://github.com/JuliaLang/julia/tree/0ff703b40afddf9b705bd6a06d3a59cb4c089ea5/base/regex.jl#L210\" target=\"_blank\">regex.jl:210</a><li> searchindex(s::<b>ByteString</b>, t::<b>ByteString</b>, i::<b>Integer</b>) at <a href=\"https://github.com/JuliaLang/julia/tree/0ff703b40afddf9b705bd6a06d3a59cb4c089ea5/base/strings/search.jl#L129\" target=\"_blank\">strings/search.jl:129</a><li> searchindex(s::<b>AbstractString</b>, t::<b>AbstractString</b>, i::<b>Integer</b>) at <a href=\"https://github.com/JuliaLang/julia/tree/0ff703b40afddf9b705bd6a06d3a59cb4c089ea5/base/strings/search.jl#L121\" target=\"_blank\">strings/search.jl:121</a><li> searchindex(s::<b>AbstractString</b>, c::<b>Char</b>, i::<b>Integer</b>) at <a href=\"https://github.com/JuliaLang/julia/tree/0ff703b40afddf9b705bd6a06d3a59cb4c089ea5/base/strings/search.jl#L123\" target=\"_blank\">strings/search.jl:123</a><li> seek(io::<b>Base.AbstractIOBuffer{T<:AbstractArray{UInt8,1}}</b>, n::<b>Integer</b>) at <a href=\"https://github.com/JuliaLang/julia/tree/0ff703b40afddf9b705bd6a06d3a59cb4c089ea5/base/iobuffer.jl#L123\" target=\"_blank\">iobuffer.jl:123</a><li> seek(s::<b>IOStream</b>, n::<b>Integer</b>) at <a href=\"https://github.com/JuliaLang/julia/tree/0ff703b40afddf9b705bd6a06d3a59cb4c089ea5/base/iostream.jl#L49\" target=\"_blank\">iostream.jl:49</a><li> seek(h::<b>Base.Libc.FILE</b>, offset::<b>Integer</b>) at <a href=\"https://github.com/JuliaLang/julia/tree/0ff703b40afddf9b705bd6a06d3a59cb4c089ea5/base/libc.jl#L64\" target=\"_blank\">libc.jl:64</a><li> setindex!(A::<b>Array{T,2}</b>, x::<b>SparseMatrixCSC{Tv,Ti<:Integer}</b>, I::<b>Integer</b>, J::<b>AbstractArray{Bool,1}</b>) at <a href=\"https://github.com/JuliaLang/julia/tree/0ff703b40afddf9b705bd6a06d3a59cb4c089ea5/base/sparse/sparsematrix.jl#L2202\" target=\"_blank\">sparse/sparsematrix.jl:2202</a><li> setindex!(A::<b>UpperTriangular{T,S<:AbstractArray{T,2}}</b>, x, i::<b>Integer</b>, j::<b>Integer</b>) at <a href=\"https://github.com/JuliaLang/julia/tree/0ff703b40afddf9b705bd6a06d3a59cb4c089ea5/base/linalg/triangular.jl#L121\" target=\"_blank\">linalg/triangular.jl:121</a><li> setindex!(A::<b>Base.LinAlg.UnitUpperTriangular{T,S<:AbstractArray{T,2}}</b>, x, i::<b>Integer</b>, j::<b>Integer</b>) at <a href=\"https://github.com/JuliaLang/julia/tree/0ff703b40afddf9b705bd6a06d3a59cb4c089ea5/base/linalg/triangular.jl#L129\" target=\"_blank\">linalg/triangular.jl:129</a><li> setindex!(A::<b>LowerTriangular{T,S<:AbstractArray{T,2}}</b>, x, i::<b>Integer</b>, j::<b>Integer</b>) at <a href=\"https://github.com/JuliaLang/julia/tree/0ff703b40afddf9b705bd6a06d3a59cb4c089ea5/base/linalg/triangular.jl#L137\" target=\"_blank\">linalg/triangular.jl:137</a><li> setindex!(A::<b>Base.LinAlg.UnitLowerTriangular{T,S<:AbstractArray{T,2}}</b>, x, i::<b>Integer</b>, j::<b>Integer</b>) at <a href=\"https://github.com/JuliaLang/julia/tree/0ff703b40afddf9b705bd6a06d3a59cb4c089ea5/base/linalg/triangular.jl#L145\" target=\"_blank\">linalg/triangular.jl:145</a><li> setindex!<i>{T,Ti}</i>(A::<b>SparseMatrixCSC{T,Ti}</b>, v, i0::<b>Integer</b>, i1::<b>Integer</b>) at <a href=\"https://github.com/JuliaLang/julia/tree/0ff703b40afddf9b705bd6a06d3a59cb4c089ea5/base/sparse/sparsematrix.jl#L1854\" target=\"_blank\">sparse/sparsematrix.jl:1854</a><li> setindex!(A::<b>SparseMatrixCSC{Tv,Ti<:Integer}</b>, x::<b>Array{T,2}</b>, I::<b>Integer</b>, J::<b>AbstractArray{Bool,1}</b>) at <a href=\"https://github.com/JuliaLang/julia/tree/0ff703b40afddf9b705bd6a06d3a59cb4c089ea5/base/sparse/sparsematrix.jl#L2196\" target=\"_blank\">sparse/sparsematrix.jl:2196</a><li> setindex!<i>{T<:Integer}</i>(A::<b>SparseMatrixCSC{Tv,Ti<:Integer}</b>, v::<b>AbstractArray{T,2}</b>, i::<b>Integer</b>, J::<b>AbstractArray{T<:Integer,1}</b>) at <a href=\"https://github.com/JuliaLang/julia/tree/0ff703b40afddf9b705bd6a06d3a59cb4c089ea5/base/sparse/sparsematrix.jl#L1887\" target=\"_blank\">sparse/sparsematrix.jl:1887</a><li> setindex!(A::<b>SparseMatrixCSC{Tv,Ti<:Integer}</b>, x::<b>Array{T,2}</b>, I::<b>AbstractArray{Bool,1}</b>, J::<b>Integer</b>) at <a href=\"https://github.com/JuliaLang/julia/tree/0ff703b40afddf9b705bd6a06d3a59cb4c089ea5/base/sparse/sparsematrix.jl#L2197\" target=\"_blank\">sparse/sparsematrix.jl:2197</a><li> setindex!<i>{T<:Integer}</i>(A::<b>SparseMatrixCSC{Tv,Ti<:Integer}</b>, v::<b>AbstractArray{T,2}</b>, I::<b>AbstractArray{T<:Integer,1}</b>, j::<b>Integer</b>) at <a href=\"https://github.com/JuliaLang/julia/tree/0ff703b40afddf9b705bd6a06d3a59cb4c089ea5/base/sparse/sparsematrix.jl#L1888\" target=\"_blank\">sparse/sparsematrix.jl:1888</a><li> setindex!<i>{T<:Integer}</i>(A::<b>SparseMatrixCSC{Tv,Ti<:Integer}</b>, x::<b>Number</b>, i::<b>Integer</b>, J::<b>AbstractArray{T<:Integer,1}</b>) at <a href=\"https://github.com/JuliaLang/julia/tree/0ff703b40afddf9b705bd6a06d3a59cb4c089ea5/base/sparse/sparsematrix.jl#L1890\" target=\"_blank\">sparse/sparsematrix.jl:1890</a><li> setindex!<i>{T<:Integer}</i>(A::<b>SparseMatrixCSC{Tv,Ti<:Integer}</b>, x::<b>Number</b>, I::<b>AbstractArray{T<:Integer,1}</b>, j::<b>Integer</b>) at <a href=\"https://github.com/JuliaLang/julia/tree/0ff703b40afddf9b705bd6a06d3a59cb4c089ea5/base/sparse/sparsematrix.jl#L1891\" target=\"_blank\">sparse/sparsematrix.jl:1891</a><li> setindex!<i>{Tv,Ti,T<:Integer}</i>(A::<b>SparseMatrixCSC{Tv,Ti}</b>, v::<b>AbstractArray{T,1}</b>, I::<b>AbstractArray{T<:Integer,1}</b>, j::<b>Integer</b>) at <a href=\"https://github.com/JuliaLang/julia/tree/0ff703b40afddf9b705bd6a06d3a59cb4c089ea5/base/sparse/sparsematrix.jl#L2070\" target=\"_blank\">sparse/sparsematrix.jl:2070</a><li> setindex!<i>{Tv,Ti,T<:Integer}</i>(A::<b>SparseMatrixCSC{Tv,Ti}</b>, v::<b>AbstractArray{T,1}</b>, i::<b>Integer</b>, J::<b>AbstractArray{T<:Integer,1}</b>) at <a href=\"https://github.com/JuliaLang/julia/tree/0ff703b40afddf9b705bd6a06d3a59cb4c089ea5/base/sparse/sparsematrix.jl#L2071\" target=\"_blank\">sparse/sparsematrix.jl:2071</a><li> setindex!(A::<b>Array{T,2}</b>, x::<b>SparseMatrixCSC{Tv,Ti<:Integer}</b>, I::<b>AbstractArray{Bool,1}</b>, J::<b>Integer</b>) at <a href=\"https://github.com/JuliaLang/julia/tree/0ff703b40afddf9b705bd6a06d3a59cb4c089ea5/base/sparse/sparsematrix.jl#L2203\" target=\"_blank\">sparse/sparsematrix.jl:2203</a><li> setindex!(a::<b>ZMQ.Message</b>, v, i::<b>Integer</b>) at <a href=\"https://github.com/JuliaLang/ZMQ.jl/tree/89f9a65a38cb565b6c938a0eac760bb9ea458043/src/ZMQ.jl#L419\" target=\"_blank\">/Users/juanklopper/.julia/v0.4/ZMQ/src/ZMQ.jl:419</a><li> signbit(x::<b>Integer</b>) at <a href=\"https://github.com/JuliaLang/julia/tree/0ff703b40afddf9b705bd6a06d3a59cb4c089ea5/base/int.jl#L29\" target=\"_blank\">int.jl:29</a><li> signif(x::<b>Real</b>, digits::<b>Integer</b>) at <a href=\"https://github.com/JuliaLang/julia/tree/0ff703b40afddf9b705bd6a06d3a59cb4c089ea5/base/floatfuncs.jl#L132\" target=\"_blank\">floatfuncs.jl:132</a><li> signif(x::<b>Real</b>, digits::<b>Integer</b>, base::<b>Integer</b>) at <a href=\"https://github.com/JuliaLang/julia/tree/0ff703b40afddf9b705bd6a06d3a59cb4c089ea5/base/floatfuncs.jl#L132\" target=\"_blank\">floatfuncs.jl:132</a><li> sinc(x::<b>Integer</b>) at <a href=\"https://github.com/JuliaLang/julia/tree/0ff703b40afddf9b705bd6a06d3a59cb4c089ea5/base/special/trig.jl#L244\" target=\"_blank\">special/trig.jl:244</a><li> sinpi(x::<b>Integer</b>) at <a href=\"https://github.com/JuliaLang/julia/tree/0ff703b40afddf9b705bd6a06d3a59cb4c089ea5/base/special/trig.jl#L209\" target=\"_blank\">special/trig.jl:209</a><li> size(A::<b>SymTridiagonal{T}</b>, d::<b>Integer</b>) at <a href=\"https://github.com/JuliaLang/julia/tree/0ff703b40afddf9b705bd6a06d3a59cb4c089ea5/base/linalg/tridiag.jl#L52\" target=\"_blank\">linalg/tridiag.jl:52</a><li> size(M::<b>Tridiagonal{T}</b>, d::<b>Integer</b>) at <a href=\"https://github.com/JuliaLang/julia/tree/0ff703b40afddf9b705bd6a06d3a59cb4c089ea5/base/linalg/tridiag.jl#L285\" target=\"_blank\">linalg/tridiag.jl:285</a><li> size(A::<b>Union{Base.LinAlg.QRCompactWYQ{S,M<:AbstractArray{T,2}},Base.LinAlg.QRPackedQ{T,S<:AbstractArray{T,2}}}</b>, dim::<b>Integer</b>) at <a href=\"https://github.com/JuliaLang/julia/tree/0ff703b40afddf9b705bd6a06d3a59cb4c089ea5/base/linalg/qr.jl#L131\" target=\"_blank\">linalg/qr.jl:131</a><li> size(D::<b>Diagonal{T}</b>, d::<b>Integer</b>) at <a href=\"https://github.com/JuliaLang/julia/tree/0ff703b40afddf9b705bd6a06d3a59cb4c089ea5/base/linalg/diagonal.jl#L28\" target=\"_blank\">linalg/diagonal.jl:28</a><li> size(M::<b>Bidiagonal{T}</b>, d::<b>Integer</b>) at <a href=\"https://github.com/JuliaLang/julia/tree/0ff703b40afddf9b705bd6a06d3a59cb4c089ea5/base/linalg/bidiag.jl#L102\" target=\"_blank\">linalg/bidiag.jl:102</a><li> size(FC::<b>Base.SparseMatrix.CHOLMOD.FactorComponent{Tv,S}</b>, i::<b>Integer</b>) at <a href=\"https://github.com/JuliaLang/julia/tree/0ff703b40afddf9b705bd6a06d3a59cb4c089ea5/base/sparse/cholmod.jl#L1087\" target=\"_blank\">sparse/cholmod.jl:1087</a><li> size(A::<b>Union{Base.LinAlg.QRCompactWY{S,M<:AbstractArray{T,2}},Base.LinAlg.QRPivoted{T,S<:AbstractArray{T,2}},Base.LinAlg.QR{T,S<:AbstractArray{T,2}}}</b>, dim::<b>Integer</b>) at <a href=\"https://github.com/JuliaLang/julia/tree/0ff703b40afddf9b705bd6a06d3a59cb4c089ea5/base/linalg/qr.jl#L129\" target=\"_blank\">linalg/qr.jl:129</a><li> size(C::<b>Union{Base.LinAlg.CholeskyPivoted{T,S<:AbstractArray{T,2}},Base.LinAlg.Cholesky{T,S<:AbstractArray{T,2}}}</b>, d::<b>Integer</b>) at <a href=\"https://github.com/JuliaLang/julia/tree/0ff703b40afddf9b705bd6a06d3a59cb4c089ea5/base/linalg/cholesky.jl#L164\" target=\"_blank\">linalg/cholesky.jl:164</a><li> size(B::<b>Base.LinAlg.BunchKaufman{T,S<:AbstractArray{T,2}}</b>, d::<b>Integer</b>) at <a href=\"https://github.com/JuliaLang/julia/tree/0ff703b40afddf9b705bd6a06d3a59cb4c089ea5/base/linalg/bunchkaufman.jl#L34\" target=\"_blank\">linalg/bunchkaufman.jl:34</a><li> size(S::<b>Base.LinAlg.LDLt{T,S<:AbstractArray{T,2}}</b>, i::<b>Integer</b>) at <a href=\"https://github.com/JuliaLang/julia/tree/0ff703b40afddf9b705bd6a06d3a59cb4c089ea5/base/linalg/ldlt.jl#L8\" target=\"_blank\">linalg/ldlt.jl:8</a><li> size(F::<b>Base.SparseMatrix.CHOLMOD.Factor{Tv}</b>, i::<b>Integer</b>) at <a href=\"https://github.com/JuliaLang/julia/tree/0ff703b40afddf9b705bd6a06d3a59cb4c089ea5/base/sparse/cholmod.jl#L1075\" target=\"_blank\">sparse/cholmod.jl:1075</a><li> size(F::<b>Base.SparseMatrix.SPQR.Factorization{Tv<:Union{Complex{Float64},Float64}}</b>, i::<b>Integer</b>) at <a href=\"https://github.com/JuliaLang/julia/tree/0ff703b40afddf9b705bd6a06d3a59cb4c089ea5/base/sparse/spqr.jl#L70\" target=\"_blank\">sparse/spqr.jl:70</a><li> size(x, d1::<b>Integer</b>, d2::<b>Integer</b>, dx::<b>Integer...</b>) at <a href=\"https://github.com/JuliaLang/julia/tree/0ff703b40afddf9b705bd6a06d3a59cb4c089ea5/base/abstractarray.jl#L54\" target=\"_blank\">abstractarray.jl:54</a><li> sizehint!(a::<b>Array{T,1}</b>, sz::<b>Integer</b>) at <a href=\"https://github.com/JuliaLang/julia/tree/0ff703b40afddf9b705bd6a06d3a59cb4c089ea5/base/array.jl#L476\" target=\"_blank\">array.jl:476</a><li> sizehint!(B::<b>BitArray{1}</b>, sz::<b>Integer</b>) at <a href=\"https://github.com/JuliaLang/julia/tree/0ff703b40afddf9b705bd6a06d3a59cb4c089ea5/base/bitarray.jl#L501\" target=\"_blank\">bitarray.jl:501</a><li> sizehint!(s::<b>IntSet</b>, top::<b>Integer</b>) at <a href=\"https://github.com/JuliaLang/julia/tree/0ff703b40afddf9b705bd6a06d3a59cb4c089ea5/base/intset.jl#L37\" target=\"_blank\">intset.jl:37</a><li> skip(io::<b>Base.AbstractIOBuffer{T<:AbstractArray{UInt8,1}}</b>, n::<b>Integer</b>) at <a href=\"https://github.com/JuliaLang/julia/tree/0ff703b40afddf9b705bd6a06d3a59cb4c089ea5/base/iobuffer.jl#L116\" target=\"_blank\">iobuffer.jl:116</a><li> skip(s::<b>IOStream</b>, delta::<b>Integer</b>) at <a href=\"https://github.com/JuliaLang/julia/tree/0ff703b40afddf9b705bd6a06d3a59cb4c089ea5/base/iostream.jl#L63\" target=\"_blank\">iostream.jl:63</a><li> slicedim(A::<b>Array{T,N}</b>, d::<b>Integer</b>, i::<b>Integer</b>) at <a href=\"https://github.com/JuliaLang/julia/tree/0ff703b40afddf9b705bd6a06d3a59cb4c089ea5/base/arraymath.jl#L178\" target=\"_blank\">arraymath.jl:178</a><li> slicedim(A::<b>BitArray{N}</b>, d::<b>Integer</b>, i::<b>Integer</b>) at <a href=\"https://github.com/JuliaLang/julia/tree/0ff703b40afddf9b705bd6a06d3a59cb4c089ea5/base/bitarray.jl#L1066\" target=\"_blank\">bitarray.jl:1066</a><li> slicedim(A::<b>AbstractArray{T,N}</b>, d::<b>Integer</b>, i) at <a href=\"https://github.com/JuliaLang/julia/tree/0ff703b40afddf9b705bd6a06d3a59cb4c089ea5/base/abstractarraymath.jl#L63\" target=\"_blank\">abstractarraymath.jl:63</a><li> sort(A::<b>AbstractArray{T,N}</b>, dim::<b>Integer</b>) at <a href=\"https://github.com/JuliaLang/julia/tree/0ff703b40afddf9b705bd6a06d3a59cb4c089ea5/base/sort.jl#L479\" target=\"_blank\">sort.jl:479</a><li> sparse<i>{Tv,Ti<:Integer}</i>(I::<b>AbstractArray{Ti<:Integer,1}</b>, J::<b>AbstractArray{Ti<:Integer,1}</b>, V::<b>AbstractArray{Tv,1}</b>, nrow::<b>Integer</b>, ncol::<b>Integer</b>, combine::<b>Union{Base.Func{N},Function}</b>) at <a href=\"https://github.com/JuliaLang/julia/tree/0ff703b40afddf9b705bd6a06d3a59cb4c089ea5/base/sparse/csparse.jl#L31\" target=\"_blank\">sparse/csparse.jl:31</a><li> sparsevec(I::<b>AbstractArray{T,1}</b>, V, m::<b>Integer</b>) at <a href=\"https://github.com/JuliaLang/julia/tree/0ff703b40afddf9b705bd6a06d3a59cb4c089ea5/base/sparse/sparsematrix.jl#L263\" target=\"_blank\">sparse/sparsematrix.jl:263</a><li> sparsevec(I::<b>AbstractArray{T,1}</b>, V, m::<b>Integer</b>, combine::<b>Union{Base.Func{N},Function}</b>) at <a href=\"https://github.com/JuliaLang/julia/tree/0ff703b40afddf9b705bd6a06d3a59cb4c089ea5/base/sparse/sparsematrix.jl#L278\" target=\"_blank\">sparse/sparsematrix.jl:278</a><li> spdiagm(B::<b>AbstractArray{T,1}</b>, d::<b>Number</b>, m::<b>Integer</b>, n::<b>Integer</b>) at <a href=\"https://github.com/JuliaLang/julia/tree/0ff703b40afddf9b705bd6a06d3a59cb4c089ea5/base/sparse/sparsematrix.jl#L2698\" target=\"_blank\">sparse/sparsematrix.jl:2698</a><li> spdiagm(B, d, m::<b>Integer</b>, n::<b>Integer</b>) at <a href=\"https://github.com/JuliaLang/julia/tree/0ff703b40afddf9b705bd6a06d3a59cb4c089ea5/base/sparse/sparsematrix.jl#L2689\" target=\"_blank\">sparse/sparsematrix.jl:2689</a><li> speye(n::<b>Integer</b>) at <a href=\"https://github.com/JuliaLang/julia/tree/0ff703b40afddf9b705bd6a06d3a59cb4c089ea5/base/sparse/sparsematrix.jl#L580\" target=\"_blank\">sparse/sparsematrix.jl:580</a><li> speye(T::<b>Type{T}</b>, n::<b>Integer</b>) at <a href=\"https://github.com/JuliaLang/julia/tree/0ff703b40afddf9b705bd6a06d3a59cb4c089ea5/base/sparse/sparsematrix.jl#L581\" target=\"_blank\">sparse/sparsematrix.jl:581</a><li> speye(m::<b>Integer</b>, n::<b>Integer</b>) at <a href=\"https://github.com/JuliaLang/julia/tree/0ff703b40afddf9b705bd6a06d3a59cb4c089ea5/base/sparse/sparsematrix.jl#L582\" target=\"_blank\">sparse/sparsematrix.jl:582</a><li> speye(T::<b>Type{T}</b>, m::<b>Integer</b>, n::<b>Integer</b>) at <a href=\"https://github.com/JuliaLang/julia/tree/0ff703b40afddf9b705bd6a06d3a59cb4c089ea5/base/sparse/sparsematrix.jl#L593\" target=\"_blank\">sparse/sparsematrix.jl:593</a><li> splice!(a::<b>Array{T,1}</b>, i::<b>Integer</b>) at <a href=\"https://github.com/JuliaLang/julia/tree/0ff703b40afddf9b705bd6a06d3a59cb4c089ea5/base/array.jl#L568\" target=\"_blank\">array.jl:568</a><li> splice!(a::<b>Array{T,1}</b>, i::<b>Integer</b>, ins) at <a href=\"https://github.com/JuliaLang/julia/tree/0ff703b40afddf9b705bd6a06d3a59cb4c089ea5/base/array.jl#L568\" target=\"_blank\">array.jl:568</a><li> splice!(B::<b>BitArray{1}</b>, i::<b>Integer</b>) at <a href=\"https://github.com/JuliaLang/julia/tree/0ff703b40afddf9b705bd6a06d3a59cb4c089ea5/base/bitarray.jl#L712\" target=\"_blank\">bitarray.jl:712</a><li> split(x, y, l::<b>Integer</b>) at <a href=\"https://github.com/JuliaLang/julia/tree/0ff703b40afddf9b705bd6a06d3a59cb4c089ea5/base/deprecated.jl#L49\" target=\"_blank\">deprecated.jl:49</a><li> split(x, y, l::<b>Integer</b>, k::<b>Bool</b>) at <a href=\"https://github.com/JuliaLang/julia/tree/0ff703b40afddf9b705bd6a06d3a59cb4c089ea5/base/deprecated.jl#L49\" target=\"_blank\">deprecated.jl:49</a><li> sprand(r::<b>AbstractRNG</b>, m::<b>Integer</b>, n::<b>Integer</b>, density::<b>AbstractFloat</b>) at <a href=\"https://github.com/JuliaLang/julia/tree/0ff703b40afddf9b705bd6a06d3a59cb4c089ea5/base/sparse/sparsematrix.jl#L533\" target=\"_blank\">sparse/sparsematrix.jl:533</a><li> sprand(r::<b>AbstractRNG</b>, m::<b>Integer</b>, n::<b>Integer</b>, density::<b>AbstractFloat</b>, rfn::<b>Function</b>) at <a href=\"https://github.com/JuliaLang/julia/tree/0ff703b40afddf9b705bd6a06d3a59cb4c089ea5/base/sparse/sparsematrix.jl#L515\" target=\"_blank\">sparse/sparsematrix.jl:515</a><li> sprand<i>{T}</i>(r::<b>AbstractRNG</b>, m::<b>Integer</b>, n::<b>Integer</b>, density::<b>AbstractFloat</b>, rfn::<b>Function</b>, ::<b>Type{T}</b>) at <a href=\"https://github.com/JuliaLang/julia/tree/0ff703b40afddf9b705bd6a06d3a59cb4c089ea5/base/sparse/sparsematrix.jl#L515\" target=\"_blank\">sparse/sparsematrix.jl:515</a><li> sprand(m::<b>Integer</b>, n::<b>Integer</b>, density::<b>AbstractFloat</b>) at <a href=\"https://github.com/JuliaLang/julia/tree/0ff703b40afddf9b705bd6a06d3a59cb4c089ea5/base/sparse/sparsematrix.jl#L534\" target=\"_blank\">sparse/sparsematrix.jl:534</a><li> sprand(m::<b>Integer</b>, n::<b>Integer</b>, density::<b>AbstractFloat</b>, rfn::<b>Function</b>) at <a href=\"https://github.com/JuliaLang/julia/tree/0ff703b40afddf9b705bd6a06d3a59cb4c089ea5/base/sparse/sparsematrix.jl#L525\" target=\"_blank\">sparse/sparsematrix.jl:525</a><li> sprand<i>{T}</i>(m::<b>Integer</b>, n::<b>Integer</b>, density::<b>AbstractFloat</b>, rfn::<b>Function</b>, ::<b>Type{T}</b>) at <a href=\"https://github.com/JuliaLang/julia/tree/0ff703b40afddf9b705bd6a06d3a59cb4c089ea5/base/sparse/sparsematrix.jl#L525\" target=\"_blank\">sparse/sparsematrix.jl:525</a><li> sprandbool(r::<b>AbstractRNG</b>, m::<b>Integer</b>, n::<b>Integer</b>, density::<b>AbstractFloat</b>) at <a href=\"https://github.com/JuliaLang/julia/tree/0ff703b40afddf9b705bd6a06d3a59cb4c089ea5/base/sparse/sparsematrix.jl#L547\" target=\"_blank\">sparse/sparsematrix.jl:547</a><li> sprandbool(m::<b>Integer</b>, n::<b>Integer</b>, density::<b>AbstractFloat</b>) at <a href=\"https://github.com/JuliaLang/julia/tree/0ff703b40afddf9b705bd6a06d3a59cb4c089ea5/base/sparse/sparsematrix.jl#L555\" target=\"_blank\">sparse/sparsematrix.jl:555</a><li> sprandn(r::<b>AbstractRNG</b>, m::<b>Integer</b>, n::<b>Integer</b>, density::<b>AbstractFloat</b>) at <a href=\"https://github.com/JuliaLang/julia/tree/0ff703b40afddf9b705bd6a06d3a59cb4c089ea5/base/sparse/sparsematrix.jl#L535\" target=\"_blank\">sparse/sparsematrix.jl:535</a><li> sprandn(m::<b>Integer</b>, n::<b>Integer</b>, density::<b>AbstractFloat</b>) at <a href=\"https://github.com/JuliaLang/julia/tree/0ff703b40afddf9b705bd6a06d3a59cb4c089ea5/base/sparse/sparsematrix.jl#L544\" target=\"_blank\">sparse/sparsematrix.jl:544</a><li> sprint(size::<b>Integer</b>, f::<b>Function</b>, args...) at <a href=\"https://github.com/JuliaLang/julia/tree/0ff703b40afddf9b705bd6a06d3a59cb4c089ea5/base/iostream.jl#L204\" target=\"_blank\">iostream.jl:204</a><li> spzeros(m::<b>Integer</b>, n::<b>Integer</b>) at <a href=\"https://github.com/JuliaLang/julia/tree/0ff703b40afddf9b705bd6a06d3a59cb4c089ea5/base/sparse/sparsematrix.jl#L572\" target=\"_blank\">sparse/sparsematrix.jl:572</a><li> spzeros(Tv::<b>Type{T}</b>, m::<b>Integer</b>, n::<b>Integer</b>) at <a href=\"https://github.com/JuliaLang/julia/tree/0ff703b40afddf9b705bd6a06d3a59cb4c089ea5/base/sparse/sparsematrix.jl#L573\" target=\"_blank\">sparse/sparsematrix.jl:573</a><li> spzeros(Tv::<b>Type{T}</b>, Ti::<b>Type{T}</b>, m::<b>Integer</b>, n::<b>Integer</b>) at <a href=\"https://github.com/JuliaLang/julia/tree/0ff703b40afddf9b705bd6a06d3a59cb4c089ea5/base/sparse/sparsematrix.jl#L575\" target=\"_blank\">sparse/sparsematrix.jl:575</a><li> squeeze(A::<b>AbstractArray{T,N}</b>, dim::<b>Integer</b>) at <a href=\"https://github.com/JuliaLang/julia/tree/0ff703b40afddf9b705bd6a06d3a59cb4c089ea5/base/abstractarraymath.jl#L38\" target=\"_blank\">abstractarraymath.jl:38</a><li> srand(r::<b>MersenneTwister</b>, n::<b>Integer</b>) at <a href=\"https://github.com/JuliaLang/julia/tree/0ff703b40afddf9b705bd6a06d3a59cb4c089ea5/base/random.jl#L181\" target=\"_blank\">random.jl:181</a><li> srand(r::<b>MersenneTwister</b>, filename::<b>AbstractString</b>, n::<b>Integer</b>) at <a href=\"https://github.com/JuliaLang/julia/tree/0ff703b40afddf9b705bd6a06d3a59cb4c089ea5/base/random.jl#L182\" target=\"_blank\">random.jl:182</a><li> srand(filename::<b>AbstractString</b>, n::<b>Integer</b>) at <a href=\"https://github.com/JuliaLang/julia/tree/0ff703b40afddf9b705bd6a06d3a59cb4c089ea5/base/random.jl#L202\" target=\"_blank\">random.jl:202</a><li> stat(fd::<b>Integer</b>) at <a href=\"https://github.com/JuliaLang/julia/tree/0ff703b40afddf9b705bd6a06d3a59cb4c089ea5/base/stat.jl#L54\" target=\"_blank\">stat.jl:54</a><li> stride(V::<b>SubArray{T,N,P<:AbstractArray{T,N},I<:Tuple{Vararg{Union{AbstractArray{T,1},Colon,Int64}}},LD}</b>, d::<b>Integer</b>) at <a href=\"https://github.com/JuliaLang/julia/tree/0ff703b40afddf9b705bd6a06d3a59cb4c089ea5/base/subarray.jl#L375\" target=\"_blank\">subarray.jl:375</a><li> stride(a::<b>AbstractArray{T,N}</b>, i::<b>Integer</b>) at <a href=\"https://github.com/JuliaLang/julia/tree/0ff703b40afddf9b705bd6a06d3a59cb4c089ea5/base/abstractarray.jl#L73\" target=\"_blank\">abstractarray.jl:73</a><li> svdfact(x::<b>Integer</b>) at <a href=\"https://github.com/JuliaLang/julia/tree/0ff703b40afddf9b705bd6a06d3a59cb4c089ea5/base/linalg/svd.jl#L26\" target=\"_blank\">linalg/svd.jl:26</a><li> symdiff!(s::<b>IntSet</b>, n::<b>Integer</b>) at <a href=\"https://github.com/JuliaLang/julia/tree/0ff703b40afddf9b705bd6a06d3a59cb4c089ea5/base/intset.jl#L137\" target=\"_blank\">intset.jl:137</a><li> trailing_ones(x::<b>Integer</b>) at <a href=\"https://github.com/JuliaLang/julia/tree/0ff703b40afddf9b705bd6a06d3a59cb4c089ea5/base/int.jl#L140\" target=\"_blank\">int.jl:140</a><li> tril(M::<b>Array{T,2}</b>, k::<b>Integer</b>) at <a href=\"https://github.com/JuliaLang/julia/tree/0ff703b40afddf9b705bd6a06d3a59cb4c089ea5/base/linalg/dense.jl#L105\" target=\"_blank\">linalg/dense.jl:105</a><li> tril(A::<b>Hermitian{T,S<:AbstractArray{T,2}}</b>, k::<b>Integer</b>) at <a href=\"https://github.com/JuliaLang/julia/tree/0ff703b40afddf9b705bd6a06d3a59cb4c089ea5/base/linalg/symmetric.jl#L61\" target=\"_blank\">linalg/symmetric.jl:61</a><li> tril(A::<b>Symmetric{T,S<:AbstractArray{T,2}}</b>, k::<b>Integer</b>) at <a href=\"https://github.com/JuliaLang/julia/tree/0ff703b40afddf9b705bd6a06d3a59cb4c089ea5/base/linalg/symmetric.jl#L73\" target=\"_blank\">linalg/symmetric.jl:73</a><li> tril(B::<b>BitArray{2}</b>, k::<b>Integer</b>) at <a href=\"https://github.com/JuliaLang/julia/tree/0ff703b40afddf9b705bd6a06d3a59cb4c089ea5/base/linalg/bitarray.jl#L58\" target=\"_blank\">linalg/bitarray.jl:58</a><li> tril<i>{Tv,Ti}</i>(S::<b>SparseMatrixCSC{Tv,Ti}</b>, k::<b>Integer</b>) at <a href=\"https://github.com/JuliaLang/julia/tree/0ff703b40afddf9b705bd6a06d3a59cb4c089ea5/base/sparse/linalg.jl#L286\" target=\"_blank\">sparse/linalg.jl:286</a><li> tril(M::<b>AbstractArray{T,2}</b>, k::<b>Integer</b>) at <a href=\"https://github.com/JuliaLang/julia/tree/0ff703b40afddf9b705bd6a06d3a59cb4c089ea5/base/linalg/generic.jl#L36\" target=\"_blank\">linalg/generic.jl:36</a><li> tril!(M::<b>SymTridiagonal{T}</b>, k::<b>Integer</b>) at <a href=\"https://github.com/JuliaLang/julia/tree/0ff703b40afddf9b705bd6a06d3a59cb4c089ea5/base/linalg/tridiag.jl#L151\" target=\"_blank\">linalg/tridiag.jl:151</a><li> tril!(M::<b>Tridiagonal{T}</b>, k::<b>Integer</b>) at <a href=\"https://github.com/JuliaLang/julia/tree/0ff703b40afddf9b705bd6a06d3a59cb4c089ea5/base/linalg/tridiag.jl#L367\" target=\"_blank\">linalg/tridiag.jl:367</a><li> tril!(A::<b>UpperTriangular{T,S<:AbstractArray{T,2}}</b>, k::<b>Integer</b>) at <a href=\"https://github.com/JuliaLang/julia/tree/0ff703b40afddf9b705bd6a06d3a59cb4c089ea5/base/linalg/triangular.jl#L158\" target=\"_blank\">linalg/triangular.jl:158</a><li> tril!(A::<b>Base.LinAlg.UnitUpperTriangular{T,S<:AbstractArray{T,2}}</b>, k::<b>Integer</b>) at <a href=\"https://github.com/JuliaLang/julia/tree/0ff703b40afddf9b705bd6a06d3a59cb4c089ea5/base/linalg/triangular.jl#L176\" target=\"_blank\">linalg/triangular.jl:176</a><li> tril!(A::<b>LowerTriangular{T,S<:AbstractArray{T,2}}</b>, k::<b>Integer</b>) at <a href=\"https://github.com/JuliaLang/julia/tree/0ff703b40afddf9b705bd6a06d3a59cb4c089ea5/base/linalg/triangular.jl#L220\" target=\"_blank\">linalg/triangular.jl:220</a><li> tril!(A::<b>Base.LinAlg.UnitLowerTriangular{T,S<:AbstractArray{T,2}}</b>, k::<b>Integer</b>) at <a href=\"https://github.com/JuliaLang/julia/tree/0ff703b40afddf9b705bd6a06d3a59cb4c089ea5/base/linalg/triangular.jl#L244\" target=\"_blank\">linalg/triangular.jl:244</a><li> tril!(D::<b>Diagonal{T}</b>, k::<b>Integer</b>) at <a href=\"https://github.com/JuliaLang/julia/tree/0ff703b40afddf9b705bd6a06d3a59cb4c089ea5/base/linalg/diagonal.jl#L75\" target=\"_blank\">linalg/diagonal.jl:75</a><li> tril!(M::<b>Bidiagonal{T}</b>, k::<b>Integer</b>) at <a href=\"https://github.com/JuliaLang/julia/tree/0ff703b40afddf9b705bd6a06d3a59cb4c089ea5/base/linalg/bidiag.jl#L126\" target=\"_blank\">linalg/bidiag.jl:126</a><li> tril!(A::<b>SparseMatrixCSC{Tv,Ti<:Integer}</b>, k::<b>Integer</b>) at <a href=\"https://github.com/JuliaLang/julia/tree/0ff703b40afddf9b705bd6a06d3a59cb4c089ea5/base/sparse/csparse.jl#L411\" target=\"_blank\">sparse/csparse.jl:411</a><li> tril!(M::<b>AbstractArray{T,2}</b>, k::<b>Integer</b>) at <a href=\"https://github.com/JuliaLang/julia/tree/0ff703b40afddf9b705bd6a06d3a59cb4c089ea5/base/linalg/dense.jl#L90\" target=\"_blank\">linalg/dense.jl:90</a><li> triu(M::<b>Array{T,2}</b>, k::<b>Integer</b>) at <a href=\"https://github.com/JuliaLang/julia/tree/0ff703b40afddf9b705bd6a06d3a59cb4c089ea5/base/linalg/dense.jl#L87\" target=\"_blank\">linalg/dense.jl:87</a><li> triu(A::<b>Hermitian{T,S<:AbstractArray{T,2}}</b>, k::<b>Integer</b>) at <a href=\"https://github.com/JuliaLang/julia/tree/0ff703b40afddf9b705bd6a06d3a59cb4c089ea5/base/linalg/symmetric.jl#L85\" target=\"_blank\">linalg/symmetric.jl:85</a><li> triu(A::<b>Symmetric{T,S<:AbstractArray{T,2}}</b>, k::<b>Integer</b>) at <a href=\"https://github.com/JuliaLang/julia/tree/0ff703b40afddf9b705bd6a06d3a59cb4c089ea5/base/linalg/symmetric.jl#L97\" target=\"_blank\">linalg/symmetric.jl:97</a><li> triu(B::<b>BitArray{2}</b>, k::<b>Integer</b>) at <a href=\"https://github.com/JuliaLang/julia/tree/0ff703b40afddf9b705bd6a06d3a59cb4c089ea5/base/linalg/bitarray.jl#L46\" target=\"_blank\">linalg/bitarray.jl:46</a><li> triu<i>{Tv,Ti}</i>(S::<b>SparseMatrixCSC{Tv,Ti}</b>, k::<b>Integer</b>) at <a href=\"https://github.com/JuliaLang/julia/tree/0ff703b40afddf9b705bd6a06d3a59cb4c089ea5/base/sparse/linalg.jl#L255\" target=\"_blank\">sparse/linalg.jl:255</a><li> triu(M::<b>AbstractArray{T,2}</b>, k::<b>Integer</b>) at <a href=\"https://github.com/JuliaLang/julia/tree/0ff703b40afddf9b705bd6a06d3a59cb4c089ea5/base/linalg/generic.jl#L35\" target=\"_blank\">linalg/generic.jl:35</a><li> triu!(M::<b>SymTridiagonal{T}</b>, k::<b>Integer</b>) at <a href=\"https://github.com/JuliaLang/julia/tree/0ff703b40afddf9b705bd6a06d3a59cb4c089ea5/base/linalg/tridiag.jl#L169\" target=\"_blank\">linalg/tridiag.jl:169</a><li> triu!(M::<b>Tridiagonal{T}</b>, k::<b>Integer</b>) at <a href=\"https://github.com/JuliaLang/julia/tree/0ff703b40afddf9b705bd6a06d3a59cb4c089ea5/base/linalg/tridiag.jl#L384\" target=\"_blank\">linalg/tridiag.jl:384</a><li> triu!(A::<b>UpperTriangular{T,S<:AbstractArray{T,2}}</b>, k::<b>Integer</b>) at <a href=\"https://github.com/JuliaLang/julia/tree/0ff703b40afddf9b705bd6a06d3a59cb4c089ea5/base/linalg/triangular.jl#L173\" target=\"_blank\">linalg/triangular.jl:173</a><li> triu!(A::<b>Base.LinAlg.UnitUpperTriangular{T,S<:AbstractArray{T,2}}</b>, k::<b>Integer</b>) at <a href=\"https://github.com/JuliaLang/julia/tree/0ff703b40afddf9b705bd6a06d3a59cb4c089ea5/base/linalg/triangular.jl#L197\" target=\"_blank\">linalg/triangular.jl:197</a><li> triu!(A::<b>LowerTriangular{T,S<:AbstractArray{T,2}}</b>, k::<b>Integer</b>) at <a href=\"https://github.com/JuliaLang/julia/tree/0ff703b40afddf9b705bd6a06d3a59cb4c089ea5/base/linalg/triangular.jl#L204\" target=\"_blank\">linalg/triangular.jl:204</a><li> triu!(A::<b>Base.LinAlg.UnitLowerTriangular{T,S<:AbstractArray{T,2}}</b>, k::<b>Integer</b>) at <a href=\"https://github.com/JuliaLang/julia/tree/0ff703b40afddf9b705bd6a06d3a59cb4c089ea5/base/linalg/triangular.jl#L223\" target=\"_blank\">linalg/triangular.jl:223</a><li> triu!(D::<b>Diagonal{T}</b>, k::<b>Integer</b>) at <a href=\"https://github.com/JuliaLang/julia/tree/0ff703b40afddf9b705bd6a06d3a59cb4c089ea5/base/linalg/diagonal.jl#L65\" target=\"_blank\">linalg/diagonal.jl:65</a><li> triu!(M::<b>Bidiagonal{T}</b>, k::<b>Integer</b>) at <a href=\"https://github.com/JuliaLang/julia/tree/0ff703b40afddf9b705bd6a06d3a59cb4c089ea5/base/linalg/bidiag.jl#L144\" target=\"_blank\">linalg/bidiag.jl:144</a><li> triu!(A::<b>SparseMatrixCSC{Tv,Ti<:Integer}</b>, k::<b>Integer</b>) at <a href=\"https://github.com/JuliaLang/julia/tree/0ff703b40afddf9b705bd6a06d3a59cb4c089ea5/base/sparse/csparse.jl#L403\" target=\"_blank\">sparse/csparse.jl:403</a><li> triu!(M::<b>AbstractArray{T,2}</b>, k::<b>Integer</b>) at <a href=\"https://github.com/JuliaLang/julia/tree/0ff703b40afddf9b705bd6a06d3a59cb4c089ea5/base/linalg/dense.jl#L72\" target=\"_blank\">linalg/dense.jl:72</a><li> trunc(x::<b>Integer</b>) at <a href=\"https://github.com/JuliaLang/julia/tree/0ff703b40afddf9b705bd6a06d3a59cb4c089ea5/base/int.jl#L251\" target=\"_blank\">int.jl:251</a><li> trunc<i>{T<:Integer}</i>(::<b>Type{T<:Integer}</b>, x::<b>Integer</b>) at <a href=\"https://github.com/JuliaLang/julia/tree/0ff703b40afddf9b705bd6a06d3a59cb4c089ea5/base/int.jl#L256\" target=\"_blank\">int.jl:256</a><li> trunc<i>{R}</i>(x::<b>AbstractArray{R,1}</b>, digits::<b>Integer</b>) at <a href=\"https://github.com/JuliaLang/julia/tree/0ff703b40afddf9b705bd6a06d3a59cb4c089ea5/base/floatfuncs.jl#L81\" target=\"_blank\">floatfuncs.jl:81</a><li> trunc<i>{R}</i>(x::<b>AbstractArray{R,1}</b>, digits::<b>Integer</b>, base::<b>Integer</b>) at <a href=\"https://github.com/JuliaLang/julia/tree/0ff703b40afddf9b705bd6a06d3a59cb4c089ea5/base/floatfuncs.jl#L81\" target=\"_blank\">floatfuncs.jl:81</a><li> trunc<i>{R}</i>(x::<b>AbstractArray{R,2}</b>, digits::<b>Integer</b>) at <a href=\"https://github.com/JuliaLang/julia/tree/0ff703b40afddf9b705bd6a06d3a59cb4c089ea5/base/floatfuncs.jl#L84\" target=\"_blank\">floatfuncs.jl:84</a><li> trunc<i>{R}</i>(x::<b>AbstractArray{R,2}</b>, digits::<b>Integer</b>, base::<b>Integer</b>) at <a href=\"https://github.com/JuliaLang/julia/tree/0ff703b40afddf9b705bd6a06d3a59cb4c089ea5/base/floatfuncs.jl#L84\" target=\"_blank\">floatfuncs.jl:84</a><li> trunc(x::<b>AbstractArray{T,N}</b>, digits::<b>Integer</b>) at <a href=\"https://github.com/JuliaLang/julia/tree/0ff703b40afddf9b705bd6a06d3a59cb4c089ea5/base/floatfuncs.jl#L87\" target=\"_blank\">floatfuncs.jl:87</a><li> trunc(x::<b>AbstractArray{T,N}</b>, digits::<b>Integer</b>, base::<b>Integer</b>) at <a href=\"https://github.com/JuliaLang/julia/tree/0ff703b40afddf9b705bd6a06d3a59cb4c089ea5/base/floatfuncs.jl#L87\" target=\"_blank\">floatfuncs.jl:87</a><li> trunc(x::<b>Real</b>, digits::<b>Integer</b>) at <a href=\"https://github.com/JuliaLang/julia/tree/0ff703b40afddf9b705bd6a06d3a59cb4c089ea5/base/floatfuncs.jl#L148\" target=\"_blank\">floatfuncs.jl:148</a><li> trunc(x::<b>Real</b>, digits::<b>Integer</b>, base::<b>Integer</b>) at <a href=\"https://github.com/JuliaLang/julia/tree/0ff703b40afddf9b705bd6a06d3a59cb4c089ea5/base/floatfuncs.jl#L148\" target=\"_blank\">floatfuncs.jl:148</a><li> truncate(io::<b>Base.AbstractIOBuffer{T<:AbstractArray{UInt8,1}}</b>, n::<b>Integer</b>) at <a href=\"https://github.com/JuliaLang/julia/tree/0ff703b40afddf9b705bd6a06d3a59cb4c089ea5/base/iobuffer.jl#L141\" target=\"_blank\">iobuffer.jl:141</a><li> truncate(s::<b>IOStream</b>, n::<b>Integer</b>) at <a href=\"https://github.com/JuliaLang/julia/tree/0ff703b40afddf9b705bd6a06d3a59cb4c089ea5/base/iostream.jl#L44\" target=\"_blank\">iostream.jl:44</a><li> uint8(x::<b>Integer</b>) at <a href=\"https://github.com/JuliaLang/julia/tree/0ff703b40afddf9b705bd6a06d3a59cb4c089ea5/base/deprecated.jl#L49\" target=\"_blank\">deprecated.jl:49</a><li> unsafe_load(p::<b>Ptr{T}</b>, i::<b>Integer</b>) at <a href=\"https://github.com/JuliaLang/julia/tree/0ff703b40afddf9b705bd6a06d3a59cb4c089ea5/base/pointer.jl#L47\" target=\"_blank\">pointer.jl:47</a><li> unsafe_store!(p::<b>Ptr{Any}</b>, x::<b>ANY</b>, i::<b>Integer</b>) at <a href=\"https://github.com/JuliaLang/julia/tree/0ff703b40afddf9b705bd6a06d3a59cb4c089ea5/base/pointer.jl#L49\" target=\"_blank\">pointer.jl:49</a><li> unsafe_store!<i>{T}</i>(p::<b>Ptr{T}</b>, x, i::<b>Integer</b>) at <a href=\"https://github.com/JuliaLang/julia/tree/0ff703b40afddf9b705bd6a06d3a59cb4c089ea5/base/pointer.jl#L50\" target=\"_blank\">pointer.jl:50</a><li> utf16(p::<b>Ptr{UInt16}</b>, len::<b>Integer</b>) at <a href=\"https://github.com/JuliaLang/julia/tree/0ff703b40afddf9b705bd6a06d3a59cb4c089ea5/base/unicode/utf16.jl#L246\" target=\"_blank\">unicode/utf16.jl:246</a><li> utf16(p::<b>Ptr{Int16}</b>, len::<b>Integer</b>) at <a href=\"https://github.com/JuliaLang/julia/tree/0ff703b40afddf9b705bd6a06d3a59cb4c089ea5/base/unicode/utf16.jl#L247\" target=\"_blank\">unicode/utf16.jl:247</a><li> utf32(p::<b>Ptr{UInt32}</b>, len::<b>Integer</b>) at <a href=\"https://github.com/JuliaLang/julia/tree/0ff703b40afddf9b705bd6a06d3a59cb4c089ea5/base/unicode/utf32.jl#L178\" target=\"_blank\">unicode/utf32.jl:178</a><li> utf32(p::<b>Union{Ptr{Char},Ptr{Int32}}</b>, len::<b>Integer</b>) at <a href=\"https://github.com/JuliaLang/julia/tree/0ff703b40afddf9b705bd6a06d3a59cb4c089ea5/base/unicode/utf32.jl#L179\" target=\"_blank\">unicode/utf32.jl:179</a><li> utf8(p::<b>Ptr{UInt8}</b>, len::<b>Integer</b>) at <a href=\"https://github.com/JuliaLang/julia/tree/0ff703b40afddf9b705bd6a06d3a59cb4c089ea5/base/unicode/utf8.jl#L359\" target=\"_blank\">unicode/utf8.jl:359</a><li> with_bigfloat_precision(f::<b>Function</b>, precision::<b>Integer</b>) at <a href=\"https://github.com/JuliaLang/julia/tree/0ff703b40afddf9b705bd6a06d3a59cb4c089ea5/base/mpfr.jl#L817\" target=\"_blank\">mpfr.jl:817</a><li> write(to::<b>Base.AbstractIOBuffer{T<:AbstractArray{UInt8,1}}</b>, p::<b>Ptr{T}</b>, nb::<b>Integer</b>) at <a href=\"https://github.com/JuliaLang/julia/tree/0ff703b40afddf9b705bd6a06d3a59cb4c089ea5/base/iobuffer.jl#L278\" target=\"_blank\">iobuffer.jl:278</a><li> write(s::<b>IO</b>, x::<b>Integer</b>) at <a href=\"https://github.com/JuliaLang/julia/tree/0ff703b40afddf9b705bd6a06d3a59cb4c089ea5/base/io.jl#L51\" target=\"_blank\">io.jl:51</a><li> write(s::<b>IOStream</b>, p::<b>Ptr{T}</b>, nb::<b>Integer</b>) at <a href=\"https://github.com/JuliaLang/julia/tree/0ff703b40afddf9b705bd6a06d3a59cb4c089ea5/base/iostream.jl#L137\" target=\"_blank\">iostream.jl:137</a><li> write(s::<b>BufferStream</b>, p::<b>Ptr{T}</b>, nb::<b>Integer</b>) at <a href=\"https://github.com/JuliaLang/julia/tree/0ff703b40afddf9b705bd6a06d3a59cb4c089ea5/base/stream.jl#L1203\" target=\"_blank\">stream.jl:1203</a><li> write(s::<b>Base.LibuvStream</b>, p::<b>Ptr{T}</b>, n::<b>Integer</b>) at <a href=\"https://github.com/JuliaLang/julia/tree/0ff703b40afddf9b705bd6a06d3a59cb4c089ea5/base/stream.jl#L1000\" target=\"_blank\">stream.jl:1000</a><li> write(f::<b>Base.FS.File</b>, buf::<b>Ptr{UInt8}</b>, len::<b>Integer</b>) at <a href=\"https://github.com/JuliaLang/julia/tree/0ff703b40afddf9b705bd6a06d3a59cb4c089ea5/base/fs.jl#L188\" target=\"_blank\">fs.jl:188</a><li> write(f::<b>Base.FS.File</b>, buf::<b>Ptr{UInt8}</b>, len::<b>Integer</b>, offset::<b>Integer</b>) at <a href=\"https://github.com/JuliaLang/julia/tree/0ff703b40afddf9b705bd6a06d3a59cb4c089ea5/base/fs.jl#L188\" target=\"_blank\">fs.jl:188</a><li> write(t::<b>Base.Terminals.UnixTerminal</b>, p::<b>Ptr{UInt8}</b>, x::<b>Integer</b>) at <a href=\"https://github.com/JuliaLang/julia/tree/0ff703b40afddf9b705bd6a06d3a59cb4c089ea5/base/Terminals.jl#L193\" target=\"_blank\">Terminals.jl:193</a><li> write(s::<b>IO</b>, p::<b>Ptr{T}</b>, n::<b>Integer</b>) at <a href=\"https://github.com/JuliaLang/julia/tree/0ff703b40afddf9b705bd6a06d3a59cb4c089ea5/base/io.jl#L95\" target=\"_blank\">io.jl:95</a><li> zeta(x::<b>Integer</b>) at <a href=\"https://github.com/JuliaLang/julia/tree/0ff703b40afddf9b705bd6a06d3a59cb4c089ea5/base/special/gamma.jl#L462\" target=\"_blank\">special/gamma.jl:462</a><li> zeta(s::<b>Integer</b>, z::<b>Union{Complex{Float32},Float32}</b>) at <a href=\"https://github.com/JuliaLang/julia/tree/0ff703b40afddf9b705bd6a06d3a59cb4c089ea5/base/special/gamma.jl#L355\" target=\"_blank\">special/gamma.jl:355</a><li> zeta(s::<b>Integer</b>, z::<b>Union{Complex{Float16},Float16}</b>) at <a href=\"https://github.com/JuliaLang/julia/tree/0ff703b40afddf9b705bd6a06d3a59cb4c089ea5/base/special/gamma.jl#L355\" target=\"_blank\">special/gamma.jl:355</a><li> zeta(s::<b>Integer</b>, z::<b>Number</b>) at <a href=\"https://github.com/JuliaLang/julia/tree/0ff703b40afddf9b705bd6a06d3a59cb4c089ea5/base/special/gamma.jl#L364\" target=\"_blank\">special/gamma.jl:364</a><li> |(x::<b>Integer</b>) at <a href=\"https://github.com/JuliaLang/julia/tree/0ff703b40afddf9b705bd6a06d3a59cb4c089ea5/base/operators.jl#L76\" target=\"_blank\">operators.jl:76</a><li> |<i>{T<:Integer}</i>(x::<b>T<:Integer</b>, y::<b>T<:Integer</b>) at <a href=\"https://github.com/JuliaLang/julia/tree/0ff703b40afddf9b705bd6a06d3a59cb4c089ea5/base/promotion.jl#L222\" target=\"_blank\">promotion.jl:222</a><li> |(x::<b>Integer</b>, y::<b>Integer</b>) at <a href=\"https://github.com/JuliaLang/julia/tree/0ff703b40afddf9b705bd6a06d3a59cb4c089ea5/base/promotion.jl#L177\" target=\"_blank\">promotion.jl:177</a><li> ~(n::<b>Integer</b>) at <a href=\"https://github.com/JuliaLang/julia/tree/0ff703b40afddf9b705bd6a06d3a59cb4c089ea5/base/int.jl#L49\" target=\"_blank\">int.jl:49</a><li> set(ctx::<b>ZMQ.Context</b>, option::<b>Integer</b>, value::<b>Integer</b>) at <a href=\"https://github.com/JuliaLang/ZMQ.jl/tree/89f9a65a38cb565b6c938a0eac760bb9ea458043/src/ZMQ.jl#L161\" target=\"_blank\">/Users/juanklopper/.julia/v0.4/ZMQ/src/ZMQ.jl:161</a><li> set(zmsg::<b>ZMQ.Message</b>, property::<b>Integer</b>, value::<b>Integer</b>) at <a href=\"https://github.com/JuliaLang/ZMQ.jl/tree/89f9a65a38cb565b6c938a0eac760bb9ea458043/src/ZMQ.jl#L452\" target=\"_blank\">/Users/juanklopper/.julia/v0.4/ZMQ/src/ZMQ.jl:452</a></ul>"
      ],
      "text/plain": [
       "728-element Array{Method,1}:\n",
       " $(x::Integer) at operators.jl:77                                                                                                                                                                                                                                                                                                                                                                                                                                                                                                                                                                                                \n",
       " ${T<:Integer}(x::T<:Integer, y::T<:Integer) at promotion.jl:223                                                                                                                                                                                                                                                                                                                                                                                                                                                                                                                                                                 \n",
       " $(x::Integer, y::Integer) at promotion.jl:178                                                                                                                                                                                                                                                                                                                                                                                                                                                                                                                                                                                   \n",
       " rem(x::Integer, ::Type{Bool}) at int.jl:203                                                                                                                                                                                                                                                                                                                                                                                                                                                                                                                                                                                     \n",
       " rem{T<:Integer}(x::T<:Integer, ::Type{T<:Integer}) at int.jl:202                                                                                                                                                                                                                                                                                                                                                                                                                                                                                                                                                                \n",
       " &(x::Integer) at operators.jl:75                                                                                                                                                                                                                                                                                                                                                                                                                                                                                                                                                                                                \n",
       " &{T<:Integer}(x::T<:Integer, y::T<:Integer) at promotion.jl:221                                                                                                                                                                                                                                                                                                                                                                                                                                                                                                                                                                 \n",
       " &(x::Integer, y::Integer) at promotion.jl:176                                                                                                                                                                                                                                                                                                                                                                                                                                                                                                                                                                                   \n",
       " *{N}(a::Integer, index::CartesianIndex{N}) at multidimensional.jl:50                                                                                                                                                                                                                                                                                                                                                                                                                                                                                                                                                            \n",
       " *(index::CartesianIndex{N}, a::Integer) at multidimensional.jl:54                                                                                                                                                                                                                                                                                                                                                                                                                                                                                                                                                               \n",
       " +(x::Integer, y::Ptr{T}) at pointer.jl:77                                                                                                                                                                                                                                                                                                                                                                                                                                                                                                                                                                                       \n",
       " +(x::Integer, y::Char) at char.jl:43                                                                                                                                                                                                                                                                                                                                                                                                                                                                                                                                                                                            \n",
       " +(x::Ptr{T}, y::Integer) at pointer.jl:75                                                                                                                                                                                                                                                                                                                                                                                                                                                                                                                                                                                       \n",
       " +(x::Char, y::Integer) at char.jl:42                                                                                                                                                                                                                                                                                                                                                                                                                                                                                                                                                                                            \n",
       " -(x::Ptr{T}, y::Integer) at pointer.jl:76                                                                                                                                                                                                                                                                                                                                                                                                                                                                                                                                                                                       \n",
       " -(x::Char, y::Integer) at char.jl:41                                                                                                                                                                                                                                                                                                                                                                                                                                                                                                                                                                                            \n",
       " .%{P<:Base.Dates.Period}(X::Union{DenseArray{P<:Base.Dates.Period,N},SubArray{P<:Base.Dates.Period,N,A<:DenseArray{T,N},I<:Tuple{Vararg{Union{Colon,Int64,Range{Int64}}}},LD}}, y::Integer) at dates/periods.jl:66                                                                                                                                                                                                                                                                                                                                                                                                              \n",
       " .^(B::BitArray{N}, x::Integer) at bitarray.jl:989                                                                                                                                                                                                                                                                                                                                                                                                                                                                                                                                                                               \n",
       " /(x::Integer, y::Integer) at int.jl:23                                                                                                                                                                                                                                                                                                                                                                                                                                                                                                                                                                                          \n",
       " //(n::Integer, d::Integer) at rational.jl:22                                                                                                                                                                                                                                                                                                                                                                                                                                                                                                                                                                                    \n",
       " //(x::Rational{T<:Integer}, y::Integer) at rational.jl:25                                                                                                                                                                                                                                                                                                                                                                                                                                                                                                                                                                       \n",
       " //(x::Integer, y::Rational{T<:Integer}) at rational.jl:29                                                                                                                                                                                                                                                                                                                                                                                                                                                                                                                                                                       \n",
       " <(x::Rational{T<:Integer}, y::Integer) at rational.jl:204                                                                                                                                                                                                                                                                                                                                                                                                                                                                                                                                                                       \n",
       " <(x::Integer, y::Rational{T<:Integer}) at rational.jl:205                                                                                                                                                                                                                                                                                                                                                                                                                                                                                                                                                                       \n",
       " <(x::BigInt, i::Integer) at gmp.jl:493                                                                                                                                                                                                                                                                                                                                                                                                                                                                                                                                                                                          \n",
       " <(i::Integer, x::BigInt) at gmp.jl:494                                                                                                                                                                                                                                                                                                                                                                                                                                                                                                                                                                                          \n",
       " <(x::BigFloat, y::Integer) at mpfr.jl:672                                                                                                                                                                                                                                                                                                                                                                                                                                                                                                                                                                                       \n",
       " <(x::Integer, y::BigFloat) at mpfr.jl:673                                                                                                                                                                                                                                                                                                                                                                                                                                                                                                                                                                                       \n",
       " <<(x, y::Integer) at operators.jl:133                                                                                                                                                                                                                                                                                                                                                                                                                                                                                                                                                                                           \n",
       " <=(x::Rational{T<:Integer}, y::Integer) at rational.jl:206                                                                                                                                                                                                                                                                                                                                                                                                                                                                                                                                                                      \n",
       " <=(x::Integer, y::Rational{T<:Integer}) at rational.jl:207                                                                                                                                                                                                                                                                                                                                                                                                                                                                                                                                                                      \n",
       " <=(x::BigInt, i::Integer) at gmp.jl:487                                                                                                                                                                                                                                                                                                                                                                                                                                                                                                                                                                                         \n",
       " <=(i::Integer, x::BigInt) at gmp.jl:488                                                                                                                                                                                                                                                                                                                                                                                                                                                                                                                                                                                         \n",
       " <=(x::BigFloat, y::Integer) at mpfr.jl:677                                                                                                                                                                                                                                                                                                                                                                                                                                                                                                                                                                                      \n",
       " <=(x::Integer, y::BigFloat) at mpfr.jl:678                                                                                                                                                                                                                                                                                                                                                                                                                                                                                                                                                                                      \n",
       " ==(x::Rational{T<:Integer}, y::Integer) at rational.jl:202                                                                                                                                                                                                                                                                                                                                                                                                                                                                                                                                                                      \n",
       " ==(x::Integer, y::Rational{T<:Integer}) at rational.jl:203                                                                                                                                                                                                                                                                                                                                                                                                                                                                                                                                                                      \n",
       " ==(x::BigInt, i::Integer) at gmp.jl:481                                                                                                                                                                                                                                                                                                                                                                                                                                                                                                                                                                                         \n",
       " ==(i::Integer, x::BigInt) at gmp.jl:482                                                                                                                                                                                                                                                                                                                                                                                                                                                                                                                                                                                         \n",
       " ==(x::BigFloat, y::Integer) at mpfr.jl:667                                                                                                                                                                                                                                                                                                                                                                                                                                                                                                                                                                                      \n",
       " ==(x::Integer, y::BigFloat) at mpfr.jl:668                                                                                                                                                                                                                                                                                                                                                                                                                                                                                                                                                                                      \n",
       " ==(x::Char, y::Integer) at char.jl:33                                                                                                                                                                                                                                                                                                                                                                                                                                                                                                                                                                                           \n",
       " ==(x::Integer, y::Char) at char.jl:34                                                                                                                                                                                                                                                                                                                                                                                                                                                                                                                                                                                           \n",
       " >>(x, y::Integer) at operators.jl:134                                                                                                                                                                                                                                                                                                                                                                                                                                                                                                                                                                                           \n",
       " >>>(x, y::Integer) at operators.jl:135                                                                                                                                                                                                                                                                                                                                                                                                                                                                                                                                                                                          \n",
       " ^(x::Integer, y::Bool) at bool.jl:40                                                                                                                                                                                                                                                                                                                                                                                                                                                                                                                                                                                            \n",
       " ^{T<:AbstractFloat}(z::Complex{T<:AbstractFloat}, n::Integer) at complex.jl:543                                                                                                                                                                                                                                                                                                                                                                                                                                                                                                                                                 \n",
       " ^{T<:Integer}(z::Complex{T<:Integer}, n::Integer) at complex.jl:545                                                                                                                                                                                                                                                                                                                                                                                                                                                                                                                                                             \n",
       " ^{T<:Rational{T<:Integer}}(z::Complex{T<:Rational{T<:Integer}}, n::Integer) at rational.jl:323                                                                                                                                                                                                                                                                                                                                                                                                                                                                                                                                  \n",
       " ^(z::Complex{T<:Real}, n::Integer) at complex.jl:538                                                                                                                                                                                                                                                                                                                                                                                                                                                                                                                                                                            \n",
       " ^(x::Rational{T<:Integer}, n::Integer) at rational.jl:314                                                                                                                                                                                                                                                                                                                                                                                                                                                                                                                                                                       \n",
       " ^(x::BigInt, y::Integer) at gmp.jl:421                                                                                                                                                                                                                                                                                                                                                                                                                                                                                                                                                                                          \n",
       " ^(x::Integer, y::BigInt) at gmp.jl:422                                                                                                                                                                                                                                                                                                                                                                                                                                                                                                                                                                                          \n",
       " ^{T<:Integer}(x::T<:Integer, p::T<:Integer) at intfuncs.jl:106                                                                                                                                                                                                                                                                                                                                                                                                                                                                                                                                                                  \n",
       " ^(x::Float64, y::Integer) at math.jl:278                                                                                                                                                                                                                                                                                                                                                                                                                                                                                                                                                                                        \n",
       " ^(x::Float32, y::Integer) at math.jl:280                                                                                                                                                                                                                                                                                                                                                                                                                                                                                                                                                                                        \n",
       " ^(x::Float16, y::Integer) at float16.jl:163                                                                                                                                                                                                                                                                                                                                                                                                                                                                                                                                                                                     \n",
       " ^(::Irrational{:e}, x::Integer) at irrationals.jl:123                                                                                                                                                                                                                                                                                                                                                                                                                                                                                                                                                                           \n",
       " ^(x::Number, p::Integer) at intfuncs.jl:107                                                                                                                                                                                                                                                                                                                                                                                                                                                                                                                                                                                     \n",
       " ^(s::AbstractString, r::Integer) at strings/types.jl:185                                                                                                                                                                                                                                                                                                                                                                                                                                                                                                                                                                        \n",
       " ^(A::Array{T,2}, p::Integer) at linalg/dense.jl:172                                                                                                                                                                                                                                                                                                                                                                                                                                                                                                                                                                             \n",
       " ^(x, p::Integer) at intfuncs.jl:108                                                                                                                                                                                                                                                                                                                                                                                                                                                                                                                                                                                             \n",
       " addprocs(np::Integer) at managers.jl:179                                                                                                                                                                                                                                                                                                                                                                                                                                                                                                                                                                                        \n",
       " ascii(p::Ptr{UInt8}, len::Integer) at ascii.jl:112                                                                                                                                                                                                                                                                                                                                                                                                                                                                                                                                                                              \n",
       " base(b::Integer, n::BigInt) at gmp.jl:507                                                                                                                                                                                                                                                                                                                                                                                                                                                                                                                                                                                       \n",
       " base(b::Integer, n::Integer) at intfuncs.jl:292                                                                                                                                                                                                                                                                                                                                                                                                                                                                                                                                                                                 \n",
       " base(b::Integer, n::Integer, pad::Integer) at intfuncs.jl:292                                                                                                                                                                                                                                                                                                                                                                                                                                                                                                                                                                   \n",
       " besselh(nu::Float64, k::Integer, z::Complex{Float64}) at special/bessel.jl:191                                                                                                                                                                                                                                                                                                                                                                                                                                                                                                                                                  \n",
       " besselh(nu::Real, k::Integer, z::Complex{Float32}) at special/bessel.jl:267                                                                                                                                                                                                                                                                                                                                                                                                                                                                                                                                                     \n",
       " besselh(nu::Real, k::Integer, z::Complex{T<:Real}) at special/bessel.jl:268                                                                                                                                                                                                                                                                                                                                                                                                                                                                                                                                                     \n",
       " besselh(nu::Real, k::Integer, x::Real) at special/bessel.jl:269                                                                                                                                                                                                                                                                                                                                                                                                                                                                                                                                                                 \n",
       " besselhx(nu::Float64, k::Integer, z::Complex{Float64}) at special/bessel.jl:199                                                                                                                                                                                                                                                                                                                                                                                                                                                                                                                                                 \n",
       " besselhx(nu::Real, k::Integer, z::Complex{Float32}) at special/bessel.jl:278                                                                                                                                                                                                                                                                                                                                                                                                                                                                                                                                                    \n",
       " besselhx(nu::Real, k::Integer, z::Complex{T<:Real}) at special/bessel.jl:279                                                                                                                                                                                                                                                                                                                                                                                                                                                                                                                                                    \n",
       " besselhx(nu::Real, k::Integer, x::Real) at special/bessel.jl:280                                                                                                                                                                                                                                                                                                                                                                                                                                                                                                                                                                \n",
       " besseli(nu::Real, x::Integer) at special/bessel.jl:374                                                                                                                                                                                                                                                                                                                                                                                                                                                                                                                                                                          \n",
       " besselix(nu::Real, x::Integer) at special/bessel.jl:374                                                                                                                                                                                                                                                                                                                                                                                                                                                                                                                                                                         \n",
       " besselj(nu::Integer, x::Float32) at special/bessel.jl:234                                                                                                                                                                                                                                                                                                                                                                                                                                                                                                                                                                       \n",
       " besselj(n::Integer, x::BigFloat) at mpfr.jl:499                                                                                                                                                                                                                                                                                                                                                                                                                                                                                                                                                                                 \n",
       " besselj(nu::Integer, x::AbstractFloat) at special/bessel.jl:230                                                                                                                                                                                                                                                                                                                                                                                                                                                                                                                                                                 \n",
       " besselj(nu::Real, x::Integer) at special/bessel.jl:374                                                                                                                                                                                                                                                                                                                                                                                                                                                                                                                                                                          \n",
       " besseljx(nu::Real, x::Integer) at special/bessel.jl:374                                                                                                                                                                                                                                                                                                                                                                                                                                                                                                                                                                         \n",
       " besselk(nu::Real, x::Integer) at special/bessel.jl:374                                                                                                                                                                                                                                                                                                                                                                                                                                                                                                                                                                          \n",
       " besselkx(nu::Real, x::Integer) at special/bessel.jl:374                                                                                                                                                                                                                                                                                                                                                                                                                                                                                                                                                                         \n",
       " bessely(nu::Integer, x::Float32) at special/bessel.jl:356                                                                                                                                                                                                                                                                                                                                                                                                                                                                                                                                                                       \n",
       " bessely(n::Integer, x::BigFloat) at mpfr.jl:523                                                                                                                                                                                                                                                                                                                                                                                                                                                                                                                                                                                 \n",
       " bessely(nu::Integer, x::AbstractFloat) at special/bessel.jl:350                                                                                                                                                                                                                                                                                                                                                                                                                                                                                                                                                                 \n",
       " bessely(nu::Real, x::Integer) at special/bessel.jl:374                                                                                                                                                                                                                                                                                                                                                                                                                                                                                                                                                                          \n",
       " besselyx(nu::Real, x::Integer) at special/bessel.jl:374                                                                                                                                                                                                                                                                                                                                                                                                                                                                                                                                                                         \n",
       " big(n::Integer) at sysimg.jl:177                                                                                                                                                                                                                                                                                                                                                                                                                                                                                                                                                                                                \n",
       " bin(x::Integer) at intfuncs.jl:301                                                                                                                                                                                                                                                                                                                                                                                                                                                                                                                                                                                              \n",
       " bin(x::Integer, p::Int64) at intfuncs.jl:300                                                                                                                                                                                                                                                                                                                                                                                                                                                                                                                                                                                    \n",
       " bind(sock::Union{Base.TCPServer,UDPSocket}, host::IPv4, port::Integer) at socket.jl:413                                                                                                                                                                                                                                                                                                                                                                                                                                                                                                                                         \n",
       " binomial(n::BigInt, k::Integer) at gmp.jl:478                                                                                                                                                                                                                                                                                                                                                                                                                                                                                                                                                                                   \n",
       " binomial{T<:Integer}(n::T<:Integer, k::T<:Integer) at intfuncs.jl:350                                                                                                                                                                                                                                                                                                                                                                                                                                                                                                                                                           \n",
       " blas_set_num_threads(n::Integer) at util.jl:243                                                                                                                                                                                                                                                                                                                                                                                                                                                                                                                                                                                 \n",
       " brfft{T<:Real}(x::AbstractArray{T<:Real,N}, d::Integer) at dft.jl:304                                                                                                                                                                                                                                                                                                                                                                                                                                                                                                                                                           \n",
       " brfft{T<:Real}(x::AbstractArray{T<:Real,N}, d::Integer, region) at dft.jl:304                                                                                                                                                                                                                                                                                                                                                                                                                                                                                                                                                   \n",
       " brfft{T<:Union{Integer,Rational{T<:Integer}}}(x::AbstractArray{Complex{T<:Union{Integer,Rational{T<:Integer}}},N}, d::Integer) at dft.jl:305                                                                                                                                                                                                                                                                                                                                                                                                                                                                                    \n",
       " brfft{T<:Union{Integer,Rational{T<:Integer}}}(x::AbstractArray{Complex{T<:Union{Integer,Rational{T<:Integer}}},N}, d::Integer, region) at dft.jl:305                                                                                                                                                                                                                                                                                                                                                                                                                                                                            \n",
       " brfft(x::AbstractArray{T,N}, d::Integer) at dft.jl:296                                                                                                                                                                                                                                                                                                                                                                                                                                                                                                                                                                          \n",
       " brfft(x::AbstractArray{T,N}, d::Integer, region) at dft.jl:297                                                                                                                                                                                                                                                                                                                                                                                                                                                                                                                                                                  \n",
       " bytestring(p::Union{Ptr{Int8},Ptr{UInt8}}, len::Integer) at strings/basic.jl:23                                                                                                                                                                                                                                                                                                                                                                                                                                                                                                                                                 \n",
       " call{T}(::Type{Array{T,1}}, m::Integer) at array.jl:13                                                                                                                                                                                                                                                                                                                                                                                                                                                                                                                                                                          \n",
       " call(::Type{Array{T,1}}, m::Integer) at array.jl:15                                                                                                                                                                                                                                                                                                                                                                                                                                                                                                                                                                             \n",
       " call{T}(::Type{Array{T,2}}, m::Integer, n::Integer) at array.jl:18                                                                                                                                                                                                                                                                                                                                                                                                                                                                                                                                                              \n",
       " call(::Type{Array{T,2}}, m::Integer, n::Integer) at array.jl:20                                                                                                                                                                                                                                                                                                                                                                                                                                                                                                                                                                 \n",
       " call{T}(::Type{Array{T,N}}, m::Integer) at essentials.jl:190                                                                                                                                                                                                                                                                                                                                                                                                                                                                                                                                                                    \n",
       " call{T}(::Type{Array{T,N}}, m::Integer, n::Integer) at essentials.jl:192                                                                                                                                                                                                                                                                                                                                                                                                                                                                                                                                                        \n",
       " call{T}(::Type{Array{T,N}}, m::Integer, n::Integer, o::Integer) at essentials.jl:194                                                                                                                                                                                                                                                                                                                                                                                                                                                                                                                                            \n",
       " call{T}(::Type{Array{T,N}}, ::Type{T}, m::Integer) at essentials.jl:200                                                                                                                                                                                                                                                                                                                                                                                                                                                                                                                                                         \n",
       " call{T}(::Type{Array{T,N}}, ::Type{T}, m::Integer, n::Integer) at essentials.jl:201                                                                                                                                                                                                                                                                                                                                                                                                                                                                                                                                             \n",
       " call{T}(::Type{Array{T,N}}, ::Type{T}, m::Integer, n::Integer, o::Integer) at essentials.jl:202                                                                                                                                                                                                                                                                                                                                                                                                                                                                                                                                 \n",
       " call(::Type{SystemError}, p::AbstractString, e::Integer) at base.jl:10                                                                                                                                                                                                                                                                                                                                                                                                                                                                                                                                                          \n",
       " call{T}(::Type{Ref{T}}, x::Ptr{T}, i::Integer) at refpointer.jl:22                                                                                                                                                                                                                                                                                                                                                                                                                                                                                                                                                              \n",
       " call(::Type{Ref{T}}, x::AbstractArray{T,N}, i::Integer) at refpointer.jl:50                                                                                                                                                                                                                                                                                                                                                                                                                                                                                                                                                     \n",
       " call(::Type{Ref{T}}, x, i::Integer) at refpointer.jl:23                                                                                                                                                                                                                                                                                                                                                                                                                                                                                                                                                                         \n",
       " call(::Type{Rational{T<:Integer}}, n::Integer) at rational.jl:15                                                                                                                                                                                                                                                                                                                                                                                                                                                                                                                                                                \n",
       " call{T<:Integer}(::Type{Rational{T<:Integer}}, num::Integer, den::Integer) at rational.jl:8                                                                                                                                                                                                                                                                                                                                                                                                                                                                                                                                     \n",
       " call{T<:Integer}(::Type{Rational{T<:Integer}}, n::T<:Integer, d::T<:Integer) at rational.jl:13                                                                                                                                                                                                                                                                                                                                                                                                                                                                                                                                  \n",
       " call(::Type{Rational{T<:Integer}}, n::Integer, d::Integer) at rational.jl:14                                                                                                                                                                                                                                                                                                                                                                                                                                                                                                                                                    \n",
       " call(::Type{SubString{T<:AbstractString}}, s::AbstractString, i::Integer) at strings/types.jl:32                                                                                                                                                                                                                                                                                                                                                                                                                                                                                                                                \n",
       " call(::Type{SubString{T<:AbstractString}}, s::AbstractString, i::Integer, j::Integer) at strings/types.jl:31                                                                                                                                                                                                                                                                                                                                                                                                                                                                                                                    \n",
       " call(::Type{RepString}, string::AbstractString, repeat::Integer) at strings/types.jl:137                                                                                                                                                                                                                                                                                                                                                                                                                                                                                                                                        \n",
       " call(::Type{Regex}, pattern::AbstractString, options::Integer)                                                                                                                                                                                                                                                                                                                                                                                                                                                                                                                                                                  \n",
       " call(::Type{Regex}, pattern::AbstractString, compile_options::Integer, match_options::Integer) at regex.jl:21                                                                                                                                                                                                                                                                                                                                                                                                                                                                                                                   \n",
       " call(::Type{RawFD}, fd::Integer) at libc.jl:16                                                                                                                                                                                                                                                                                                                                                                                                                                                                                                                                                                                  \n",
       " call(::Type{Base.UVError}, p::AbstractString, code::Integer) at stream.jl:1020                                                                                                                                                                                                                                                                                                                                                                                                                                                                                                                                                  \n",
       " call(::Type{IPv4}, host::Integer) at socket.jl:25                                                                                                                                                                                                                                                                                                                                                                                                                                                                                                                                                                               \n",
       " call(::Type{IPv4}, a::Integer, b::Integer, c::Integer, d::Integer) at socket.jl:17                                                                                                                                                                                                                                                                                                                                                                                                                                                                                                                                              \n",
       " call(::Type{IPv6}, host::Integer) at socket.jl:67                                                                                                                                                                                                                                                                                                                                                                                                                                                                                                                                                                               \n",
       " call(::Type{IPv6}, a::Integer, b::Integer, c::Integer, d::Integer, e::Integer, f::Integer, g::Integer, h::Integer) at socket.jl:57                                                                                                                                                                                                                                                                                                                                                                                                                                                                                              \n",
       " call(::Type{Base.InetAddr}, host, port::Integer) at socket.jl:241                                                                                                                                                                                                                                                                                                                                                                                                                                                                                                                                                               \n",
       " call(::Type{Base.Cartesian.LReplace{S<:AbstractString}}, sym::Symbol, val::Integer) at cartesian.jl:153                                                                                                                                                                                                                                                                                                                                                                                                                                                                                                                         \n",
       " call(::Type{VersionNumber}, major::Integer) at version.jl:43                                                                                                                                                                                                                                                                                                                                                                                                                                                                                                                                                                    \n",
       " call(::Type{VersionNumber}, major::Integer, minor::Integer) at version.jl:43                                                                                                                                                                                                                                                                                                                                                                                                                                                                                                                                                    \n",
       " call(::Type{VersionNumber}, major::Integer, minor::Integer, patch::Integer) at version.jl:43                                                                                                                                                                                                                                                                                                                                                                                                                                                                                                                                    \n",
       " call(::Type{VersionNumber}, major::Integer, minor::Integer, patch::Integer, pre::Tuple{Vararg{Union{AbstractString,Integer}}}) at version.jl:43                                                                                                                                                                                                                                                                                                                                                                                                                                                                                 \n",
       " call(::Type{VersionNumber}, major::Integer, minor::Integer, patch::Integer, pre::Tuple{Vararg{Union{AbstractString,Integer}}}, bld::Tuple{Vararg{Union{AbstractString,Integer}}}) at version.jl:43                                                                                                                                                                                                                                                                                                                                                                                                                              \n",
       " call{T<:Integer,U<:Unsigned}(::Type{Base.Random.RangeGeneratorInt{T<:Integer,U<:Unsigned}}, a::T<:Integer, k::U<:Unsigned, u::U<:Unsigned) at random.jl:450                                                                                                                                                                                                                                                                                                                                                                                                                                                                     \n",
       " call(::Type{RemoteRef{RemoteStore}}, pid::Integer) at multi.jl:492                                                                                                                                                                                                                                                                                                                                                                                                                                                                                                                                                              \n",
       " call(::Type{RemoteRef{RemoteStore}}, f::Function, pid::Integer) at multi.jl:497                                                                                                                                                                                                                                                                                                                                                                                                                                                                                                                                                 \n",
       " call(::Type{Base.LocalManager}, np::Integer) at managers.jl:174                                                                                                                                                                                                                                                                                                                                                                                                                                                                                                                                                                 \n",
       " call(::Type{Base.FileEvent}, flags::Integer) at poll.jl:12                                                                                                                                                                                                                                                                                                                                                                                                                                                                                                                                                                      \n",
       " call(::Type{Base.FDEvent}, flags::Integer) at poll.jl:30                                                                                                                                                                                                                                                                                                                                                                                                                                                                                                                                                                        \n",
       " call{T,N}(::Type{SharedArray{T,N}}, filename::AbstractString, ::Type{T}, dims::NTuple{N,Int64}, offset::Integer) at sharedarray.jl:105                                                                                                                                                                                                                                                                                                                                                                                                                                                                                          \n",
       " call{Tv,Ti<:Integer}(::Type{SparseMatrixCSC{Tv,Ti<:Integer}}, m::Integer, n::Integer, colptr::Array{Ti<:Integer,1}, rowval::Array{Ti<:Integer,1}, nzval::Array{Tv,1}) at sparse/sparsematrix.jl:16                                                                                                                                                                                                                                                                                                                                                                                                                              \n",
       " call(::Type{SparseMatrixCSC{Tv,Ti<:Integer}}, m::Integer, n::Integer, colptr::Array{T,1}, rowval::Array{T,1}, nzval::Array{T,1}) at sparse/sparsematrix.jl:22                                                                                                                                                                                                                                                                                                                                                                                                                                                                   \n",
       " call{Tv<:Union{Complex{Float64},Float64}}(::Type{Base.SparseMatrix.SPQR.Factorization{Tv<:Union{Complex{Float64},Float64}}}, m::Integer, n::Integer, p::Ptr{Base.SparseMatrix.SPQR.C_Factorization{Tv<:Union{Complex{Float64},Float64}}}) at sparse/spqr.jl:60                                                                                                                                                                                                                                                                                                                                                                  \n",
       " call{Tv<:Union{Complex{Float64},Float64}}(::Type{Base.SparseMatrix.SPQR.Factorization{Tv<:Union{Complex{Float64},Float64}}}, m::Integer, n::Integer, p::Ptr{Base.SparseMatrix.SPQR.C_Factorization{Tv<:Union{Complex{Float64},Float64}}}) at sparse/spqr.jl:66                                                                                                                                                                                                                                                                                                                                                                  \n",
       " call{T<:Union{Complex{Float32},Complex{Float64},Float32,Float64},K,inplace,N}(::Type{Base.DFT.FFTW.cFFTWPlan{T<:Union{Complex{Float32},Complex{Float64},Float32,Float64},K,inplace,N}}, plan::Ptr{Base.DFT.FFTW.fftw_plan_struct}, flags::Integer, R, X::Union{DenseArray{T<:Union{Complex{Float32},Complex{Float64},Float32,Float64},N},SubArray{T<:Union{Complex{Float32},Complex{Float64},Float32,Float64},N,A<:DenseArray{T,N},I<:Tuple{Vararg{Union{Colon,Int64,Range{Int64}}}},LD}}, Y::Union{DenseArray{T,N},SubArray{T,N,A<:DenseArray{T,N},I<:Tuple{Vararg{Union{Colon,Int64,Range{Int64}}}},LD}}) at fft/FFTW.jl:216  \n",
       " call{T<:Union{Complex{Float32},Complex{Float64},Float32,Float64},K,inplace,N}(::Type{Base.DFT.FFTW.rFFTWPlan{T<:Union{Complex{Float32},Complex{Float64},Float32,Float64},K,inplace,N}}, plan::Ptr{Base.DFT.FFTW.fftw_plan_struct}, flags::Integer, R, X::Union{DenseArray{T<:Union{Complex{Float32},Complex{Float64},Float32,Float64},N},SubArray{T<:Union{Complex{Float32},Complex{Float64},Float32,Float64},N,A<:DenseArray{T,N},I<:Tuple{Vararg{Union{Colon,Int64,Range{Int64}}}},LD}}, Y::Union{DenseArray{T,N},SubArray{T,N,A<:DenseArray{T,N},I<:Tuple{Vararg{Union{Colon,Int64,Range{Int64}}}},LD}}) at fft/FFTW.jl:216  \n",
       " call{T<:Union{Complex{Float32},Complex{Float64},Float32,Float64},K,inplace,N}(::Type{Base.DFT.FFTW.r2rFFTWPlan{T<:Union{Complex{Float32},Complex{Float64},Float32,Float64},K,inplace,N}}, plan::Ptr{Base.DFT.FFTW.fftw_plan_struct}, flags::Integer, R, X::Union{DenseArray{T<:Union{Complex{Float32},Complex{Float64},Float32,Float64},N},SubArray{T<:Union{Complex{Float32},Complex{Float64},Float32,Float64},N,A<:DenseArray{T,N},I<:Tuple{Vararg{Union{Colon,Int64,Range{Int64}}}},LD}}, Y::Union{DenseArray{T,N},SubArray{T,N,A<:DenseArray{T,N},I<:Tuple{Vararg{Union{Colon,Int64,Range{Int64}}}},LD}}) at fft/FFTW.jl:216\n",
       " call{K,inplace,N}(::Type{Base.DFT.FFTW.cFFTWPlan{Complex{Float64},K,inplace,N}}, X::Union{DenseArray{Complex{Float64},N},SubArray{Complex{Float64},N,A<:DenseArray{T,N},I<:Tuple{Vararg{Union{Colon,Int64,Range{Int64}}}},LD}}, Y::Union{DenseArray{Complex{Float64},N},SubArray{Complex{Float64},N,A<:DenseArray{T,N},I<:Tuple{Vararg{Union{Colon,Int64,Range{Int64}}}},LD}}, region, flags::Integer, timelimit::Real) at fft/FFTW.jl:461                                                                                                                                                                                      \n",
       " call{inplace,N}(::Type{Base.DFT.FFTW.rFFTWPlan{Float64,-1,inplace,N}}, X::Union{DenseArray{Float64,N},SubArray{Float64,N,A<:DenseArray{T,N},I<:Tuple{Vararg{Union{Colon,Int64,Range{Int64}}}},LD}}, Y::Union{DenseArray{Complex{Float64},N},SubArray{Complex{Float64},N,A<:DenseArray{T,N},I<:Tuple{Vararg{Union{Colon,Int64,Range{Int64}}}},LD}}, region, flags::Integer, timelimit::Real) at fft/FFTW.jl:482                                                                                                                                                                                                                  \n",
       " call{inplace,N}(::Type{Base.DFT.FFTW.rFFTWPlan{Complex{Float64},1,inplace,N}}, X::Union{DenseArray{Complex{Float64},N},SubArray{Complex{Float64},N,A<:DenseArray{T,N},I<:Tuple{Vararg{Union{Colon,Int64,Range{Int64}}}},LD}}, Y::Union{DenseArray{Float64,N},SubArray{Float64,N,A<:DenseArray{T,N},I<:Tuple{Vararg{Union{Colon,Int64,Range{Int64}}}},LD}}, region, flags::Integer, timelimit::Real) at fft/FFTW.jl:503                                                                                                                                                                                                          \n",
       " call{inplace,N}(::Type{Base.DFT.FFTW.r2rFFTWPlan{Float64,ANY,inplace,N}}, X::Union{DenseArray{Float64,N},SubArray{Float64,N,A<:DenseArray{T,N},I<:Tuple{Vararg{Union{Colon,Int64,Range{Int64}}}},LD}}, Y::Union{DenseArray{Float64,N},SubArray{Float64,N,A<:DenseArray{T,N},I<:Tuple{Vararg{Union{Colon,Int64,Range{Int64}}}},LD}}, region, kinds, flags::Integer, timelimit::Real) at fft/FFTW.jl:525                                                                                                                                                                                                                          \n",
       " call{inplace,N}(::Type{Base.DFT.FFTW.r2rFFTWPlan{Complex{Float64},ANY,inplace,N}}, X::Union{DenseArray{Complex{Float64},N},SubArray{Complex{Float64},N,A<:DenseArray{T,N},I<:Tuple{Vararg{Union{Colon,Int64,Range{Int64}}}},LD}}, Y::Union{DenseArray{Complex{Float64},N},SubArray{Complex{Float64},N,A<:DenseArray{T,N},I<:Tuple{Vararg{Union{Colon,Int64,Range{Int64}}}},LD}}, region, kinds, flags::Integer, timelimit::Real) at fft/FFTW.jl:548                                                                                                                                                                             \n",
       " call{K,inplace,N}(::Type{Base.DFT.FFTW.cFFTWPlan{Complex{Float32},K,inplace,N}}, X::Union{DenseArray{Complex{Float32},N},SubArray{Complex{Float32},N,A<:DenseArray{T,N},I<:Tuple{Vararg{Union{Colon,Int64,Range{Int64}}}},LD}}, Y::Union{DenseArray{Complex{Float32},N},SubArray{Complex{Float32},N,A<:DenseArray{T,N},I<:Tuple{Vararg{Union{Colon,Int64,Range{Int64}}}},LD}}, region, flags::Integer, timelimit::Real) at fft/FFTW.jl:461                                                                                                                                                                                      \n",
       " call{inplace,N}(::Type{Base.DFT.FFTW.rFFTWPlan{Float32,-1,inplace,N}}, X::Union{DenseArray{Float32,N},SubArray{Float32,N,A<:DenseArray{T,N},I<:Tuple{Vararg{Union{Colon,Int64,Range{Int64}}}},LD}}, Y::Union{DenseArray{Complex{Float32},N},SubArray{Complex{Float32},N,A<:DenseArray{T,N},I<:Tuple{Vararg{Union{Colon,Int64,Range{Int64}}}},LD}}, region, flags::Integer, timelimit::Real) at fft/FFTW.jl:482                                                                                                                                                                                                                  \n",
       " call{inplace,N}(::Type{Base.DFT.FFTW.rFFTWPlan{Complex{Float32},1,inplace,N}}, X::Union{DenseArray{Complex{Float32},N},SubArray{Complex{Float32},N,A<:DenseArray{T,N},I<:Tuple{Vararg{Union{Colon,Int64,Range{Int64}}}},LD}}, Y::Union{DenseArray{Float32,N},SubArray{Float32,N,A<:DenseArray{T,N},I<:Tuple{Vararg{Union{Colon,Int64,Range{Int64}}}},LD}}, region, flags::Integer, timelimit::Real) at fft/FFTW.jl:503                                                                                                                                                                                                          \n",
       " call{inplace,N}(::Type{Base.DFT.FFTW.r2rFFTWPlan{Float32,ANY,inplace,N}}, X::Union{DenseArray{Float32,N},SubArray{Float32,N,A<:DenseArray{T,N},I<:Tuple{Vararg{Union{Colon,Int64,Range{Int64}}}},LD}}, Y::Union{DenseArray{Float32,N},SubArray{Float32,N,A<:DenseArray{T,N},I<:Tuple{Vararg{Union{Colon,Int64,Range{Int64}}}},LD}}, region, kinds, flags::Integer, timelimit::Real) at fft/FFTW.jl:525                                                                                                                                                                                                                          \n",
       " call{inplace,N}(::Type{Base.DFT.FFTW.r2rFFTWPlan{Complex{Float32},ANY,inplace,N}}, X::Union{DenseArray{Complex{Float32},N},SubArray{Complex{Float32},N,A<:DenseArray{T,N},I<:Tuple{Vararg{Union{Colon,Int64,Range{Int64}}}},LD}}, Y::Union{DenseArray{Complex{Float32},N},SubArray{Complex{Float32},N,A<:DenseArray{T,N},I<:Tuple{Vararg{Union{Colon,Int64,Range{Int64}}}},LD}}, region, kinds, flags::Integer, timelimit::Real) at fft/FFTW.jl:548                                                                                                                                                                             \n",
       " call(::Type{ZMQ.Socket}, ctx, typ::Integer) at /Users/juanklopper/.julia/v0.4/ZMQ/src/ZMQ.jl:81                                                                                                                                                                                                                                                                                                                                                                                                                                                                                                                                 \n",
       " call(::Type{ZMQ.Context}, n::Integer) at /Users/juanklopper/.julia/v0.4/ZMQ/src/ZMQ.jl:126                                                                                                                                                                                                                                                                                                                                                                                                                                                                                                                                      \n",
       " call(::Type{ZMQ.Message}, len::Integer) at /Users/juanklopper/.julia/v0.4/ZMQ/src/ZMQ.jl:363                                                                                                                                                                                                                                                                                                                                                                                                                                                                                                                                    \n",
       " call{T}(::Type{ZMQ.Message}, origin, m::Ptr{T}, len::Integer) at /Users/juanklopper/.julia/v0.4/ZMQ/src/ZMQ.jl:378                                                                                                                                                                                                                                                                                                                                                                                                                                                                                                              \n",
       " cat(catdim::Integer) at abstractarray.jl:704                                                                                                                                                                                                                                                                                                                                                                                                                                                                                                                                                                                    \n",
       " cat(catdim::Integer, X::Union{BitArray{N},Integer}...) at bitarray.jl:1743                                                                                                                                                                                                                                                                                                                                                                                                                                                                                                                                                      \n",
       " ceil(x::Integer) at int.jl:253                                                                                                                                                                                                                                                                                                                                                                                                                                                                                                                                                                                                  \n",
       " ceil{T<:Integer}(::Type{T<:Integer}, x::Integer) at int.jl:258                                                                                                                                                                                                                                                                                                                                                                                                                                                                                                                                                                  \n",
       " ceil{R}(x::AbstractArray{R,1}, digits::Integer) at floatfuncs.jl:81                                                                                                                                                                                                                                                                                                                                                                                                                                                                                                                                                             \n",
       " ceil{R}(x::AbstractArray{R,1}, digits::Integer, base::Integer) at floatfuncs.jl:81                                                                                                                                                                                                                                                                                                                                                                                                                                                                                                                                              \n",
       " ceil{R}(x::AbstractArray{R,2}, digits::Integer) at floatfuncs.jl:84                                                                                                                                                                                                                                                                                                                                                                                                                                                                                                                                                             \n",
       " ceil{R}(x::AbstractArray{R,2}, digits::Integer, base::Integer) at floatfuncs.jl:84                                                                                                                                                                                                                                                                                                                                                                                                                                                                                                                                              \n",
       " ceil(x::AbstractArray{T,N}, digits::Integer) at floatfuncs.jl:87                                                                                                                                                                                                                                                                                                                                                                                                                                                                                                                                                                \n",
       " ceil(x::AbstractArray{T,N}, digits::Integer, base::Integer) at floatfuncs.jl:87                                                                                                                                                                                                                                                                                                                                                                                                                                                                                                                                                 \n",
       " ceil(x::Real, digits::Integer) at floatfuncs.jl:148                                                                                                                                                                                                                                                                                                                                                                                                                                                                                                                                                                             \n",
       " ceil(x::Real, digits::Integer, base::Integer) at floatfuncs.jl:148                                                                                                                                                                                                                                                                                                                                                                                                                                                                                                                                                              \n",
       " checkbounds(::Type{Bool}, sz::Integer, i::Real) at abstractarray.jl:140                                                                                                                                                                                                                                                                                                                                                                                                                                                                                                                                                         \n",
       " checkbounds(::Type{Bool}, sz::Integer, ::Colon) at abstractarray.jl:141                                                                                                                                                                                                                                                                                                                                                                                                                                                                                                                                                         \n",
       " checkbounds(::Type{Bool}, sz::Integer, r::Range{T}) at abstractarray.jl:143                                                                                                                                                                                                                                                                                                                                                                                                                                                                                                                                                     \n",
       " checkbounds(::Type{Bool}, sz::Integer, I::AbstractArray{Bool,N}) at abstractarray.jl:146                                                                                                                                                                                                                                                                                                                                                                                                                                                                                                                                        \n",
       " checkbounds(::Type{Bool}, sz::Integer, I::AbstractArray{T,N}) at abstractarray.jl:148                                                                                                                                                                                                                                                                                                                                                                                                                                                                                                                                           \n",
       " checkbounds(::Type{Bool}, sz::Integer, i) at abstractarray.jl:139                                                                                                                                                                                                                                                                                                                                                                                                                                                                                                                                                               \n",
       " checkbounds(s::AbstractString, i::Integer) at strings/basic.jl:151                                                                                                                                                                                                                                                                                                                                                                                                                                                                                                                                                              \n",
       " chmod(p::AbstractString, mode::Integer) at fs.jl:183                                                                                                                                                                                                                                                                                                                                                                                                                                                                                                                                                                            \n",
       " chr2ind{T<:DirectIndexString}(s::SubString{T<:DirectIndexString}, i::Integer) at strings/types.jl:72                                                                                                                                                                                                                                                                                                                                                                                                                                                                                                                            \n",
       " chr2ind(s::DirectIndexString, i::Integer) at strings/basic.jl:158                                                                                                                                                                                                                                                                                                                                                                                                                                                                                                                                                               \n",
       " chr2ind(s::AbstractString, i::Integer) at strings/basic.jl:175                                                                                                                                                                                                                                                                                                                                                                                                                                                                                                                                                                  \n",
       " cld{T<:Integer}(x::T<:Integer, y::T<:Integer) at int.jl:94                                                                                                                                                                                                                                                                                                                                                                                                                                                                                                                                                                      \n",
       " cld(x::Rational{T<:Integer}, y::Integer) at rational.jl:272                                                                                                                                                                                                                                                                                                                                                                                                                                                                                                                                                                     \n",
       " cld(x::Integer, y::Rational{T<:Integer}) at rational.jl:276                                                                                                                                                                                                                                                                                                                                                                                                                                                                                                                                                                     \n",
       " cmp(x::BigInt, y::Integer) at gmp.jl:378                                                                                                                                                                                                                                                                                                                                                                                                                                                                                                                                                                                        \n",
       " cmp(x::Integer, y::BigInt) at gmp.jl:379                                                                                                                                                                                                                                                                                                                                                                                                                                                                                                                                                                                        \n",
       " cmp(x::Integer, y::Integer) at operators.jl:55                                                                                                                                                                                                                                                                                                                                                                                                                                                                                                                                                                                  \n",
       " cmp(x::Integer, y::BigFloat) at mpfr.jl:659                                                                                                                                                                                                                                                                                                                                                                                                                                                                                                                                                                                     \n",
       " cmp(x::BigFloat, y::Integer) at mpfr.jl:658                                                                                                                                                                                                                                                                                                                                                                                                                                                                                                                                                                                     \n",
       " combinations(a, t::Integer) at combinatorics.jl:182                                                                                                                                                                                                                                                                                                                                                                                                                                                                                                                                                                             \n",
       " connect(sock::TCPSocket, port::Integer) at socket.jl:664                                                                                                                                                                                                                                                                                                                                                                                                                                                                                                                                                                        \n",
       " connect(port::Integer) at socket.jl:665                                                                                                                                                                                                                                                                                                                                                                                                                                                                                                                                                                                         \n",
       " connect(host::AbstractString, port::Integer) at socket.jl:668                                                                                                                                                                                                                                                                                                                                                                                                                                                                                                                                                                   \n",
       " connect(addr::Base.IPAddr, port::Integer) at socket.jl:669                                                                                                                                                                                                                                                                                                                                                                                                                                                                                                                                                                      \n",
       " convert(::Type{Integer}, x::Integer) at int.jl:247                                                                                                                                                                                                                                                                                                                                                                                                                                                                                                                                                                              \n",
       " convert(::Type{Float16}, x::Integer) at float.jl:15                                                                                                                                                                                                                                                                                                                                                                                                                                                                                                                                                                             \n",
       " convert{T<:Integer}(::Type{Rational{T<:Integer}}, x::Integer) at rational.jl:70                                                                                                                                                                                                                                                                                                                                                                                                                                                                                                                                                 \n",
       " convert(::Type{Rational{T<:Integer}}, x::Integer) at rational.jl:73                                                                                                                                                                                                                                                                                                                                                                                                                                                                                                                                                             \n",
       " convert(::Type{VersionNumber}, v::Integer) at version.jl:71                                                                                                                                                                                                                                                                                                                                                                                                                                                                                                                                                                     \n",
       " convert(::Type{BigInt}, x::Integer) at gmp.jl:134                                                                                                                                                                                                                                                                                                                                                                                                                                                                                                                                                                               \n",
       " convert(::Type{BigFloat}, x::Integer) at mpfr.jl:88                                                                                                                                                                                                                                                                                                                                                                                                                                                                                                                                                                             \n",
       " convert(::Type{Base.WorkerState}, ::Integer) at Enums.jl:79                                                                                                                                                                                                                                                                                                                                                                                                                                                                                                                                                                     \n",
       " convert{Tv<:Union{Complex{Float64},Float64}}(::Type{Base.SparseMatrix.CHOLMOD.Sparse{Tv<:Union{Complex{Float64},Float64}}}, m::Integer, n::Integer, colptr::Array{Int64,1}, rowval::Array{Int64,1}, nzval::Array{Tv<:Union{Complex{Float64},Float64},1}, stype) at sparse/cholmod.jl:811                                                                                                                                                                                                                                                                                                                                        \n",
       " convert{Tv<:Union{Complex{Float64},Float64}}(::Type{Base.SparseMatrix.CHOLMOD.Sparse{Tv<:Union{Complex{Float64},Float64}}}, m::Integer, n::Integer, colptr::Array{Int64,1}, rowval::Array{Int64,1}, nzval::Array{Tv<:Union{Complex{Float64},Float64},1}) at sparse/cholmod.jl:832                                                                                                                                                                                                                                                                                                                                               \n",
       " convert{Tv<:Union{Complex{Float64},Float64}}(::Type{Base.SparseMatrix.CHOLMOD.Sparse{Tv<:Union{Complex{Float64},Float64}}}, A::SparseMatrixCSC{Tv<:Union{Complex{Float64},Float64},Int64}, stype::Integer) at sparse/cholmod.jl:842                                                                                                                                                                                                                                                                                                                                                                                             \n",
       " convert{T}(::Type{Ptr{T}}, x::Integer) at deprecated.jl:423                                                                                                                                                                                                                                                                                                                                                                                                                                                                                                                                                                     \n",
       " copy{Tv<:Float64}(A::Base.SparseMatrix.CHOLMOD.Sparse{Tv<:Float64}, stype::Integer, mode::Integer) at sparse/cholmod.jl:583                                                                                                                                                                                                                                                                                                                                                                                                                                                                                                     \n",
       " copy!{T}(dest::Array{T,N}, doffs::Integer, src::Array{T,N}, soffs::Integer, n::Integer) at array.jl:90                                                                                                                                                                                                                                                                                                                                                                                                                                                                                                                          \n",
       " copy!(dest::BitArray{N}, doffs::Integer, src::BitArray{N}, soffs::Integer, n::Integer) at bitarray.jl:272                                                                                                                                                                                                                                                                                                                                                                                                                                                                                                                       \n",
       " copy!(dest::AbstractArray{T,N}, doffs::Integer, src::AbstractArray{T,N}) at abstractarray.jl:313                                                                                                                                                                                                                                                                                                                                                                                                                                                                                                                                \n",
       " copy!(dest::AbstractArray{T,N}, doffs::Integer, src::AbstractArray{T,N}, soffs::Integer) at abstractarray.jl:317                                                                                                                                                                                                                                                                                                                                                                                                                                                                                                                \n",
       " copy!(dest::AbstractArray{T,N}, doffs::Integer, src::AbstractArray{T,N}, soffs::Integer, n::Integer) at abstractarray.jl:324                                                                                                                                                                                                                                                                                                                                                                                                                                                                                                    \n",
       " copy!(dest::AbstractArray{T,N}, doffs::Integer, src) at abstractarray.jl:230                                                                                                                                                                                                                                                                                                                                                                                                                                                                                                                                                    \n",
       " copy!(dest::AbstractArray{T,N}, doffs::Integer, src, soffs::Integer) at abstractarray.jl:244                                                                                                                                                                                                                                                                                                                                                                                                                                                                                                                                    \n",
       " copy!(dest::AbstractArray{T,N}, doffs::Integer, src, soffs::Integer, n::Integer) at abstractarray.jl:274                                                                                                                                                                                                                                                                                                                                                                                                                                                                                                                        \n",
       " cosc(x::Integer) at special/trig.jl:248                                                                                                                                                                                                                                                                                                                                                                                                                                                                                                                                                                                         \n",
       " cospi(x::Integer) at special/trig.jl:210                                                                                                                                                                                                                                                                                                                                                                                                                                                                                                                                                                                        \n",
       " count_zeros(x::Integer) at int.jl:138                                                                                                                                                                                                                                                                                                                                                                                                                                                                                                                                                                                           \n",
       " cummax(A::Union{DenseArray{T,N},SubArray{T,N,A<:DenseArray{T,N},I<:Tuple{Vararg{Union{Colon,Int64,Range{Int64}}}},LD}}, axis::Integer) at arraymath.jl:469                                                                                                                                                                                                                                                                                                                                                                                                                                                                      \n",
       " cummin(A::Union{DenseArray{T,N},SubArray{T,N,A<:DenseArray{T,N},I<:Tuple{Vararg{Union{Colon,Int64,Range{Int64}}}},LD}}, axis::Integer) at arraymath.jl:469                                                                                                                                                                                                                                                                                                                                                                                                                                                                      \n",
       " cumprod(A::AbstractArray{T,N}, axis::Integer) at multidimensional.jl:517                                                                                                                                                                                                                                                                                                                                                                                                                                                                                                                                                        \n",
       " cumprod!{T,N}(B, A::AbstractArray{T,N}, axis::Integer) at multidimensional.jl:524                                                                                                                                                                                                                                                                                                                                                                                                                                                                                                                                               \n",
       " cumsum(A::AbstractArray{T,N}, axis::Integer) at multidimensional.jl:515                                                                                                                                                                                                                                                                                                                                                                                                                                                                                                                                                         \n",
       " cumsum!{T,N}(B, A::AbstractArray{T,N}, axis::Integer) at multidimensional.jl:524                                                                                                                                                                                                                                                                                                                                                                                                                                                                                                                                                \n",
       " cumsum_kbn{T<:AbstractFloat}(A::AbstractArray{T<:AbstractFloat,N}, axis::Integer) at abstractarraymath.jl:132                                                                                                                                                                                                                                                                                                                                                                                                                                                                                                                   \n",
       " dawson(x::Integer) at special/erf.jl:16                                                                                                                                                                                                                                                                                                                                                                                                                                                                                                                                                                                         \n",
       " dec(x::Integer) at intfuncs.jl:301                                                                                                                                                                                                                                                                                                                                                                                                                                                                                                                                                                                              \n",
       " dec(x::Integer, p::Int64) at intfuncs.jl:300                                                                                                                                                                                                                                                                                                                                                                                                                                                                                                                                                                                    \n",
       " delete!(s::IntSet, n::Integer) at intset.jl:111                                                                                                                                                                                                                                                                                                                                                                                                                                                                                                                                                                                 \n",
       " deleteat!(a::Array{T,1}, i::Integer) at array.jl:519                                                                                                                                                                                                                                                                                                                                                                                                                                                                                                                                                                            \n",
       " deleteat!(B::BitArray{1}, i::Integer) at bitarray.jl:643                                                                                                                                                                                                                                                                                                                                                                                                                                                                                                                                                                        \n",
       " den(x::Integer) at rational.jl:151                                                                                                                                                                                                                                                                                                                                                                                                                                                                                                                                                                                              \n",
       " diag{T}(M::SymTridiagonal{T}, n::Integer) at linalg/tridiag.jl:72                                                                                                                                                                                                                                                                                                                                                                                                                                                                                                                                                               \n",
       " diag{T}(M::Tridiagonal{T}, n::Integer) at linalg/tridiag.jl:333                                                                                                                                                                                                                                                                                                                                                                                                                                                                                                                                                                 \n",
       " diag{T}(M::Bidiagonal{T}, n::Integer) at linalg/bidiag.jl:162                                                                                                                                                                                                                                                                                                                                                                                                                                                                                                                                                                   \n",
       " diag(A::AbstractArray{T,2}, k::Integer) at linalg/dense.jl:133                                                                                                                                                                                                                                                                                                                                                                                                                                                                                                                                                                  \n",
       " diagind(m::Integer, n::Integer) at linalg/dense.jl:125                                                                                                                                                                                                                                                                                                                                                                                                                                                                                                                                                                          \n",
       " diagind(m::Integer, n::Integer, k::Integer) at linalg/dense.jl:125                                                                                                                                                                                                                                                                                                                                                                                                                                                                                                                                                              \n",
       " diagind(A::AbstractArray{T,2}, k::Integer) at linalg/dense.jl:131                                                                                                                                                                                                                                                                                                                                                                                                                                                                                                                                                               \n",
       " diagm{T}(v::AbstractArray{T,1}, k::Integer) at linalg/dense.jl:136                                                                                                                                                                                                                                                                                                                                                                                                                                                                                                                                                              \n",
       " diff(a::SparseMatrixCSC{Tv,Ti<:Integer}, dim::Integer) at sparse/linalg.jl:451                                                                                                                                                                                                                                                                                                                                                                                                                                                                                                                                                  \n",
       " diff(A::AbstractArray{T,2}, dim::Integer) at linalg/generic.jl:44                                                                                                                                                                                                                                                                                                                                                                                                                                                                                                                                                               \n",
       " digits(n::Integer) at intfuncs.jl:312                                                                                                                                                                                                                                                                                                                                                                                                                                                                                                                                                                                           \n",
       " digits{T<:Integer}(n::Integer, base::T<:Integer) at intfuncs.jl:312                                                                                                                                                                                                                                                                                                                                                                                                                                                                                                                                                             \n",
       " digits{T<:Integer}(n::Integer, base::T<:Integer, pad::Integer) at intfuncs.jl:312                                                                                                                                                                                                                                                                                                                                                                                                                                                                                                                                               \n",
       " digits!{T<:Integer}(a::AbstractArray{T<:Integer,1}, n::Integer) at intfuncs.jl:320                                                                                                                                                                                                                                                                                                                                                                                                                                                                                                                                              \n",
       " digits!{T<:Integer}(a::AbstractArray{T<:Integer,1}, n::Integer, base::T<:Integer) at intfuncs.jl:320                                                                                                                                                                                                                                                                                                                                                                                                                                                                                                                            \n",
       " div(x::Rational{T<:Integer}, y::Integer) at rational.jl:272                                                                                                                                                                                                                                                                                                                                                                                                                                                                                                                                                                     \n",
       " div(x::Integer, y::Rational{T<:Integer}) at rational.jl:276                                                                                                                                                                                                                                                                                                                                                                                                                                                                                                                                                                     \n",
       " div{P<:Base.Dates.Period}(X::Union{DenseArray{P<:Base.Dates.Period,N},SubArray{P<:Base.Dates.Period,N,A<:DenseArray{T,N},I<:Tuple{Vararg{Union{Colon,Int64,Range{Int64}}}},LD}}, y::Integer) at dates/periods.jl:66                                                                                                                                                                                                                                                                                                                                                                                                             \n",
       " done{T<:Base.Dates.TimeType,S<:Base.Dates.Period}(r::StepRange{T<:Base.Dates.TimeType,S<:Base.Dates.Period}, i::Integer) at dates/ranges.jl:35                                                                                                                                                                                                                                                                                                                                                                                                                                                                                  \n",
       " done{T,S}(r::StepRange{T,S}, i::Integer) at range.jl:344                                                                                                                                                                                                                                                                                                                                                                                                                                                                                                                                                                        \n",
       " edit(file::AbstractString, line::Integer) at interactiveutil.jl:6                                                                                                                                                                                                                                                                                                                                                                                                                                                                                                                                                               \n",
       " edit(file, line::Integer) at interactiveutil.jl:59                                                                                                                                                                                                                                                                                                                                                                                                                                                                                                                                                                              \n",
       " erfcinv(x::Integer) at special/erf.jl:219                                                                                                                                                                                                                                                                                                                                                                                                                                                                                                                                                                                       \n",
       " erfcx(x::Integer) at special/erf.jl:16                                                                                                                                                                                                                                                                                                                                                                                                                                                                                                                                                                                          \n",
       " erfi(x::Integer) at special/erf.jl:16                                                                                                                                                                                                                                                                                                                                                                                                                                                                                                                                                                                           \n",
       " erfinv(x::Integer) at special/erf.jl:139                                                                                                                                                                                                                                                                                                                                                                                                                                                                                                                                                                                        \n",
       " eta(x::Integer) at special/gamma.jl:481                                                                                                                                                                                                                                                                                                                                                                                                                                                                                                                                                                                         \n",
       " exp10(x::Integer) at math.jl:130                                                                                                                                                                                                                                                                                                                                                                                                                                                                                                                                                                                                \n",
       " eye(T::Type{T}, n::Integer) at array.jl:225                                                                                                                                                                                                                                                                                                                                                                                                                                                                                                                                                                                     \n",
       " eye(T::Type{T}, m::Integer, n::Integer) at array.jl:218                                                                                                                                                                                                                                                                                                                                                                                                                                                                                                                                                                         \n",
       " eye(n::Integer) at array.jl:226                                                                                                                                                                                                                                                                                                                                                                                                                                                                                                                                                                                                 \n",
       " eye(m::Integer, n::Integer) at array.jl:224                                                                                                                                                                                                                                                                                                                                                                                                                                                                                                                                                                                     \n",
       " factor{T<:Integer}(n::T<:Integer) at primes.jl:168                                                                                                                                                                                                                                                                                                                                                                                                                                                                                                                                                                              \n",
       " factorial{T<:Integer}(n::T<:Integer, k::T<:Integer) at combinatorics.jl:56                                                                                                                                                                                                                                                                                                                                                                                                                                                                                                                                                      \n",
       " factorial(n::Integer) at intfuncs.jl:340                                                                                                                                                                                                                                                                                                                                                                                                                                                                                                                                                                                        \n",
       " factorial(n::Integer, k::Integer) at combinatorics.jl:66                                                                                                                                                                                                                                                                                                                                                                                                                                                                                                                                                                        \n",
       " fdio(name::AbstractString, fd::Integer) at iostream.jl:81                                                                                                                                                                                                                                                                                                                                                                                                                                                                                                                                                                       \n",
       " fdio(name::AbstractString, fd::Integer, own::Bool) at iostream.jl:81                                                                                                                                                                                                                                                                                                                                                                                                                                                                                                                                                            \n",
       " fdio(fd::Integer) at iostream.jl:86                                                                                                                                                                                                                                                                                                                                                                                                                                                                                                                                                                                             \n",
       " fdio(fd::Integer, own::Bool) at iostream.jl:86                                                                                                                                                                                                                                                                                                                                                                                                                                                                                                                                                                                  \n",
       " fill!(a::Union{Array{Int8,N},Array{UInt8,N}}, x::Integer) at array.jl:181                                                                                                                                                                                                                                                                                                                                                                                                                                                                                                                                                       \n",
       " findnext(B::BitArray{N}, start::Integer) at bitarray.jl:1282                                                                                                                                                                                                                                                                                                                                                                                                                                                                                                                                                                    \n",
       " findnext(A, start::Integer) at array.jl:704                                                                                                                                                                                                                                                                                                                                                                                                                                                                                                                                                                                     \n",
       " findnext(testf::Function, B::BitArray{N}, start::Integer) at bitarray.jl:1348                                                                                                                                                                                                                                                                                                                                                                                                                                                                                                                                                   \n",
       " findnext(testf::Function, A, start::Integer) at array.jl:726                                                                                                                                                                                                                                                                                                                                                                                                                                                                                                                                                                    \n",
       " findnext(B::BitArray{N}, v, start::Integer) at bitarray.jl:1340                                                                                                                                                                                                                                                                                                                                                                                                                                                                                                                                                                 \n",
       " findnext(A, v, start::Integer) at array.jl:715                                                                                                                                                                                                                                                                                                                                                                                                                                                                                                                                                                                  \n",
       " findprev(testf::Function, B::BitArray{N}, start::Integer) at bitarray.jl:1418                                                                                                                                                                                                                                                                                                                                                                                                                                                                                                                                                   \n",
       " findprev(B::BitArray{N}, start::Integer) at bitarray.jl:1362                                                                                                                                                                                                                                                                                                                                                                                                                                                                                                                                                                    \n",
       " findprev(B::BitArray{N}, v, start::Integer) at bitarray.jl:1410                                                                                                                                                                                                                                                                                                                                                                                                                                                                                                                                                                 \n",
       " fld{T<:Integer}(x::T<:Integer, y::T<:Integer) at int.jl:91                                                                                                                                                                                                                                                                                                                                                                                                                                                                                                                                                                      \n",
       " fld(x::Rational{T<:Integer}, y::Integer) at rational.jl:272                                                                                                                                                                                                                                                                                                                                                                                                                                                                                                                                                                     \n",
       " fld(x::Integer, y::Rational{T<:Integer}) at rational.jl:276                                                                                                                                                                                                                                                                                                                                                                                                                                                                                                                                                                     \n",
       " flipdim{T}(A::Array{T,N}, d::Integer) at arraymath.jl:212                                                                                                                                                                                                                                                                                                                                                                                                                                                                                                                                                                       \n",
       " flipdim(A::BitArray{N}, d::Integer) at bitarray.jl:1097                                                                                                                                                                                                                                                                                                                                                                                                                                                                                                                                                                         \n",
       " flipdim(A::AbstractArray{T,1}, d::Integer) at abstractarraymath.jl:67                                                                                                                                                                                                                                                                                                                                                                                                                                                                                                                                                           \n",
       " flipdim(A::AbstractArray{T,N}, d::Integer) at abstractarraymath.jl:73                                                                                                                                                                                                                                                                                                                                                                                                                                                                                                                                                           \n",
       " floor(x::Integer) at int.jl:252                                                                                                                                                                                                                                                                                                                                                                                                                                                                                                                                                                                                 \n",
       " floor{T<:Integer}(::Type{T<:Integer}, x::Integer) at int.jl:257                                                                                                                                                                                                                                                                                                                                                                                                                                                                                                                                                                 \n",
       " floor{R}(x::AbstractArray{R,1}, digits::Integer) at floatfuncs.jl:81                                                                                                                                                                                                                                                                                                                                                                                                                                                                                                                                                            \n",
       " floor{R}(x::AbstractArray{R,1}, digits::Integer, base::Integer) at floatfuncs.jl:81                                                                                                                                                                                                                                                                                                                                                                                                                                                                                                                                             \n",
       " floor{R}(x::AbstractArray{R,2}, digits::Integer) at floatfuncs.jl:84                                                                                                                                                                                                                                                                                                                                                                                                                                                                                                                                                            \n",
       " floor{R}(x::AbstractArray{R,2}, digits::Integer, base::Integer) at floatfuncs.jl:84                                                                                                                                                                                                                                                                                                                                                                                                                                                                                                                                             \n",
       " floor(x::AbstractArray{T,N}, digits::Integer) at floatfuncs.jl:87                                                                                                                                                                                                                                                                                                                                                                                                                                                                                                                                                               \n",
       " floor(x::AbstractArray{T,N}, digits::Integer, base::Integer) at floatfuncs.jl:87                                                                                                                                                                                                                                                                                                                                                                                                                                                                                                                                                \n",
       " floor(x::Real, digits::Integer) at floatfuncs.jl:148                                                                                                                                                                                                                                                                                                                                                                                                                                                                                                                                                                            \n",
       " floor(x::Real, digits::Integer, base::Integer) at floatfuncs.jl:148                                                                                                                                                                                                                                                                                                                                                                                                                                                                                                                                                             \n",
       " fma(x::Integer, y::Integer, z::Integer) at promotion.jl:218                                                                                                                                                                                                                                                                                                                                                                                                                                                                                                                                                                     \n",
       " gcd(a::Integer) at intfuncs.jl:37                                                                                                                                                                                                                                                                                                                                                                                                                                                                                                                                                                                               \n",
       " gcd{T<:Integer}(a::T<:Integer, b::T<:Integer) at intfuncs.jl:6                                                                                                                                                                                                                                                                                                                                                                                                                                                                                                                                                                  \n",
       " gcd(a::Integer, b::Integer) at intfuncs.jl:39                                                                                                                                                                                                                                                                                                                                                                                                                                                                                                                                                                                   \n",
       " gcd(a::Integer, b::Integer...) at intfuncs.jl:41                                                                                                                                                                                                                                                                                                                                                                                                                                                                                                                                                                                \n",
       " gcdx{T<:Integer}(a::T<:Integer, b::T<:Integer) at intfuncs.jl:49                                                                                                                                                                                                                                                                                                                                                                                                                                                                                                                                                                \n",
       " gcdx(a::Integer, b::Integer) at intfuncs.jl:59                                                                                                                                                                                                                                                                                                                                                                                                                                                                                                                                                                                  \n",
       " get(zmsg::ZMQ.Message, property::Integer) at /Users/juanklopper/.julia/v0.4/ZMQ/src/ZMQ.jl:445                                                                                                                                                                                                                                                                                                                                                                                                                                                                                                                                  \n",
       " get(A::AbstractArray{T,N}, i::Integer, default) at abstractarray.jl:674                                                                                                                                                                                                                                                                                                                                                                                                                                                                                                                                                         \n",
       " get(ctx::ZMQ.Context, option::Integer) at /Users/juanklopper/.julia/v0.4/ZMQ/src/ZMQ.jl:153                                                                                                                                                                                                                                                                                                                                                                                                                                                                                                                                     \n",
       " getindex{T}(r::FloatRange{T}, i::Integer) at range.jl:356                                                                                                                                                                                                                                                                                                                                                                                                                                                                                                                                                                       \n",
       " getindex{T}(r::LinSpace{T}, i::Integer) at range.jl:359                                                                                                                                                                                                                                                                                                                                                                                                                                                                                                                                                                         \n",
       " getindex(r::Range{T}, i::Integer) at range.jl:353                                                                                                                                                                                                                                                                                                                                                                                                                                                                                                                                                                               \n",
       " getindex(x::Number, i::Integer) at number.jl:15                                                                                                                                                                                                                                                                                                                                                                                                                                                                                                                                                                                 \n",
       " getindex{T}(A::SymTridiagonal{T}, i::Integer, j::Integer) at linalg/tridiag.jl:251                                                                                                                                                                                                                                                                                                                                                                                                                                                                                                                                              \n",
       " getindex{T}(A::Tridiagonal{T}, i::Integer, j::Integer) at linalg/tridiag.jl:347                                                                                                                                                                                                                                                                                                                                                                                                                                                                                                                                                 \n",
       " getindex{T,S}(A::Base.LinAlg.UnitLowerTriangular{T,S}, i::Integer, j::Integer) at linalg/triangular.jl:115                                                                                                                                                                                                                                                                                                                                                                                                                                                                                                                      \n",
       " getindex{T,S}(A::LowerTriangular{T,S}, i::Integer, j::Integer) at linalg/triangular.jl:116                                                                                                                                                                                                                                                                                                                                                                                                                                                                                                                                      \n",
       " getindex{T,S}(A::Base.LinAlg.UnitUpperTriangular{T,S}, i::Integer, j::Integer) at linalg/triangular.jl:117                                                                                                                                                                                                                                                                                                                                                                                                                                                                                                                      \n",
       " getindex{T,S}(A::UpperTriangular{T,S}, i::Integer, j::Integer) at linalg/triangular.jl:118                                                                                                                                                                                                                                                                                                                                                                                                                                                                                                                                      \n",
       " getindex(A::Union{Base.LinAlg.HessenbergQ{T,S<:AbstractArray{T,2}},Base.LinAlg.QRCompactWYQ{S,M<:AbstractArray{T,2}},Base.LinAlg.QRPackedQ{T,S<:AbstractArray{T,2}}}, i::Integer, j::Integer) at linalg/qr.jl:454                                                                                                                                                                                                                                                                                                                                                                                                               \n",
       " getindex(A::Symmetric{T,S<:AbstractArray{T,2}}, i::Integer, j::Integer) at linalg/symmetric.jl:26                                                                                                                                                                                                                                                                                                                                                                                                                                                                                                                               \n",
       " getindex(A::Hermitian{T,S<:AbstractArray{T,2}}, i::Integer, j::Integer) at linalg/symmetric.jl:27                                                                                                                                                                                                                                                                                                                                                                                                                                                                                                                               \n",
       " getindex{T}(A::Bidiagonal{T}, i::Integer, j::Integer) at linalg/bidiag.jl:37                                                                                                                                                                                                                                                                                                                                                                                                                                                                                                                                                    \n",
       " getindex{T}(A::SparseMatrixCSC{T,Ti<:Integer}, i0::Integer, i1::Integer) at sparse/sparsematrix.jl:1395                                                                                                                                                                                                                                                                                                                                                                                                                                                                                                                         \n",
       " getindex(A::SparseMatrixCSC{Tv,Ti<:Integer}, I::AbstractArray{Bool,1}, J::Integer) at sparse/sparsematrix.jl:1764                                                                                                                                                                                                                                                                                                                                                                                                                                                                                                               \n",
       " getindex{T<:Integer}(A::SparseMatrixCSC{Tv,Ti<:Integer}, I::AbstractArray{T<:Integer,1}, j::Integer) at sparse/sparsematrix.jl:1403                                                                                                                                                                                                                                                                                                                                                                                                                                                                                             \n",
       " getindex(A::SparseMatrixCSC{Tv,Ti<:Integer}, I::Integer, J::AbstractArray{Bool,1}) at sparse/sparsematrix.jl:1763                                                                                                                                                                                                                                                                                                                                                                                                                                                                                                               \n",
       " getindex{T<:Integer}(A::SparseMatrixCSC{Tv,Ti<:Integer}, i::Integer, J::AbstractArray{T<:Integer,1}) at sparse/sparsematrix.jl:1404                                                                                                                                                                                                                                                                                                                                                                                                                                                                                             \n",
       " getindex(A::Base.SparseMatrix.CHOLMOD.Dense{T<:Union{Complex{Float64},Float64}}, i::Integer) at sparse/cholmod.jl:1101                                                                                                                                                                                                                                                                                                                                                                                                                                                                                                          \n",
       " getindex{T}(A::Base.SparseMatrix.CHOLMOD.Sparse{T}, i0::Integer, i1::Integer) at sparse/cholmod.jl:1108                                                                                                                                                                                                                                                                                                                                                                                                                                                                                                                         \n",
       " getindex(a::ZMQ.Message, i::Integer) at /Users/juanklopper/.julia/v0.4/ZMQ/src/ZMQ.jl:413                                                                                                                                                                                                                                                                                                                                                                                                                                                                                                                                       \n",
       " getindex(c::Char, i::Integer) at char.jl:20                                                                                                                                                                                                                                                                                                                                                                                                                                                                                                                                                                                     \n",
       " getindex(s::AbstractString, i::Integer) at strings/basic.jl:38                                                                                                                                                                                                                                                                                                                                                                                                                                                                                                                                                                  \n",
       " getindex(m::RegexMatch, idx::Integer) at regex.jl:118                                                                                                                                                                                                                                                                                                                                                                                                                                                                                                                                                                           \n",
       " getindex(index::CartesianIndex{N}, i::Integer) at multidimensional.jl:36                                                                                                                                                                                                                                                                                                                                                                                                                                                                                                                                                        \n",
       " getindex(J::UniformScaling{T<:Number}, i::Integer, j::Integer) at linalg/uniformscaling.jl:14                                                                                                                                                                                                                                                                                                                                                                                                                                                                                                                                   \n",
       " getindex(G::Base.LinAlg.Givens{T}, i::Integer, j::Integer) at linalg/givens.jl:264                                                                                                                                                                                                                                                                                                                                                                                                                                                                                                                                              \n",
       " givens{T}(A::AbstractArray{T,2}, i1::Integer, i2::Integer, col::Integer) at linalg/givens.jl:257                                                                                                                                                                                                                                                                                                                                                                                                                                                                                                                                \n",
       " givens{T}(f::T, g::T, i1::Integer, i2::Integer) at linalg/givens.jl:237                                                                                                                                                                                                                                                                                                                                                                                                                                                                                                                                                         \n",
       " givens{T}(f::T, g::T, i1::Integer, i2::Integer, cols::Integer) at deprecated.jl:49                                                                                                                                                                                                                                                                                                                                                                                                                                                                                                                                              \n",
       " hex(x::Integer) at intfuncs.jl:301                                                                                                                                                                                                                                                                                                                                                                                                                                                                                                                                                                                              \n",
       " hex(x::Integer, p::Int64) at intfuncs.jl:300                                                                                                                                                                                                                                                                                                                                                                                                                                                                                                                                                                                    \n",
       " hist(v::AbstractArray{T,1}, n::Integer) at statistics.jl:654                                                                                                                                                                                                                                                                                                                                                                                                                                                                                                                                                                    \n",
       " hist(A::AbstractArray{T,2}, n::Integer) at statistics.jl:672                                                                                                                                                                                                                                                                                                                                                                                                                                                                                                                                                                    \n",
       " hist2d(v::AbstractArray{T,2}, n::Integer) at statistics.jl:703                                                                                                                                                                                                                                                                                                                                                                                                                                                                                                                                                                  \n",
       " hist2d(v::AbstractArray{T,2}, n1::Integer, n2::Integer) at statistics.jl:701                                                                                                                                                                                                                                                                                                                                                                                                                                                                                                                                                    \n",
       " histrange{T<:AbstractFloat,N}(v::AbstractArray{T<:AbstractFloat,N}, n::Integer) at statistics.jl:564                                                                                                                                                                                                                                                                                                                                                                                                                                                                                                                            \n",
       " histrange{T<:Integer,N}(v::AbstractArray{T<:Integer,N}, n::Integer) at statistics.jl:594                                                                                                                                                                                                                                                                                                                                                                                                                                                                                                                                        \n",
       " hvcat(nbc::Integer, as...) at abstractarray.jl:878                                                                                                                                                                                                                                                                                                                                                                                                                                                                                                                                                                              \n",
       " in(n::Integer, s::IntSet) at intset.jl:165                                                                                                                                                                                                                                                                                                                                                                                                                                                                                                                                                                                      \n",
       " ind2chr{T<:DirectIndexString}(s::SubString{T<:DirectIndexString}, i::Integer) at strings/types.jl:71                                                                                                                                                                                                                                                                                                                                                                                                                                                                                                                            \n",
       " ind2chr(s::DirectIndexString, i::Integer) at strings/basic.jl:157                                                                                                                                                                                                                                                                                                                                                                                                                                                                                                                                                               \n",
       " ind2chr(s::AbstractString, i::Integer) at strings/basic.jl:161                                                                                                                                                                                                                                                                                                                                                                                                                                                                                                                                                                  \n",
       " ind2sub{N}(dims::NTuple{N,Integer}, ind::Integer) at abstractarray.jl:1064                                                                                                                                                                                                                                                                                                                                                                                                                                                                                                                                                      \n",
       " ind2sub(a::AbstractArray{T,N}, ind::Integer) at abstractarray.jl:1077                                                                                                                                                                                                                                                                                                                                                                                                                                                                                                                                                           \n",
       " ind2sub!{T<:Integer}(sub::Array{T<:Integer,N}, dims::Tuple{Vararg{T<:Integer}}, ind::T<:Integer) at abstractarray.jl:1115                                                                                                                                                                                                                                                                                                                                                                                                                                                                                                       \n",
       " ind2sub!{T<:Integer}(sub::Array{T<:Integer,N}, dims::Array{T<:Integer,N}, ind::T<:Integer) at deprecated.jl:49                                                                                                                                                                                                                                                                                                                                                                                                                                                                                                                  \n",
       " insert!{T}(a::Array{T,1}, i::Integer, item) at array.jl:506                                                                                                                                                                                                                                                                                                                                                                                                                                                                                                                                                                     \n",
       " insert!(B::BitArray{1}, i::Integer, item) at bitarray.jl:582                                                                                                                                                                                                                                                                                                                                                                                                                                                                                                                                                                    \n",
       " interrupt(pid::Integer) at multi.jl:1597                                                                                                                                                                                                                                                                                                                                                                                                                                                                                                                                                                                        \n",
       " intersect{T<:Integer}(i::Integer, r::UnitRange{T<:Integer}) at range.jl:425                                                                                                                                                                                                                                                                                                                                                                                                                                                                                                                                                     \n",
       " intersect{T<:Integer}(r::UnitRange{T<:Integer}, i::Integer) at range.jl:429                                                                                                                                                                                                                                                                                                                                                                                                                                                                                                                                                     \n",
       " inv(x::Integer) at int.jl:24                                                                                                                                                                                                                                                                                                                                                                                                                                                                                                                                                                                                    \n",
       " irfft{T<:Real}(x::AbstractArray{T<:Real,N}, d::Integer) at dft.jl:304                                                                                                                                                                                                                                                                                                                                                                                                                                                                                                                                                           \n",
       " irfft{T<:Real}(x::AbstractArray{T<:Real,N}, d::Integer, region) at dft.jl:304                                                                                                                                                                                                                                                                                                                                                                                                                                                                                                                                                   \n",
       " irfft{T<:Union{Integer,Rational{T<:Integer}}}(x::AbstractArray{Complex{T<:Union{Integer,Rational{T<:Integer}}},N}, d::Integer) at dft.jl:305                                                                                                                                                                                                                                                                                                                                                                                                                                                                                    \n",
       " irfft{T<:Union{Integer,Rational{T<:Integer}}}(x::AbstractArray{Complex{T<:Union{Integer,Rational{T<:Integer}}},N}, d::Integer, region) at dft.jl:305                                                                                                                                                                                                                                                                                                                                                                                                                                                                            \n",
       " irfft(x::AbstractArray{T,N}, d::Integer) at dft.jl:296                                                                                                                                                                                                                                                                                                                                                                                                                                                                                                                                                                          \n",
       " irfft(x::AbstractArray{T,N}, d::Integer, region) at dft.jl:297                                                                                                                                                                                                                                                                                                                                                                                                                                                                                                                                                                  \n",
       " iseven(n::Integer) at int.jl:27                                                                                                                                                                                                                                                                                                                                                                                                                                                                                                                                                                                                 \n",
       " isfinite(x::Integer) at float.jl:311                                                                                                                                                                                                                                                                                                                                                                                                                                                                                                                                                                                            \n",
       " isinteger(x::Integer) at number.jl:5                                                                                                                                                                                                                                                                                                                                                                                                                                                                                                                                                                                            \n",
       " isless(x::Char, y::Integer) at char.jl:37                                                                                                                                                                                                                                                                                                                                                                                                                                                                                                                                                                                       \n",
       " isless(x::Integer, y::Char) at char.jl:38                                                                                                                                                                                                                                                                                                                                                                                                                                                                                                                                                                                       \n",
       " ismatch(r::Regex, s::SubString{T<:AbstractString}, offset::Integer) at regex.jl:133                                                                                                                                                                                                                                                                                                                                                                                                                                                                                                                                             \n",
       " ismatch(r::Regex, s::AbstractString, offset::Integer) at regex.jl:127                                                                                                                                                                                                                                                                                                                                                                                                                                                                                                                                                           \n",
       " isodd(n::Integer) at int.jl:26                                                                                                                                                                                                                                                                                                                                                                                                                                                                                                                                                                                                  \n",
       " ispow2(x::Integer) at intfuncs.jl:139                                                                                                                                                                                                                                                                                                                                                                                                                                                                                                                                                                                           \n",
       " isprime(n::Integer) at primes.jl:124                                                                                                                                                                                                                                                                                                                                                                                                                                                                                                                                                                                            \n",
       " isqrt(x::Integer) at intfuncs.jl:328                                                                                                                                                                                                                                                                                                                                                                                                                                                                                                                                                                                            \n",
       " isvalid{T<:DirectIndexString}(s::SubString{T<:DirectIndexString}, i::Integer) at strings/types.jl:69                                                                                                                                                                                                                                                                                                                                                                                                                                                                                                                            \n",
       " isvalid(s::SubString{T<:AbstractString}, i::Integer) at strings/types.jl:66                                                                                                                                                                                                                                                                                                                                                                                                                                                                                                                                                     \n",
       " isvalid(s::DirectIndexString, i::Integer) at strings/basic.jl:101                                                                                                                                                                                                                                                                                                                                                                                                                                                                                                                                                               \n",
       " isvalid(s::UTF8String, i::Integer) at unicode/utf8.jl:104                                                                                                                                                                                                                                                                                                                                                                                                                                                                                                                                                                       \n",
       " isvalid(s::AbstractString, i::Integer) at strings/basic.jl:103                                                                                                                                                                                                                                                                                                                                                                                                                                                                                                                                                                  \n",
       " isvalid(::Type{Char}, ch::Integer) at unicode/utf8proc.jl:17                                                                                                                                                                                                                                                                                                                                                                                                                                                                                                                                                                    \n",
       " itrunc{T<:Integer}(::Type{T<:Integer}, n::Integer) at deprecated.jl:49                                                                                                                                                                                                                                                                                                                                                                                                                                                                                                                                                          \n",
       " kill(p::Base.Process, signum::Integer) at process.jl:578                                                                                                                                                                                                                                                                                                                                                                                                                                                                                                                                                                        \n",
       " lcm(a::Integer) at intfuncs.jl:38                                                                                                                                                                                                                                                                                                                                                                                                                                                                                                                                                                                               \n",
       " lcm{T<:Integer}(a::T<:Integer, b::T<:Integer) at intfuncs.jl:35                                                                                                                                                                                                                                                                                                                                                                                                                                                                                                                                                                 \n",
       " lcm(a::Integer, b::Integer) at intfuncs.jl:40                                                                                                                                                                                                                                                                                                                                                                                                                                                                                                                                                                                   \n",
       " lcm(a::Integer, b::Integer...) at intfuncs.jl:42                                                                                                                                                                                                                                                                                                                                                                                                                                                                                                                                                                                \n",
       " ldexp(x::Float64, e::Integer) at math.jl:194                                                                                                                                                                                                                                                                                                                                                                                                                                                                                                                                                                                    \n",
       " ldexp(x::Float32, e::Integer) at math.jl:195                                                                                                                                                                                                                                                                                                                                                                                                                                                                                                                                                                                    \n",
       " ldexp(a::Float16, b::Integer) at float16.jl:161                                                                                                                                                                                                                                                                                                                                                                                                                                                                                                                                                                                 \n",
       " ldexp(x::BigFloat, n::Integer) at mpfr.jl:484                                                                                                                                                                                                                                                                                                                                                                                                                                                                                                                                                                                   \n",
       " leading_ones(x::Integer) at int.jl:139                                                                                                                                                                                                                                                                                                                                                                                                                                                                                                                                                                                          \n",
       " less(file::AbstractString, line::Integer) at interactiveutil.jl:64                                                                                                                                                                                                                                                                                                                                                                                                                                                                                                                                                              \n",
       " less(file, line::Integer) at interactiveutil.jl:71                                                                                                                                                                                                                                                                                                                                                                                                                                                                                                                                                                              \n",
       " listen(port::Integer) at socket.jl:695                                                                                                                                                                                                                                                                                                                                                                                                                                                                                                                                                                                          \n",
       " listen(host::Base.IPAddr, port::Integer) at socket.jl:696                                                                                                                                                                                                                                                                                                                                                                                                                                                                                                                                                                       \n",
       " logspace(start::Real, stop::Real, n::Integer) at range.jl:247                                                                                                                                                                                                                                                                                                                                                                                                                                                                                                                                                                   \n",
       " lpad(s::AbstractString, n::Integer) at strings/util.jl:95                                                                                                                                                                                                                                                                                                                                                                                                                                                                                                                                                                       \n",
       " lpad(s::AbstractString, n::Integer, p::AbstractString) at strings/util.jl:95                                                                                                                                                                                                                                                                                                                                                                                                                                                                                                                                                    \n",
       " lpad(s, n::Integer) at strings/util.jl:120                                                                                                                                                                                                                                                                                                                                                                                                                                                                                                                                                                                      \n",
       " lpad(s, n::Integer, p) at strings/util.jl:120                                                                                                                                                                                                                                                                                                                                                                                                                                                                                                                                                                                   \n",
       " manage(manager::Base.SSHManager, id::Integer, config::WorkerConfig, op::Symbol) at managers.jl:127                                                                                                                                                                                                                                                                                                                                                                                                                                                                                                                              \n",
       " manage(manager::Base.LocalManager, id::Integer, config::WorkerConfig, op::Symbol) at managers.jl:203                                                                                                                                                                                                                                                                                                                                                                                                                                                                                                                            \n",
       " match(re::Regex, str::Union{SubString{UTF8String},UTF8String}, idx::Integer) at regex.jl:141                                                                                                                                                                                                                                                                                                                                                                                                                                                                                                                                    \n",
       " match(re::Regex, str::Union{SubString{UTF8String},UTF8String}, idx::Integer, add_opts::UInt32) at regex.jl:141                                                                                                                                                                                                                                                                                                                                                                                                                                                                                                                  \n",
       " match{T<:Union{ASCIIString,UTF8String}}(re::Regex, str::Union{SubString{T<:Union{ASCIIString,UTF8String}},T<:Union{ASCIIString,UTF8String}}, idx::Integer) at regex.jl:157                                                                                                                                                                                                                                                                                                                                                                                                                                                      \n",
       " match{T<:Union{ASCIIString,UTF8String}}(re::Regex, str::Union{SubString{T<:Union{ASCIIString,UTF8String}},T<:Union{ASCIIString,UTF8String}}, idx::Integer, add_opts::UInt32) at regex.jl:157                                                                                                                                                                                                                                                                                                                                                                                                                                    \n",
       " match(r::Regex, s::AbstractString, i::Integer) at regex.jl:161                                                                                                                                                                                                                                                                                                                                                                                                                                                                                                                                                                  \n",
       " mmap(len::Integer, prot::Integer, flags::Integer, fd, offset::Integer)                                                                                                                                                                                                                                                                                                                                                                                                                                                                                                                                                          \n",
       " mod{T<:Integer}(x::Integer, ::Type{T<:Integer}) at int.jl:204                                                                                                                                                                                                                                                                                                                                                                                                                                                                                                                                                                   \n",
       " mod{P<:Base.Dates.Period}(X::Union{DenseArray{P<:Base.Dates.Period,N},SubArray{P<:Base.Dates.Period,N,A<:DenseArray{T,N},I<:Tuple{Vararg{Union{Colon,Int64,Range{Int64}}}},LD}}, y::Integer) at dates/periods.jl:66                                                                                                                                                                                                                                                                                                                                                                                                             \n",
       " msync(p::Ptr{T}, len::Integer) at deprecated.jl:612                                                                                                                                                                                                                                                                                                                                                                                                                                                                                                                                                                             \n",
       " msync(p::Ptr{T}, len::Integer, flags::Integer) at deprecated.jl:612                                                                                                                                                                                                                                                                                                                                                                                                                                                                                                                                                             \n",
       " ndigits(x::Unsigned, b::Integer) at intfuncs.jl:217                                                                                                                                                                                                                                                                                                                                                                                                                                                                                                                                                                             \n",
       " ndigits(x::BigInt, b::Integer) at gmp.jl:534                                                                                                                                                                                                                                                                                                                                                                                                                                                                                                                                                                                    \n",
       " ndigits(x::Integer) at intfuncs.jl:221                                                                                                                                                                                                                                                                                                                                                                                                                                                                                                                                                                                          \n",
       " ndigits(x::Integer, b::Integer) at intfuncs.jl:220                                                                                                                                                                                                                                                                                                                                                                                                                                                                                                                                                                              \n",
       " next(s::AbstractString, i::Integer) at strings/basic.jl:8                                                                                                                                                                                                                                                                                                                                                                                                                                                                                                                                                                       \n",
       " nextfloat(x::Float16, i::Integer) at float.jl:344                                                                                                                                                                                                                                                                                                                                                                                                                                                                                                                                                                               \n",
       " nextfloat(x::Float32, i::Integer) at float.jl:346                                                                                                                                                                                                                                                                                                                                                                                                                                                                                                                                                                               \n",
       " nextfloat(x::Float64, i::Integer) at float.jl:348                                                                                                                                                                                                                                                                                                                                                                                                                                                                                                                                                                               \n",
       " nextind(s::SubString{T<:AbstractString}, i::Integer) at strings/types.jl:74                                                                                                                                                                                                                                                                                                                                                                                                                                                                                                                                                     \n",
       " nextind(s::DirectIndexString, i::Integer) at strings/basic.jl:117                                                                                                                                                                                                                                                                                                                                                                                                                                                                                                                                                               \n",
       " nextind(s::AbstractArray{T,N}, i::Integer) at strings/basic.jl:118                                                                                                                                                                                                                                                                                                                                                                                                                                                                                                                                                              \n",
       " nextind(s::AbstractString, i::Integer) at strings/basic.jl:136                                                                                                                                                                                                                                                                                                                                                                                                                                                                                                                                                                  \n",
       " nextind(a, i::Integer) at deprecated.jl:49                                                                                                                                                                                                                                                                                                                                                                                                                                                                                                                                                                                      \n",
       " nextpow2(x::Integer) at intfuncs.jl:134                                                                                                                                                                                                                                                                                                                                                                                                                                                                                                                                                                                         \n",
       " nthperm(a::AbstractArray{T,1}, k::Integer) at combinatorics.jl:89                                                                                                                                                                                                                                                                                                                                                                                                                                                                                                                                                               \n",
       " nthperm!(a::AbstractArray{T,1}, k::Integer) at combinatorics.jl:70                                                                                                                                                                                                                                                                                                                                                                                                                                                                                                                                                              \n",
       " ntuple(f::Function, n::Integer) at tuple.jl:32                                                                                                                                                                                                                                                                                                                                                                                                                                                                                                                                                                                  \n",
       " ntuple(n::Integer, f::Function) at deprecated.jl:49                                                                                                                                                                                                                                                                                                                                                                                                                                                                                                                                                                             \n",
       " num(x::Integer) at rational.jl:150                                                                                                                                                                                                                                                                                                                                                                                                                                                                                                                                                                                              \n",
       " num2hex(n::Integer) at intfuncs.jl:274                                                                                                                                                                                                                                                                                                                                                                                                                                                                                                                                                                                          \n",
       " nzrange(S::SparseMatrixCSC{Tv,Ti<:Integer}, col::Integer) at sparse/sparsematrix.jl:68                                                                                                                                                                                                                                                                                                                                                                                                                                                                                                                                          \n",
       " oct(x::Integer) at intfuncs.jl:301                                                                                                                                                                                                                                                                                                                                                                                                                                                                                                                                                                                              \n",
       " oct(x::Integer, p::Int64) at intfuncs.jl:300                                                                                                                                                                                                                                                                                                                                                                                                                                                                                                                                                                                    \n",
       " parse{T<:Integer}(::Type{T<:Integer}, c::Char, base::Integer) at parse.jl:6                                                                                                                                                                                                                                                                                                                                                                                                                                                                                                                                                     \n",
       " parse{T<:Integer}(::Type{T<:Integer}, s::AbstractString, base::Integer) at parse.jl:143                                                                                                                                                                                                                                                                                                                                                                                                                                                                                                                                         \n",
       " partitions(n::Integer) at combinatorics.jl:252                                                                                                                                                                                                                                                                                                                                                                                                                                                                                                                                                                                  \n",
       " partitions(n::Integer, m::Integer) at combinatorics.jl:318                                                                                                                                                                                                                                                                                                                                                                                                                                                                                                                                                                      \n",
       " peakflops(n::Integer) at linalg/generic.jl:422                                                                                                                                                                                                                                                                                                                                                                                                                                                                                                                                                                                  \n",
       " plan_brfft{N}(X::Union{DenseArray{Complex{Float32},N},SubArray{Complex{Float32},N,A<:DenseArray{T,N},I<:Tuple{Vararg{Union{Colon,Int64,Range{Int64}}}},LD}}, d::Integer, region) at fft/FFTW.jl:649                                                                                                                                                                                                                                                                                                                                                                                                                             \n",
       " plan_brfft{N}(X::Union{DenseArray{Complex{Float64},N},SubArray{Complex{Float64},N,A<:DenseArray{T,N},I<:Tuple{Vararg{Union{Colon,Int64,Range{Int64}}}},LD}}, d::Integer, region) at fft/FFTW.jl:649                                                                                                                                                                                                                                                                                                                                                                                                                             \n",
       " plan_brfft(x::AbstractArray{T,N}, d::Integer) at dft.jl:298                                                                                                                                                                                                                                                                                                                                                                                                                                                                                                                                                                     \n",
       " plan_irfft{T}(x::AbstractArray{Complex{T},N}, d::Integer, region) at dft.jl:354                                                                                                                                                                                                                                                                                                                                                                                                                                                                                                                                                 \n",
       " plan_irfft(x::AbstractArray{T,N}, d::Integer) at dft.jl:298                                                                                                                                                                                                                                                                                                                                                                                                                                                                                                                                                                     \n",
       " pointer{T}(x::AbstractArray{T,N}, i::Integer) at abstractarray.jl:446                                                                                                                                                                                                                                                                                                                                                                                                                                                                                                                                                           \n",
       " pointer(x::ByteString, i::Integer) at unicode/utf32.jl:228                                                                                                                                                                                                                                                                                                                                                                                                                                                                                                                                                                      \n",
       " pointer(x::Union{UTF16String,UTF32String}, i::Integer) at unicode/utf32.jl:229                                                                                                                                                                                                                                                                                                                                                                                                                                                                                                                                                  \n",
       " pointer{T<:Union{ASCIIString,UTF8String}}(x::SubString{T<:Union{ASCIIString,UTF8String}}, i::Integer) at unicode/utf32.jl:233                                                                                                                                                                                                                                                                                                                                                                                                                                                                                                   \n",
       " pointer{T<:Union{UTF16String,UTF32String}}(x::SubString{T<:Union{UTF16String,UTF32String}}, i::Integer) at unicode/utf32.jl:235                                                                                                                                                                                                                                                                                                                                                                                                                                                                                                 \n",
       " pointer_to_array(p, d::Integer) at pointer.jl:32                                                                                                                                                                                                                                                                                                                                                                                                                                                                                                                                                                                \n",
       " pointer_to_array(p, d::Integer, own) at pointer.jl:32                                                                                                                                                                                                                                                                                                                                                                                                                                                                                                                                                                           \n",
       " pointer_to_string(p::Ptr{UInt8}, len::Integer) at pointer.jl:55                                                                                                                                                                                                                                                                                                                                                                                                                                                                                                                                                                 \n",
       " pointer_to_string(p::Ptr{UInt8}, len::Integer, own::Bool) at pointer.jl:55                                                                                                                                                                                                                                                                                                                                                                                                                                                                                                                                                      \n",
       " polygamma(m::Integer, z::Union{Complex{Float64},Float64}) at special/gamma.jl:318                                                                                                                                                                                                                                                                                                                                                                                                                                                                                                                                               \n",
       " polygamma(m::Integer, z::Union{Complex{Float32},Float32}) at special/gamma.jl:358                                                                                                                                                                                                                                                                                                                                                                                                                                                                                                                                               \n",
       " polygamma(m::Integer, z::Union{Complex{Float16},Float16}) at special/gamma.jl:358                                                                                                                                                                                                                                                                                                                                                                                                                                                                                                                                               \n",
       " polygamma(m::Integer, z::Number) at special/gamma.jl:372                                                                                                                                                                                                                                                                                                                                                                                                                                                                                                                                                                        \n",
       " pop!(s::IntSet, n::Integer) at intset.jl:101                                                                                                                                                                                                                                                                                                                                                                                                                                                                                                                                                                                    \n",
       " pop!(s::IntSet, n::Integer, deflt) at intset.jl:77                                                                                                                                                                                                                                                                                                                                                                                                                                                                                                                                                                              \n",
       " powermod(x::BigInt, p::Integer, m::BigInt) at gmp.jl:432                                                                                                                                                                                                                                                                                                                                                                                                                                                                                                                                                                        \n",
       " powermod(x::BigInt, p::Integer, m::Integer) at gmp.jl:433                                                                                                                                                                                                                                                                                                                                                                                                                                                                                                                                                                       \n",
       " powermod{T}(b::Integer, p::Integer, m::T) at intfuncs.jl:112                                                                                                                                                                                                                                                                                                                                                                                                                                                                                                                                                                    \n",
       " prevind(s::SubString{T<:AbstractString}, i::Integer) at strings/types.jl:75                                                                                                                                                                                                                                                                                                                                                                                                                                                                                                                                                     \n",
       " prevind(s::DirectIndexString, i::Integer) at strings/basic.jl:115                                                                                                                                                                                                                                                                                                                                                                                                                                                                                                                                                               \n",
       " prevind(s::AbstractArray{T,N}, i::Integer) at strings/basic.jl:116                                                                                                                                                                                                                                                                                                                                                                                                                                                                                                                                                              \n",
       " prevind(s::AbstractString, i::Integer) at strings/basic.jl:121                                                                                                                                                                                                                                                                                                                                                                                                                                                                                                                                                                  \n",
       " prevind(a, i::Integer) at deprecated.jl:49                                                                                                                                                                                                                                                                                                                                                                                                                                                                                                                                                                                      \n",
       " prevpow2(x::Integer) at intfuncs.jl:137                                                                                                                                                                                                                                                                                                                                                                                                                                                                                                                                                                                         \n",
       " primesmask{T<:Integer}(lo::T<:Integer, hi::T<:Integer) at primes.jl:86                                                                                                                                                                                                                                                                                                                                                                                                                                                                                                                                                          \n",
       " primesmask(n::Integer) at primes.jl:68                                                                                                                                                                                                                                                                                                                                                                                                                                                                                                                                                                                          \n",
       " procs(pid::Integer) at multi.jl:312                                                                                                                                                                                                                                                                                                                                                                                                                                                                                                                                                                                             \n",
       " push!(s::IntSet, n::Integer) at intset.jl:51                                                                                                                                                                                                                                                                                                                                                                                                                                                                                                                                                                                    \n",
       " rand(T::Type{T}, d1::Integer, dims::Integer...) at random.jl:218                                                                                                                                                                                                                                                                                                                                                                                                                                                                                                                                                                \n",
       " rand(r::AbstractRNG, T::Type{T}, d1::Integer, dims::Integer...) at random.jl:286                                                                                                                                                                                                                                                                                                                                                                                                                                                                                                                                                \n",
       " randcycle(r::AbstractRNG, n::Integer) at random.jl:1356                                                                                                                                                                                                                                                                                                                                                                                                                                                                                                                                                                         \n",
       " randcycle(n::Integer) at random.jl:1365                                                                                                                                                                                                                                                                                                                                                                                                                                                                                                                                                                                         \n",
       " randjump(r::MersenneTwister, jumps::Integer) at random.jl:127                                                                                                                                                                                                                                                                                                                                                                                                                                                                                                                                                                   \n",
       " randjump(mt::MersenneTwister, jumps::Integer, jumppoly::AbstractString) at random.jl:119                                                                                                                                                                                                                                                                                                                                                                                                                                                                                                                                        \n",
       " randperm(r::AbstractRNG, n::Integer) at random.jl:1341                                                                                                                                                                                                                                                                                                                                                                                                                                                                                                                                                                          \n",
       " randperm(n::Integer) at random.jl:1353                                                                                                                                                                                                                                                                                                                                                                                                                                                                                                                                                                                          \n",
       " range(a::AbstractFloat, len::Integer) at range.jl:168                                                                                                                                                                                                                                                                                                                                                                                                                                                                                                                                                                           \n",
       " range(a::Real, len::Integer) at range.jl:84                                                                                                                                                                                                                                                                                                                                                                                                                                                                                                                                                                                     \n",
       " range{T}(a::T, len::Integer) at range.jl:88                                                                                                                                                                                                                                                                                                                                                                                                                                                                                                                                                                                     \n",
       " range(a::AbstractFloat, st::AbstractFloat, len::Integer) at range.jl:169                                                                                                                                                                                                                                                                                                                                                                                                                                                                                                                                                        \n",
       " range(a::Real, st::AbstractFloat, len::Integer) at range.jl:170                                                                                                                                                                                                                                                                                                                                                                                                                                                                                                                                                                 \n",
       " range(a::AbstractFloat, st::Real, len::Integer) at range.jl:171                                                                                                                                                                                                                                                                                                                                                                                                                                                                                                                                                                 \n",
       " range{T,S}(a::T, step::S, len::Integer) at range.jl:101                                                                                                                                                                                                                                                                                                                                                                                                                                                                                                                                                                         \n",
       " read{T}(s::IO, t::Type{T}, d1::Integer, dims::Integer...) at io.jl:123                                                                                                                                                                                                                                                                                                                                                                                                                                                                                                                                                          \n",
       " read!(from::Base.AbstractIOBuffer{T<:AbstractArray{UInt8,1}}, p::Ptr{T}, nb::Integer) at deprecated.jl:538                                                                                                                                                                                                                                                                                                                                                                                                                                                                                                                      \n",
       " readbytes(s::IOStream, nb::Integer) at iostream.jl:268                                                                                                                                                                                                                                                                                                                                                                                                                                                                                                                                                                          \n",
       " remotecall(id::Integer, f, args...) at multi.jl:714                                                                                                                                                                                                                                                                                                                                                                                                                                                                                                                                                                             \n",
       " remotecall(f::Function, id::Integer, args...) at /Users/juanklopper/.julia/v0.4/Compat/src/Compat.jl:699                                                                                                                                                                                                                                                                                                                                                                                                                                                                                                                        \n",
       " remotecall_fetch(id::Integer, f, args...) at multi.jl:734                                                                                                                                                                                                                                                                                                                                                                                                                                                                                                                                                                       \n",
       " remotecall_fetch(f::Function, id::Integer, args...) at /Users/juanklopper/.julia/v0.4/Compat/src/Compat.jl:699                                                                                                                                                                                                                                                                                                                                                                                                                                                                                                                  \n",
       " remotecall_wait(id::Integer, f, args...) at multi.jl:751                                                                                                                                                                                                                                                                                                                                                                                                                                                                                                                                                                        \n",
       " remotecall_wait(f::Function, id::Integer, args...) at /Users/juanklopper/.julia/v0.4/Compat/src/Compat.jl:699                                                                                                                                                                                                                                                                                                                                                                                                                                                                                                                   \n",
       " repeat(s::ByteString, r::Integer) at strings/types.jl:176                                                                                                                                                                                                                                                                                                                                                                                                                                                                                                                                                                       \n",
       " repeat(s::AbstractString, r::Integer) at strings/types.jl:167                                                                                                                                                                                                                                                                                                                                                                                                                                                                                                                                                                   \n",
       " replace(str::ByteString, pattern, repl, limit::Integer) at strings/util.jl:181                                                                                                                                                                                                                                                                                                                                                                                                                                                                                                                                                  \n",
       " replace(s::AbstractString, pat, f, n::Integer) at strings/util.jl:210                                                                                                                                                                                                                                                                                                                                                                                                                                                                                                                                                           \n",
       " resize!(a::Array{T,1}, nl::Integer) at array.jl:463                                                                                                                                                                                                                                                                                                                                                                                                                                                                                                                                                                             \n",
       " resize!(B::BitArray{1}, n::Integer) at bitarray.jl:506                                                                                                                                                                                                                                                                                                                                                                                                                                                                                                                                                                          \n",
       " reverseind(a::AbstractArray{T,1}, i::Integer) at array.jl:648                                                                                                                                                                                                                                                                                                                                                                                                                                                                                                                                                                   \n",
       " reverseind(s::Union{DirectIndexString,SubString{DirectIndexString}}, i::Integer) at strings/types.jl:127                                                                                                                                                                                                                                                                                                                                                                                                                                                                                                                        \n",
       " reverseind(s::RevString{T<:AbstractString}, i::Integer) at strings/types.jl:128                                                                                                                                                                                                                                                                                                                                                                                                                                                                                                                                                 \n",
       " reverseind(s::SubString{T<:AbstractString}, i::Integer) at strings/types.jl:131                                                                                                                                                                                                                                                                                                                                                                                                                                                                                                                                                 \n",
       " reverseind(s::UTF8String, i::Integer) at unicode/utf8.jl:90                                                                                                                                                                                                                                                                                                                                                                                                                                                                                                                                                                     \n",
       " reverseind(s::UTF16String, i::Integer) at unicode/utf16.jl:65                                                                                                                                                                                                                                                                                                                                                                                                                                                                                                                                                                   \n",
       " rol(B::BitArray{1}, i::Integer) at bitarray.jl:1246                                                                                                                                                                                                                                                                                                                                                                                                                                                                                                                                                                             \n",
       " rol!(dest::BitArray{1}, src::BitArray{1}, i::Integer) at bitarray.jl:1230                                                                                                                                                                                                                                                                                                                                                                                                                                                                                                                                                       \n",
       " rol!(B::BitArray{1}, i::Integer) at bitarray.jl:1242                                                                                                                                                                                                                                                                                                                                                                                                                                                                                                                                                                            \n",
       " ror(B::BitArray{1}, i::Integer) at bitarray.jl:1266                                                                                                                                                                                                                                                                                                                                                                                                                                                                                                                                                                             \n",
       " ror!(dest::BitArray{1}, src::BitArray{1}, i::Integer) at bitarray.jl:1250                                                                                                                                                                                                                                                                                                                                                                                                                                                                                                                                                       \n",
       " ror!(B::BitArray{1}, i::Integer) at bitarray.jl:1262                                                                                                                                                                                                                                                                                                                                                                                                                                                                                                                                                                            \n",
       " rot180(A::AbstractArray{T,2}, k::Integer) at arraymath.jl:305                                                                                                                                                                                                                                                                                                                                                                                                                                                                                                                                                                   \n",
       " rotl90(A::AbstractArray{T,2}, k::Integer) at arraymath.jl:299                                                                                                                                                                                                                                                                                                                                                                                                                                                                                                                                                                   \n",
       " rotr90(A::AbstractArray{T,2}, k::Integer) at arraymath.jl:304                                                                                                                                                                                                                                                                                                                                                                                                                                                                                                                                                                   \n",
       " round(x::Integer) at int.jl:250                                                                                                                                                                                                                                                                                                                                                                                                                                                                                                                                                                                                 \n",
       " round{T<:Integer}(::Type{T<:Integer}, x::Integer) at int.jl:255                                                                                                                                                                                                                                                                                                                                                                                                                                                                                                                                                                 \n",
       " round(z::Complex{T<:Real}, digits::Integer) at complex.jl:747                                                                                                                                                                                                                                                                                                                                                                                                                                                                                                                                                                   \n",
       " round(z::Complex{T<:Real}, digits::Integer, base::Integer) at complex.jl:747                                                                                                                                                                                                                                                                                                                                                                                                                                                                                                                                                    \n",
       " round{R}(x::AbstractArray{R,1}, digits::Integer) at floatfuncs.jl:81                                                                                                                                                                                                                                                                                                                                                                                                                                                                                                                                                            \n",
       " round{R}(x::AbstractArray{R,1}, digits::Integer, base::Integer) at floatfuncs.jl:81                                                                                                                                                                                                                                                                                                                                                                                                                                                                                                                                             \n",
       " round{R}(x::AbstractArray{R,2}, digits::Integer) at floatfuncs.jl:84                                                                                                                                                                                                                                                                                                                                                                                                                                                                                                                                                            \n",
       " round{R}(x::AbstractArray{R,2}, digits::Integer, base::Integer) at floatfuncs.jl:84                                                                                                                                                                                                                                                                                                                                                                                                                                                                                                                                             \n",
       " round(x::AbstractArray{T,N}, digits::Integer) at floatfuncs.jl:87                                                                                                                                                                                                                                                                                                                                                                                                                                                                                                                                                               \n",
       " round(x::AbstractArray{T,N}, digits::Integer, base::Integer) at floatfuncs.jl:87                                                                                                                                                                                                                                                                                                                                                                                                                                                                                                                                                \n",
       " round(x::Real, digits::Integer) at floatfuncs.jl:148                                                                                                                                                                                                                                                                                                                                                                                                                                                                                                                                                                            \n",
       " round(x::Real, digits::Integer, base::Integer) at floatfuncs.jl:148                                                                                                                                                                                                                                                                                                                                                                                                                                                                                                                                                             \n",
       " rpad(s::AbstractString, n::Integer) at strings/util.jl:108                                                                                                                                                                                                                                                                                                                                                                                                                                                                                                                                                                      \n",
       " rpad(s::AbstractString, n::Integer, p::AbstractString) at strings/util.jl:108                                                                                                                                                                                                                                                                                                                                                                                                                                                                                                                                                   \n",
       " rpad(s, n::Integer) at strings/util.jl:121                                                                                                                                                                                                                                                                                                                                                                                                                                                                                                                                                                                      \n",
       " rpad(s, n::Integer, p) at strings/util.jl:121                                                                                                                                                                                                                                                                                                                                                                                                                                                                                                                                                                                   \n",
       " rsearch(s::ASCIIString, c::Char, i::Integer) at ascii.jl:27                                                                                                                                                                                                                                                                                                                                                                                                                                                                                                                                                                     \n",
       " rsearch(s::UTF8String, c::Char, i::Integer) at unicode/utf8.jl:144                                                                                                                                                                                                                                                                                                                                                                                                                                                                                                                                                              \n",
       " rsearch(s::AbstractString, c::Union{AbstractArray{Char,1},Char,Set{Char},Tuple{Vararg{Char}}}, i::Integer) at strings/search.jl:161                                                                                                                                                                                                                                                                                                                                                                                                                                                                                             \n",
       " rsearch(s::Union{Array{Int8,1},Array{UInt8,1}}, t::Union{Array{Int8,1},Array{UInt8,1}}, i::Integer) at strings/search.jl:293                                                                                                                                                                                                                                                                                                                                                                                                                                                                                                    \n",
       " rsearch(s::AbstractString, t::AbstractString, i::Integer) at strings/search.jl:302                                                                                                                                                                                                                                                                                                                                                                                                                                                                                                                                              \n",
       " rsearch(a::Union{Array{Int8,1},Array{UInt8,1}}, b::Union{Int8,UInt8}, i::Integer) at strings/search.jl:340                                                                                                                                                                                                                                                                                                                                                                                                                                                                                                                      \n",
       " rsearch(a::Union{Array{Int8,1},Array{UInt8,1}}, b::Char, i::Integer) at strings/search.jl:352                                                                                                                                                                                                                                                                                                                                                                                                                                                                                                                                   \n",
       " rsearchindex(s::ByteString, t::ByteString, i::Integer) at strings/search.jl:279                                                                                                                                                                                                                                                                                                                                                                                                                                                                                                                                                 \n",
       " rsearchindex(s::AbstractString, t::AbstractString, i::Integer) at strings/search.jl:263                                                                                                                                                                                                                                                                                                                                                                                                                                                                                                                                         \n",
       " rsplit(x, y, l::Integer) at deprecated.jl:49                                                                                                                                                                                                                                                                                                                                                                                                                                                                                                                                                                                    \n",
       " rsplit(x, y, l::Integer, k::Bool) at deprecated.jl:49                                                                                                                                                                                                                                                                                                                                                                                                                                                                                                                                                                           \n",
       " search(s::ASCIIString, c::Char, i::Integer) at ascii.jl:23                                                                                                                                                                                                                                                                                                                                                                                                                                                                                                                                                                      \n",
       " search(s::UTF8String, c::Char, i::Integer) at unicode/utf8.jl:127                                                                                                                                                                                                                                                                                                                                                                                                                                                                                                                                                               \n",
       " search(s::AbstractString, c::Union{AbstractArray{Char,1},Char,Set{Char},Tuple{Vararg{Char}}}, i::Integer) at strings/search.jl:4                                                                                                                                                                                                                                                                                                                                                                                                                                                                                                \n",
       " search(s::AbstractString, t::AbstractString, i::Integer) at strings/search.jl:146                                                                                                                                                                                                                                                                                                                                                                                                                                                                                                                                               \n",
       " search(a::Union{Array{Int8,1},Array{UInt8,1}}, b::Union{Int8,UInt8}, i::Integer) at strings/search.jl:319                                                                                                                                                                                                                                                                                                                                                                                                                                                                                                                       \n",
       " search(a::Union{Array{Int8,1},Array{UInt8,1}}, b::Char, i::Integer) at strings/search.jl:331                                                                                                                                                                                                                                                                                                                                                                                                                                                                                                                                    \n",
       " search(str::Union{ASCIIString,SubString{T<:AbstractString},UTF8String}, re::Regex, idx::Integer) at regex.jl:202                                                                                                                                                                                                                                                                                                                                                                                                                                                                                                                \n",
       " search(s::AbstractString, r::Regex, idx::Integer) at regex.jl:210                                                                                                                                                                                                                                                                                                                                                                                                                                                                                                                                                               \n",
       " searchindex(s::ByteString, t::ByteString, i::Integer) at strings/search.jl:129                                                                                                                                                                                                                                                                                                                                                                                                                                                                                                                                                  \n",
       " searchindex(s::AbstractString, t::AbstractString, i::Integer) at strings/search.jl:121                                                                                                                                                                                                                                                                                                                                                                                                                                                                                                                                          \n",
       " searchindex(s::AbstractString, c::Char, i::Integer) at strings/search.jl:123                                                                                                                                                                                                                                                                                                                                                                                                                                                                                                                                                    \n",
       " seek(io::Base.AbstractIOBuffer{T<:AbstractArray{UInt8,1}}, n::Integer) at iobuffer.jl:123                                                                                                                                                                                                                                                                                                                                                                                                                                                                                                                                       \n",
       " seek(s::IOStream, n::Integer) at iostream.jl:49                                                                                                                                                                                                                                                                                                                                                                                                                                                                                                                                                                                 \n",
       " seek(h::Base.Libc.FILE, offset::Integer) at libc.jl:64                                                                                                                                                                                                                                                                                                                                                                                                                                                                                                                                                                          \n",
       " setindex!(A::Array{T,2}, x::SparseMatrixCSC{Tv,Ti<:Integer}, I::Integer, J::AbstractArray{Bool,1}) at sparse/sparsematrix.jl:2202                                                                                                                                                                                                                                                                                                                                                                                                                                                                                               \n",
       " setindex!(A::UpperTriangular{T,S<:AbstractArray{T,2}}, x, i::Integer, j::Integer) at linalg/triangular.jl:121                                                                                                                                                                                                                                                                                                                                                                                                                                                                                                                   \n",
       " setindex!(A::Base.LinAlg.UnitUpperTriangular{T,S<:AbstractArray{T,2}}, x, i::Integer, j::Integer) at linalg/triangular.jl:129                                                                                                                                                                                                                                                                                                                                                                                                                                                                                                   \n",
       " setindex!(A::LowerTriangular{T,S<:AbstractArray{T,2}}, x, i::Integer, j::Integer) at linalg/triangular.jl:137                                                                                                                                                                                                                                                                                                                                                                                                                                                                                                                   \n",
       " setindex!(A::Base.LinAlg.UnitLowerTriangular{T,S<:AbstractArray{T,2}}, x, i::Integer, j::Integer) at linalg/triangular.jl:145                                                                                                                                                                                                                                                                                                                                                                                                                                                                                                   \n",
       " setindex!{T,Ti}(A::SparseMatrixCSC{T,Ti}, v, i0::Integer, i1::Integer) at sparse/sparsematrix.jl:1854                                                                                                                                                                                                                                                                                                                                                                                                                                                                                                                           \n",
       " setindex!(A::SparseMatrixCSC{Tv,Ti<:Integer}, x::Array{T,2}, I::Integer, J::AbstractArray{Bool,1}) at sparse/sparsematrix.jl:2196                                                                                                                                                                                                                                                                                                                                                                                                                                                                                               \n",
       " setindex!{T<:Integer}(A::SparseMatrixCSC{Tv,Ti<:Integer}, v::AbstractArray{T,2}, i::Integer, J::AbstractArray{T<:Integer,1}) at sparse/sparsematrix.jl:1887                                                                                                                                                                                                                                                                                                                                                                                                                                                                     \n",
       " setindex!(A::SparseMatrixCSC{Tv,Ti<:Integer}, x::Array{T,2}, I::AbstractArray{Bool,1}, J::Integer) at sparse/sparsematrix.jl:2197                                                                                                                                                                                                                                                                                                                                                                                                                                                                                               \n",
       " setindex!{T<:Integer}(A::SparseMatrixCSC{Tv,Ti<:Integer}, v::AbstractArray{T,2}, I::AbstractArray{T<:Integer,1}, j::Integer) at sparse/sparsematrix.jl:1888                                                                                                                                                                                                                                                                                                                                                                                                                                                                     \n",
       " setindex!{T<:Integer}(A::SparseMatrixCSC{Tv,Ti<:Integer}, x::Number, i::Integer, J::AbstractArray{T<:Integer,1}) at sparse/sparsematrix.jl:1890                                                                                                                                                                                                                                                                                                                                                                                                                                                                                 \n",
       " setindex!{T<:Integer}(A::SparseMatrixCSC{Tv,Ti<:Integer}, x::Number, I::AbstractArray{T<:Integer,1}, j::Integer) at sparse/sparsematrix.jl:1891                                                                                                                                                                                                                                                                                                                                                                                                                                                                                 \n",
       " setindex!{Tv,Ti,T<:Integer}(A::SparseMatrixCSC{Tv,Ti}, v::AbstractArray{T,1}, I::AbstractArray{T<:Integer,1}, j::Integer) at sparse/sparsematrix.jl:2070                                                                                                                                                                                                                                                                                                                                                                                                                                                                        \n",
       " setindex!{Tv,Ti,T<:Integer}(A::SparseMatrixCSC{Tv,Ti}, v::AbstractArray{T,1}, i::Integer, J::AbstractArray{T<:Integer,1}) at sparse/sparsematrix.jl:2071                                                                                                                                                                                                                                                                                                                                                                                                                                                                        \n",
       " setindex!(A::Array{T,2}, x::SparseMatrixCSC{Tv,Ti<:Integer}, I::AbstractArray{Bool,1}, J::Integer) at sparse/sparsematrix.jl:2203                                                                                                                                                                                                                                                                                                                                                                                                                                                                                               \n",
       " setindex!(a::ZMQ.Message, v, i::Integer) at /Users/juanklopper/.julia/v0.4/ZMQ/src/ZMQ.jl:419                                                                                                                                                                                                                                                                                                                                                                                                                                                                                                                                   \n",
       " signbit(x::Integer) at int.jl:29                                                                                                                                                                                                                                                                                                                                                                                                                                                                                                                                                                                                \n",
       " signif(x::Real, digits::Integer) at floatfuncs.jl:132                                                                                                                                                                                                                                                                                                                                                                                                                                                                                                                                                                           \n",
       " signif(x::Real, digits::Integer, base::Integer) at floatfuncs.jl:132                                                                                                                                                                                                                                                                                                                                                                                                                                                                                                                                                            \n",
       " sinc(x::Integer) at special/trig.jl:244                                                                                                                                                                                                                                                                                                                                                                                                                                                                                                                                                                                         \n",
       " sinpi(x::Integer) at special/trig.jl:209                                                                                                                                                                                                                                                                                                                                                                                                                                                                                                                                                                                        \n",
       " size(A::SymTridiagonal{T}, d::Integer) at linalg/tridiag.jl:52                                                                                                                                                                                                                                                                                                                                                                                                                                                                                                                                                                  \n",
       " size(M::Tridiagonal{T}, d::Integer) at linalg/tridiag.jl:285                                                                                                                                                                                                                                                                                                                                                                                                                                                                                                                                                                    \n",
       " size(A::Union{Base.LinAlg.QRCompactWYQ{S,M<:AbstractArray{T,2}},Base.LinAlg.QRPackedQ{T,S<:AbstractArray{T,2}}}, dim::Integer) at linalg/qr.jl:131                                                                                                                                                                                                                                                                                                                                                                                                                                                                              \n",
       " size(D::Diagonal{T}, d::Integer) at linalg/diagonal.jl:28                                                                                                                                                                                                                                                                                                                                                                                                                                                                                                                                                                       \n",
       " size(M::Bidiagonal{T}, d::Integer) at linalg/bidiag.jl:102                                                                                                                                                                                                                                                                                                                                                                                                                                                                                                                                                                      \n",
       " size(FC::Base.SparseMatrix.CHOLMOD.FactorComponent{Tv,S}, i::Integer) at sparse/cholmod.jl:1087                                                                                                                                                                                                                                                                                                                                                                                                                                                                                                                                 \n",
       " size(A::Union{Base.LinAlg.QRCompactWY{S,M<:AbstractArray{T,2}},Base.LinAlg.QRPivoted{T,S<:AbstractArray{T,2}},Base.LinAlg.QR{T,S<:AbstractArray{T,2}}}, dim::Integer) at linalg/qr.jl:129                                                                                                                                                                                                                                                                                                                                                                                                                                       \n",
       " size(C::Union{Base.LinAlg.CholeskyPivoted{T,S<:AbstractArray{T,2}},Base.LinAlg.Cholesky{T,S<:AbstractArray{T,2}}}, d::Integer) at linalg/cholesky.jl:164                                                                                                                                                                                                                                                                                                                                                                                                                                                                        \n",
       " size(B::Base.LinAlg.BunchKaufman{T,S<:AbstractArray{T,2}}, d::Integer) at linalg/bunchkaufman.jl:34                                                                                                                                                                                                                                                                                                                                                                                                                                                                                                                             \n",
       " size(S::Base.LinAlg.LDLt{T,S<:AbstractArray{T,2}}, i::Integer) at linalg/ldlt.jl:8                                                                                                                                                                                                                                                                                                                                                                                                                                                                                                                                              \n",
       " size(F::Base.SparseMatrix.CHOLMOD.Factor{Tv}, i::Integer) at sparse/cholmod.jl:1075                                                                                                                                                                                                                                                                                                                                                                                                                                                                                                                                             \n",
       " size(F::Base.SparseMatrix.SPQR.Factorization{Tv<:Union{Complex{Float64},Float64}}, i::Integer) at sparse/spqr.jl:70                                                                                                                                                                                                                                                                                                                                                                                                                                                                                                             \n",
       " size(x, d1::Integer, d2::Integer, dx::Integer...) at abstractarray.jl:54                                                                                                                                                                                                                                                                                                                                                                                                                                                                                                                                                        \n",
       " sizehint!(a::Array{T,1}, sz::Integer) at array.jl:476                                                                                                                                                                                                                                                                                                                                                                                                                                                                                                                                                                           \n",
       " sizehint!(B::BitArray{1}, sz::Integer) at bitarray.jl:501                                                                                                                                                                                                                                                                                                                                                                                                                                                                                                                                                                       \n",
       " sizehint!(s::IntSet, top::Integer) at intset.jl:37                                                                                                                                                                                                                                                                                                                                                                                                                                                                                                                                                                              \n",
       " skip(io::Base.AbstractIOBuffer{T<:AbstractArray{UInt8,1}}, n::Integer) at iobuffer.jl:116                                                                                                                                                                                                                                                                                                                                                                                                                                                                                                                                       \n",
       " skip(s::IOStream, delta::Integer) at iostream.jl:63                                                                                                                                                                                                                                                                                                                                                                                                                                                                                                                                                                             \n",
       " slicedim(A::Array{T,N}, d::Integer, i::Integer) at arraymath.jl:178                                                                                                                                                                                                                                                                                                                                                                                                                                                                                                                                                             \n",
       " slicedim(A::BitArray{N}, d::Integer, i::Integer) at bitarray.jl:1066                                                                                                                                                                                                                                                                                                                                                                                                                                                                                                                                                            \n",
       " slicedim(A::AbstractArray{T,N}, d::Integer, i) at abstractarraymath.jl:63                                                                                                                                                                                                                                                                                                                                                                                                                                                                                                                                                       \n",
       " sort(A::AbstractArray{T,N}, dim::Integer) at sort.jl:479                                                                                                                                                                                                                                                                                                                                                                                                                                                                                                                                                                        \n",
       " sparse{Tv,Ti<:Integer}(I::AbstractArray{Ti<:Integer,1}, J::AbstractArray{Ti<:Integer,1}, V::AbstractArray{Tv,1}, nrow::Integer, ncol::Integer, combine::Union{Base.Func{N},Function}) at sparse/csparse.jl:31                                                                                                                                                                                                                                                                                                                                                                                                                   \n",
       " sparsevec(I::AbstractArray{T,1}, V, m::Integer) at sparse/sparsematrix.jl:263                                                                                                                                                                                                                                                                                                                                                                                                                                                                                                                                                   \n",
       " sparsevec(I::AbstractArray{T,1}, V, m::Integer, combine::Union{Base.Func{N},Function}) at sparse/sparsematrix.jl:278                                                                                                                                                                                                                                                                                                                                                                                                                                                                                                            \n",
       " spdiagm(B::AbstractArray{T,1}, d::Number, m::Integer, n::Integer) at sparse/sparsematrix.jl:2698                                                                                                                                                                                                                                                                                                                                                                                                                                                                                                                                \n",
       " spdiagm(B, d, m::Integer, n::Integer) at sparse/sparsematrix.jl:2689                                                                                                                                                                                                                                                                                                                                                                                                                                                                                                                                                            \n",
       " speye(n::Integer) at sparse/sparsematrix.jl:580                                                                                                                                                                                                                                                                                                                                                                                                                                                                                                                                                                                 \n",
       " speye(T::Type{T}, n::Integer) at sparse/sparsematrix.jl:581                                                                                                                                                                                                                                                                                                                                                                                                                                                                                                                                                                     \n",
       " speye(m::Integer, n::Integer) at sparse/sparsematrix.jl:582                                                                                                                                                                                                                                                                                                                                                                                                                                                                                                                                                                     \n",
       " speye(T::Type{T}, m::Integer, n::Integer) at sparse/sparsematrix.jl:593                                                                                                                                                                                                                                                                                                                                                                                                                                                                                                                                                         \n",
       " splice!(a::Array{T,1}, i::Integer) at array.jl:568                                                                                                                                                                                                                                                                                                                                                                                                                                                                                                                                                                              \n",
       " splice!(a::Array{T,1}, i::Integer, ins) at array.jl:568                                                                                                                                                                                                                                                                                                                                                                                                                                                                                                                                                                         \n",
       " splice!(B::BitArray{1}, i::Integer) at bitarray.jl:712                                                                                                                                                                                                                                                                                                                                                                                                                                                                                                                                                                          \n",
       " split(x, y, l::Integer) at deprecated.jl:49                                                                                                                                                                                                                                                                                                                                                                                                                                                                                                                                                                                     \n",
       " split(x, y, l::Integer, k::Bool) at deprecated.jl:49                                                                                                                                                                                                                                                                                                                                                                                                                                                                                                                                                                            \n",
       " sprand(r::AbstractRNG, m::Integer, n::Integer, density::AbstractFloat) at sparse/sparsematrix.jl:533                                                                                                                                                                                                                                                                                                                                                                                                                                                                                                                            \n",
       " sprand(r::AbstractRNG, m::Integer, n::Integer, density::AbstractFloat, rfn::Function) at sparse/sparsematrix.jl:515                                                                                                                                                                                                                                                                                                                                                                                                                                                                                                             \n",
       " sprand{T}(r::AbstractRNG, m::Integer, n::Integer, density::AbstractFloat, rfn::Function, ::Type{T}) at sparse/sparsematrix.jl:515                                                                                                                                                                                                                                                                                                                                                                                                                                                                                               \n",
       " sprand(m::Integer, n::Integer, density::AbstractFloat) at sparse/sparsematrix.jl:534                                                                                                                                                                                                                                                                                                                                                                                                                                                                                                                                            \n",
       " sprand(m::Integer, n::Integer, density::AbstractFloat, rfn::Function) at sparse/sparsematrix.jl:525                                                                                                                                                                                                                                                                                                                                                                                                                                                                                                                             \n",
       " sprand{T}(m::Integer, n::Integer, density::AbstractFloat, rfn::Function, ::Type{T}) at sparse/sparsematrix.jl:525                                                                                                                                                                                                                                                                                                                                                                                                                                                                                                               \n",
       " sprandbool(r::AbstractRNG, m::Integer, n::Integer, density::AbstractFloat) at sparse/sparsematrix.jl:547                                                                                                                                                                                                                                                                                                                                                                                                                                                                                                                        \n",
       " sprandbool(m::Integer, n::Integer, density::AbstractFloat) at sparse/sparsematrix.jl:555                                                                                                                                                                                                                                                                                                                                                                                                                                                                                                                                        \n",
       " sprandn(r::AbstractRNG, m::Integer, n::Integer, density::AbstractFloat) at sparse/sparsematrix.jl:535                                                                                                                                                                                                                                                                                                                                                                                                                                                                                                                           \n",
       " sprandn(m::Integer, n::Integer, density::AbstractFloat) at sparse/sparsematrix.jl:544                                                                                                                                                                                                                                                                                                                                                                                                                                                                                                                                           \n",
       " sprint(size::Integer, f::Function, args...) at iostream.jl:204                                                                                                                                                                                                                                                                                                                                                                                                                                                                                                                                                                  \n",
       " spzeros(m::Integer, n::Integer) at sparse/sparsematrix.jl:572                                                                                                                                                                                                                                                                                                                                                                                                                                                                                                                                                                   \n",
       " spzeros(Tv::Type{T}, m::Integer, n::Integer) at sparse/sparsematrix.jl:573                                                                                                                                                                                                                                                                                                                                                                                                                                                                                                                                                      \n",
       " spzeros(Tv::Type{T}, Ti::Type{T}, m::Integer, n::Integer) at sparse/sparsematrix.jl:575                                                                                                                                                                                                                                                                                                                                                                                                                                                                                                                                         \n",
       " squeeze(A::AbstractArray{T,N}, dim::Integer) at abstractarraymath.jl:38                                                                                                                                                                                                                                                                                                                                                                                                                                                                                                                                                         \n",
       " srand(r::MersenneTwister, n::Integer) at random.jl:181                                                                                                                                                                                                                                                                                                                                                                                                                                                                                                                                                                          \n",
       " srand(r::MersenneTwister, filename::AbstractString, n::Integer) at random.jl:182                                                                                                                                                                                                                                                                                                                                                                                                                                                                                                                                                \n",
       " srand(filename::AbstractString, n::Integer) at random.jl:202                                                                                                                                                                                                                                                                                                                                                                                                                                                                                                                                                                    \n",
       " stat(fd::Integer) at stat.jl:54                                                                                                                                                                                                                                                                                                                                                                                                                                                                                                                                                                                                 \n",
       " stride(V::SubArray{T,N,P<:AbstractArray{T,N},I<:Tuple{Vararg{Union{AbstractArray{T,1},Colon,Int64}}},LD}, d::Integer) at subarray.jl:375                                                                                                                                                                                                                                                                                                                                                                                                                                                                                        \n",
       " stride(a::AbstractArray{T,N}, i::Integer) at abstractarray.jl:73                                                                                                                                                                                                                                                                                                                                                                                                                                                                                                                                                                \n",
       " svdfact(x::Integer) at linalg/svd.jl:26                                                                                                                                                                                                                                                                                                                                                                                                                                                                                                                                                                                         \n",
       " symdiff!(s::IntSet, n::Integer) at intset.jl:137                                                                                                                                                                                                                                                                                                                                                                                                                                                                                                                                                                                \n",
       " trailing_ones(x::Integer) at int.jl:140                                                                                                                                                                                                                                                                                                                                                                                                                                                                                                                                                                                         \n",
       " tril(M::Array{T,2}, k::Integer) at linalg/dense.jl:105                                                                                                                                                                                                                                                                                                                                                                                                                                                                                                                                                                          \n",
       " tril(A::Hermitian{T,S<:AbstractArray{T,2}}, k::Integer) at linalg/symmetric.jl:61                                                                                                                                                                                                                                                                                                                                                                                                                                                                                                                                               \n",
       " tril(A::Symmetric{T,S<:AbstractArray{T,2}}, k::Integer) at linalg/symmetric.jl:73                                                                                                                                                                                                                                                                                                                                                                                                                                                                                                                                               \n",
       " tril(B::BitArray{2}, k::Integer) at linalg/bitarray.jl:58                                                                                                                                                                                                                                                                                                                                                                                                                                                                                                                                                                       \n",
       " tril{Tv,Ti}(S::SparseMatrixCSC{Tv,Ti}, k::Integer) at sparse/linalg.jl:286                                                                                                                                                                                                                                                                                                                                                                                                                                                                                                                                                      \n",
       " tril(M::AbstractArray{T,2}, k::Integer) at linalg/generic.jl:36                                                                                                                                                                                                                                                                                                                                                                                                                                                                                                                                                                 \n",
       " tril!(M::SymTridiagonal{T}, k::Integer) at linalg/tridiag.jl:151                                                                                                                                                                                                                                                                                                                                                                                                                                                                                                                                                                \n",
       " tril!(M::Tridiagonal{T}, k::Integer) at linalg/tridiag.jl:367                                                                                                                                                                                                                                                                                                                                                                                                                                                                                                                                                                   \n",
       " tril!(A::UpperTriangular{T,S<:AbstractArray{T,2}}, k::Integer) at linalg/triangular.jl:158                                                                                                                                                                                                                                                                                                                                                                                                                                                                                                                                      \n",
       " tril!(A::Base.LinAlg.UnitUpperTriangular{T,S<:AbstractArray{T,2}}, k::Integer) at linalg/triangular.jl:176                                                                                                                                                                                                                                                                                                                                                                                                                                                                                                                      \n",
       " tril!(A::LowerTriangular{T,S<:AbstractArray{T,2}}, k::Integer) at linalg/triangular.jl:220                                                                                                                                                                                                                                                                                                                                                                                                                                                                                                                                      \n",
       " tril!(A::Base.LinAlg.UnitLowerTriangular{T,S<:AbstractArray{T,2}}, k::Integer) at linalg/triangular.jl:244                                                                                                                                                                                                                                                                                                                                                                                                                                                                                                                      \n",
       " tril!(D::Diagonal{T}, k::Integer) at linalg/diagonal.jl:75                                                                                                                                                                                                                                                                                                                                                                                                                                                                                                                                                                      \n",
       " tril!(M::Bidiagonal{T}, k::Integer) at linalg/bidiag.jl:126                                                                                                                                                                                                                                                                                                                                                                                                                                                                                                                                                                     \n",
       " tril!(A::SparseMatrixCSC{Tv,Ti<:Integer}, k::Integer) at sparse/csparse.jl:411                                                                                                                                                                                                                                                                                                                                                                                                                                                                                                                                                  \n",
       " tril!(M::AbstractArray{T,2}, k::Integer) at linalg/dense.jl:90                                                                                                                                                                                                                                                                                                                                                                                                                                                                                                                                                                  \n",
       " triu(M::Array{T,2}, k::Integer) at linalg/dense.jl:87                                                                                                                                                                                                                                                                                                                                                                                                                                                                                                                                                                           \n",
       " triu(A::Hermitian{T,S<:AbstractArray{T,2}}, k::Integer) at linalg/symmetric.jl:85                                                                                                                                                                                                                                                                                                                                                                                                                                                                                                                                               \n",
       " triu(A::Symmetric{T,S<:AbstractArray{T,2}}, k::Integer) at linalg/symmetric.jl:97                                                                                                                                                                                                                                                                                                                                                                                                                                                                                                                                               \n",
       " triu(B::BitArray{2}, k::Integer) at linalg/bitarray.jl:46                                                                                                                                                                                                                                                                                                                                                                                                                                                                                                                                                                       \n",
       " triu{Tv,Ti}(S::SparseMatrixCSC{Tv,Ti}, k::Integer) at sparse/linalg.jl:255                                                                                                                                                                                                                                                                                                                                                                                                                                                                                                                                                      \n",
       " triu(M::AbstractArray{T,2}, k::Integer) at linalg/generic.jl:35                                                                                                                                                                                                                                                                                                                                                                                                                                                                                                                                                                 \n",
       " triu!(M::SymTridiagonal{T}, k::Integer) at linalg/tridiag.jl:169                                                                                                                                                                                                                                                                                                                                                                                                                                                                                                                                                                \n",
       " triu!(M::Tridiagonal{T}, k::Integer) at linalg/tridiag.jl:384                                                                                                                                                                                                                                                                                                                                                                                                                                                                                                                                                                   \n",
       " triu!(A::UpperTriangular{T,S<:AbstractArray{T,2}}, k::Integer) at linalg/triangular.jl:173                                                                                                                                                                                                                                                                                                                                                                                                                                                                                                                                      \n",
       " triu!(A::Base.LinAlg.UnitUpperTriangular{T,S<:AbstractArray{T,2}}, k::Integer) at linalg/triangular.jl:197                                                                                                                                                                                                                                                                                                                                                                                                                                                                                                                      \n",
       " triu!(A::LowerTriangular{T,S<:AbstractArray{T,2}}, k::Integer) at linalg/triangular.jl:204                                                                                                                                                                                                                                                                                                                                                                                                                                                                                                                                      \n",
       " triu!(A::Base.LinAlg.UnitLowerTriangular{T,S<:AbstractArray{T,2}}, k::Integer) at linalg/triangular.jl:223                                                                                                                                                                                                                                                                                                                                                                                                                                                                                                                      \n",
       " triu!(D::Diagonal{T}, k::Integer) at linalg/diagonal.jl:65                                                                                                                                                                                                                                                                                                                                                                                                                                                                                                                                                                      \n",
       " triu!(M::Bidiagonal{T}, k::Integer) at linalg/bidiag.jl:144                                                                                                                                                                                                                                                                                                                                                                                                                                                                                                                                                                     \n",
       " triu!(A::SparseMatrixCSC{Tv,Ti<:Integer}, k::Integer) at sparse/csparse.jl:403                                                                                                                                                                                                                                                                                                                                                                                                                                                                                                                                                  \n",
       " triu!(M::AbstractArray{T,2}, k::Integer) at linalg/dense.jl:72                                                                                                                                                                                                                                                                                                                                                                                                                                                                                                                                                                  \n",
       " trunc(x::Integer) at int.jl:251                                                                                                                                                                                                                                                                                                                                                                                                                                                                                                                                                                                                 \n",
       " trunc{T<:Integer}(::Type{T<:Integer}, x::Integer) at int.jl:256                                                                                                                                                                                                                                                                                                                                                                                                                                                                                                                                                                 \n",
       " trunc{R}(x::AbstractArray{R,1}, digits::Integer) at floatfuncs.jl:81                                                                                                                                                                                                                                                                                                                                                                                                                                                                                                                                                            \n",
       " trunc{R}(x::AbstractArray{R,1}, digits::Integer, base::Integer) at floatfuncs.jl:81                                                                                                                                                                                                                                                                                                                                                                                                                                                                                                                                             \n",
       " trunc{R}(x::AbstractArray{R,2}, digits::Integer) at floatfuncs.jl:84                                                                                                                                                                                                                                                                                                                                                                                                                                                                                                                                                            \n",
       " trunc{R}(x::AbstractArray{R,2}, digits::Integer, base::Integer) at floatfuncs.jl:84                                                                                                                                                                                                                                                                                                                                                                                                                                                                                                                                             \n",
       " trunc(x::AbstractArray{T,N}, digits::Integer) at floatfuncs.jl:87                                                                                                                                                                                                                                                                                                                                                                                                                                                                                                                                                               \n",
       " trunc(x::AbstractArray{T,N}, digits::Integer, base::Integer) at floatfuncs.jl:87                                                                                                                                                                                                                                                                                                                                                                                                                                                                                                                                                \n",
       " trunc(x::Real, digits::Integer) at floatfuncs.jl:148                                                                                                                                                                                                                                                                                                                                                                                                                                                                                                                                                                            \n",
       " trunc(x::Real, digits::Integer, base::Integer) at floatfuncs.jl:148                                                                                                                                                                                                                                                                                                                                                                                                                                                                                                                                                             \n",
       " truncate(io::Base.AbstractIOBuffer{T<:AbstractArray{UInt8,1}}, n::Integer) at iobuffer.jl:141                                                                                                                                                                                                                                                                                                                                                                                                                                                                                                                                   \n",
       " truncate(s::IOStream, n::Integer) at iostream.jl:44                                                                                                                                                                                                                                                                                                                                                                                                                                                                                                                                                                             \n",
       " uint8(x::Integer) at deprecated.jl:49                                                                                                                                                                                                                                                                                                                                                                                                                                                                                                                                                                                           \n",
       " unsafe_load(p::Ptr{T}, i::Integer) at pointer.jl:47                                                                                                                                                                                                                                                                                                                                                                                                                                                                                                                                                                             \n",
       " unsafe_store!(p::Ptr{Any}, x::ANY, i::Integer) at pointer.jl:49                                                                                                                                                                                                                                                                                                                                                                                                                                                                                                                                                                 \n",
       " unsafe_store!{T}(p::Ptr{T}, x, i::Integer) at pointer.jl:50                                                                                                                                                                                                                                                                                                                                                                                                                                                                                                                                                                     \n",
       " utf16(p::Ptr{UInt16}, len::Integer) at unicode/utf16.jl:246                                                                                                                                                                                                                                                                                                                                                                                                                                                                                                                                                                     \n",
       " utf16(p::Ptr{Int16}, len::Integer) at unicode/utf16.jl:247                                                                                                                                                                                                                                                                                                                                                                                                                                                                                                                                                                      \n",
       " utf32(p::Ptr{UInt32}, len::Integer) at unicode/utf32.jl:178                                                                                                                                                                                                                                                                                                                                                                                                                                                                                                                                                                     \n",
       " utf32(p::Union{Ptr{Char},Ptr{Int32}}, len::Integer) at unicode/utf32.jl:179                                                                                                                                                                                                                                                                                                                                                                                                                                                                                                                                                     \n",
       " utf8(p::Ptr{UInt8}, len::Integer) at unicode/utf8.jl:359                                                                                                                                                                                                                                                                                                                                                                                                                                                                                                                                                                        \n",
       " with_bigfloat_precision(f::Function, precision::Integer) at mpfr.jl:817                                                                                                                                                                                                                                                                                                                                                                                                                                                                                                                                                         \n",
       " write(to::Base.AbstractIOBuffer{T<:AbstractArray{UInt8,1}}, p::Ptr{T}, nb::Integer) at iobuffer.jl:278                                                                                                                                                                                                                                                                                                                                                                                                                                                                                                                          \n",
       " write(s::IO, x::Integer) at io.jl:51                                                                                                                                                                                                                                                                                                                                                                                                                                                                                                                                                                                            \n",
       " write(s::IOStream, p::Ptr{T}, nb::Integer) at iostream.jl:137                                                                                                                                                                                                                                                                                                                                                                                                                                                                                                                                                                   \n",
       " write(s::BufferStream, p::Ptr{T}, nb::Integer) at stream.jl:1203                                                                                                                                                                                                                                                                                                                                                                                                                                                                                                                                                                \n",
       " write(s::Base.LibuvStream, p::Ptr{T}, n::Integer) at stream.jl:1000                                                                                                                                                                                                                                                                                                                                                                                                                                                                                                                                                             \n",
       " write(f::Base.FS.File, buf::Ptr{UInt8}, len::Integer) at fs.jl:188                                                                                                                                                                                                                                                                                                                                                                                                                                                                                                                                                              \n",
       " write(f::Base.FS.File, buf::Ptr{UInt8}, len::Integer, offset::Integer) at fs.jl:188                                                                                                                                                                                                                                                                                                                                                                                                                                                                                                                                             \n",
       " write(t::Base.Terminals.UnixTerminal, p::Ptr{UInt8}, x::Integer) at Terminals.jl:193                                                                                                                                                                                                                                                                                                                                                                                                                                                                                                                                            \n",
       " write(s::IO, p::Ptr{T}, n::Integer) at io.jl:95                                                                                                                                                                                                                                                                                                                                                                                                                                                                                                                                                                                 \n",
       " zeta(x::Integer) at special/gamma.jl:462                                                                                                                                                                                                                                                                                                                                                                                                                                                                                                                                                                                        \n",
       " zeta(s::Integer, z::Union{Complex{Float32},Float32}) at special/gamma.jl:355                                                                                                                                                                                                                                                                                                                                                                                                                                                                                                                                                    \n",
       " zeta(s::Integer, z::Union{Complex{Float16},Float16}) at special/gamma.jl:355                                                                                                                                                                                                                                                                                                                                                                                                                                                                                                                                                    \n",
       " zeta(s::Integer, z::Number) at special/gamma.jl:364                                                                                                                                                                                                                                                                                                                                                                                                                                                                                                                                                                             \n",
       " |(x::Integer) at operators.jl:76                                                                                                                                                                                                                                                                                                                                                                                                                                                                                                                                                                                                \n",
       " |{T<:Integer}(x::T<:Integer, y::T<:Integer) at promotion.jl:222                                                                                                                                                                                                                                                                                                                                                                                                                                                                                                                                                                 \n",
       " |(x::Integer, y::Integer) at promotion.jl:177                                                                                                                                                                                                                                                                                                                                                                                                                                                                                                                                                                                   \n",
       " ~(n::Integer) at int.jl:49                                                                                                                                                                                                                                                                                                                                                                                                                                                                                                                                                                                                      \n",
       " set(ctx::ZMQ.Context, option::Integer, value::Integer) at /Users/juanklopper/.julia/v0.4/ZMQ/src/ZMQ.jl:161                                                                                                                                                                                                                                                                                                                                                                                                                                                                                                                     \n",
       " set(zmsg::ZMQ.Message, property::Integer, value::Integer) at /Users/juanklopper/.julia/v0.4/ZMQ/src/ZMQ.jl:452                                                                                                                                                                                                                                                                                                                                                                                                                                                                                                                  "
      ]
     },
     "execution_count": 88,
     "metadata": {},
     "output_type": "execute_result"
    }
   ],
   "source": [
    "methodswith(Integer)"
   ]
  },
  {
   "cell_type": "markdown",
   "metadata": {},
   "source": [
    "Let's use multiple dispatch in creating our own function, then call it with the various argument types."
   ]
  },
  {
   "cell_type": "code",
   "execution_count": 89,
   "metadata": {
    "collapsed": true
   },
   "outputs": [
    {
     "data": {
      "text/plain": [
       "my_func (generic function with 4 methods)"
      ]
     },
     "execution_count": 89,
     "metadata": {},
     "output_type": "execute_result"
    }
   ],
   "source": [
    "function my_func(a, b) # When no type is specified, Any is implied\n",
    "    return print(\"Generic case\")\n",
    "end\n",
    "\n",
    "function my_func(a::Real, b::Real)\n",
    "    return (\"Both arguments are numbers\")\n",
    "end\n",
    "\n",
    "function my_func(a::Real, b)\n",
    "    return print(\"The first argument is a number\")\n",
    "end\n",
    "\n",
    "function my_func(a, b::Real)\n",
    "    return print(\"The second argument is a number\")\n",
    "end"
   ]
  },
  {
   "cell_type": "code",
   "execution_count": 90,
   "metadata": {
    "collapsed": true
   },
   "outputs": [
    {
     "data": {
      "text/plain": [
       "\"Both arguments are numbers\""
      ]
     },
     "execution_count": 90,
     "metadata": {},
     "output_type": "execute_result"
    }
   ],
   "source": [
    "# Passing two numbers\n",
    "my_func(pi, 3)"
   ]
  },
  {
   "cell_type": "code",
   "execution_count": 91,
   "metadata": {
    "collapsed": true
   },
   "outputs": [
    {
     "name": "stdout",
     "output_type": "stream",
     "text": [
      "The first argument is a number"
     ]
    }
   ],
   "source": [
    "# Passing a number and a string\n",
    "my_func(pi, \"Julia\")"
   ]
  },
  {
   "cell_type": "code",
   "execution_count": 92,
   "metadata": {
    "collapsed": false
   },
   "outputs": [],
   "source": [
    "# Passing a string and a number\n",
    "my_func(\"Julia\", exp(1))"
   ]
  },
  {
   "cell_type": "code",
   "execution_count": 93,
   "metadata": {
    "collapsed": false
   },
   "outputs": [],
   "source": [
    "# Passing two strings\n",
    "my_func(\"I love\", \"Julia\")"
   ]
  },
  {
   "cell_type": "code",
   "execution_count": 94,
   "metadata": {
    "collapsed": true
   },
   "outputs": [
    {
     "data": {
      "text/html": [
       "4 methods for generic function <b>my_func</b>:<ul><li> my_func(a::<b>Real</b>, b::<b>Real</b>) at In[89]:6<li> my_func(a::<b>Real</b>, b) at In[89]:10<li> my_func(a, b::<b>Real</b>) at In[89]:14<li> my_func(a, b) at In[89]:2</ul>"
      ],
      "text/plain": [
       "# 4 methods for generic function \"my_func\":\n",
       "my_func(a::Real, b::Real) at In[89]:6\n",
       "my_func(a::Real, b) at In[89]:10\n",
       "my_func(a, b::Real) at In[89]:14\n",
       "my_func(a, b) at In[89]:2"
      ]
     },
     "execution_count": 94,
     "metadata": {},
     "output_type": "execute_result"
    }
   ],
   "source": [
    "# Checking out all the methods\n",
    "methods(my_func)"
   ]
  },
  {
   "cell_type": "markdown",
   "metadata": {},
   "source": [
    "<hr/>\n",
    "## A selection of inbuilt Julia functions"
   ]
  },
  {
   "cell_type": "markdown",
   "metadata": {},
   "source": [
    "### Operations"
   ]
  },
  {
   "cell_type": "markdown",
   "metadata": {},
   "source": [
    "We have seen in previous lectures that operations are actually functions.  That's why we can use something like:\n",
    "```\n",
    "+(2, 2)\n",
    "```"
   ]
  },
  {
   "cell_type": "code",
   "execution_count": 95,
   "metadata": {
    "collapsed": true
   },
   "outputs": [
    {
     "data": {
      "text/plain": [
       "Function"
      ]
     },
     "execution_count": 95,
     "metadata": {},
     "output_type": "execute_result"
    }
   ],
   "source": [
    "# Just to prove the point in case you don't believe me\n",
    "typeof(+)"
   ]
  },
  {
   "cell_type": "markdown",
   "metadata": {},
   "source": [
    "### The *filter()* function"
   ]
  },
  {
   "cell_type": "markdown",
   "metadata": {},
   "source": [
    "This is an incrdibly useful function.  We have seen *map()* and *do* blocks in action, but have a look at this (also using the *iseven()* function)."
   ]
  },
  {
   "cell_type": "code",
   "execution_count": 96,
   "metadata": {
    "collapsed": true
   },
   "outputs": [
    {
     "data": {
      "text/plain": [
       "10-element Array{Int64,1}:\n",
       "  2\n",
       "  4\n",
       "  6\n",
       "  8\n",
       " 10\n",
       " 12\n",
       " 14\n",
       " 16\n",
       " 18\n",
       " 20"
      ]
     },
     "execution_count": 96,
     "metadata": {},
     "output_type": "execute_result"
    }
   ],
   "source": [
    "filter(i -> iseven(i), collect(1:20))"
   ]
  },
  {
   "cell_type": "markdown",
   "metadata": {
    "collapsed": true
   },
   "source": [
    "### The *find()* and *isprime()* functions"
   ]
  },
  {
   "cell_type": "code",
   "execution_count": 97,
   "metadata": {
    "collapsed": true
   },
   "outputs": [
    {
     "data": {
      "text/plain": [
       "prime_numbers (generic function with 1 method)"
      ]
     },
     "execution_count": 97,
     "metadata": {},
     "output_type": "execute_result"
    }
   ],
   "source": [
    "function prime_numbers{T<:Integer}(a::Array{T,1})\n",
    "    find(isprime, a)\n",
    "end"
   ]
  },
  {
   "cell_type": "code",
   "execution_count": 98,
   "metadata": {
    "collapsed": true
   },
   "outputs": [
    {
     "data": {
      "text/plain": [
       "8-element Array{Int64,1}:\n",
       "  2\n",
       "  3\n",
       "  5\n",
       "  7\n",
       " 11\n",
       " 13\n",
       " 17\n",
       " 19"
      ]
     },
     "execution_count": 98,
     "metadata": {},
     "output_type": "execute_result"
    }
   ],
   "source": [
    "prime_numbers(collect(1:20))"
   ]
  },
  {
   "cell_type": "code",
   "execution_count": 99,
   "metadata": {
    "collapsed": true
   },
   "outputs": [
    {
     "data": {
      "text/plain": [
       "easy_primes (generic function with 1 method)"
      ]
     },
     "execution_count": 99,
     "metadata": {},
     "output_type": "execute_result"
    }
   ],
   "source": [
    "# We could simplify the function above\n",
    "function easy_primes(a::Array{Int64,1})\n",
    "    find(isprime, a)\n",
    "end"
   ]
  },
  {
   "cell_type": "code",
   "execution_count": 100,
   "metadata": {
    "collapsed": true
   },
   "outputs": [
    {
     "data": {
      "text/plain": [
       "8-element Array{Int64,1}:\n",
       "  2\n",
       "  3\n",
       "  5\n",
       "  7\n",
       " 11\n",
       " 13\n",
       " 17\n",
       " 19"
      ]
     },
     "execution_count": 100,
     "metadata": {},
     "output_type": "execute_result"
    }
   ],
   "source": [
    "easy_primes(collect(1:20))"
   ]
  },
  {
   "cell_type": "markdown",
   "metadata": {},
   "source": [
    "<hr/>\n",
    "## List comprehension"
   ]
  },
  {
   "cell_type": "markdown",
   "metadata": {},
   "source": [
    "List comprehension crops up everywhere.  We've seen it before, but let's just have another quick look here in the *Functions* lecture.  We'll create a matrix:"
   ]
  },
  {
   "cell_type": "code",
   "execution_count": 101,
   "metadata": {
    "collapsed": true
   },
   "outputs": [
    {
     "data": {
      "text/plain": [
       "2x3 Array{Int64,2}:\n",
       " 2  3  4\n",
       " 3  4  5"
      ]
     },
     "execution_count": 101,
     "metadata": {},
     "output_type": "execute_result"
    },
    {
     "name": "stdout",
     "output_type": "stream",
     "text": [
      "The second argument is a numberGeneric case"
     ]
    }
   ],
   "source": [
    "matrix1 = [x + y for x in 1:2, y in 1:3]"
   ]
  },
  {
   "cell_type": "markdown",
   "metadata": {},
   "source": [
    "Okay, so what happened here?  The $x + y$ bit just does addition, with $x$ starting at $1$ and so for $y$.  Note, though, that $y$ goes to $3$, so we will have for the first row: $1+1$, $1+2$ and finally $1+3$, before we skip to row 2 with $x$ now being $2$ and $y$ starting back at $1$. "
   ]
  },
  {
   "cell_type": "code",
   "execution_count": 102,
   "metadata": {
    "collapsed": true
   },
   "outputs": [
    {
     "data": {
      "text/plain": [
       "2x3 Array{Int64,2}:\n",
       " 2  3  4\n",
       " 3  4  5"
      ]
     },
     "execution_count": 102,
     "metadata": {},
     "output_type": "execute_result"
    }
   ],
   "source": [
    "# Remember, we can also use = instead of in\n",
    "[x + y for x = 1:2, y = 1:3]"
   ]
  },
  {
   "cell_type": "markdown",
   "metadata": {},
   "source": [
    "We can go back to school and recreate the $12 \\times 12$ table:"
   ]
  },
  {
   "cell_type": "code",
   "execution_count": 103,
   "metadata": {
    "collapsed": true
   },
   "outputs": [
    {
     "data": {
      "text/plain": [
       "12x12 Array{Int64,2}:\n",
       "  1   2   3   4   5   6   7   8    9   10   11   12\n",
       "  2   4   6   8  10  12  14  16   18   20   22   24\n",
       "  3   6   9  12  15  18  21  24   27   30   33   36\n",
       "  4   8  12  16  20  24  28  32   36   40   44   48\n",
       "  5  10  15  20  25  30  35  40   45   50   55   60\n",
       "  6  12  18  24  30  36  42  48   54   60   66   72\n",
       "  7  14  21  28  35  42  49  56   63   70   77   84\n",
       "  8  16  24  32  40  48  56  64   72   80   88   96\n",
       "  9  18  27  36  45  54  63  72   81   90   99  108\n",
       " 10  20  30  40  50  60  70  80   90  100  110  120\n",
       " 11  22  33  44  55  66  77  88   99  110  121  132\n",
       " 12  24  36  48  60  72  84  96  108  120  132  144"
      ]
     },
     "execution_count": 103,
     "metadata": {},
     "output_type": "execute_result"
    }
   ],
   "source": [
    "[x * y for x in 1:12, y in 1:12]"
   ]
  },
  {
   "cell_type": "code",
   "execution_count": null,
   "metadata": {
    "collapsed": false
   },
   "outputs": [],
   "source": []
  }
 ],
 "metadata": {
  "kernelspec": {
   "display_name": "Julia 0.4.0",
   "language": "julia",
   "name": "julia-0.4"
  },
  "language_info": {
   "file_extension": ".jl",
   "mimetype": "application/julia",
   "name": "julia",
   "version": "0.4.0"
  }
 },
 "nbformat": 4,
 "nbformat_minor": 0
}
